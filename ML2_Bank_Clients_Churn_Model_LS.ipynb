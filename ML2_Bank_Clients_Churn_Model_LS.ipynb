{
 "cells": [
  {
   "cell_type": "markdown",
   "metadata": {},
   "source": [
    "# Bank Clients Churn Prediction"
   ]
  },
  {
   "cell_type": "markdown",
   "metadata": {},
   "source": [
    "**Goal**: based on historical data (*CustomerId, Surname, CreditScore, Geography, Gender, Age, Tenure, Balance, NumOfProducts, HasCrCard, IsActiveMember, EstimatedSalary*) build a model predicting clients' churn (*Exited*)\n",
    "\n",
    "**Criterea**: key metric - *F1*-score, cut-off value 0.59; additionaly check AUC-ROC\n",
    "\n",
    "Data Source: [https://www.kaggle.com/barelydedicated/bank-customer-churn-modeling](https://www.kaggle.com/barelydedicated/bank-customer-churn-modeling)"
   ]
  },
  {
   "cell_type": "markdown",
   "metadata": {
    "toc": true
   },
   "source": [
    "<h1>Содержание<span class=\"tocSkip\"></span></h1>\n",
    "<div class=\"toc\"><ul class=\"toc-item\"><li><span><a href=\"#Data-Preparation\" data-toc-modified-id=\"Data-Preparation-1\"><span class=\"toc-item-num\">1&nbsp;&nbsp;</span>Data Preparation</a></span><ul class=\"toc-item\"><li><span><a href=\"#Data-and-Libraries-Import\" data-toc-modified-id=\"Data-and-Libraries-Import-1.1\"><span class=\"toc-item-num\">1.1&nbsp;&nbsp;</span>Data and Libraries Import</a></span></li><li><span><a href=\"#Working-With-Missing-Data\" data-toc-modified-id=\"Working-With-Missing-Data-1.2\"><span class=\"toc-item-num\">1.2&nbsp;&nbsp;</span>Working With Missing Data</a></span></li><li><span><a href=\"#Filtering-data\" data-toc-modified-id=\"Filtering-data-1.3\"><span class=\"toc-item-num\">1.3&nbsp;&nbsp;</span>Filtering data</a></span></li><li><span><a href=\"#OHE\" data-toc-modified-id=\"OHE-1.4\"><span class=\"toc-item-num\">1.4&nbsp;&nbsp;</span>OHE</a></span></li><li><span><a href=\"#Subsets-Creation\" data-toc-modified-id=\"Subsets-Creation-1.5\"><span class=\"toc-item-num\">1.5&nbsp;&nbsp;</span>Subsets Creation</a></span></li><li><span><a href=\"#Numeric-Features-Normalization\" data-toc-modified-id=\"Numeric-Features-Normalization-1.6\"><span class=\"toc-item-num\">1.6&nbsp;&nbsp;</span>Numeric Features Normalization</a></span></li></ul></li><li><span><a href=\"#Research\" data-toc-modified-id=\"Research-2\"><span class=\"toc-item-num\">2&nbsp;&nbsp;</span>Research</a></span><ul class=\"toc-item\"><li><span><a href=\"#Class-Balance\" data-toc-modified-id=\"Class-Balance-2.1\"><span class=\"toc-item-num\">2.1&nbsp;&nbsp;</span>Class Balance</a></span></li><li><span><a href=\"#Decision-Tree\" data-toc-modified-id=\"Decision-Tree-2.2\"><span class=\"toc-item-num\">2.2&nbsp;&nbsp;</span>Decision Tree</a></span></li><li><span><a href=\"#Random-Forest\" data-toc-modified-id=\"Random-Forest-2.3\"><span class=\"toc-item-num\">2.3&nbsp;&nbsp;</span>Random Forest</a></span></li><li><span><a href=\"#Logistic-Regression\" data-toc-modified-id=\"Logistic-Regression-2.4\"><span class=\"toc-item-num\">2.4&nbsp;&nbsp;</span>Logistic Regression</a></span></li><li><span><a href=\"#Sanity-Test\" data-toc-modified-id=\"Sanity-Test-2.5\"><span class=\"toc-item-num\">2.5&nbsp;&nbsp;</span>Sanity Test</a></span></li><li><span><a href=\"#Conlusion\" data-toc-modified-id=\"Conlusion-2.6\"><span class=\"toc-item-num\">2.6&nbsp;&nbsp;</span>Conlusion</a></span></li></ul></li><li><span><a href=\"#Fighting-Disbalance\" data-toc-modified-id=\"Fighting-Disbalance-3\"><span class=\"toc-item-num\">3&nbsp;&nbsp;</span>Fighting Disbalance</a></span><ul class=\"toc-item\"><li><span><a href=\"#Class-Weighting\" data-toc-modified-id=\"Class-Weighting-3.1\"><span class=\"toc-item-num\">3.1&nbsp;&nbsp;</span>Class Weighting</a></span><ul class=\"toc-item\"><li><span><a href=\"#Decision-Tree\" data-toc-modified-id=\"Decision-Tree-3.1.1\"><span class=\"toc-item-num\">3.1.1&nbsp;&nbsp;</span>Decision Tree</a></span></li><li><span><a href=\"#Random-Forest\" data-toc-modified-id=\"Random-Forest-3.1.2\"><span class=\"toc-item-num\">3.1.2&nbsp;&nbsp;</span>Random Forest</a></span></li><li><span><a href=\"#Logistic-Regression\" data-toc-modified-id=\"Logistic-Regression-3.1.3\"><span class=\"toc-item-num\">3.1.3&nbsp;&nbsp;</span>Logistic Regression</a></span></li></ul></li><li><span><a href=\"#Upsampling\" data-toc-modified-id=\"Upsampling-3.2\"><span class=\"toc-item-num\">3.2&nbsp;&nbsp;</span>Upsampling</a></span><ul class=\"toc-item\"><li><span><a href=\"#Decision-Tree\" data-toc-modified-id=\"Decision-Tree-3.2.1\"><span class=\"toc-item-num\">3.2.1&nbsp;&nbsp;</span>Decision Tree</a></span></li><li><span><a href=\"#Random-Forest\" data-toc-modified-id=\"Random-Forest-3.2.2\"><span class=\"toc-item-num\">3.2.2&nbsp;&nbsp;</span>Random Forest</a></span></li><li><span><a href=\"#Logistic-Regression\" data-toc-modified-id=\"Logistic-Regression-3.2.3\"><span class=\"toc-item-num\">3.2.3&nbsp;&nbsp;</span>Logistic Regression</a></span></li></ul></li><li><span><a href=\"#Downsampling\" data-toc-modified-id=\"Downsampling-3.3\"><span class=\"toc-item-num\">3.3&nbsp;&nbsp;</span>Downsampling</a></span><ul class=\"toc-item\"><li><span><a href=\"#Decision-Tree\" data-toc-modified-id=\"Decision-Tree-3.3.1\"><span class=\"toc-item-num\">3.3.1&nbsp;&nbsp;</span>Decision Tree</a></span></li><li><span><a href=\"#Random-Forest\" data-toc-modified-id=\"Random-Forest-3.3.2\"><span class=\"toc-item-num\">3.3.2&nbsp;&nbsp;</span>Random Forest</a></span></li><li><span><a href=\"#Logistic-Regression\" data-toc-modified-id=\"Logistic-Regression-3.3.3\"><span class=\"toc-item-num\">3.3.3&nbsp;&nbsp;</span>Logistic Regression</a></span></li></ul></li><li><span><a href=\"#Conclusion\" data-toc-modified-id=\"Conclusion-3.4\"><span class=\"toc-item-num\">3.4&nbsp;&nbsp;</span>Conclusion</a></span></li></ul></li><li><span><a href=\"#Model-Testing\" data-toc-modified-id=\"Model-Testing-4\"><span class=\"toc-item-num\">4&nbsp;&nbsp;</span>Model Testing</a></span><ul class=\"toc-item\"><li><span><a href=\"#Test-Subset-Metrics\" data-toc-modified-id=\"Test-Subset-Metrics-4.1\"><span class=\"toc-item-num\">4.1&nbsp;&nbsp;</span>Test Subset Metrics</a></span></li><li><span><a href=\"#Confusion-Matrix\" data-toc-modified-id=\"Confusion-Matrix-4.2\"><span class=\"toc-item-num\">4.2&nbsp;&nbsp;</span>Confusion Matrix</a></span></li><li><span><a href=\"#ROC-curve-and-AUC-ROC\" data-toc-modified-id=\"ROC-curve-and-AUC-ROC-4.3\"><span class=\"toc-item-num\">4.3&nbsp;&nbsp;</span>ROC-curve and AUC-ROC</a></span></li></ul></li><li><span><a href=\"#Overall-Conclusion\" data-toc-modified-id=\"Overall-Conclusion-5\"><span class=\"toc-item-num\">5&nbsp;&nbsp;</span>Overall Conclusion</a></span></li></ul></div>"
   ]
  },
  {
   "cell_type": "markdown",
   "metadata": {},
   "source": [
    "## Data Preparation"
   ]
  },
  {
   "cell_type": "markdown",
   "metadata": {},
   "source": [
    "### Data and Libraries Import"
   ]
  },
  {
   "cell_type": "code",
   "execution_count": 1,
   "metadata": {},
   "outputs": [],
   "source": [
    "import pandas as pd\n",
    "import numpy as np\n",
    "import seaborn as sns\n",
    "import matplotlib.pyplot as plt\n",
    "from sklearn.model_selection import train_test_split\n",
    "from sklearn.preprocessing import StandardScaler\n",
    "from sklearn.linear_model import LogisticRegression\n",
    "from sklearn.tree import DecisionTreeClassifier\n",
    "from sklearn.ensemble import RandomForestClassifier\n",
    "from sklearn.metrics import f1_score, accuracy_score, plot_confusion_matrix, roc_curve, roc_auc_score\n",
    "from sklearn.dummy import DummyClassifier\n",
    "from sklearn.utils import shuffle"
   ]
  },
  {
   "cell_type": "code",
   "execution_count": 2,
   "metadata": {},
   "outputs": [
    {
     "name": "stdout",
     "output_type": "stream",
     "text": [
      "<class 'pandas.core.frame.DataFrame'>\n",
      "Int64Index: 10000 entries, 1 to 10000\n",
      "Data columns (total 13 columns):\n",
      " #   Column           Non-Null Count  Dtype  \n",
      "---  ------           --------------  -----  \n",
      " 0   CustomerId       10000 non-null  int64  \n",
      " 1   Surname          10000 non-null  object \n",
      " 2   CreditScore      10000 non-null  int64  \n",
      " 3   Geography        10000 non-null  object \n",
      " 4   Gender           10000 non-null  object \n",
      " 5   Age              10000 non-null  int64  \n",
      " 6   Tenure           9091 non-null   float64\n",
      " 7   Balance          10000 non-null  float64\n",
      " 8   NumOfProducts    10000 non-null  int64  \n",
      " 9   HasCrCard        10000 non-null  int64  \n",
      " 10  IsActiveMember   10000 non-null  int64  \n",
      " 11  EstimatedSalary  10000 non-null  float64\n",
      " 12  Exited           10000 non-null  int64  \n",
      "dtypes: float64(3), int64(7), object(3)\n",
      "memory usage: 1.1+ MB\n"
     ]
    },
    {
     "data": {
      "text/html": [
       "<div>\n",
       "<style scoped>\n",
       "    .dataframe tbody tr th:only-of-type {\n",
       "        vertical-align: middle;\n",
       "    }\n",
       "\n",
       "    .dataframe tbody tr th {\n",
       "        vertical-align: top;\n",
       "    }\n",
       "\n",
       "    .dataframe thead th {\n",
       "        text-align: right;\n",
       "    }\n",
       "</style>\n",
       "<table border=\"1\" class=\"dataframe\">\n",
       "  <thead>\n",
       "    <tr style=\"text-align: right;\">\n",
       "      <th></th>\n",
       "      <th>CustomerId</th>\n",
       "      <th>Surname</th>\n",
       "      <th>CreditScore</th>\n",
       "      <th>Geography</th>\n",
       "      <th>Gender</th>\n",
       "      <th>Age</th>\n",
       "      <th>Tenure</th>\n",
       "      <th>Balance</th>\n",
       "      <th>NumOfProducts</th>\n",
       "      <th>HasCrCard</th>\n",
       "      <th>IsActiveMember</th>\n",
       "      <th>EstimatedSalary</th>\n",
       "      <th>Exited</th>\n",
       "    </tr>\n",
       "    <tr>\n",
       "      <th>RowNumber</th>\n",
       "      <th></th>\n",
       "      <th></th>\n",
       "      <th></th>\n",
       "      <th></th>\n",
       "      <th></th>\n",
       "      <th></th>\n",
       "      <th></th>\n",
       "      <th></th>\n",
       "      <th></th>\n",
       "      <th></th>\n",
       "      <th></th>\n",
       "      <th></th>\n",
       "      <th></th>\n",
       "    </tr>\n",
       "  </thead>\n",
       "  <tbody>\n",
       "    <tr>\n",
       "      <th>1</th>\n",
       "      <td>15634602</td>\n",
       "      <td>Hargrave</td>\n",
       "      <td>619</td>\n",
       "      <td>France</td>\n",
       "      <td>Female</td>\n",
       "      <td>42</td>\n",
       "      <td>2.0</td>\n",
       "      <td>0.00</td>\n",
       "      <td>1</td>\n",
       "      <td>1</td>\n",
       "      <td>1</td>\n",
       "      <td>101348.88</td>\n",
       "      <td>1</td>\n",
       "    </tr>\n",
       "    <tr>\n",
       "      <th>2</th>\n",
       "      <td>15647311</td>\n",
       "      <td>Hill</td>\n",
       "      <td>608</td>\n",
       "      <td>Spain</td>\n",
       "      <td>Female</td>\n",
       "      <td>41</td>\n",
       "      <td>1.0</td>\n",
       "      <td>83807.86</td>\n",
       "      <td>1</td>\n",
       "      <td>0</td>\n",
       "      <td>1</td>\n",
       "      <td>112542.58</td>\n",
       "      <td>0</td>\n",
       "    </tr>\n",
       "    <tr>\n",
       "      <th>3</th>\n",
       "      <td>15619304</td>\n",
       "      <td>Onio</td>\n",
       "      <td>502</td>\n",
       "      <td>France</td>\n",
       "      <td>Female</td>\n",
       "      <td>42</td>\n",
       "      <td>8.0</td>\n",
       "      <td>159660.80</td>\n",
       "      <td>3</td>\n",
       "      <td>1</td>\n",
       "      <td>0</td>\n",
       "      <td>113931.57</td>\n",
       "      <td>1</td>\n",
       "    </tr>\n",
       "    <tr>\n",
       "      <th>4</th>\n",
       "      <td>15701354</td>\n",
       "      <td>Boni</td>\n",
       "      <td>699</td>\n",
       "      <td>France</td>\n",
       "      <td>Female</td>\n",
       "      <td>39</td>\n",
       "      <td>1.0</td>\n",
       "      <td>0.00</td>\n",
       "      <td>2</td>\n",
       "      <td>0</td>\n",
       "      <td>0</td>\n",
       "      <td>93826.63</td>\n",
       "      <td>0</td>\n",
       "    </tr>\n",
       "    <tr>\n",
       "      <th>5</th>\n",
       "      <td>15737888</td>\n",
       "      <td>Mitchell</td>\n",
       "      <td>850</td>\n",
       "      <td>Spain</td>\n",
       "      <td>Female</td>\n",
       "      <td>43</td>\n",
       "      <td>2.0</td>\n",
       "      <td>125510.82</td>\n",
       "      <td>1</td>\n",
       "      <td>1</td>\n",
       "      <td>1</td>\n",
       "      <td>79084.10</td>\n",
       "      <td>0</td>\n",
       "    </tr>\n",
       "  </tbody>\n",
       "</table>\n",
       "</div>"
      ],
      "text/plain": [
       "           CustomerId   Surname  CreditScore Geography  Gender  Age  Tenure  \\\n",
       "RowNumber                                                                     \n",
       "1            15634602  Hargrave          619    France  Female   42     2.0   \n",
       "2            15647311      Hill          608     Spain  Female   41     1.0   \n",
       "3            15619304      Onio          502    France  Female   42     8.0   \n",
       "4            15701354      Boni          699    France  Female   39     1.0   \n",
       "5            15737888  Mitchell          850     Spain  Female   43     2.0   \n",
       "\n",
       "             Balance  NumOfProducts  HasCrCard  IsActiveMember  \\\n",
       "RowNumber                                                        \n",
       "1               0.00              1          1               1   \n",
       "2           83807.86              1          0               1   \n",
       "3          159660.80              3          1               0   \n",
       "4               0.00              2          0               0   \n",
       "5          125510.82              1          1               1   \n",
       "\n",
       "           EstimatedSalary  Exited  \n",
       "RowNumber                           \n",
       "1                101348.88       1  \n",
       "2                112542.58       0  \n",
       "3                113931.57       1  \n",
       "4                 93826.63       0  \n",
       "5                 79084.10       0  "
      ]
     },
     "execution_count": 2,
     "metadata": {},
     "output_type": "execute_result"
    }
   ],
   "source": [
    "df = pd.read_csv('/datasets/Churn.csv', index_col = 'RowNumber')\n",
    "df.info()\n",
    "df.head()"
   ]
  },
  {
   "cell_type": "markdown",
   "metadata": {},
   "source": [
    "Data looks OK, though *Tenure* has almost a thousand null values."
   ]
  },
  {
   "cell_type": "markdown",
   "metadata": {},
   "source": [
    "### Working With Missing Data"
   ]
  },
  {
   "cell_type": "markdown",
   "metadata": {},
   "source": [
    "What values does *Tenure* take:"
   ]
  },
  {
   "cell_type": "code",
   "execution_count": 3,
   "metadata": {
    "scrolled": true
   },
   "outputs": [
    {
     "data": {
      "text/plain": [
       "1.0     952\n",
       "2.0     950\n",
       "8.0     933\n",
       "3.0     928\n",
       "5.0     927\n",
       "7.0     925\n",
       "NaN     909\n",
       "4.0     885\n",
       "9.0     882\n",
       "6.0     881\n",
       "10.0    446\n",
       "0.0     382\n",
       "Name: Tenure, dtype: int64"
      ]
     },
     "execution_count": 3,
     "metadata": {},
     "output_type": "execute_result"
    }
   ],
   "source": [
    "df['Tenure'].value_counts(dropna=False)"
   ]
  },
  {
   "cell_type": "code",
   "execution_count": 4,
   "metadata": {},
   "outputs": [
    {
     "data": {
      "text/plain": [
       "0    726\n",
       "1    183\n",
       "Name: Exited, dtype: int64"
      ]
     },
     "execution_count": 4,
     "metadata": {},
     "output_type": "execute_result"
    }
   ],
   "source": [
    "df.query('~(Tenure > -1)')['Exited'].value_counts()"
   ]
  },
  {
   "cell_type": "markdown",
   "metadata": {},
   "source": [
    "Tenure might be from 0 to 10. There are 183 exited clients with missing *Tenure* data."
   ]
  },
  {
   "cell_type": "markdown",
   "metadata": {},
   "source": [
    "The only parameter avaliable that might be connected to *Tenure* is *CustomerId*. Let's check if this connection exists."
   ]
  },
  {
   "cell_type": "code",
   "execution_count": 5,
   "metadata": {},
   "outputs": [
    {
     "data": {
      "text/plain": [
       "<AxesSubplot:xlabel='Tenure', ylabel='CustomerId'>"
      ]
     },
     "execution_count": 5,
     "metadata": {},
     "output_type": "execute_result"
    },
    {
     "data": {
      "image/png": "[encoded data removed]",
      "text/plain": [
       "<Figure size 432x288 with 1 Axes>"
      ]
     },
     "metadata": {
      "needs_background": "light"
     },
     "output_type": "display_data"
    }
   ],
   "source": [
    "sns.scatterplot(x=df['Tenure'], y=df['CustomerId'], alpha=0.05, hue = df['Geography'])"
   ]
  },
  {
   "cell_type": "markdown",
   "metadata": {},
   "source": [
    "It does not look like this connection exists, but it is worth taking a closer look."
   ]
  },
  {
   "cell_type": "code",
   "execution_count": 6,
   "metadata": {},
   "outputs": [
    {
     "data": {
      "text/plain": [
       "<AxesSubplot:xlabel='Tenure', ylabel='CustomerId'>"
      ]
     },
     "execution_count": 6,
     "metadata": {},
     "output_type": "execute_result"
    },
    {
     "data": {
      "image/png": "[encoded data removed]",
      "text/plain": [
       "<Figure size 432x288 with 1 Axes>"
      ]
     },
     "metadata": {
      "needs_background": "light"
     },
     "output_type": "display_data"
    }
   ],
   "source": [
    "sns.scatterplot(x='Tenure', y='CustomerId', alpha=0.05, data = df[df['Geography'] == 'France'])"
   ]
  },
  {
   "cell_type": "code",
   "execution_count": 7,
   "metadata": {},
   "outputs": [
    {
     "data": {
      "text/plain": [
       "<AxesSubplot:xlabel='Tenure', ylabel='CustomerId'>"
      ]
     },
     "execution_count": 7,
     "metadata": {},
     "output_type": "execute_result"
    },
    {
     "data": {
      "image/png": "[encoded data removed]",
      "text/plain": [
       "<Figure size 432x288 with 1 Axes>"
      ]
     },
     "metadata": {
      "needs_background": "light"
     },
     "output_type": "display_data"
    }
   ],
   "source": [
    "sns.scatterplot(x='Tenure', y='CustomerId', alpha=0.05, data = df[df['Geography'] == 'Germany'])"
   ]
  },
  {
   "cell_type": "code",
   "execution_count": 8,
   "metadata": {},
   "outputs": [
    {
     "data": {
      "text/plain": [
       "<AxesSubplot:xlabel='Tenure', ylabel='CustomerId'>"
      ]
     },
     "execution_count": 8,
     "metadata": {},
     "output_type": "execute_result"
    },
    {
     "data": {
      "image/png": "[encoded data removed]",
      "text/plain": [
       "<Figure size 432x288 with 1 Axes>"
      ]
     },
     "metadata": {
      "needs_background": "light"
     },
     "output_type": "display_data"
    }
   ],
   "source": [
    "sns.scatterplot(x='Tenure', y='CustomerId', alpha=0.05, data = df[df['Geography'] == 'Spain'])"
   ]
  },
  {
   "cell_type": "markdown",
   "metadata": {},
   "source": [
    "Now we are sure *CustomerId* is generated regardless of *Tenure*. Thus, no relevant ways to fill in the gaps can be found. This missing values cover less than 10% of data, so we can just drop thise lines."
   ]
  },
  {
   "cell_type": "code",
   "execution_count": 9,
   "metadata": {},
   "outputs": [
    {
     "name": "stdout",
     "output_type": "stream",
     "text": [
      "<class 'pandas.core.frame.DataFrame'>\n",
      "Int64Index: 9091 entries, 1 to 9999\n",
      "Data columns (total 13 columns):\n",
      " #   Column           Non-Null Count  Dtype  \n",
      "---  ------           --------------  -----  \n",
      " 0   CustomerId       9091 non-null   int64  \n",
      " 1   Surname          9091 non-null   object \n",
      " 2   CreditScore      9091 non-null   int64  \n",
      " 3   Geography        9091 non-null   object \n",
      " 4   Gender           9091 non-null   object \n",
      " 5   Age              9091 non-null   int64  \n",
      " 6   Tenure           9091 non-null   float64\n",
      " 7   Balance          9091 non-null   float64\n",
      " 8   NumOfProducts    9091 non-null   int64  \n",
      " 9   HasCrCard        9091 non-null   int64  \n",
      " 10  IsActiveMember   9091 non-null   int64  \n",
      " 11  EstimatedSalary  9091 non-null   float64\n",
      " 12  Exited           9091 non-null   int64  \n",
      "dtypes: float64(3), int64(7), object(3)\n",
      "memory usage: 994.3+ KB\n"
     ]
    }
   ],
   "source": [
    "df = df.dropna()\n",
    "df.info()"
   ]
  },
  {
   "cell_type": "markdown",
   "metadata": {},
   "source": [
    "### Filtering data\n",
    "\n",
    "Customers' surnames would not help in making prognosis on clients' exiting, moreover, using this information would be unethical, so it is necessary to drop this coloumn."
   ]
  },
  {
   "cell_type": "code",
   "execution_count": 10,
   "metadata": {},
   "outputs": [
    {
     "name": "stdout",
     "output_type": "stream",
     "text": [
      "<class 'pandas.core.frame.DataFrame'>\n",
      "Int64Index: 9091 entries, 1 to 9999\n",
      "Data columns (total 12 columns):\n",
      " #   Column           Non-Null Count  Dtype  \n",
      "---  ------           --------------  -----  \n",
      " 0   CustomerId       9091 non-null   int64  \n",
      " 1   CreditScore      9091 non-null   int64  \n",
      " 2   Geography        9091 non-null   object \n",
      " 3   Gender           9091 non-null   object \n",
      " 4   Age              9091 non-null   int64  \n",
      " 5   Tenure           9091 non-null   float64\n",
      " 6   Balance          9091 non-null   float64\n",
      " 7   NumOfProducts    9091 non-null   int64  \n",
      " 8   HasCrCard        9091 non-null   int64  \n",
      " 9   IsActiveMember   9091 non-null   int64  \n",
      " 10  EstimatedSalary  9091 non-null   float64\n",
      " 11  Exited           9091 non-null   int64  \n",
      "dtypes: float64(3), int64(7), object(2)\n",
      "memory usage: 923.3+ KB\n"
     ]
    }
   ],
   "source": [
    "df_filt = df.drop(columns = 'Surname')\n",
    "df_filt.info()"
   ]
  },
  {
   "cell_type": "markdown",
   "metadata": {},
   "source": [
    "### OHE\n",
    "Use one-hot encoding for categorial features "
   ]
  },
  {
   "cell_type": "code",
   "execution_count": 11,
   "metadata": {},
   "outputs": [
    {
     "data": {
      "text/plain": [
       "Male      4974\n",
       "Female    4117\n",
       "Name: Gender, dtype: int64"
      ]
     },
     "execution_count": 11,
     "metadata": {},
     "output_type": "execute_result"
    }
   ],
   "source": [
    "df_filt['Gender'].value_counts(dropna=False)"
   ]
  },
  {
   "cell_type": "code",
   "execution_count": 12,
   "metadata": {},
   "outputs": [
    {
     "data": {
      "text/plain": [
       "France     4550\n",
       "Germany    2293\n",
       "Spain      2248\n",
       "Name: Geography, dtype: int64"
      ]
     },
     "execution_count": 12,
     "metadata": {},
     "output_type": "execute_result"
    }
   ],
   "source": [
    "df_filt['Geography'].value_counts(dropna=False)"
   ]
  },
  {
   "cell_type": "code",
   "execution_count": 13,
   "metadata": {},
   "outputs": [
    {
     "data": {
      "text/plain": [
       "1    4617\n",
       "2    4184\n",
       "3     234\n",
       "4      56\n",
       "Name: NumOfProducts, dtype: int64"
      ]
     },
     "execution_count": 13,
     "metadata": {},
     "output_type": "execute_result"
    }
   ],
   "source": [
    "df_filt['NumOfProducts'].value_counts(dropna=False)"
   ]
  },
  {
   "cell_type": "code",
   "execution_count": 14,
   "metadata": {},
   "outputs": [
    {
     "data": {
      "text/html": [
       "<div>\n",
       "<style scoped>\n",
       "    .dataframe tbody tr th:only-of-type {\n",
       "        vertical-align: middle;\n",
       "    }\n",
       "\n",
       "    .dataframe tbody tr th {\n",
       "        vertical-align: top;\n",
       "    }\n",
       "\n",
       "    .dataframe thead th {\n",
       "        text-align: right;\n",
       "    }\n",
       "</style>\n",
       "<table border=\"1\" class=\"dataframe\">\n",
       "  <thead>\n",
       "    <tr style=\"text-align: right;\">\n",
       "      <th></th>\n",
       "      <th>CustomerId</th>\n",
       "      <th>CreditScore</th>\n",
       "      <th>Age</th>\n",
       "      <th>Tenure</th>\n",
       "      <th>Balance</th>\n",
       "      <th>HasCrCard</th>\n",
       "      <th>IsActiveMember</th>\n",
       "      <th>EstimatedSalary</th>\n",
       "      <th>Exited</th>\n",
       "      <th>Gender_Male</th>\n",
       "      <th>Geography_Germany</th>\n",
       "      <th>Geography_Spain</th>\n",
       "      <th>NumOfProducts_2</th>\n",
       "      <th>NumOfProducts_3</th>\n",
       "      <th>NumOfProducts_4</th>\n",
       "    </tr>\n",
       "    <tr>\n",
       "      <th>RowNumber</th>\n",
       "      <th></th>\n",
       "      <th></th>\n",
       "      <th></th>\n",
       "      <th></th>\n",
       "      <th></th>\n",
       "      <th></th>\n",
       "      <th></th>\n",
       "      <th></th>\n",
       "      <th></th>\n",
       "      <th></th>\n",
       "      <th></th>\n",
       "      <th></th>\n",
       "      <th></th>\n",
       "      <th></th>\n",
       "      <th></th>\n",
       "    </tr>\n",
       "  </thead>\n",
       "  <tbody>\n",
       "    <tr>\n",
       "      <th>1</th>\n",
       "      <td>15634602</td>\n",
       "      <td>619</td>\n",
       "      <td>42</td>\n",
       "      <td>2.0</td>\n",
       "      <td>0.00</td>\n",
       "      <td>1</td>\n",
       "      <td>1</td>\n",
       "      <td>101348.88</td>\n",
       "      <td>1</td>\n",
       "      <td>0</td>\n",
       "      <td>0</td>\n",
       "      <td>0</td>\n",
       "      <td>0</td>\n",
       "      <td>0</td>\n",
       "      <td>0</td>\n",
       "    </tr>\n",
       "    <tr>\n",
       "      <th>2</th>\n",
       "      <td>15647311</td>\n",
       "      <td>608</td>\n",
       "      <td>41</td>\n",
       "      <td>1.0</td>\n",
       "      <td>83807.86</td>\n",
       "      <td>0</td>\n",
       "      <td>1</td>\n",
       "      <td>112542.58</td>\n",
       "      <td>0</td>\n",
       "      <td>0</td>\n",
       "      <td>0</td>\n",
       "      <td>1</td>\n",
       "      <td>0</td>\n",
       "      <td>0</td>\n",
       "      <td>0</td>\n",
       "    </tr>\n",
       "    <tr>\n",
       "      <th>3</th>\n",
       "      <td>15619304</td>\n",
       "      <td>502</td>\n",
       "      <td>42</td>\n",
       "      <td>8.0</td>\n",
       "      <td>159660.80</td>\n",
       "      <td>1</td>\n",
       "      <td>0</td>\n",
       "      <td>113931.57</td>\n",
       "      <td>1</td>\n",
       "      <td>0</td>\n",
       "      <td>0</td>\n",
       "      <td>0</td>\n",
       "      <td>0</td>\n",
       "      <td>1</td>\n",
       "      <td>0</td>\n",
       "    </tr>\n",
       "    <tr>\n",
       "      <th>4</th>\n",
       "      <td>15701354</td>\n",
       "      <td>699</td>\n",
       "      <td>39</td>\n",
       "      <td>1.0</td>\n",
       "      <td>0.00</td>\n",
       "      <td>0</td>\n",
       "      <td>0</td>\n",
       "      <td>93826.63</td>\n",
       "      <td>0</td>\n",
       "      <td>0</td>\n",
       "      <td>0</td>\n",
       "      <td>0</td>\n",
       "      <td>1</td>\n",
       "      <td>0</td>\n",
       "      <td>0</td>\n",
       "    </tr>\n",
       "    <tr>\n",
       "      <th>5</th>\n",
       "      <td>15737888</td>\n",
       "      <td>850</td>\n",
       "      <td>43</td>\n",
       "      <td>2.0</td>\n",
       "      <td>125510.82</td>\n",
       "      <td>1</td>\n",
       "      <td>1</td>\n",
       "      <td>79084.10</td>\n",
       "      <td>0</td>\n",
       "      <td>0</td>\n",
       "      <td>0</td>\n",
       "      <td>1</td>\n",
       "      <td>0</td>\n",
       "      <td>0</td>\n",
       "      <td>0</td>\n",
       "    </tr>\n",
       "  </tbody>\n",
       "</table>\n",
       "</div>"
      ],
      "text/plain": [
       "           CustomerId  CreditScore  Age  Tenure    Balance  HasCrCard  \\\n",
       "RowNumber                                                               \n",
       "1            15634602          619   42     2.0       0.00          1   \n",
       "2            15647311          608   41     1.0   83807.86          0   \n",
       "3            15619304          502   42     8.0  159660.80          1   \n",
       "4            15701354          699   39     1.0       0.00          0   \n",
       "5            15737888          850   43     2.0  125510.82          1   \n",
       "\n",
       "           IsActiveMember  EstimatedSalary  Exited  Gender_Male  \\\n",
       "RowNumber                                                         \n",
       "1                       1        101348.88       1            0   \n",
       "2                       1        112542.58       0            0   \n",
       "3                       0        113931.57       1            0   \n",
       "4                       0         93826.63       0            0   \n",
       "5                       1         79084.10       0            0   \n",
       "\n",
       "           Geography_Germany  Geography_Spain  NumOfProducts_2  \\\n",
       "RowNumber                                                        \n",
       "1                          0                0                0   \n",
       "2                          0                1                0   \n",
       "3                          0                0                0   \n",
       "4                          0                0                1   \n",
       "5                          0                1                0   \n",
       "\n",
       "           NumOfProducts_3  NumOfProducts_4  \n",
       "RowNumber                                    \n",
       "1                        0                0  \n",
       "2                        0                0  \n",
       "3                        1                0  \n",
       "4                        0                0  \n",
       "5                        0                0  "
      ]
     },
     "execution_count": 14,
     "metadata": {},
     "output_type": "execute_result"
    }
   ],
   "source": [
    "df_ohe = pd.get_dummies(df_filt, columns=['Gender', 'Geography', 'NumOfProducts'], drop_first=True)\n",
    "df_ohe.head()"
   ]
  },
  {
   "cell_type": "markdown",
   "metadata": {},
   "source": [
    "### Subsets Creation\n",
    "\n",
    "Distinguish features and target, then split data into training, validation and test subsets."
   ]
  },
  {
   "cell_type": "code",
   "execution_count": 15,
   "metadata": {},
   "outputs": [
    {
     "data": {
      "text/html": [
       "<div>\n",
       "<style scoped>\n",
       "    .dataframe tbody tr th:only-of-type {\n",
       "        vertical-align: middle;\n",
       "    }\n",
       "\n",
       "    .dataframe tbody tr th {\n",
       "        vertical-align: top;\n",
       "    }\n",
       "\n",
       "    .dataframe thead th {\n",
       "        text-align: right;\n",
       "    }\n",
       "</style>\n",
       "<table border=\"1\" class=\"dataframe\">\n",
       "  <thead>\n",
       "    <tr style=\"text-align: right;\">\n",
       "      <th></th>\n",
       "      <th>CreditScore</th>\n",
       "      <th>Age</th>\n",
       "      <th>Tenure</th>\n",
       "      <th>Balance</th>\n",
       "      <th>HasCrCard</th>\n",
       "      <th>IsActiveMember</th>\n",
       "      <th>EstimatedSalary</th>\n",
       "      <th>Gender_Male</th>\n",
       "      <th>Geography_Germany</th>\n",
       "      <th>Geography_Spain</th>\n",
       "      <th>NumOfProducts_2</th>\n",
       "      <th>NumOfProducts_3</th>\n",
       "      <th>NumOfProducts_4</th>\n",
       "    </tr>\n",
       "    <tr>\n",
       "      <th>RowNumber</th>\n",
       "      <th></th>\n",
       "      <th></th>\n",
       "      <th></th>\n",
       "      <th></th>\n",
       "      <th></th>\n",
       "      <th></th>\n",
       "      <th></th>\n",
       "      <th></th>\n",
       "      <th></th>\n",
       "      <th></th>\n",
       "      <th></th>\n",
       "      <th></th>\n",
       "      <th></th>\n",
       "    </tr>\n",
       "  </thead>\n",
       "  <tbody>\n",
       "    <tr>\n",
       "      <th>1</th>\n",
       "      <td>619</td>\n",
       "      <td>42</td>\n",
       "      <td>2.0</td>\n",
       "      <td>0.00</td>\n",
       "      <td>1</td>\n",
       "      <td>1</td>\n",
       "      <td>101348.88</td>\n",
       "      <td>0</td>\n",
       "      <td>0</td>\n",
       "      <td>0</td>\n",
       "      <td>0</td>\n",
       "      <td>0</td>\n",
       "      <td>0</td>\n",
       "    </tr>\n",
       "    <tr>\n",
       "      <th>2</th>\n",
       "      <td>608</td>\n",
       "      <td>41</td>\n",
       "      <td>1.0</td>\n",
       "      <td>83807.86</td>\n",
       "      <td>0</td>\n",
       "      <td>1</td>\n",
       "      <td>112542.58</td>\n",
       "      <td>0</td>\n",
       "      <td>0</td>\n",
       "      <td>1</td>\n",
       "      <td>0</td>\n",
       "      <td>0</td>\n",
       "      <td>0</td>\n",
       "    </tr>\n",
       "    <tr>\n",
       "      <th>3</th>\n",
       "      <td>502</td>\n",
       "      <td>42</td>\n",
       "      <td>8.0</td>\n",
       "      <td>159660.80</td>\n",
       "      <td>1</td>\n",
       "      <td>0</td>\n",
       "      <td>113931.57</td>\n",
       "      <td>0</td>\n",
       "      <td>0</td>\n",
       "      <td>0</td>\n",
       "      <td>0</td>\n",
       "      <td>1</td>\n",
       "      <td>0</td>\n",
       "    </tr>\n",
       "    <tr>\n",
       "      <th>4</th>\n",
       "      <td>699</td>\n",
       "      <td>39</td>\n",
       "      <td>1.0</td>\n",
       "      <td>0.00</td>\n",
       "      <td>0</td>\n",
       "      <td>0</td>\n",
       "      <td>93826.63</td>\n",
       "      <td>0</td>\n",
       "      <td>0</td>\n",
       "      <td>0</td>\n",
       "      <td>1</td>\n",
       "      <td>0</td>\n",
       "      <td>0</td>\n",
       "    </tr>\n",
       "    <tr>\n",
       "      <th>5</th>\n",
       "      <td>850</td>\n",
       "      <td>43</td>\n",
       "      <td>2.0</td>\n",
       "      <td>125510.82</td>\n",
       "      <td>1</td>\n",
       "      <td>1</td>\n",
       "      <td>79084.10</td>\n",
       "      <td>0</td>\n",
       "      <td>0</td>\n",
       "      <td>1</td>\n",
       "      <td>0</td>\n",
       "      <td>0</td>\n",
       "      <td>0</td>\n",
       "    </tr>\n",
       "    <tr>\n",
       "      <th>...</th>\n",
       "      <td>...</td>\n",
       "      <td>...</td>\n",
       "      <td>...</td>\n",
       "      <td>...</td>\n",
       "      <td>...</td>\n",
       "      <td>...</td>\n",
       "      <td>...</td>\n",
       "      <td>...</td>\n",
       "      <td>...</td>\n",
       "      <td>...</td>\n",
       "      <td>...</td>\n",
       "      <td>...</td>\n",
       "      <td>...</td>\n",
       "    </tr>\n",
       "    <tr>\n",
       "      <th>9995</th>\n",
       "      <td>800</td>\n",
       "      <td>29</td>\n",
       "      <td>2.0</td>\n",
       "      <td>0.00</td>\n",
       "      <td>0</td>\n",
       "      <td>0</td>\n",
       "      <td>167773.55</td>\n",
       "      <td>0</td>\n",
       "      <td>0</td>\n",
       "      <td>0</td>\n",
       "      <td>1</td>\n",
       "      <td>0</td>\n",
       "      <td>0</td>\n",
       "    </tr>\n",
       "    <tr>\n",
       "      <th>9996</th>\n",
       "      <td>771</td>\n",
       "      <td>39</td>\n",
       "      <td>5.0</td>\n",
       "      <td>0.00</td>\n",
       "      <td>1</td>\n",
       "      <td>0</td>\n",
       "      <td>96270.64</td>\n",
       "      <td>1</td>\n",
       "      <td>0</td>\n",
       "      <td>0</td>\n",
       "      <td>1</td>\n",
       "      <td>0</td>\n",
       "      <td>0</td>\n",
       "    </tr>\n",
       "    <tr>\n",
       "      <th>9997</th>\n",
       "      <td>516</td>\n",
       "      <td>35</td>\n",
       "      <td>10.0</td>\n",
       "      <td>57369.61</td>\n",
       "      <td>1</td>\n",
       "      <td>1</td>\n",
       "      <td>101699.77</td>\n",
       "      <td>1</td>\n",
       "      <td>0</td>\n",
       "      <td>0</td>\n",
       "      <td>0</td>\n",
       "      <td>0</td>\n",
       "      <td>0</td>\n",
       "    </tr>\n",
       "    <tr>\n",
       "      <th>9998</th>\n",
       "      <td>709</td>\n",
       "      <td>36</td>\n",
       "      <td>7.0</td>\n",
       "      <td>0.00</td>\n",
       "      <td>0</td>\n",
       "      <td>1</td>\n",
       "      <td>42085.58</td>\n",
       "      <td>0</td>\n",
       "      <td>0</td>\n",
       "      <td>0</td>\n",
       "      <td>0</td>\n",
       "      <td>0</td>\n",
       "      <td>0</td>\n",
       "    </tr>\n",
       "    <tr>\n",
       "      <th>9999</th>\n",
       "      <td>772</td>\n",
       "      <td>42</td>\n",
       "      <td>3.0</td>\n",
       "      <td>75075.31</td>\n",
       "      <td>1</td>\n",
       "      <td>0</td>\n",
       "      <td>92888.52</td>\n",
       "      <td>1</td>\n",
       "      <td>1</td>\n",
       "      <td>0</td>\n",
       "      <td>1</td>\n",
       "      <td>0</td>\n",
       "      <td>0</td>\n",
       "    </tr>\n",
       "  </tbody>\n",
       "</table>\n",
       "<p>9091 rows × 13 columns</p>\n",
       "</div>"
      ],
      "text/plain": [
       "           CreditScore  Age  Tenure    Balance  HasCrCard  IsActiveMember  \\\n",
       "RowNumber                                                                   \n",
       "1                  619   42     2.0       0.00          1               1   \n",
       "2                  608   41     1.0   83807.86          0               1   \n",
       "3                  502   42     8.0  159660.80          1               0   \n",
       "4                  699   39     1.0       0.00          0               0   \n",
       "5                  850   43     2.0  125510.82          1               1   \n",
       "...                ...  ...     ...        ...        ...             ...   \n",
       "9995               800   29     2.0       0.00          0               0   \n",
       "9996               771   39     5.0       0.00          1               0   \n",
       "9997               516   35    10.0   57369.61          1               1   \n",
       "9998               709   36     7.0       0.00          0               1   \n",
       "9999               772   42     3.0   75075.31          1               0   \n",
       "\n",
       "           EstimatedSalary  Gender_Male  Geography_Germany  Geography_Spain  \\\n",
       "RowNumber                                                                     \n",
       "1                101348.88            0                  0                0   \n",
       "2                112542.58            0                  0                1   \n",
       "3                113931.57            0                  0                0   \n",
       "4                 93826.63            0                  0                0   \n",
       "5                 79084.10            0                  0                1   \n",
       "...                    ...          ...                ...              ...   \n",
       "9995             167773.55            0                  0                0   \n",
       "9996              96270.64            1                  0                0   \n",
       "9997             101699.77            1                  0                0   \n",
       "9998              42085.58            0                  0                0   \n",
       "9999              92888.52            1                  1                0   \n",
       "\n",
       "           NumOfProducts_2  NumOfProducts_3  NumOfProducts_4  \n",
       "RowNumber                                                     \n",
       "1                        0                0                0  \n",
       "2                        0                0                0  \n",
       "3                        0                1                0  \n",
       "4                        1                0                0  \n",
       "5                        0                0                0  \n",
       "...                    ...              ...              ...  \n",
       "9995                     1                0                0  \n",
       "9996                     1                0                0  \n",
       "9997                     0                0                0  \n",
       "9998                     0                0                0  \n",
       "9999                     1                0                0  \n",
       "\n",
       "[9091 rows x 13 columns]"
      ]
     },
     "metadata": {},
     "output_type": "display_data"
    },
    {
     "data": {
      "text/plain": [
       "RowNumber\n",
       "1       1\n",
       "2       0\n",
       "3       1\n",
       "4       0\n",
       "5       0\n",
       "       ..\n",
       "9995    0\n",
       "9996    0\n",
       "9997    0\n",
       "9998    1\n",
       "9999    1\n",
       "Name: Exited, Length: 9091, dtype: int64"
      ]
     },
     "metadata": {},
     "output_type": "display_data"
    }
   ],
   "source": [
    "target = df_ohe['Exited']\n",
    "features = df_ohe.drop(['Exited', 'CustomerId'], axis=1)\n",
    "display(features, target)"
   ]
  },
  {
   "cell_type": "code",
   "execution_count": 16,
   "metadata": {},
   "outputs": [],
   "source": [
    "features_train, features_valid, target_train, target_valid = train_test_split(\n",
    "    features, target, test_size=0.4, random_state=12345)\n",
    "features_valid, features_test, target_valid, target_test = train_test_split(\n",
    "    features_valid, target_valid, test_size=0.5, random_state=12345)"
   ]
  },
  {
   "cell_type": "markdown",
   "metadata": {},
   "source": [
    "### Numeric Features Normalization\n",
    "\n"
   ]
  },
  {
   "cell_type": "code",
   "execution_count": 17,
   "metadata": {},
   "outputs": [
    {
     "name": "stderr",
     "output_type": "stream",
     "text": [
      "/tmp/ipykernel_883/1290318879.py:6: SettingWithCopyWarning: \n",
      "A value is trying to be set on a copy of a slice from a DataFrame.\n",
      "Try using .loc[row_indexer,col_indexer] = value instead\n",
      "\n",
      "See the caveats in the documentation: https://pandas.pydata.org/pandas-docs/stable/user_guide/indexing.html#returning-a-view-versus-a-copy\n",
      "  features_train[numeric] = scaler.transform(features_train[numeric])\n",
      "/opt/conda/lib/python3.9/site-packages/pandas/core/indexing.py:1738: SettingWithCopyWarning: \n",
      "A value is trying to be set on a copy of a slice from a DataFrame.\n",
      "Try using .loc[row_indexer,col_indexer] = value instead\n",
      "\n",
      "See the caveats in the documentation: https://pandas.pydata.org/pandas-docs/stable/user_guide/indexing.html#returning-a-view-versus-a-copy\n",
      "  self._setitem_single_column(loc, value[:, i].tolist(), pi)\n"
     ]
    },
    {
     "data": {
      "text/html": [
       "<div>\n",
       "<style scoped>\n",
       "    .dataframe tbody tr th:only-of-type {\n",
       "        vertical-align: middle;\n",
       "    }\n",
       "\n",
       "    .dataframe tbody tr th {\n",
       "        vertical-align: top;\n",
       "    }\n",
       "\n",
       "    .dataframe thead th {\n",
       "        text-align: right;\n",
       "    }\n",
       "</style>\n",
       "<table border=\"1\" class=\"dataframe\">\n",
       "  <thead>\n",
       "    <tr style=\"text-align: right;\">\n",
       "      <th></th>\n",
       "      <th>CreditScore</th>\n",
       "      <th>Age</th>\n",
       "      <th>Tenure</th>\n",
       "      <th>Balance</th>\n",
       "      <th>HasCrCard</th>\n",
       "      <th>IsActiveMember</th>\n",
       "      <th>EstimatedSalary</th>\n",
       "      <th>Gender_Male</th>\n",
       "      <th>Geography_Germany</th>\n",
       "      <th>Geography_Spain</th>\n",
       "      <th>NumOfProducts_2</th>\n",
       "      <th>NumOfProducts_3</th>\n",
       "      <th>NumOfProducts_4</th>\n",
       "    </tr>\n",
       "    <tr>\n",
       "      <th>RowNumber</th>\n",
       "      <th></th>\n",
       "      <th></th>\n",
       "      <th></th>\n",
       "      <th></th>\n",
       "      <th></th>\n",
       "      <th></th>\n",
       "      <th></th>\n",
       "      <th></th>\n",
       "      <th></th>\n",
       "      <th></th>\n",
       "      <th></th>\n",
       "      <th></th>\n",
       "      <th></th>\n",
       "    </tr>\n",
       "  </thead>\n",
       "  <tbody>\n",
       "    <tr>\n",
       "      <th>9345</th>\n",
       "      <td>0.809075</td>\n",
       "      <td>-1.039327</td>\n",
       "      <td>-1.025995</td>\n",
       "      <td>0.554904</td>\n",
       "      <td>1</td>\n",
       "      <td>0</td>\n",
       "      <td>0.019508</td>\n",
       "      <td>0</td>\n",
       "      <td>0</td>\n",
       "      <td>0</td>\n",
       "      <td>0</td>\n",
       "      <td>0</td>\n",
       "      <td>0</td>\n",
       "    </tr>\n",
       "    <tr>\n",
       "      <th>3797</th>\n",
       "      <td>-1.152518</td>\n",
       "      <td>-1.227561</td>\n",
       "      <td>0.696524</td>\n",
       "      <td>0.480609</td>\n",
       "      <td>0</td>\n",
       "      <td>0</td>\n",
       "      <td>0.056167</td>\n",
       "      <td>1</td>\n",
       "      <td>0</td>\n",
       "      <td>0</td>\n",
       "      <td>0</td>\n",
       "      <td>0</td>\n",
       "      <td>0</td>\n",
       "    </tr>\n",
       "    <tr>\n",
       "      <th>7463</th>\n",
       "      <td>-0.398853</td>\n",
       "      <td>0.090079</td>\n",
       "      <td>1.385532</td>\n",
       "      <td>-1.237830</td>\n",
       "      <td>1</td>\n",
       "      <td>1</td>\n",
       "      <td>0.848738</td>\n",
       "      <td>1</td>\n",
       "      <td>0</td>\n",
       "      <td>0</td>\n",
       "      <td>0</td>\n",
       "      <td>0</td>\n",
       "      <td>0</td>\n",
       "    </tr>\n",
       "    <tr>\n",
       "      <th>1509</th>\n",
       "      <td>-0.749875</td>\n",
       "      <td>-0.286389</td>\n",
       "      <td>0.352020</td>\n",
       "      <td>-1.237830</td>\n",
       "      <td>1</td>\n",
       "      <td>1</td>\n",
       "      <td>-0.894953</td>\n",
       "      <td>1</td>\n",
       "      <td>0</td>\n",
       "      <td>0</td>\n",
       "      <td>1</td>\n",
       "      <td>0</td>\n",
       "      <td>0</td>\n",
       "    </tr>\n",
       "    <tr>\n",
       "      <th>4479</th>\n",
       "      <td>-1.028628</td>\n",
       "      <td>-0.756975</td>\n",
       "      <td>-0.336987</td>\n",
       "      <td>-1.237830</td>\n",
       "      <td>0</td>\n",
       "      <td>1</td>\n",
       "      <td>-1.284516</td>\n",
       "      <td>1</td>\n",
       "      <td>0</td>\n",
       "      <td>0</td>\n",
       "      <td>1</td>\n",
       "      <td>0</td>\n",
       "      <td>0</td>\n",
       "    </tr>\n",
       "  </tbody>\n",
       "</table>\n",
       "</div>"
      ],
      "text/plain": [
       "           CreditScore       Age    Tenure   Balance  HasCrCard  \\\n",
       "RowNumber                                                         \n",
       "9345          0.809075 -1.039327 -1.025995  0.554904          1   \n",
       "3797         -1.152518 -1.227561  0.696524  0.480609          0   \n",
       "7463         -0.398853  0.090079  1.385532 -1.237830          1   \n",
       "1509         -0.749875 -0.286389  0.352020 -1.237830          1   \n",
       "4479         -1.028628 -0.756975 -0.336987 -1.237830          0   \n",
       "\n",
       "           IsActiveMember  EstimatedSalary  Gender_Male  Geography_Germany  \\\n",
       "RowNumber                                                                    \n",
       "9345                    0         0.019508            0                  0   \n",
       "3797                    0         0.056167            1                  0   \n",
       "7463                    1         0.848738            1                  0   \n",
       "1509                    1        -0.894953            1                  0   \n",
       "4479                    1        -1.284516            1                  0   \n",
       "\n",
       "           Geography_Spain  NumOfProducts_2  NumOfProducts_3  NumOfProducts_4  \n",
       "RowNumber                                                                      \n",
       "9345                     0                0                0                0  \n",
       "3797                     0                0                0                0  \n",
       "7463                     0                0                0                0  \n",
       "1509                     0                1                0                0  \n",
       "4479                     0                1                0                0  "
      ]
     },
     "execution_count": 17,
     "metadata": {},
     "output_type": "execute_result"
    }
   ],
   "source": [
    "numeric = ['CreditScore', 'Age', 'Tenure', 'Balance', 'EstimatedSalary']\n",
    "\n",
    "scaler = StandardScaler()\n",
    "scaler.fit(features_train[numeric])\n",
    "\n",
    "features_train[numeric] = scaler.transform(features_train[numeric])\n",
    "features_valid[numeric] = scaler.transform(features_valid[numeric])\n",
    "features_test[numeric] = scaler.transform(features_test[numeric])\n",
    "\n",
    "pd.options.mode.chained_assignment = None\n",
    "\n",
    "\n",
    "features_train.head()"
   ]
  },
  {
   "cell_type": "markdown",
   "metadata": {},
   "source": [
    "## Research"
   ]
  },
  {
   "cell_type": "markdown",
   "metadata": {},
   "source": [
    "### Class Balance"
   ]
  },
  {
   "cell_type": "code",
   "execution_count": 18,
   "metadata": {},
   "outputs": [
    {
     "data": {
      "text/plain": [
       "0    0.796062\n",
       "1    0.203938\n",
       "Name: Exited, dtype: float64"
      ]
     },
     "execution_count": 18,
     "metadata": {},
     "output_type": "execute_result"
    }
   ],
   "source": [
    "df_ohe['Exited'].value_counts(normalize=True)"
   ]
  },
  {
   "cell_type": "markdown",
   "metadata": {},
   "source": [
    "4 times more clients stayed with the bank than left it, sufficient class disbalance can be detected. So, I will first run a few models on unbalanced data to see the key metrics values, to be able to compare them with those afler balancing techniques application."
   ]
  },
  {
   "cell_type": "markdown",
   "metadata": {},
   "source": [
    "### Decision Tree"
   ]
  },
  {
   "cell_type": "code",
   "execution_count": 19,
   "metadata": {},
   "outputs": [
    {
     "name": "stdout",
     "output_type": "stream",
     "text": [
      "Best Decision Tree model with depth 2, f1-score : 0.5641711229946524, accuracy : 0.8206820682068207\n"
     ]
    }
   ],
   "source": [
    "best_model_dt = None\n",
    "best_depth_dt = 0\n",
    "best_f1_dt = 0\n",
    "for depth in range(1,20):\n",
    "    model_dt = DecisionTreeClassifier(random_state=12345, max_depth=depth)\n",
    "    model_dt.fit(features_train, target_train)\n",
    "    predictions_valid = model_dt.predict(features_valid)\n",
    "    f1_dt = f1_score(target_valid, predictions_valid)\n",
    "    if f1_dt > best_f1_dt:\n",
    "        best_depth_dt = depth\n",
    "        best_f1_dt = f1_dt\n",
    "        best_model_dt= model_dt\n",
    "        best_accuracy_dt = accuracy_score(target_valid, predictions_valid)\n",
    "print(f'Best Decision Tree model with depth {best_depth_dt}, f1-score : {best_f1_dt}, accuracy : {best_accuracy_dt}')  "
   ]
  },
  {
   "cell_type": "markdown",
   "metadata": {},
   "source": [
    "### Random Forest"
   ]
  },
  {
   "cell_type": "code",
   "execution_count": 20,
   "metadata": {},
   "outputs": [
    {
     "name": "stdout",
     "output_type": "stream",
     "text": [
      "Best Random Forest model with 50 trees with maximum depth  17, F1: - 0.6065573770491803, accuracy - 0.8679867986798679\n"
     ]
    }
   ],
   "source": [
    "best_model_rf = None\n",
    "best_est_rf = 0\n",
    "best_depth_rf = 0\n",
    "best_f1_rf = 0\n",
    "for est in range(10, 51, 10):\n",
    "    for depth in range (1, 20):\n",
    "        model_rf = RandomForestClassifier(random_state=12345, n_estimators=est, max_depth=depth)\n",
    "        model_rf.fit(features_train, target_train)\n",
    "        predictions_valid = model_rf.predict(features_valid)\n",
    "        f1_rf = f1_score(target_valid, predictions_valid)\n",
    "        if f1_rf > best_f1_rf:\n",
    "            best_model_rf = model_rf\n",
    "            best_est_rf = est\n",
    "            best_depth_rf = depth\n",
    "            best_f1_rf = f1_rf\n",
    "            best_accuracy_rf = accuracy_score(target_valid, predictions_valid)\n",
    "print(f'Best Random Forest model with {best_est_rf} trees with maximum depth  {best_depth_rf}, F1: - {best_f1_rf}, accuracy - {best_accuracy_rf}')"
   ]
  },
  {
   "cell_type": "markdown",
   "metadata": {},
   "source": [
    "Random Forest model has 50 much deeper trees, but F1-score differs very slightly from Decision Tree model with max depth of 2."
   ]
  },
  {
   "cell_type": "markdown",
   "metadata": {},
   "source": [
    "### Logistic Regression"
   ]
  },
  {
   "cell_type": "code",
   "execution_count": 21,
   "metadata": {},
   "outputs": [
    {
     "name": "stdout",
     "output_type": "stream",
     "text": [
      "Logistic Regression Model F1-score: 0.5068493150684932, accuracy : 0.8415841584158416\n"
     ]
    }
   ],
   "source": [
    "model_lr = LogisticRegression(random_state=12345, solver='liblinear') \n",
    "model_lr.fit(features_train, target_train)\n",
    "predictions_valid = model_lr.predict(features_valid)\n",
    "f1_lr = f1_score(target_valid, predictions_valid)\n",
    "accuracy_lr = accuracy_score(target_valid, predictions_valid)\n",
    "\n",
    "print(f'Logistic Regression Model F1-score: {f1_lr}, accuracy : {accuracy_lr}')"
   ]
  },
  {
   "cell_type": "markdown",
   "metadata": {},
   "source": [
    "F1-score for Logistic Regression is even lower, than for the simpliest Decision Tree."
   ]
  },
  {
   "cell_type": "markdown",
   "metadata": {},
   "source": [
    "### Sanity Test"
   ]
  },
  {
   "cell_type": "code",
   "execution_count": 22,
   "metadata": {},
   "outputs": [
    {
     "name": "stdout",
     "output_type": "stream",
     "text": [
      "Dummy-model F1-score for validation subset: 0.20000000000000004\n",
      "Dummy-model accuracy for validation subset: 0.6655665566556656\n"
     ]
    }
   ],
   "source": [
    "dummy = DummyClassifier(strategy='stratified', random_state=12345).fit(features_train, target_train)\n",
    "dummy_pred = dummy.predict(features_valid)\n",
    "print('Dummy-model F1-score for validation subset:', f1_score(target_valid, dummy_pred))\n",
    "print('Dummy-model accuracy for validation subset:', accuracy_score(target_valid, dummy_pred))"
   ]
  },
  {
   "cell_type": "markdown",
   "metadata": {},
   "source": [
    "The models built are better than dummy, but F1-score targeted is 0.59. I will test my best model so far on the test subset."
   ]
  },
  {
   "cell_type": "code",
   "execution_count": 23,
   "metadata": {},
   "outputs": [
    {
     "name": "stdout",
     "output_type": "stream",
     "text": [
      "F1-score for test subset: 0.563380281690141\n",
      "Best Random Forest Model accuracy for test subset: 0.8636613523914238\n"
     ]
    }
   ],
   "source": [
    "predictions_test = best_model_rf.predict(features_test)\n",
    "print('F1-score for test subset:', f1_score(target_test, predictions_test))\n",
    "print('Best Random Forest Model accuracy for test subset:', accuracy_score(target_test, predictions_test))"
   ]
  },
  {
   "cell_type": "markdown",
   "metadata": {},
   "source": [
    "### Conlusion\n",
    "All of the tree models validated have passed sanity test. But even the best model (so far) did not give sufficient F1-score on test subset. Working with disbalance should help here."
   ]
  },
  {
   "cell_type": "markdown",
   "metadata": {},
   "source": [
    "## Fighting Disbalance"
   ]
  },
  {
   "cell_type": "markdown",
   "metadata": {},
   "source": [
    "### Class Weighting\n"
   ]
  },
  {
   "cell_type": "markdown",
   "metadata": {},
   "source": [
    "#### Decision Tree"
   ]
  },
  {
   "cell_type": "code",
   "execution_count": 24,
   "metadata": {},
   "outputs": [
    {
     "name": "stdout",
     "output_type": "stream",
     "text": [
      "Best Decision Tree model with depth 4, f1-score : 0.5875, accuracy : 0.7821782178217822\n"
     ]
    }
   ],
   "source": [
    "best_model_dt = None\n",
    "best_depth_dt = 0\n",
    "best_f1_dt = 0\n",
    "for depth in range(1,20):\n",
    "    model_dt = DecisionTreeClassifier(random_state=12345, max_depth=depth, class_weight='balanced')\n",
    "    model_dt.fit(features_train, target_train)\n",
    "    predictions_valid = model_dt.predict(features_valid)\n",
    "    f1_dt = f1_score(target_valid, predictions_valid)\n",
    "    if f1_dt > best_f1_dt:\n",
    "        best_depth_dt = depth\n",
    "        best_f1_dt = f1_dt\n",
    "        best_model_dt= model_dt\n",
    "        best_accuracy_dt = accuracy_score(target_valid, predictions_valid)\n",
    "print(f'Best Decision Tree model with depth {best_depth_dt}, f1-score : {best_f1_dt}, accuracy : {best_accuracy_dt}')  "
   ]
  },
  {
   "cell_type": "markdown",
   "metadata": {},
   "source": [
    "It's getting better, but the result is still insufficient."
   ]
  },
  {
   "cell_type": "markdown",
   "metadata": {},
   "source": [
    "#### Random Forest"
   ]
  },
  {
   "cell_type": "code",
   "execution_count": 25,
   "metadata": {},
   "outputs": [
    {
     "name": "stdout",
     "output_type": "stream",
     "text": [
      "Best Random Forest model with 50 trees with maximum depth  12, F1: - 0.651685393258427, accuracy - 0.8635863586358636\n"
     ]
    }
   ],
   "source": [
    "best_model_rf = None\n",
    "best_est_rf = 0\n",
    "best_depth_rf = 0\n",
    "best_f1_rf = 0\n",
    "for est in range(10, 51, 10):\n",
    "    for depth in range (1, 20):\n",
    "        model_rf = RandomForestClassifier(random_state=12345, n_estimators=est, max_depth=depth, class_weight='balanced')\n",
    "        model_rf.fit(features_train, target_train)\n",
    "        predictions_valid = model_rf.predict(features_valid)\n",
    "        f1_rf = f1_score(target_valid, predictions_valid)\n",
    "        if f1_rf > best_f1_rf:\n",
    "            best_model_rf = model_rf\n",
    "            best_est_rf = est\n",
    "            best_depth_rf = depth\n",
    "            best_f1_rf = f1_rf\n",
    "            best_accuracy_rf = accuracy_score(target_valid, predictions_valid)\n",
    "print(f'Best Random Forest model with {best_est_rf} trees with maximum depth  {best_depth_rf}, F1: - {best_f1_rf}, accuracy - {best_accuracy_rf}')"
   ]
  },
  {
   "cell_type": "markdown",
   "metadata": {},
   "source": [
    "Accuracy is hihger than for Decision Tree, but F1 is still below target value."
   ]
  },
  {
   "cell_type": "markdown",
   "metadata": {},
   "source": [
    "#### Logistic Regression"
   ]
  },
  {
   "cell_type": "code",
   "execution_count": 26,
   "metadata": {},
   "outputs": [
    {
     "name": "stdout",
     "output_type": "stream",
     "text": [
      "Logistic Regression Model F1-score: 0.575098814229249, accuracy : 0.7634763476347635\n"
     ]
    }
   ],
   "source": [
    "model_lr = LogisticRegression(random_state=12345, solver='liblinear', class_weight='balanced') \n",
    "model_lr.fit(features_train, target_train)\n",
    "predictions_valid = model_lr.predict(features_valid)\n",
    "f1_lr = f1_score(target_valid, predictions_valid)\n",
    "accuracy_lr = accuracy_score(target_valid, predictions_valid)\n",
    "\n",
    "print(f'Logistic Regression Model F1-score: {f1_lr}, accuracy : {accuracy_lr}')"
   ]
  },
  {
   "cell_type": "markdown",
   "metadata": {},
   "source": [
    "Logistic regression results are also unsatisfactory. Upsampling and downsampling are to be tried to improve modelling results."
   ]
  },
  {
   "cell_type": "markdown",
   "metadata": {},
   "source": [
    "### Upsampling "
   ]
  },
  {
   "cell_type": "code",
   "execution_count": 27,
   "metadata": {},
   "outputs": [],
   "source": [
    "def upsample(features, target, repeat):\n",
    "    features_zeros = features[target == 0]\n",
    "    features_ones = features[target == 1]\n",
    "    target_zeros = target[target == 0]\n",
    "    target_ones = target[target == 1]\n",
    "\n",
    "    features_upsampled = pd.concat([features_zeros] + [features_ones] * repeat)\n",
    "    target_upsampled = pd.concat([target_zeros] + [target_ones] * repeat)\n",
    "    \n",
    "    features_upsampled, target_upsampled = shuffle(\n",
    "        features_upsampled, target_upsampled, random_state=12345)\n",
    "    \n",
    "    return features_upsampled, target_upsampled\n",
    "\n",
    "# 2, 5 and 10 times upsampling\n",
    "\n",
    "features_upsampled2, target_upsampled2 = upsample(features_train, target_train, 2)\n",
    "features_upsampled5, target_upsampled5 = upsample(features_train, target_train, 5)\n",
    "features_upsampled10, target_upsampled10 = upsample(features_train, target_train, 10)"
   ]
  },
  {
   "cell_type": "markdown",
   "metadata": {},
   "source": [
    "#### Decision Tree"
   ]
  },
  {
   "cell_type": "code",
   "execution_count": 28,
   "metadata": {},
   "outputs": [
    {
     "name": "stdout",
     "output_type": "stream",
     "text": [
      "Best Decision Tree model with depth4, f1-score : 0.5942571785268415, accuracy : 0.8212321232123212\n"
     ]
    }
   ],
   "source": [
    "best_model_dt2 = None\n",
    "best_depth_dt2 = 0\n",
    "best_f1_dt2 = 0\n",
    "for depth in range(1,20):\n",
    "    model_dt = DecisionTreeClassifier(random_state=12345, max_depth=depth)\n",
    "    model_dt.fit(features_upsampled2, target_upsampled2)\n",
    "    predictions_valid = model_dt.predict(features_valid)\n",
    "    f1_dt = f1_score(target_valid, predictions_valid)\n",
    "    if f1_dt > best_f1_dt2:\n",
    "        best_depth_dt2 = depth\n",
    "        best_f1_dt2 = f1_dt\n",
    "        best_model_dt2 = model_dt\n",
    "        best_accuracy_dt2 = accuracy_score(target_valid, predictions_valid)\n",
    "print(f'Best Decision Tree model with depth{best_depth_dt2}, f1-score : {best_f1_dt2}, accuracy : {best_accuracy_dt2}')  "
   ]
  },
  {
   "cell_type": "code",
   "execution_count": 29,
   "metadata": {},
   "outputs": [
    {
     "name": "stdout",
     "output_type": "stream",
     "text": [
      "Best Decision Tree model with depth4, f1-score : 0.5727878211227402, accuracy : 0.753025302530253\n"
     ]
    }
   ],
   "source": [
    "best_model_dt5 = None\n",
    "best_depth_dt5 = 0\n",
    "best_f1_dt5 = 0\n",
    "for depth in range(1,20):\n",
    "    model_dt = DecisionTreeClassifier(random_state=12345, max_depth=depth)\n",
    "    model_dt.fit(features_upsampled5, target_upsampled5)\n",
    "    predictions_valid = model_dt.predict(features_valid)\n",
    "    f1_dt = f1_score(target_valid, predictions_valid)\n",
    "    if f1_dt > best_f1_dt5:\n",
    "        best_depth_dt5 = depth\n",
    "        best_f1_dt5 = f1_dt\n",
    "        best_model_dt5 = model_dt\n",
    "        best_accuracy_dt5 = accuracy_score(target_valid, predictions_valid)\n",
    "print(f'Best Decision Tree model with depth{best_depth_dt5}, f1-score : {best_f1_dt5}, accuracy : {best_accuracy_dt5}')"
   ]
  },
  {
   "cell_type": "code",
   "execution_count": 30,
   "metadata": {},
   "outputs": [
    {
     "name": "stdout",
     "output_type": "stream",
     "text": [
      "Best Decision Tree model with depth7, f1-score : 0.518578352180937, accuracy : 0.6721672167216721\n"
     ]
    }
   ],
   "source": [
    "best_model_dt10 = None\n",
    "best_depth_dt10 = 0\n",
    "best_f1_dt10 = 0\n",
    "for depth in range(1,20):\n",
    "    model_dt = DecisionTreeClassifier(random_state=12345, max_depth=depth)\n",
    "    model_dt.fit(features_upsampled10, target_upsampled10)\n",
    "    predictions_valid = model_dt.predict(features_valid)\n",
    "    f1_dt = f1_score(target_valid, predictions_valid)\n",
    "    if f1_dt > best_f1_dt10:\n",
    "        best_depth_dt10 = depth\n",
    "        best_f1_dt10 = f1_dt\n",
    "        best_model_dt10 = model_dt\n",
    "        best_accuracy_dt10 = accuracy_score(target_valid, predictions_valid)\n",
    "print(f'Best Decision Tree model with depth{best_depth_dt10}, f1-score : {best_f1_dt10}, accuracy : {best_accuracy_dt10}')"
   ]
  },
  {
   "cell_type": "markdown",
   "metadata": {},
   "source": [
    "For Decision Tree model best result is achieved for x2 upsampling."
   ]
  },
  {
   "cell_type": "markdown",
   "metadata": {},
   "source": [
    "#### Random Forest"
   ]
  },
  {
   "cell_type": "code",
   "execution_count": 31,
   "metadata": {},
   "outputs": [
    {
     "name": "stdout",
     "output_type": "stream",
     "text": [
      "Best Random Forest model with 20 trees with maximum depth  9, F1: - 0.6464646464646465, accuracy - 0.8652365236523653\n"
     ]
    }
   ],
   "source": [
    "best_model_rf2 = None\n",
    "best_est_rf2 = 0\n",
    "best_depth_rf2 = 0\n",
    "best_f1_rf2 = 0\n",
    "for est in range(10, 51, 10):\n",
    "    for depth in range (1, 20):\n",
    "        model_rf = RandomForestClassifier(random_state=12345, n_estimators=est, max_depth=depth)\n",
    "        model_rf.fit(features_upsampled2, target_upsampled2)\n",
    "        predictions_valid = model_rf.predict(features_valid)\n",
    "        f1_rf = f1_score(target_valid, predictions_valid)\n",
    "        if f1_rf > best_f1_rf2:\n",
    "            best_model_rf2 = model_rf\n",
    "            best_est_rf2 = est\n",
    "            best_depth_rf2 = depth\n",
    "            best_f1_rf2 = f1_rf\n",
    "            best_accuracy_rf2 = accuracy_score(target_valid, predictions_valid)\n",
    "print(f'Best Random Forest model with {best_est_rf2} trees with maximum depth  {best_depth_rf2}, F1: - {best_f1_rf2}, accuracy - {best_accuracy_rf2}')"
   ]
  },
  {
   "cell_type": "code",
   "execution_count": 32,
   "metadata": {},
   "outputs": [
    {
     "name": "stdout",
     "output_type": "stream",
     "text": [
      "Best Random Forest model with 50 trees with maximum depth  15, F1: - 0.6263157894736843, accuracy - 0.8437843784378438\n"
     ]
    }
   ],
   "source": [
    "best_model_rf5 = None\n",
    "best_est_rf5 = 0\n",
    "best_depth_rf5 = 0\n",
    "best_f1_rf5 = 0\n",
    "for est in range(10, 51, 10):\n",
    "    for depth in range (1, 20):\n",
    "        model_rf = RandomForestClassifier(random_state=12345, n_estimators=est, max_depth=depth)\n",
    "        model_rf.fit(features_upsampled5, target_upsampled5)\n",
    "        predictions_valid = model_rf.predict(features_valid)\n",
    "        f1_rf = f1_score(target_valid, predictions_valid)\n",
    "        if f1_rf > best_f1_rf5:\n",
    "            best_model_rf5 = model_rf\n",
    "            best_est_rf5 = est\n",
    "            best_depth_rf5 = depth\n",
    "            best_f1_rf5 = f1_rf\n",
    "            best_accuracy_rf5 = accuracy_score(target_valid, predictions_valid)\n",
    "print(f'Best Random Forest model with {best_est_rf5} trees with maximum depth  {best_depth_rf5}, F1: - {best_f1_rf5}, accuracy - {best_accuracy_rf5}')"
   ]
  },
  {
   "cell_type": "code",
   "execution_count": 33,
   "metadata": {},
   "outputs": [
    {
     "name": "stdout",
     "output_type": "stream",
     "text": [
      "Best Random Forest model with 50 trees with maximum depth  18, F1: - 0.6248294679399727, accuracy - 0.8487348734873488\n"
     ]
    }
   ],
   "source": [
    "best_model_rf10 = None\n",
    "best_est_rf10 = 0\n",
    "best_depth_rf10 = 0\n",
    "best_f1_rf10 = 0\n",
    "for est in range(10, 51, 10):\n",
    "    for depth in range (1, 20):\n",
    "        model_rf = RandomForestClassifier(random_state=12345, n_estimators=est, max_depth=depth)\n",
    "        model_rf.fit(features_upsampled10, target_upsampled10)\n",
    "        predictions_valid = model_rf.predict(features_valid)\n",
    "        f1_rf = f1_score(target_valid, predictions_valid)\n",
    "        if f1_rf > best_f1_rf10:\n",
    "            best_model_rf10 = model_rf\n",
    "            best_est_rf10 = est\n",
    "            best_depth_rf10 = depth\n",
    "            best_f1_rf10 = f1_rf\n",
    "            best_accuracy_rf10 = accuracy_score(target_valid, predictions_valid)\n",
    "print(f'Best Random Forest model with {best_est_rf10} trees with maximum depth  {best_depth_rf10}, F1: - {best_f1_rf10}, accuracy - {best_accuracy_rf10}')"
   ]
  },
  {
   "cell_type": "markdown",
   "metadata": {},
   "source": [
    "Same here, 2 times upsampling works best."
   ]
  },
  {
   "cell_type": "markdown",
   "metadata": {},
   "source": [
    "#### Logistic Regression"
   ]
  },
  {
   "cell_type": "code",
   "execution_count": 34,
   "metadata": {},
   "outputs": [
    {
     "name": "stdout",
     "output_type": "stream",
     "text": [
      "Logistic Regression Model F1-score: 0.586021505376344, accuracy : 0.8305830583058306\n"
     ]
    }
   ],
   "source": [
    "model_lr2 = LogisticRegression(random_state=12345, solver='liblinear') \n",
    "model_lr2.fit(features_upsampled2, target_upsampled2)\n",
    "predictions_valid = model_lr2.predict(features_valid)\n",
    "f1_lr2 = f1_score(target_valid, predictions_valid)\n",
    "accuracy_lr2 = accuracy_score(target_valid, predictions_valid)\n",
    "\n",
    "print(f'Logistic Regression Model F1-score: {f1_lr2}, accuracy : {accuracy_lr2}')"
   ]
  },
  {
   "cell_type": "code",
   "execution_count": 35,
   "metadata": {},
   "outputs": [
    {
     "name": "stdout",
     "output_type": "stream",
     "text": [
      "Logistic Regression Model F1-score: 0.5462633451957295, accuracy : 0.7194719471947195\n"
     ]
    }
   ],
   "source": [
    "model_lr5 = LogisticRegression(random_state=12345, solver='liblinear') \n",
    "model_lr5.fit(features_upsampled5, target_upsampled5)\n",
    "predictions_valid = model_lr5.predict(features_valid)\n",
    "f1_lr5 = f1_score(target_valid, predictions_valid)\n",
    "accuracy_lr5 = accuracy_score(target_valid, predictions_valid)\n",
    "\n",
    "print(f'Logistic Regression Model F1-score: {f1_lr5}, accuracy : {accuracy_lr5}')"
   ]
  },
  {
   "cell_type": "code",
   "execution_count": 36,
   "metadata": {},
   "outputs": [
    {
     "name": "stdout",
     "output_type": "stream",
     "text": [
      "Logistic Regression Model F1-score: 0.4699453551912568, accuracy : 0.5731573157315731\n"
     ]
    }
   ],
   "source": [
    "model_lr10 = LogisticRegression(random_state=12345, solver='liblinear') \n",
    "model_lr10.fit(features_upsampled10, target_upsampled10)\n",
    "predictions_valid = model_lr10.predict(features_valid)\n",
    "f1_lr10 = f1_score(target_valid, predictions_valid)\n",
    "accuracy_lr10 = accuracy_score(target_valid, predictions_valid)\n",
    "\n",
    "print(f'Logistic Regression Model F1-score: {f1_lr10}, accuracy : {accuracy_lr10}')"
   ]
  },
  {
   "cell_type": "markdown",
   "metadata": {},
   "source": [
    "Logistic Regression model did not reach the target result even after upsampling."
   ]
  },
  {
   "cell_type": "markdown",
   "metadata": {},
   "source": [
    "### Downsampling"
   ]
  },
  {
   "cell_type": "markdown",
   "metadata": {},
   "source": [
    "Upsampling gave sufficient results, but downsampling is worth testing as well."
   ]
  },
  {
   "cell_type": "code",
   "execution_count": 43,
   "metadata": {},
   "outputs": [],
   "source": [
    "def downsample(features, target, fraction):\n",
    "    features_zeros = features[target == 0]\n",
    "    features_ones = features[target == 1]\n",
    "    target_zeros = target[target == 0]\n",
    "    target_ones = target[target == 1]\n",
    "\n",
    "    features_downsampled = pd.concat(\n",
    "        [features_zeros.sample(frac=fraction, random_state=12345)] + [features_ones])\n",
    "    target_downsampled = pd.concat(\n",
    "        [target_zeros.sample(frac=fraction, random_state=12345)] + [target_ones])\n",
    "    \n",
    "    features_downsampled, target_downsampled = shuffle(\n",
    "        features_downsampled, target_downsampled, random_state=12345)\n",
    "    \n",
    "    return features_downsampled, target_downsampled\n",
    "\n",
    "# Downsampling 2, 5 and 10 times\n",
    "\n",
    "features_downsampled2, target_downsampled2 = downsample(features_train, target_train, 0.5)\n",
    "features_downsampled5, target_downsampled5 = downsample(features_train, target_train, 0.2)\n",
    "features_downsampled10, target_downsampled10 = downsample(features_train, target_train, 0.1)"
   ]
  },
  {
   "cell_type": "markdown",
   "metadata": {},
   "source": [
    "#### Decision Tree"
   ]
  },
  {
   "cell_type": "code",
   "execution_count": 44,
   "metadata": {},
   "outputs": [
    {
     "name": "stdout",
     "output_type": "stream",
     "text": [
      "Best Decision Tree model with depth 5, f1-score : 0.596078431372549, accuracy : 0.83003300330033\n"
     ]
    }
   ],
   "source": [
    "best_model_dt_d2 = None\n",
    "best_depth_dt_d2 = 0\n",
    "best_f1_dt_d2 = 0\n",
    "for depth in range(1,20):\n",
    "    model_dt = DecisionTreeClassifier(random_state=12345, max_depth=depth)\n",
    "    model_dt.fit(features_downsampled2, target_downsampled2)\n",
    "    predictions_valid = model_dt.predict(features_valid)\n",
    "    f1_dt = f1_score(target_valid, predictions_valid)\n",
    "    if f1_dt > best_f1_dt_d2:\n",
    "        best_depth_dt_d2 = depth\n",
    "        best_f1_dt_d2 = f1_dt\n",
    "        best_model_dt_d2 = model_dt\n",
    "        best_accuracy_dt_d2 = accuracy_score(target_valid, predictions_valid)\n",
    "print(f'Best Decision Tree model with depth {best_depth_dt_d2}, f1-score : {best_f1_dt_d2}, accuracy : {best_accuracy_dt_d2}')    "
   ]
  },
  {
   "cell_type": "code",
   "execution_count": 45,
   "metadata": {},
   "outputs": [
    {
     "name": "stdout",
     "output_type": "stream",
     "text": [
      "Best Decision Tree model with depth 4, f1-score : 0.5618181818181819, accuracy : 0.7348734873487349\n"
     ]
    }
   ],
   "source": [
    "best_model_dt_d5 = None\n",
    "best_depth_dt_d5 = 0\n",
    "best_f1_dt_d5 = 0\n",
    "for depth in range(1,20):\n",
    "    model_dt = DecisionTreeClassifier(random_state=12345, max_depth=depth)\n",
    "    model_dt.fit(features_downsampled5, target_downsampled5)\n",
    "    predictions_valid = model_dt.predict(features_valid)\n",
    "    f1_dt = f1_score(target_valid, predictions_valid)\n",
    "    if f1_dt > best_f1_dt_d5:\n",
    "        best_depth_dt_d5 = depth\n",
    "        best_f1_dt_d5 = f1_dt\n",
    "        best_model_dt_d5 = model_dt\n",
    "        best_accuracy_dt_d5 = accuracy_score(target_valid, predictions_valid)\n",
    "print(f'Best Decision Tree model with depth {best_depth_dt_d5}, f1-score : {best_f1_dt_d5}, accuracy : {best_accuracy_dt_d5}')  "
   ]
  },
  {
   "cell_type": "code",
   "execution_count": 46,
   "metadata": {},
   "outputs": [
    {
     "name": "stdout",
     "output_type": "stream",
     "text": [
      "Best Decision Tree model with depth 8, f1-score : 0.48299791811242193, accuracy : 0.5902090209020903\n"
     ]
    }
   ],
   "source": [
    "best_model_dt_d10 = None\n",
    "best_depth_dt_d10 = 0\n",
    "best_f1_dt_d10 = 0\n",
    "for depth in range(1,20):\n",
    "    model_dt = DecisionTreeClassifier(random_state=12345, max_depth=depth)\n",
    "    model_dt.fit(features_downsampled10, target_downsampled10)\n",
    "    predictions_valid = model_dt.predict(features_valid)\n",
    "    f1_dt = f1_score(target_valid, predictions_valid)\n",
    "    if f1_dt > best_f1_dt_d10:\n",
    "        best_depth_dt_d10 = depth\n",
    "        best_f1_dt_d10 = f1_dt\n",
    "        best_model_dt_d10 = model_dt\n",
    "        best_accuracy_dt_d10 = accuracy_score(target_valid, predictions_valid)\n",
    "print(f'Best Decision Tree model with depth {best_depth_dt_d10}, f1-score : {best_f1_dt_d10}, accuracy : {best_accuracy_dt_d10}')  "
   ]
  },
  {
   "cell_type": "markdown",
   "metadata": {},
   "source": [
    "Two times downsampling works best for Decision Tree model."
   ]
  },
  {
   "cell_type": "markdown",
   "metadata": {},
   "source": [
    "#### Random Forest"
   ]
  },
  {
   "cell_type": "code",
   "execution_count": 47,
   "metadata": {},
   "outputs": [
    {
     "name": "stdout",
     "output_type": "stream",
     "text": [
      "Best Random Forest model with 50 trees with maximum depth  11, F1: - 0.6441136671177267, accuracy - 0.8553355335533553\n"
     ]
    }
   ],
   "source": [
    "best_model_rf_d2 = None\n",
    "best_est_rf_d2 = 0\n",
    "best_depth_rf_d2 = 0\n",
    "best_f1_rf_d2 = 0\n",
    "for est in range(10, 51, 10):\n",
    "    for depth in range (1, 20):\n",
    "        model_rf = RandomForestClassifier(random_state=12345, n_estimators=est, max_depth=depth)\n",
    "        model_rf.fit(features_downsampled2, target_downsampled2)\n",
    "        predictions_valid = model_rf.predict(features_valid)\n",
    "        f1_rf = f1_score(target_valid, predictions_valid)\n",
    "        if f1_rf > best_f1_rf_d2:\n",
    "            best_model_rf_d2 = model_rf\n",
    "            best_est_rf_d2 = est\n",
    "            best_depth_rf_d2 = depth\n",
    "            best_f1_rf_d2 = f1_rf\n",
    "            best_accuracy_rf_d2 = accuracy_score(target_valid, predictions_valid)\n",
    "print(f'Best Random Forest model with {best_est_rf_d2} trees with maximum depth  {best_depth_rf_d2}, F1: - {best_f1_rf_d2}, accuracy - {best_accuracy_rf_d2}')"
   ]
  },
  {
   "cell_type": "code",
   "execution_count": 48,
   "metadata": {},
   "outputs": [
    {
     "name": "stdout",
     "output_type": "stream",
     "text": [
      "Best Random Forest model with 50 trees with maximum depth  13, F1: - 0.6441136671177267, accuracy - 0.740924092409241\n"
     ]
    }
   ],
   "source": [
    "best_model_rf_d5 = None\n",
    "best_est_rf_d5 = 0\n",
    "best_depth_rf_d5 = 0\n",
    "best_f1_rf_d5 = 0\n",
    "for est in range(10, 51, 10):\n",
    "    for depth in range (1, 20):\n",
    "        model_rf = RandomForestClassifier(random_state=12345, n_estimators=est, max_depth=depth)\n",
    "        model_rf.fit(features_downsampled5, target_downsampled5)\n",
    "        predictions_valid = model_rf.predict(features_valid)\n",
    "        f1_rf = f1_score(target_valid, predictions_valid)\n",
    "        if f1_rf > best_f1_rf_d5:\n",
    "            best_model_rf_d5 = model_rf\n",
    "            best_est_rf_d5 = est\n",
    "            best_depth_rf_d5 = depth\n",
    "            best_f1_rf_d5 = f1_rf\n",
    "            best_accuracy_rf_d5 = accuracy_score(target_valid, predictions_valid)\n",
    "print(f'Best Random Forest model with {best_est_rf_d5} trees with maximum depth  {best_depth_rf_d5}, F1: - {best_f1_rf_d2}, accuracy - {best_accuracy_rf_d5}')"
   ]
  },
  {
   "cell_type": "code",
   "execution_count": 49,
   "metadata": {},
   "outputs": [
    {
     "name": "stdout",
     "output_type": "stream",
     "text": [
      "Best Random Forest model with 10 trees with maximum depth  16, F1: - 0.6441136671177267, accuracy - 0.6061606160616062\n"
     ]
    }
   ],
   "source": [
    "best_model_rf_d10 = None\n",
    "best_est_rf_d10 = 0\n",
    "best_depth_rf_d10 = 0\n",
    "best_f1_rf_d10 = 0\n",
    "for est in range(10, 51, 10):\n",
    "    for depth in range (1, 20):\n",
    "        model_rf = RandomForestClassifier(random_state=12345, n_estimators=est, max_depth=depth)\n",
    "        model_rf.fit(features_downsampled10, target_downsampled10)\n",
    "        predictions_valid = model_rf.predict(features_valid)\n",
    "        f1_rf = f1_score(target_valid, predictions_valid)\n",
    "        if f1_rf > best_f1_rf_d10:\n",
    "            best_model_rf_d10 = model_rf\n",
    "            best_est_rf_d10 = est\n",
    "            best_depth_rf_d10 = depth\n",
    "            best_f1_rf_d10 = f1_rf\n",
    "            best_accuracy_rf_d10 = accuracy_score(target_valid, predictions_valid)\n",
    "print(f'Best Random Forest model with {best_est_rf_d10} trees with maximum depth  {best_depth_rf_d10}, F1: - {best_f1_rf_d2}, accuracy - {best_accuracy_rf_d10}')"
   ]
  },
  {
   "cell_type": "markdown",
   "metadata": {},
   "source": [
    "Just like Decision Tree, Random Forest model achieves best results with 2 times downsampling."
   ]
  },
  {
   "cell_type": "markdown",
   "metadata": {},
   "source": [
    "#### Logistic Regression"
   ]
  },
  {
   "cell_type": "code",
   "execution_count": 51,
   "metadata": {},
   "outputs": [
    {
     "name": "stdout",
     "output_type": "stream",
     "text": [
      "Logistic Regression Model F1-score: 0.5767690253671562, accuracy : 0.8256325632563256\n"
     ]
    }
   ],
   "source": [
    "model_lr2 = LogisticRegression(random_state=12345, solver='liblinear') \n",
    "model_lr2.fit(features_downsampled2, target_downsampled2)\n",
    "predictions_valid = model_lr2.predict(features_valid)\n",
    "f1_lr_d2 = f1_score(target_valid, predictions_valid)\n",
    "accuracy_lr_d2 = accuracy_score(target_valid, predictions_valid)\n",
    "\n",
    "print(f'Logistic Regression Model F1-score: {f1_lr_d2}, accuracy : {accuracy_lr_d2}')"
   ]
  },
  {
   "cell_type": "code",
   "execution_count": 53,
   "metadata": {},
   "outputs": [
    {
     "name": "stdout",
     "output_type": "stream",
     "text": [
      "Logistic Regression Model F1-score: 0.5456140350877192, accuracy : 0.7150715071507151\n"
     ]
    }
   ],
   "source": [
    "model_lr5 = LogisticRegression(random_state=12345, solver='liblinear') \n",
    "model_lr5.fit(features_downsampled5, target_downsampled5)\n",
    "predictions_valid = model_lr5.predict(features_valid)\n",
    "f1_lr_d5 = f1_score(target_valid, predictions_valid)\n",
    "accuracy_lr_d5 = accuracy_score(target_valid, predictions_valid)\n",
    "\n",
    "print(f'Logistic Regression Model F1-score: {f1_lr_d5}, accuracy : {accuracy_lr_d5}')"
   ]
  },
  {
   "cell_type": "code",
   "execution_count": 54,
   "metadata": {},
   "outputs": [
    {
     "name": "stdout",
     "output_type": "stream",
     "text": [
      "Logistic Regression Model F1-score: 0.4672518568534774, accuracy : 0.566006600660066\n"
     ]
    }
   ],
   "source": [
    "model_lr10 = LogisticRegression(random_state=12345, solver='liblinear') \n",
    "model_lr10.fit(features_downsampled10, target_downsampled10)\n",
    "predictions_valid = model_lr10.predict(features_valid)\n",
    "f1_lr_d10 = f1_score(target_valid, predictions_valid)\n",
    "accuracy_lr_d10 = accuracy_score(target_valid, predictions_valid)\n",
    "\n",
    "print(f'Logistic Regression Model F1-score: {f1_lr_d10}, accuracy : {accuracy_lr_d10}')"
   ]
  },
  {
   "cell_type": "markdown",
   "metadata": {},
   "source": [
    "Logistic Regression model was not able to reach the target result after downsampling as well."
   ]
  },
  {
   "cell_type": "markdown",
   "metadata": {},
   "source": [
    "### Conclusion\n",
    "\n",
    "A few ways to fight disbalance have been implemented - class weighting, upsampling (x2, x5 and x10) and downsampling (1/2, 1/5 and 1/10). Best result for ke metric - F1-score - was achieved for Random Forest model (20 trees with max depth 9) trained on twice upscaled data."
   ]
  },
  {
   "cell_type": "markdown",
   "metadata": {},
   "source": [
    "## Model Testing\n",
    "\n",
    "### Test Subset Metrics"
   ]
  },
  {
   "cell_type": "markdown",
   "metadata": {},
   "source": [
    "Test best Random Forest model trained on uscaled data"
   ]
  },
  {
   "cell_type": "code",
   "execution_count": 55,
   "metadata": {},
   "outputs": [
    {
     "name": "stdout",
     "output_type": "stream",
     "text": [
      "Test Subset F1-score : 0.6123076923076923, accuracy : 0.8614623419461243\n",
      "\n",
      "CPU times: user 16.3 ms, sys: 4 µs, total: 16.3 ms\n",
      "Wall time: 14.6 ms\n"
     ]
    }
   ],
   "source": [
    "%%time\n",
    "predictions_test = best_model_rf2.predict(features_test)\n",
    "f1_rf_test = f1_score(target_test, predictions_test)\n",
    "accuracy_rf_test = accuracy_score(target_test, predictions_test)\n",
    "print(f'Test Subset F1-score : {f1_rf_test}, accuracy : {accuracy_rf_test}\\n')"
   ]
  },
  {
   "cell_type": "markdown",
   "metadata": {},
   "source": [
    "F1-score is around 0.61, the model has reached the target quality."
   ]
  },
  {
   "cell_type": "markdown",
   "metadata": {},
   "source": [
    "### Confusion Matrix"
   ]
  },
  {
   "cell_type": "markdown",
   "metadata": {},
   "source": [
    "Build confusion matrix for best Random Forest and dummy-model, then compare results"
   ]
  },
  {
   "cell_type": "code",
   "execution_count": 56,
   "metadata": {},
   "outputs": [
    {
     "name": "stdout",
     "output_type": "stream",
     "text": [
      "Dummy-Model Confusion Matrix\n"
     ]
    },
    {
     "data": {
      "image/png": "[encoded data removed]",
      "text/plain": [
       "<Figure size 432x288 with 2 Axes>"
      ]
     },
     "metadata": {
      "needs_background": "light"
     },
     "output_type": "display_data"
    }
   ],
   "source": [
    "clf_dummy = DummyClassifier(random_state=12345) \n",
    "dummy_model = DummyClassifier(strategy='stratified', random_state=12345)\n",
    "dummy_model.fit(features_train, target_train)\n",
    "dummy_pred = dummy.predict(features_test)\n",
    "plot_confusion_matrix(estimator=dummy_model, X=features_test, y_true=target_test,\n",
    "                      normalize='true', cmap='Blues')\n",
    "print('Dummy-Model Confusion Matrix')"
   ]
  },
  {
   "cell_type": "code",
   "execution_count": 57,
   "metadata": {},
   "outputs": [
    {
     "name": "stdout",
     "output_type": "stream",
     "text": [
      "Random Forest Model Confusion Matrix\n"
     ]
    },
    {
     "data": {
      "image/png": "[encoded data removed]",
      "text/plain": [
       "<Figure size 432x288 with 2 Axes>"
      ]
     },
     "metadata": {
      "needs_background": "light"
     },
     "output_type": "display_data"
    }
   ],
   "source": [
    "plot_confusion_matrix(estimator=best_model_rf2, X=features_test, y_true=target_test,\n",
    "                      normalize='true', cmap='Greens')\n",
    "print('Random Forest Model Confusion Matrix')"
   ]
  },
  {
   "cell_type": "markdown",
   "metadata": {},
   "source": [
    "The model created does not predict perfectly, but the results are much better than for dummy-model. More than a half positive target values have been predicter correctly, and almost all negative as well."
   ]
  },
  {
   "cell_type": "markdown",
   "metadata": {},
   "source": [
    "### ROC-curve and AUC-ROC"
   ]
  },
  {
   "cell_type": "code",
   "execution_count": 58,
   "metadata": {},
   "outputs": [
    {
     "data": {
      "image/png": "[encoded data removed]",
      "text/plain": [
       "<Figure size 432x288 with 1 Axes>"
      ]
     },
     "metadata": {
      "needs_background": "light"
     },
     "output_type": "display_data"
    }
   ],
   "source": [
    "probabilities_test = best_model_rf2.predict_proba(features_test)\n",
    "probabilities_one_test = probabilities_test[:, 1]\n",
    "\n",
    "\n",
    "fpr, tpr, thresholds = roc_curve(target_test, probabilities_one_test)\n",
    "plt.figure()\n",
    "plt.plot(fpr, tpr, label='Model')\n",
    "\n",
    "# ROC-curve for random model\n",
    "plt.plot([0, 1], [0, 1], linestyle='--', label='Random')\n",
    "\n",
    "plt.xlim([0.0, 1.0])\n",
    "plt.ylim([0.0, 1.0])\n",
    "\n",
    "plt.xlabel(\"False Positive Rate\") \n",
    "plt.ylabel(\"True Positive Rate\")\n",
    "\n",
    "plt.title(\"ROC-curve\")\n",
    "plt.legend(loc='lower right')\n",
    "\n",
    "\n",
    "plt.show()"
   ]
  },
  {
   "cell_type": "code",
   "execution_count": 59,
   "metadata": {},
   "outputs": [
    {
     "data": {
      "text/plain": [
       "0.8641619506742123"
      ]
     },
     "execution_count": 59,
     "metadata": {},
     "output_type": "execute_result"
    }
   ],
   "source": [
    "roc_auc_score(target_test, probabilities_one_test)"
   ]
  },
  {
   "cell_type": "markdown",
   "metadata": {},
   "source": [
    "ROC-curve and ROC-AUC metric testify for RF model sufficient quality. "
   ]
  },
  {
   "cell_type": "markdown",
   "metadata": {},
   "source": [
    "## Overall Conclusion\n",
    "\n",
    "- Data prepared:\n",
    "    - numeric features normalized\n",
    "    - categorial features processed with OHE\n",
    "    - features and targets determined, data split in subsets\n",
    "- Models not taking into account class disbalance have been created and analysed - all models' F1-scores do not satisfy quality condition\n",
    "- 3 ways to fight disbalance have been created:\n",
    "    - Class weighting did not acqure satisfactory result\n",
    "    - 4 times Upsampling and Downsampling were most effective in terms of meeting F1 criteria\n",
    "    - Hyperparameters chosen for best Random Forest model\n",
    "- Chosen best model has passed testing:\n",
    "    - F1-score = 0.62, above cut-off value\n",
    "    - Confusion matrix prove sufficient model quality, model passed sanity test\n",
    "    - ROC-AUC = 0.86, noticeably higher than for random model"
   ]
  }
 ],
 "metadata": {
  "ExecuteTimeLog": [
   {
    "duration": 1160,
    "start_time": "2022-03-16T14:32:59.962Z"
   },
   {
    "duration": 36,
    "start_time": "2022-03-16T14:34:53.987Z"
   },
   {
    "duration": 34,
    "start_time": "2022-03-16T14:36:39.828Z"
   },
   {
    "duration": 36,
    "start_time": "2022-03-16T14:38:20.603Z"
   },
   {
    "duration": 7,
    "start_time": "2022-03-16T14:42:14.330Z"
   },
   {
    "duration": 324,
    "start_time": "2022-03-16T14:42:59.225Z"
   },
   {
    "duration": 24,
    "start_time": "2022-03-16T14:43:07.159Z"
   },
   {
    "duration": 10,
    "start_time": "2022-03-16T14:43:44.129Z"
   },
   {
    "duration": 22,
    "start_time": "2022-03-16T14:44:39.033Z"
   },
   {
    "duration": 10,
    "start_time": "2022-03-16T14:44:46.102Z"
   },
   {
    "duration": 58,
    "start_time": "2022-03-16T14:45:06.026Z"
   },
   {
    "duration": 9,
    "start_time": "2022-03-16T14:45:11.016Z"
   },
   {
    "duration": 6,
    "start_time": "2022-03-16T14:45:49.381Z"
   },
   {
    "duration": 10,
    "start_time": "2022-03-16T14:46:53.106Z"
   },
   {
    "duration": 9,
    "start_time": "2022-03-16T14:47:15.492Z"
   },
   {
    "duration": 5,
    "start_time": "2022-03-16T14:47:34.726Z"
   },
   {
    "duration": 25,
    "start_time": "2022-03-16T14:49:32.822Z"
   },
   {
    "duration": 9,
    "start_time": "2022-03-16T14:49:55.296Z"
   },
   {
    "duration": 194,
    "start_time": "2022-03-16T14:50:34.388Z"
   },
   {
    "duration": 242,
    "start_time": "2022-03-16T14:50:44.754Z"
   },
   {
    "duration": 212,
    "start_time": "2022-03-16T14:50:57.208Z"
   },
   {
    "duration": 247,
    "start_time": "2022-03-16T14:51:07.515Z"
   },
   {
    "duration": 211,
    "start_time": "2022-03-16T14:51:20.644Z"
   },
   {
    "duration": 31,
    "start_time": "2022-03-16T14:51:42.313Z"
   },
   {
    "duration": 360,
    "start_time": "2022-03-16T14:58:21.881Z"
   },
   {
    "duration": 52,
    "start_time": "2022-03-16T14:59:26.229Z"
   },
   {
    "duration": 249,
    "start_time": "2022-03-16T15:00:14.000Z"
   },
   {
    "duration": 220,
    "start_time": "2022-03-16T15:00:22.268Z"
   },
   {
    "duration": 504,
    "start_time": "2022-03-16T15:00:29.682Z"
   },
   {
    "duration": 1376,
    "start_time": "2022-03-16T15:00:42.362Z"
   },
   {
    "duration": 367,
    "start_time": "2022-03-16T15:00:51.450Z"
   },
   {
    "duration": 364,
    "start_time": "2022-03-16T15:00:54.552Z"
   },
   {
    "duration": 16,
    "start_time": "2022-03-16T15:11:51.788Z"
   },
   {
    "duration": 9,
    "start_time": "2022-03-16T15:12:29.394Z"
   },
   {
    "duration": 1073,
    "start_time": "2022-03-16T15:41:25.321Z"
   },
   {
    "duration": 309,
    "start_time": "2022-03-16T15:52:39.486Z"
   },
   {
    "duration": 274,
    "start_time": "2022-03-16T15:54:15.668Z"
   },
   {
    "duration": 284,
    "start_time": "2022-03-16T15:54:42.690Z"
   },
   {
    "duration": 12,
    "start_time": "2022-03-16T16:03:26.155Z"
   },
   {
    "duration": 2816,
    "start_time": "2022-03-21T19:00:48.189Z"
   },
   {
    "duration": 180,
    "start_time": "2022-03-21T19:00:51.010Z"
   },
   {
    "duration": 9,
    "start_time": "2022-03-21T19:00:51.192Z"
   },
   {
    "duration": 22,
    "start_time": "2022-03-21T19:00:51.206Z"
   },
   {
    "duration": 2053,
    "start_time": "2022-03-21T19:00:51.231Z"
   },
   {
    "duration": 319,
    "start_time": "2022-03-21T19:00:53.291Z"
   },
   {
    "duration": 248,
    "start_time": "2022-03-21T19:00:53.612Z"
   },
   {
    "duration": 382,
    "start_time": "2022-03-21T19:00:53.863Z"
   },
   {
    "duration": 37,
    "start_time": "2022-03-21T19:00:54.247Z"
   },
   {
    "duration": 22,
    "start_time": "2022-03-21T19:10:50.584Z"
   },
   {
    "duration": 32,
    "start_time": "2022-03-21T19:13:43.071Z"
   },
   {
    "duration": 14,
    "start_time": "2022-03-21T19:15:00.393Z"
   },
   {
    "duration": 10,
    "start_time": "2022-03-21T19:15:31.596Z"
   },
   {
    "duration": 163,
    "start_time": "2022-03-21T19:20:23.095Z"
   },
   {
    "duration": 13,
    "start_time": "2022-03-21T19:20:36.855Z"
   },
   {
    "duration": 8,
    "start_time": "2022-03-21T19:20:44.585Z"
   },
   {
    "duration": 25,
    "start_time": "2022-03-21T19:20:54.267Z"
   },
   {
    "duration": 34,
    "start_time": "2022-03-21T19:21:07.374Z"
   },
   {
    "duration": 14,
    "start_time": "2022-03-21T19:25:28.587Z"
   },
   {
    "duration": 11,
    "start_time": "2022-03-21T19:30:37.746Z"
   },
   {
    "duration": 9,
    "start_time": "2022-03-21T19:32:48.641Z"
   },
   {
    "duration": 43,
    "start_time": "2022-03-21T19:35:45.608Z"
   },
   {
    "duration": 40,
    "start_time": "2022-03-21T19:35:56.617Z"
   },
   {
    "duration": 13,
    "start_time": "2022-03-21T19:36:02.211Z"
   },
   {
    "duration": 5,
    "start_time": "2022-03-21T19:36:28.249Z"
   },
   {
    "duration": 35,
    "start_time": "2022-03-21T19:36:34.029Z"
   },
   {
    "duration": 68,
    "start_time": "2022-03-21T19:36:47.081Z"
   },
   {
    "duration": 34,
    "start_time": "2022-03-21T19:37:24.757Z"
   },
   {
    "duration": 11,
    "start_time": "2022-03-21T19:37:32.798Z"
   },
   {
    "duration": 42,
    "start_time": "2022-03-21T19:37:35.916Z"
   },
   {
    "duration": 6,
    "start_time": "2022-03-21T19:38:49.974Z"
   },
   {
    "duration": 83,
    "start_time": "2022-03-21T19:38:49.984Z"
   },
   {
    "duration": 17,
    "start_time": "2022-03-21T19:38:50.070Z"
   },
   {
    "duration": 16,
    "start_time": "2022-03-21T19:38:50.094Z"
   },
   {
    "duration": 986,
    "start_time": "2022-03-21T19:38:50.113Z"
   },
   {
    "duration": 306,
    "start_time": "2022-03-21T19:38:51.101Z"
   },
   {
    "duration": 254,
    "start_time": "2022-03-21T19:38:51.409Z"
   },
   {
    "duration": 244,
    "start_time": "2022-03-21T19:38:51.666Z"
   },
   {
    "duration": 25,
    "start_time": "2022-03-21T19:38:51.912Z"
   },
   {
    "duration": 54,
    "start_time": "2022-03-21T19:38:51.940Z"
   },
   {
    "duration": 9,
    "start_time": "2022-03-21T19:38:51.997Z"
   },
   {
    "duration": 10,
    "start_time": "2022-03-21T19:38:52.010Z"
   },
   {
    "duration": 7,
    "start_time": "2022-03-21T19:38:52.023Z"
   },
   {
    "duration": 67,
    "start_time": "2022-03-21T19:38:52.032Z"
   },
   {
    "duration": 33,
    "start_time": "2022-03-21T19:38:52.101Z"
   },
   {
    "duration": 10,
    "start_time": "2022-03-21T19:38:52.137Z"
   },
   {
    "duration": 73,
    "start_time": "2022-03-21T19:38:52.149Z"
   },
   {
    "duration": 65,
    "start_time": "2022-03-21T19:39:58.299Z"
   },
   {
    "duration": 9,
    "start_time": "2022-03-21T19:42:03.223Z"
   },
   {
    "duration": 28,
    "start_time": "2022-03-21T19:52:07.415Z"
   },
   {
    "duration": 28,
    "start_time": "2022-03-21T19:52:16.432Z"
   },
   {
    "duration": 575,
    "start_time": "2022-03-21T19:52:26.154Z"
   },
   {
    "duration": 550,
    "start_time": "2022-03-21T19:52:57.715Z"
   },
   {
    "duration": 579,
    "start_time": "2022-03-21T19:53:05.943Z"
   },
   {
    "duration": 14,
    "start_time": "2022-03-21T19:55:56.468Z"
   },
   {
    "duration": 15,
    "start_time": "2022-03-21T19:56:36.629Z"
   },
   {
    "duration": 22144,
    "start_time": "2022-03-21T19:56:40.606Z"
   },
   {
    "duration": 980,
    "start_time": "2022-03-21T20:01:30.617Z"
   },
   {
    "duration": 1004,
    "start_time": "2022-03-21T20:01:50.203Z"
   },
   {
    "duration": 781,
    "start_time": "2022-03-21T20:01:58.325Z"
   },
   {
    "duration": 257,
    "start_time": "2022-03-21T20:03:16.155Z"
   },
   {
    "duration": 56,
    "start_time": "2022-03-21T20:03:21.439Z"
   },
   {
    "duration": 7,
    "start_time": "2022-03-21T20:06:18.591Z"
   },
   {
    "duration": 19,
    "start_time": "2022-03-21T20:07:17.418Z"
   },
   {
    "duration": 9,
    "start_time": "2022-03-21T20:07:25.110Z"
   },
   {
    "duration": 11,
    "start_time": "2022-03-21T20:09:14.855Z"
   },
   {
    "duration": 18,
    "start_time": "2022-03-21T20:10:23.151Z"
   },
   {
    "duration": 6,
    "start_time": "2022-03-21T20:10:49.529Z"
   },
   {
    "duration": 14,
    "start_time": "2022-03-21T20:10:54.817Z"
   },
   {
    "duration": 22150,
    "start_time": "2022-03-21T20:14:57.933Z"
   },
   {
    "duration": 593,
    "start_time": "2022-03-21T20:15:28.713Z"
   },
   {
    "duration": 24176,
    "start_time": "2022-03-21T20:16:18.421Z"
   },
   {
    "duration": 65,
    "start_time": "2022-03-21T20:16:49.228Z"
   },
   {
    "duration": 15,
    "start_time": "2022-03-21T20:17:42.285Z"
   },
   {
    "duration": 17,
    "start_time": "2022-03-21T20:23:09.198Z"
   },
   {
    "duration": 32,
    "start_time": "2022-03-21T20:23:16.122Z"
   },
   {
    "duration": 75,
    "start_time": "2022-03-22T11:34:43.540Z"
   },
   {
    "duration": 2510,
    "start_time": "2022-03-22T11:34:52.150Z"
   },
   {
    "duration": 69,
    "start_time": "2022-03-22T11:34:54.663Z"
   },
   {
    "duration": 8,
    "start_time": "2022-03-22T11:34:54.735Z"
   },
   {
    "duration": 18,
    "start_time": "2022-03-22T11:34:54.745Z"
   },
   {
    "duration": 1055,
    "start_time": "2022-03-22T11:34:54.783Z"
   },
   {
    "duration": 261,
    "start_time": "2022-03-22T11:34:55.841Z"
   },
   {
    "duration": 248,
    "start_time": "2022-03-22T11:34:56.104Z"
   },
   {
    "duration": 246,
    "start_time": "2022-03-22T11:34:56.354Z"
   },
   {
    "duration": 22,
    "start_time": "2022-03-22T11:34:56.603Z"
   },
   {
    "duration": 21,
    "start_time": "2022-03-22T11:34:56.627Z"
   },
   {
    "duration": 39,
    "start_time": "2022-03-22T11:34:56.650Z"
   },
   {
    "duration": 18,
    "start_time": "2022-03-22T11:34:56.691Z"
   },
   {
    "duration": 24,
    "start_time": "2022-03-22T11:34:56.712Z"
   },
   {
    "duration": 43,
    "start_time": "2022-03-22T11:34:56.740Z"
   },
   {
    "duration": 33,
    "start_time": "2022-03-22T11:34:56.786Z"
   },
   {
    "duration": 13,
    "start_time": "2022-03-22T11:34:56.821Z"
   },
   {
    "duration": 85,
    "start_time": "2022-03-22T11:34:56.836Z"
   },
   {
    "duration": 8,
    "start_time": "2022-03-22T11:34:56.923Z"
   },
   {
    "duration": 723,
    "start_time": "2022-03-22T11:34:56.934Z"
   },
   {
    "duration": 21204,
    "start_time": "2022-03-22T11:34:57.659Z"
   },
   {
    "duration": 126,
    "start_time": "2022-03-22T11:35:18.865Z"
   },
   {
    "duration": 97,
    "start_time": "2022-03-22T11:35:18.995Z"
   },
   {
    "duration": 53,
    "start_time": "2022-03-22T11:35:19.095Z"
   },
   {
    "duration": 622,
    "start_time": "2022-03-22T11:35:19.151Z"
   },
   {
    "duration": 106,
    "start_time": "2022-03-22T11:48:58.372Z"
   },
   {
    "duration": 20022,
    "start_time": "2022-03-22T11:49:08.103Z"
   },
   {
    "duration": 46,
    "start_time": "2022-03-22T11:51:47.753Z"
   },
   {
    "duration": 6,
    "start_time": "2022-03-22T11:56:48.680Z"
   },
   {
    "duration": 38,
    "start_time": "2022-03-22T12:00:26.736Z"
   },
   {
    "duration": 675,
    "start_time": "2022-03-22T12:01:22.929Z"
   },
   {
    "duration": 862,
    "start_time": "2022-03-22T12:01:45.775Z"
   },
   {
    "duration": 1211,
    "start_time": "2022-03-22T12:02:27.776Z"
   },
   {
    "duration": 1127,
    "start_time": "2022-03-22T12:02:44.769Z"
   },
   {
    "duration": 642,
    "start_time": "2022-03-22T12:03:14.225Z"
   },
   {
    "duration": 642,
    "start_time": "2022-03-22T12:03:19.714Z"
   },
   {
    "duration": 1190,
    "start_time": "2022-03-22T12:03:27.460Z"
   },
   {
    "duration": 1219,
    "start_time": "2022-03-22T12:03:52.443Z"
   },
   {
    "duration": 846,
    "start_time": "2022-03-22T12:04:19.693Z"
   },
   {
    "duration": 637,
    "start_time": "2022-03-22T12:04:29.147Z"
   },
   {
    "duration": 23934,
    "start_time": "2022-03-22T12:05:38.909Z"
   },
   {
    "duration": 766,
    "start_time": "2022-03-22T12:10:51.185Z"
   },
   {
    "duration": 794,
    "start_time": "2022-03-22T12:10:58.341Z"
   },
   {
    "duration": 1122,
    "start_time": "2022-03-22T12:11:05.852Z"
   },
   {
    "duration": 23188,
    "start_time": "2022-03-22T12:11:24.815Z"
   },
   {
    "duration": 19512,
    "start_time": "2022-03-22T12:12:49.945Z"
   },
   {
    "duration": 23296,
    "start_time": "2022-03-22T12:13:11.481Z"
   },
   {
    "duration": 6,
    "start_time": "2022-03-22T12:18:17.236Z"
   },
   {
    "duration": 70,
    "start_time": "2022-03-22T12:18:17.246Z"
   },
   {
    "duration": 9,
    "start_time": "2022-03-22T12:18:17.318Z"
   },
   {
    "duration": 13,
    "start_time": "2022-03-22T12:18:17.331Z"
   },
   {
    "duration": 898,
    "start_time": "2022-03-22T12:18:17.384Z"
   },
   {
    "duration": 248,
    "start_time": "2022-03-22T12:18:18.285Z"
   },
   {
    "duration": 252,
    "start_time": "2022-03-22T12:18:18.535Z"
   },
   {
    "duration": 253,
    "start_time": "2022-03-22T12:18:18.789Z"
   },
   {
    "duration": 39,
    "start_time": "2022-03-22T12:18:19.046Z"
   },
   {
    "duration": 21,
    "start_time": "2022-03-22T12:18:19.087Z"
   },
   {
    "duration": 8,
    "start_time": "2022-03-22T12:18:19.110Z"
   },
   {
    "duration": 10,
    "start_time": "2022-03-22T12:18:19.121Z"
   },
   {
    "duration": 10,
    "start_time": "2022-03-22T12:18:19.134Z"
   },
   {
    "duration": 69,
    "start_time": "2022-03-22T12:18:19.146Z"
   },
   {
    "duration": 33,
    "start_time": "2022-03-22T12:18:19.217Z"
   },
   {
    "duration": 41,
    "start_time": "2022-03-22T12:18:19.252Z"
   },
   {
    "duration": 51,
    "start_time": "2022-03-22T12:18:19.295Z"
   },
   {
    "duration": 37,
    "start_time": "2022-03-22T12:18:19.348Z"
   },
   {
    "duration": 699,
    "start_time": "2022-03-22T12:18:19.388Z"
   },
   {
    "duration": 19858,
    "start_time": "2022-03-22T12:18:20.090Z"
   },
   {
    "duration": 132,
    "start_time": "2022-03-22T12:18:39.951Z"
   },
   {
    "duration": 99,
    "start_time": "2022-03-22T12:18:40.091Z"
   },
   {
    "duration": 49,
    "start_time": "2022-03-22T12:18:40.192Z"
   },
   {
    "duration": 650,
    "start_time": "2022-03-22T12:18:40.248Z"
   },
   {
    "duration": 19736,
    "start_time": "2022-03-22T12:18:40.900Z"
   },
   {
    "duration": 66,
    "start_time": "2022-03-22T12:19:00.638Z"
   },
   {
    "duration": 130,
    "start_time": "2022-03-22T12:19:00.787Z"
   },
   {
    "duration": 665,
    "start_time": "2022-03-22T12:19:00.919Z"
   },
   {
    "duration": 816,
    "start_time": "2022-03-22T12:19:01.586Z"
   },
   {
    "duration": 1142,
    "start_time": "2022-03-22T12:19:02.405Z"
   },
   {
    "duration": 22765,
    "start_time": "2022-03-22T12:19:03.549Z"
   },
   {
    "duration": 30747,
    "start_time": "2022-03-22T12:19:26.316Z"
   },
   {
    "duration": 41661,
    "start_time": "2022-03-22T12:19:57.066Z"
   },
   {
    "duration": 0,
    "start_time": "2022-03-22T12:20:38.729Z"
   },
   {
    "duration": 0,
    "start_time": "2022-03-22T12:20:38.731Z"
   },
   {
    "duration": 0,
    "start_time": "2022-03-22T12:20:38.733Z"
   },
   {
    "duration": 31151,
    "start_time": "2022-03-22T12:32:20.174Z"
   },
   {
    "duration": 41216,
    "start_time": "2022-03-22T12:32:51.329Z"
   },
   {
    "duration": 63,
    "start_time": "2022-03-22T12:33:32.548Z"
   },
   {
    "duration": 202,
    "start_time": "2022-03-22T12:33:32.686Z"
   },
   {
    "duration": 211,
    "start_time": "2022-03-22T12:33:32.892Z"
   },
   {
    "duration": 56,
    "start_time": "2022-03-22T12:35:31.930Z"
   },
   {
    "duration": 14,
    "start_time": "2022-03-22T12:44:17.553Z"
   },
   {
    "duration": 38,
    "start_time": "2022-03-22T12:44:22.965Z"
   },
   {
    "duration": 408,
    "start_time": "2022-03-22T12:44:26.502Z"
   },
   {
    "duration": 398,
    "start_time": "2022-03-22T12:47:19.397Z"
   },
   {
    "duration": 642,
    "start_time": "2022-03-22T12:47:22.114Z"
   },
   {
    "duration": 647,
    "start_time": "2022-03-22T12:47:23.881Z"
   },
   {
    "duration": 400,
    "start_time": "2022-03-22T12:47:46.756Z"
   },
   {
    "duration": 401,
    "start_time": "2022-03-22T12:47:49.210Z"
   },
   {
    "duration": 303,
    "start_time": "2022-03-22T12:47:57.572Z"
   },
   {
    "duration": 270,
    "start_time": "2022-03-22T12:48:05.099Z"
   },
   {
    "duration": 400,
    "start_time": "2022-03-22T12:50:16.050Z"
   },
   {
    "duration": 306,
    "start_time": "2022-03-22T12:50:16.453Z"
   },
   {
    "duration": 279,
    "start_time": "2022-03-22T12:50:16.762Z"
   },
   {
    "duration": 14786,
    "start_time": "2022-03-22T12:50:17.044Z"
   },
   {
    "duration": 11402,
    "start_time": "2022-03-22T12:50:31.834Z"
   },
   {
    "duration": 10208,
    "start_time": "2022-03-22T12:50:43.240Z"
   },
   {
    "duration": 137,
    "start_time": "2022-03-22T12:50:53.450Z"
   },
   {
    "duration": 204,
    "start_time": "2022-03-22T12:50:53.591Z"
   },
   {
    "duration": 197,
    "start_time": "2022-03-22T12:50:53.797Z"
   },
   {
    "duration": 124,
    "start_time": "2022-03-22T13:17:54.159Z"
   },
   {
    "duration": 38,
    "start_time": "2022-03-22T13:18:02.510Z"
   },
   {
    "duration": 173,
    "start_time": "2022-03-22T13:18:40.506Z"
   },
   {
    "duration": 15698,
    "start_time": "2022-03-22T13:18:57.160Z"
   },
   {
    "duration": 36,
    "start_time": "2022-03-22T13:22:19.550Z"
   },
   {
    "duration": 36,
    "start_time": "2022-03-22T13:22:30.386Z"
   },
   {
    "duration": 34,
    "start_time": "2022-03-22T13:22:34.860Z"
   },
   {
    "duration": 36,
    "start_time": "2022-03-22T13:22:40.462Z"
   },
   {
    "duration": 34,
    "start_time": "2022-03-22T13:22:46.932Z"
   },
   {
    "duration": 5,
    "start_time": "2022-03-22T13:26:39.459Z"
   },
   {
    "duration": 221,
    "start_time": "2022-03-22T13:27:08.004Z"
   },
   {
    "duration": 224,
    "start_time": "2022-03-22T13:27:36.533Z"
   },
   {
    "duration": 48,
    "start_time": "2022-03-22T13:27:56.246Z"
   },
   {
    "duration": 233,
    "start_time": "2022-03-22T13:28:15.159Z"
   },
   {
    "duration": 224,
    "start_time": "2022-03-22T13:28:22.816Z"
   },
   {
    "duration": 229,
    "start_time": "2022-03-22T13:28:39.613Z"
   },
   {
    "duration": 245,
    "start_time": "2022-03-22T13:28:44.062Z"
   },
   {
    "duration": 222,
    "start_time": "2022-03-22T13:29:56.241Z"
   },
   {
    "duration": 331,
    "start_time": "2022-03-22T13:30:44.122Z"
   },
   {
    "duration": 10,
    "start_time": "2022-03-22T14:56:23.343Z"
   },
   {
    "duration": 1706,
    "start_time": "2022-03-23T08:17:41.588Z"
   },
   {
    "duration": 55,
    "start_time": "2022-03-23T08:17:43.296Z"
   },
   {
    "duration": 7,
    "start_time": "2022-03-23T08:17:43.352Z"
   },
   {
    "duration": 13,
    "start_time": "2022-03-23T08:17:43.361Z"
   },
   {
    "duration": 643,
    "start_time": "2022-03-23T08:17:43.377Z"
   },
   {
    "duration": 169,
    "start_time": "2022-03-23T08:17:44.021Z"
   },
   {
    "duration": 173,
    "start_time": "2022-03-23T08:17:44.191Z"
   },
   {
    "duration": 166,
    "start_time": "2022-03-23T08:17:44.366Z"
   },
   {
    "duration": 17,
    "start_time": "2022-03-23T08:17:44.533Z"
   },
   {
    "duration": 14,
    "start_time": "2022-03-23T08:17:44.552Z"
   },
   {
    "duration": 10,
    "start_time": "2022-03-23T08:17:44.568Z"
   },
   {
    "duration": 10,
    "start_time": "2022-03-23T08:17:44.580Z"
   },
   {
    "duration": 9,
    "start_time": "2022-03-23T08:17:44.591Z"
   },
   {
    "duration": 21,
    "start_time": "2022-03-23T08:17:44.631Z"
   },
   {
    "duration": 23,
    "start_time": "2022-03-23T08:17:44.654Z"
   },
   {
    "duration": 8,
    "start_time": "2022-03-23T08:17:44.679Z"
   },
   {
    "duration": 66,
    "start_time": "2022-03-23T08:17:44.688Z"
   },
   {
    "duration": 6,
    "start_time": "2022-03-23T08:17:44.755Z"
   },
   {
    "duration": 465,
    "start_time": "2022-03-23T08:17:44.762Z"
   },
   {
    "duration": 14136,
    "start_time": "2022-03-23T08:17:45.229Z"
   },
   {
    "duration": 68,
    "start_time": "2022-03-23T08:17:59.367Z"
   },
   {
    "duration": 100,
    "start_time": "2022-03-23T08:17:59.439Z"
   },
   {
    "duration": 35,
    "start_time": "2022-03-23T08:17:59.541Z"
   },
   {
    "duration": 533,
    "start_time": "2022-03-23T08:17:59.578Z"
   },
   {
    "duration": 14221,
    "start_time": "2022-03-23T08:18:00.113Z"
   },
   {
    "duration": 101,
    "start_time": "2022-03-23T08:18:14.336Z"
   },
   {
    "duration": 112,
    "start_time": "2022-03-23T08:18:14.442Z"
   },
   {
    "duration": 478,
    "start_time": "2022-03-23T08:18:14.558Z"
   },
   {
    "duration": 568,
    "start_time": "2022-03-23T08:18:15.038Z"
   },
   {
    "duration": 745,
    "start_time": "2022-03-23T08:18:15.608Z"
   },
   {
    "duration": 17500,
    "start_time": "2022-03-23T08:18:16.355Z"
   },
   {
    "duration": 21515,
    "start_time": "2022-03-23T08:18:33.857Z"
   },
   {
    "duration": 25172,
    "start_time": "2022-03-23T08:18:55.373Z"
   },
   {
    "duration": 87,
    "start_time": "2022-03-23T08:19:20.547Z"
   },
   {
    "duration": 133,
    "start_time": "2022-03-23T08:19:20.639Z"
   },
   {
    "duration": 200,
    "start_time": "2022-03-23T08:19:20.833Z"
   },
   {
    "duration": 112,
    "start_time": "2022-03-23T08:19:21.035Z"
   },
   {
    "duration": 306,
    "start_time": "2022-03-23T08:19:21.149Z"
   },
   {
    "duration": 225,
    "start_time": "2022-03-23T08:19:21.457Z"
   },
   {
    "duration": 199,
    "start_time": "2022-03-23T08:19:21.684Z"
   },
   {
    "duration": 10596,
    "start_time": "2022-03-23T08:19:21.885Z"
   },
   {
    "duration": 8198,
    "start_time": "2022-03-23T08:19:32.483Z"
   },
   {
    "duration": 7268,
    "start_time": "2022-03-23T08:19:40.683Z"
   },
   {
    "duration": 22,
    "start_time": "2022-03-23T08:19:47.952Z"
   },
   {
    "duration": 111,
    "start_time": "2022-03-23T08:19:48.035Z"
   },
   {
    "duration": 198,
    "start_time": "2022-03-23T08:19:48.149Z"
   },
   {
    "duration": 194,
    "start_time": "2022-03-23T08:19:48.351Z"
   },
   {
    "duration": 168,
    "start_time": "2022-03-23T08:19:48.547Z"
   },
   {
    "duration": 14,
    "start_time": "2022-03-23T08:19:48.717Z"
   },
   {
    "duration": 4,
    "start_time": "2022-03-23T08:20:48.403Z"
   },
   {
    "duration": 18,
    "start_time": "2022-03-23T08:23:16.921Z"
   },
   {
    "duration": 5,
    "start_time": "2022-03-23T08:25:02.242Z"
   },
   {
    "duration": 121,
    "start_time": "2022-03-23T08:25:17.986Z"
   },
   {
    "duration": 160,
    "start_time": "2022-03-23T08:25:31.633Z"
   },
   {
    "duration": 153,
    "start_time": "2022-03-23T08:26:43.714Z"
   },
   {
    "duration": 158,
    "start_time": "2022-03-23T08:26:59.106Z"
   },
   {
    "duration": 14,
    "start_time": "2022-03-23T08:27:27.603Z"
   },
   {
    "duration": 150,
    "start_time": "2022-03-23T08:27:35.908Z"
   },
   {
    "duration": 151,
    "start_time": "2022-03-23T08:29:09.471Z"
   },
   {
    "duration": 196,
    "start_time": "2022-03-23T08:29:48.108Z"
   },
   {
    "duration": 178,
    "start_time": "2022-03-23T08:30:06.155Z"
   },
   {
    "duration": 153,
    "start_time": "2022-03-23T08:32:22.762Z"
   },
   {
    "duration": 244,
    "start_time": "2022-03-23T08:32:30.981Z"
   },
   {
    "duration": 150,
    "start_time": "2022-03-23T08:33:49.330Z"
   },
   {
    "duration": 169,
    "start_time": "2022-03-23T08:33:51.812Z"
   },
   {
    "duration": 144,
    "start_time": "2022-03-23T08:35:29.535Z"
   },
   {
    "duration": 175,
    "start_time": "2022-03-23T08:39:23.283Z"
   },
   {
    "duration": 178,
    "start_time": "2022-03-23T08:39:31.192Z"
   },
   {
    "duration": 154,
    "start_time": "2022-03-23T08:39:55.148Z"
   },
   {
    "duration": 9,
    "start_time": "2022-03-23T08:40:05.549Z"
   },
   {
    "duration": 304,
    "start_time": "2022-03-23T08:40:10.873Z"
   },
   {
    "duration": 160,
    "start_time": "2022-03-23T08:40:24.948Z"
   },
   {
    "duration": 182,
    "start_time": "2022-03-23T08:40:30.124Z"
   },
   {
    "duration": 1530,
    "start_time": "2022-03-23T08:41:12.892Z"
   },
   {
    "duration": 55,
    "start_time": "2022-03-23T08:41:14.424Z"
   },
   {
    "duration": 7,
    "start_time": "2022-03-23T08:41:14.481Z"
   },
   {
    "duration": 20,
    "start_time": "2022-03-23T08:41:14.490Z"
   },
   {
    "duration": 625,
    "start_time": "2022-03-23T08:41:14.512Z"
   },
   {
    "duration": 170,
    "start_time": "2022-03-23T08:41:15.139Z"
   },
   {
    "duration": 163,
    "start_time": "2022-03-23T08:41:15.311Z"
   },
   {
    "duration": 158,
    "start_time": "2022-03-23T08:41:15.476Z"
   },
   {
    "duration": 18,
    "start_time": "2022-03-23T08:41:15.635Z"
   },
   {
    "duration": 13,
    "start_time": "2022-03-23T08:41:15.656Z"
   },
   {
    "duration": 6,
    "start_time": "2022-03-23T08:41:15.670Z"
   },
   {
    "duration": 10,
    "start_time": "2022-03-23T08:41:15.678Z"
   },
   {
    "duration": 42,
    "start_time": "2022-03-23T08:41:15.690Z"
   },
   {
    "duration": 21,
    "start_time": "2022-03-23T08:41:15.734Z"
   },
   {
    "duration": 21,
    "start_time": "2022-03-23T08:41:15.757Z"
   },
   {
    "duration": 7,
    "start_time": "2022-03-23T08:41:15.780Z"
   },
   {
    "duration": 66,
    "start_time": "2022-03-23T08:41:15.789Z"
   },
   {
    "duration": 7,
    "start_time": "2022-03-23T08:41:15.856Z"
   },
   {
    "duration": 455,
    "start_time": "2022-03-23T08:41:15.865Z"
   },
   {
    "duration": 14369,
    "start_time": "2022-03-23T08:41:16.322Z"
   },
   {
    "duration": 42,
    "start_time": "2022-03-23T08:41:30.693Z"
   },
   {
    "duration": 195,
    "start_time": "2022-03-23T08:41:30.737Z"
   },
   {
    "duration": 47,
    "start_time": "2022-03-23T08:41:30.934Z"
   },
   {
    "duration": 480,
    "start_time": "2022-03-23T08:41:30.983Z"
   },
   {
    "duration": 14017,
    "start_time": "2022-03-23T08:41:31.465Z"
   },
   {
    "duration": 52,
    "start_time": "2022-03-23T08:41:45.484Z"
   },
   {
    "duration": 119,
    "start_time": "2022-03-23T08:41:45.540Z"
   },
   {
    "duration": 542,
    "start_time": "2022-03-23T08:41:45.663Z"
   },
   {
    "duration": 585,
    "start_time": "2022-03-23T08:41:46.207Z"
   },
   {
    "duration": 758,
    "start_time": "2022-03-23T08:41:46.794Z"
   },
   {
    "duration": 15825,
    "start_time": "2022-03-23T08:41:47.554Z"
   },
   {
    "duration": 19930,
    "start_time": "2022-03-23T08:42:03.381Z"
   },
   {
    "duration": 25768,
    "start_time": "2022-03-23T08:42:23.313Z"
   },
   {
    "duration": 50,
    "start_time": "2022-03-23T08:42:49.083Z"
   },
   {
    "duration": 197,
    "start_time": "2022-03-23T08:42:49.136Z"
   },
   {
    "duration": 197,
    "start_time": "2022-03-23T08:42:49.336Z"
   },
   {
    "duration": 112,
    "start_time": "2022-03-23T08:42:49.536Z"
   },
   {
    "duration": 294,
    "start_time": "2022-03-23T08:42:49.650Z"
   },
   {
    "duration": 215,
    "start_time": "2022-03-23T08:42:49.945Z"
   },
   {
    "duration": 196,
    "start_time": "2022-03-23T08:42:50.162Z"
   },
   {
    "duration": 10324,
    "start_time": "2022-03-23T08:42:50.359Z"
   },
   {
    "duration": 8243,
    "start_time": "2022-03-23T08:43:00.684Z"
   },
   {
    "duration": 7275,
    "start_time": "2022-03-23T08:43:08.928Z"
   },
   {
    "duration": 34,
    "start_time": "2022-03-23T08:43:16.204Z"
   },
   {
    "duration": 196,
    "start_time": "2022-03-23T08:43:16.241Z"
   },
   {
    "duration": 204,
    "start_time": "2022-03-23T08:43:16.440Z"
   },
   {
    "duration": 194,
    "start_time": "2022-03-23T08:43:16.646Z"
   },
   {
    "duration": 166,
    "start_time": "2022-03-23T08:43:16.842Z"
   },
   {
    "duration": 189,
    "start_time": "2022-03-23T08:43:17.009Z"
   },
   {
    "duration": 166,
    "start_time": "2022-03-23T08:43:17.200Z"
   },
   {
    "duration": 7,
    "start_time": "2022-03-23T08:43:17.368Z"
   },
   {
    "duration": 3091,
    "start_time": "2022-04-05T14:24:14.488Z"
   },
   {
    "duration": 164,
    "start_time": "2022-04-05T14:24:17.581Z"
   },
   {
    "duration": 10,
    "start_time": "2022-04-05T14:24:17.747Z"
   },
   {
    "duration": 16,
    "start_time": "2022-04-05T14:24:17.759Z"
   },
   {
    "duration": 1513,
    "start_time": "2022-04-05T14:24:17.777Z"
   },
   {
    "duration": 229,
    "start_time": "2022-04-05T14:24:19.292Z"
   },
   {
    "duration": 214,
    "start_time": "2022-04-05T14:24:19.523Z"
   },
   {
    "duration": 219,
    "start_time": "2022-04-05T14:24:19.743Z"
   },
   {
    "duration": 23,
    "start_time": "2022-04-05T14:24:19.964Z"
   },
   {
    "duration": 18,
    "start_time": "2022-04-05T14:24:19.991Z"
   },
   {
    "duration": 33,
    "start_time": "2022-04-05T14:24:20.011Z"
   },
   {
    "duration": 15,
    "start_time": "2022-04-05T14:24:20.047Z"
   },
   {
    "duration": 12,
    "start_time": "2022-04-05T14:24:20.064Z"
   },
   {
    "duration": 32,
    "start_time": "2022-04-05T14:24:20.078Z"
   },
   {
    "duration": 32,
    "start_time": "2022-04-05T14:24:20.142Z"
   },
   {
    "duration": 11,
    "start_time": "2022-04-05T14:24:20.176Z"
   },
   {
    "duration": 83,
    "start_time": "2022-04-05T14:24:20.190Z"
   },
   {
    "duration": 8,
    "start_time": "2022-04-05T14:24:20.275Z"
   },
   {
    "duration": 564,
    "start_time": "2022-04-05T14:24:20.286Z"
   },
   {
    "duration": 18999,
    "start_time": "2022-04-05T14:24:20.853Z"
   },
   {
    "duration": 190,
    "start_time": "2022-04-05T14:24:39.855Z"
   },
   {
    "duration": 16,
    "start_time": "2022-04-05T14:24:40.049Z"
   },
   {
    "duration": 102,
    "start_time": "2022-04-05T14:24:40.067Z"
   },
   {
    "duration": 612,
    "start_time": "2022-04-05T14:24:40.171Z"
   },
   {
    "duration": 20322,
    "start_time": "2022-04-05T14:24:40.786Z"
   },
   {
    "duration": 132,
    "start_time": "2022-04-05T14:25:01.111Z"
   },
   {
    "duration": 132,
    "start_time": "2022-04-05T14:25:01.246Z"
   },
   {
    "duration": 705,
    "start_time": "2022-04-05T14:25:01.384Z"
   },
   {
    "duration": 781,
    "start_time": "2022-04-05T14:25:02.091Z"
   },
   {
    "duration": 1090,
    "start_time": "2022-04-05T14:25:02.875Z"
   },
   {
    "duration": 20566,
    "start_time": "2022-04-05T14:25:03.968Z"
   },
   {
    "duration": 27122,
    "start_time": "2022-04-05T14:25:24.536Z"
   },
   {
    "duration": 37136,
    "start_time": "2022-04-05T14:25:51.660Z"
   },
   {
    "duration": 62,
    "start_time": "2022-04-05T14:26:28.798Z"
   },
   {
    "duration": 201,
    "start_time": "2022-04-05T14:26:28.946Z"
   },
   {
    "duration": 201,
    "start_time": "2022-04-05T14:26:29.151Z"
   },
   {
    "duration": 193,
    "start_time": "2022-04-05T14:41:39.988Z"
   },
   {
    "duration": 34,
    "start_time": "2022-04-05T14:41:46.665Z"
   },
   {
    "duration": 375,
    "start_time": "2022-04-05T14:41:48.993Z"
   },
   {
    "duration": 373,
    "start_time": "2022-04-05T14:41:55.585Z"
   },
   {
    "duration": 289,
    "start_time": "2022-04-05T14:42:31.283Z"
   },
   {
    "duration": 240,
    "start_time": "2022-04-05T14:42:53.475Z"
   },
   {
    "duration": 32,
    "start_time": "2022-04-05T15:02:03.777Z"
   },
   {
    "duration": 360,
    "start_time": "2022-04-05T15:02:03.811Z"
   },
   {
    "duration": 264,
    "start_time": "2022-04-05T15:02:04.173Z"
   },
   {
    "duration": 247,
    "start_time": "2022-04-05T15:02:04.442Z"
   },
   {
    "duration": 13169,
    "start_time": "2022-04-05T15:02:04.690Z"
   },
   {
    "duration": 10242,
    "start_time": "2022-04-05T15:02:17.861Z"
   },
   {
    "duration": 9327,
    "start_time": "2022-04-05T15:02:28.105Z"
   },
   {
    "duration": 118,
    "start_time": "2022-04-05T15:02:37.434Z"
   },
   {
    "duration": 0,
    "start_time": "2022-04-05T15:02:37.555Z"
   },
   {
    "duration": 0,
    "start_time": "2022-04-05T15:02:37.557Z"
   },
   {
    "duration": 0,
    "start_time": "2022-04-05T15:02:37.557Z"
   },
   {
    "duration": 0,
    "start_time": "2022-04-05T15:02:37.644Z"
   },
   {
    "duration": 0,
    "start_time": "2022-04-05T15:02:37.646Z"
   },
   {
    "duration": 0,
    "start_time": "2022-04-05T15:02:37.647Z"
   },
   {
    "duration": 0,
    "start_time": "2022-04-05T15:02:37.649Z"
   },
   {
    "duration": 34,
    "start_time": "2022-04-05T15:03:16.352Z"
   },
   {
    "duration": 193,
    "start_time": "2022-04-05T15:03:16.455Z"
   },
   {
    "duration": 0,
    "start_time": "2022-04-05T15:03:16.652Z"
   },
   {
    "duration": 1,
    "start_time": "2022-04-05T15:03:16.742Z"
   },
   {
    "duration": 0,
    "start_time": "2022-04-05T15:03:16.745Z"
   },
   {
    "duration": 0,
    "start_time": "2022-04-05T15:03:16.747Z"
   },
   {
    "duration": 0,
    "start_time": "2022-04-05T15:03:16.749Z"
   },
   {
    "duration": 0,
    "start_time": "2022-04-05T15:03:16.750Z"
   },
   {
    "duration": 25,
    "start_time": "2022-04-05T15:03:35.512Z"
   },
   {
    "duration": 33,
    "start_time": "2022-04-05T15:03:41.411Z"
   },
   {
    "duration": 19,
    "start_time": "2022-04-05T15:03:46.785Z"
   },
   {
    "duration": 203,
    "start_time": "2022-04-05T15:03:46.807Z"
   },
   {
    "duration": 251,
    "start_time": "2022-04-05T15:03:47.012Z"
   },
   {
    "duration": 221,
    "start_time": "2022-04-05T15:03:47.267Z"
   },
   {
    "duration": 8,
    "start_time": "2022-04-05T15:03:47.490Z"
   }
  ],
  "kernelspec": {
   "display_name": "Python 3 (ipykernel)",
   "language": "python",
   "name": "python3"
  },
  "language_info": {
   "codemirror_mode": {
    "name": "ipython",
    "version": 3
   },
   "file_extension": ".py",
   "mimetype": "text/x-python",
   "name": "python",
   "nbconvert_exporter": "python",
   "pygments_lexer": "ipython3",
   "version": "3.9.5"
  },
  "toc": {
   "base_numbering": 1,
   "nav_menu": {},
   "number_sections": true,
   "sideBar": true,
   "skip_h1_title": true,
   "title_cell": "Содержание",
   "title_sidebar": "Contents",
   "toc_cell": true,
   "toc_position": {
    "height": "calc(100% - 180px)",
    "left": "10px",
    "top": "150px",
    "width": "366.391px"
   },
   "toc_section_display": true,
   "toc_window_display": true
  }
 },
 "nbformat": 4,
 "nbformat_minor": 2
}
