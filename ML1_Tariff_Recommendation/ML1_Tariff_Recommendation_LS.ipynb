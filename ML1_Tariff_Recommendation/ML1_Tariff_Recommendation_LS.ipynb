{
  "cells": [
    {
      "cell_type": "code",
      "source": [
        ""
      ],
      "metadata": {
        "id": "o67nOu0r9jBD"
      },
      "execution_count": null,
      "outputs": []
    },
    {
      "cell_type": "markdown",
      "metadata": {
        "id": "Y5f-v8Go9Ot3"
      },
      "source": [
        "# Tariff Recommendation for Telecom Company"
      ]
    },
    {
      "cell_type": "markdown",
      "metadata": {
        "id": "8Yjwi-vJ9Ot4"
      },
      "source": [
        "**Goal:** build a classification model predicting the right tariff for customer based on his montly calls, texts and internet activity. Target parameter - *is_ultra*, with 1 meaning tariff 'Ultra, and 0 standing for tariff 'Smart'.\n",
        "\n",
        "**Condition:** *accuracy* > 0.5"
      ]
    },
    {
      "cell_type": "markdown",
      "metadata": {
        "id": "EsLsRzej9Ot7"
      },
      "source": [
        "## File and libraries download"
      ]
    },
    {
      "cell_type": "code",
      "execution_count": null,
      "metadata": {
        "id": "sFeKaAGw9Ot9"
      },
      "outputs": [],
      "source": [
        "import pandas as pd\n",
        "from sklearn.model_selection import train_test_split\n",
        "from sklearn.tree import DecisionTreeClassifier\n",
        "from sklearn.ensemble import RandomForestClassifier\n",
        "from sklearn.linear_model import LogisticRegression \n",
        "from sklearn.metrics import accuracy_score"
      ]
    },
    {
      "cell_type": "code",
      "source": [
        "from google.colab import files\n",
        "uploaded = files.upload()"
      ],
      "metadata": {
        "colab": {
          "resources": {
            "http://localhost:8080/nbextensions/google.colab/files.js": {
              "data": "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",
              "ok": true,
              "headers": [
                [
                  "content-type",
                  "application/javascript"
                ]
              ],
              "status": 200,
              "status_text": ""
            }
          },
          "base_uri": "https://localhost:8080/",
          "height": 73
        },
        "id": "kOmybDIUyYKX",
        "outputId": "65a7d099-12b6-4ba2-96af-3d57d2e57578"
      },
      "execution_count": null,
      "outputs": [
        {
          "output_type": "display_data",
          "data": {
            "text/plain": [
              "<IPython.core.display.HTML object>"
            ],
            "text/html": [
              "\n",
              "     <input type=\"file\" id=\"files-6a79115d-b9a7-4b92-9ee5-5fcb91b75e63\" name=\"files[]\" multiple disabled\n",
              "        style=\"border:none\" />\n",
              "     <output id=\"result-6a79115d-b9a7-4b92-9ee5-5fcb91b75e63\">\n",
              "      Upload widget is only available when the cell has been executed in the\n",
              "      current browser session. Please rerun this cell to enable.\n",
              "      </output>\n",
              "      <script src=\"/nbextensions/google.colab/files.js\"></script> "
            ]
          },
          "metadata": {}
        },
        {
          "output_type": "stream",
          "name": "stdout",
          "text": [
            "Saving users_behavior.csv to users_behavior (1).csv\n"
          ]
        }
      ]
    },
    {
      "cell_type": "code",
      "execution_count": null,
      "metadata": {
        "id": "3PsXyWPZ9OuA"
      },
      "outputs": [],
      "source": [
        "import io\n",
        "df = pd.read_csv(io.BytesIO(uploaded['users_behavior.csv']))"
      ]
    },
    {
      "cell_type": "code",
      "execution_count": null,
      "metadata": {
        "id": "CD19OI5F9OuB",
        "outputId": "223aabe2-2d75-4d8a-ee92-126dfbe6be6a",
        "colab": {
          "base_uri": "https://localhost:8080/",
          "height": 363
        }
      },
      "outputs": [
        {
          "output_type": "execute_result",
          "data": {
            "text/plain": [
              "   calls  minutes  messages   mb_used  is_ultra\n",
              "0   40.0   311.90      83.0  19915.42         0\n",
              "1   85.0   516.75      56.0  22696.96         0\n",
              "2   77.0   467.66      86.0  21060.45         0\n",
              "3  106.0   745.53      81.0   8437.39         1\n",
              "4   66.0   418.74       1.0  14502.75         0\n",
              "5   58.0   344.56      21.0  15823.37         0\n",
              "6   57.0   431.64      20.0   3738.90         1\n",
              "7   15.0   132.40       6.0  21911.60         0\n",
              "8    7.0    43.39       3.0   2538.67         1\n",
              "9   90.0   665.41      38.0  17358.61         0"
            ],
            "text/html": [
              "\n",
              "  <div id=\"df-e948352a-e626-4c2b-832d-8367bb212b7c\">\n",
              "    <div class=\"colab-df-container\">\n",
              "      <div>\n",
              "<style scoped>\n",
              "    .dataframe tbody tr th:only-of-type {\n",
              "        vertical-align: middle;\n",
              "    }\n",
              "\n",
              "    .dataframe tbody tr th {\n",
              "        vertical-align: top;\n",
              "    }\n",
              "\n",
              "    .dataframe thead th {\n",
              "        text-align: right;\n",
              "    }\n",
              "</style>\n",
              "<table border=\"1\" class=\"dataframe\">\n",
              "  <thead>\n",
              "    <tr style=\"text-align: right;\">\n",
              "      <th></th>\n",
              "      <th>calls</th>\n",
              "      <th>minutes</th>\n",
              "      <th>messages</th>\n",
              "      <th>mb_used</th>\n",
              "      <th>is_ultra</th>\n",
              "    </tr>\n",
              "  </thead>\n",
              "  <tbody>\n",
              "    <tr>\n",
              "      <th>0</th>\n",
              "      <td>40.0</td>\n",
              "      <td>311.90</td>\n",
              "      <td>83.0</td>\n",
              "      <td>19915.42</td>\n",
              "      <td>0</td>\n",
              "    </tr>\n",
              "    <tr>\n",
              "      <th>1</th>\n",
              "      <td>85.0</td>\n",
              "      <td>516.75</td>\n",
              "      <td>56.0</td>\n",
              "      <td>22696.96</td>\n",
              "      <td>0</td>\n",
              "    </tr>\n",
              "    <tr>\n",
              "      <th>2</th>\n",
              "      <td>77.0</td>\n",
              "      <td>467.66</td>\n",
              "      <td>86.0</td>\n",
              "      <td>21060.45</td>\n",
              "      <td>0</td>\n",
              "    </tr>\n",
              "    <tr>\n",
              "      <th>3</th>\n",
              "      <td>106.0</td>\n",
              "      <td>745.53</td>\n",
              "      <td>81.0</td>\n",
              "      <td>8437.39</td>\n",
              "      <td>1</td>\n",
              "    </tr>\n",
              "    <tr>\n",
              "      <th>4</th>\n",
              "      <td>66.0</td>\n",
              "      <td>418.74</td>\n",
              "      <td>1.0</td>\n",
              "      <td>14502.75</td>\n",
              "      <td>0</td>\n",
              "    </tr>\n",
              "    <tr>\n",
              "      <th>5</th>\n",
              "      <td>58.0</td>\n",
              "      <td>344.56</td>\n",
              "      <td>21.0</td>\n",
              "      <td>15823.37</td>\n",
              "      <td>0</td>\n",
              "    </tr>\n",
              "    <tr>\n",
              "      <th>6</th>\n",
              "      <td>57.0</td>\n",
              "      <td>431.64</td>\n",
              "      <td>20.0</td>\n",
              "      <td>3738.90</td>\n",
              "      <td>1</td>\n",
              "    </tr>\n",
              "    <tr>\n",
              "      <th>7</th>\n",
              "      <td>15.0</td>\n",
              "      <td>132.40</td>\n",
              "      <td>6.0</td>\n",
              "      <td>21911.60</td>\n",
              "      <td>0</td>\n",
              "    </tr>\n",
              "    <tr>\n",
              "      <th>8</th>\n",
              "      <td>7.0</td>\n",
              "      <td>43.39</td>\n",
              "      <td>3.0</td>\n",
              "      <td>2538.67</td>\n",
              "      <td>1</td>\n",
              "    </tr>\n",
              "    <tr>\n",
              "      <th>9</th>\n",
              "      <td>90.0</td>\n",
              "      <td>665.41</td>\n",
              "      <td>38.0</td>\n",
              "      <td>17358.61</td>\n",
              "      <td>0</td>\n",
              "    </tr>\n",
              "  </tbody>\n",
              "</table>\n",
              "</div>\n",
              "      <button class=\"colab-df-convert\" onclick=\"convertToInteractive('df-e948352a-e626-4c2b-832d-8367bb212b7c')\"\n",
              "              title=\"Convert this dataframe to an interactive table.\"\n",
              "              style=\"display:none;\">\n",
              "        \n",
              "  <svg xmlns=\"http://www.w3.org/2000/svg\" height=\"24px\"viewBox=\"0 0 24 24\"\n",
              "       width=\"24px\">\n",
              "    <path d=\"M0 0h24v24H0V0z\" fill=\"none\"/>\n",
              "    <path d=\"M18.56 5.44l.94 2.06.94-2.06 2.06-.94-2.06-.94-.94-2.06-.94 2.06-2.06.94zm-11 1L8.5 8.5l.94-2.06 2.06-.94-2.06-.94L8.5 2.5l-.94 2.06-2.06.94zm10 10l.94 2.06.94-2.06 2.06-.94-2.06-.94-.94-2.06-.94 2.06-2.06.94z\"/><path d=\"M17.41 7.96l-1.37-1.37c-.4-.4-.92-.59-1.43-.59-.52 0-1.04.2-1.43.59L10.3 9.45l-7.72 7.72c-.78.78-.78 2.05 0 2.83L4 21.41c.39.39.9.59 1.41.59.51 0 1.02-.2 1.41-.59l7.78-7.78 2.81-2.81c.8-.78.8-2.07 0-2.86zM5.41 20L4 18.59l7.72-7.72 1.47 1.35L5.41 20z\"/>\n",
              "  </svg>\n",
              "      </button>\n",
              "      \n",
              "  <style>\n",
              "    .colab-df-container {\n",
              "      display:flex;\n",
              "      flex-wrap:wrap;\n",
              "      gap: 12px;\n",
              "    }\n",
              "\n",
              "    .colab-df-convert {\n",
              "      background-color: #E8F0FE;\n",
              "      border: none;\n",
              "      border-radius: 50%;\n",
              "      cursor: pointer;\n",
              "      display: none;\n",
              "      fill: #1967D2;\n",
              "      height: 32px;\n",
              "      padding: 0 0 0 0;\n",
              "      width: 32px;\n",
              "    }\n",
              "\n",
              "    .colab-df-convert:hover {\n",
              "      background-color: #E2EBFA;\n",
              "      box-shadow: 0px 1px 2px rgba(60, 64, 67, 0.3), 0px 1px 3px 1px rgba(60, 64, 67, 0.15);\n",
              "      fill: #174EA6;\n",
              "    }\n",
              "\n",
              "    [theme=dark] .colab-df-convert {\n",
              "      background-color: #3B4455;\n",
              "      fill: #D2E3FC;\n",
              "    }\n",
              "\n",
              "    [theme=dark] .colab-df-convert:hover {\n",
              "      background-color: #434B5C;\n",
              "      box-shadow: 0px 1px 3px 1px rgba(0, 0, 0, 0.15);\n",
              "      filter: drop-shadow(0px 1px 2px rgba(0, 0, 0, 0.3));\n",
              "      fill: #FFFFFF;\n",
              "    }\n",
              "  </style>\n",
              "\n",
              "      <script>\n",
              "        const buttonEl =\n",
              "          document.querySelector('#df-e948352a-e626-4c2b-832d-8367bb212b7c button.colab-df-convert');\n",
              "        buttonEl.style.display =\n",
              "          google.colab.kernel.accessAllowed ? 'block' : 'none';\n",
              "\n",
              "        async function convertToInteractive(key) {\n",
              "          const element = document.querySelector('#df-e948352a-e626-4c2b-832d-8367bb212b7c');\n",
              "          const dataTable =\n",
              "            await google.colab.kernel.invokeFunction('convertToInteractive',\n",
              "                                                     [key], {});\n",
              "          if (!dataTable) return;\n",
              "\n",
              "          const docLinkHtml = 'Like what you see? Visit the ' +\n",
              "            '<a target=\"_blank\" href=https://colab.research.google.com/notebooks/data_table.ipynb>data table notebook</a>'\n",
              "            + ' to learn more about interactive tables.';\n",
              "          element.innerHTML = '';\n",
              "          dataTable['output_type'] = 'display_data';\n",
              "          await google.colab.output.renderOutput(dataTable, element);\n",
              "          const docLink = document.createElement('div');\n",
              "          docLink.innerHTML = docLinkHtml;\n",
              "          element.appendChild(docLink);\n",
              "        }\n",
              "      </script>\n",
              "    </div>\n",
              "  </div>\n",
              "  "
            ]
          },
          "metadata": {},
          "execution_count": 24
        }
      ],
      "source": [
        "df.head(10)"
      ]
    },
    {
      "cell_type": "code",
      "execution_count": null,
      "metadata": {
        "id": "Yg8Vre5a9OuD",
        "outputId": "327d648b-9cea-4934-8972-9add6cb52a91",
        "colab": {
          "base_uri": "https://localhost:8080/"
        }
      },
      "outputs": [
        {
          "output_type": "stream",
          "name": "stdout",
          "text": [
            "<class 'pandas.core.frame.DataFrame'>\n",
            "RangeIndex: 3214 entries, 0 to 3213\n",
            "Data columns (total 5 columns):\n",
            " #   Column    Non-Null Count  Dtype  \n",
            "---  ------    --------------  -----  \n",
            " 0   calls     3214 non-null   float64\n",
            " 1   minutes   3214 non-null   float64\n",
            " 2   messages  3214 non-null   float64\n",
            " 3   mb_used   3214 non-null   float64\n",
            " 4   is_ultra  3214 non-null   int64  \n",
            "dtypes: float64(4), int64(1)\n",
            "memory usage: 125.7 KB\n"
          ]
        }
      ],
      "source": [
        "df.info()"
      ]
    },
    {
      "cell_type": "markdown",
      "metadata": {
        "id": "_I8cjC-z9OuE"
      },
      "source": [
        "CSV file is opened and read. The data types in columns correspond to the data stored in them, no NA values in in any colomns."
      ]
    },
    {
      "cell_type": "markdown",
      "metadata": {
        "id": "yd1tDweH9OuF"
      },
      "source": [
        "## Data split to subsets"
      ]
    },
    {
      "cell_type": "code",
      "execution_count": null,
      "metadata": {
        "id": "BEt8k78O9OuG"
      },
      "outputs": [],
      "source": [
        "df_train, df_valid = train_test_split(\n",
        "    df, test_size=0.4, random_state=12345)\n",
        "df_valid, df_test = train_test_split(\n",
        "    df_valid, test_size=0.5, random_state=12345)"
      ]
    },
    {
      "cell_type": "code",
      "execution_count": null,
      "metadata": {
        "id": "h54hjMep9OuG",
        "outputId": "90ddb06a-672e-4fa9-b14a-67e6fbac75d9",
        "colab": {
          "base_uri": "https://localhost:8080/"
        }
      },
      "outputs": [
        {
          "output_type": "stream",
          "name": "stdout",
          "text": [
            "<class 'pandas.core.frame.DataFrame'>\n",
            "Int64Index: 1928 entries, 3027 to 482\n",
            "Data columns (total 5 columns):\n",
            " #   Column    Non-Null Count  Dtype  \n",
            "---  ------    --------------  -----  \n",
            " 0   calls     1928 non-null   float64\n",
            " 1   minutes   1928 non-null   float64\n",
            " 2   messages  1928 non-null   float64\n",
            " 3   mb_used   1928 non-null   float64\n",
            " 4   is_ultra  1928 non-null   int64  \n",
            "dtypes: float64(4), int64(1)\n",
            "memory usage: 90.4 KB\n"
          ]
        }
      ],
      "source": [
        "df_train.info()"
      ]
    },
    {
      "cell_type": "code",
      "execution_count": null,
      "metadata": {
        "id": "Vgd7G-bu9OuH",
        "outputId": "9e5bb765-400e-4eb1-c825-26e77f7b0da3",
        "colab": {
          "base_uri": "https://localhost:8080/"
        }
      },
      "outputs": [
        {
          "output_type": "stream",
          "name": "stdout",
          "text": [
            "<class 'pandas.core.frame.DataFrame'>\n",
            "Int64Index: 643 entries, 1386 to 3197\n",
            "Data columns (total 5 columns):\n",
            " #   Column    Non-Null Count  Dtype  \n",
            "---  ------    --------------  -----  \n",
            " 0   calls     643 non-null    float64\n",
            " 1   minutes   643 non-null    float64\n",
            " 2   messages  643 non-null    float64\n",
            " 3   mb_used   643 non-null    float64\n",
            " 4   is_ultra  643 non-null    int64  \n",
            "dtypes: float64(4), int64(1)\n",
            "memory usage: 30.1 KB\n"
          ]
        }
      ],
      "source": [
        "df_valid.info()"
      ]
    },
    {
      "cell_type": "code",
      "execution_count": null,
      "metadata": {
        "id": "-Ey_yLrb9OuI",
        "outputId": "e06756b6-903d-46ed-c664-f98cf2cbe5c9",
        "colab": {
          "base_uri": "https://localhost:8080/"
        }
      },
      "outputs": [
        {
          "output_type": "stream",
          "name": "stdout",
          "text": [
            "<class 'pandas.core.frame.DataFrame'>\n",
            "Int64Index: 643 entries, 160 to 2313\n",
            "Data columns (total 5 columns):\n",
            " #   Column    Non-Null Count  Dtype  \n",
            "---  ------    --------------  -----  \n",
            " 0   calls     643 non-null    float64\n",
            " 1   minutes   643 non-null    float64\n",
            " 2   messages  643 non-null    float64\n",
            " 3   mb_used   643 non-null    float64\n",
            " 4   is_ultra  643 non-null    int64  \n",
            "dtypes: float64(4), int64(1)\n",
            "memory usage: 30.1 KB\n"
          ]
        }
      ],
      "source": [
        "df_test.info()"
      ]
    },
    {
      "cell_type": "markdown",
      "metadata": {
        "id": "FGulBZo39OuJ"
      },
      "source": [
        "Data split into 3 subsets: train (60%), validation (20%) and test (20%)."
      ]
    },
    {
      "cell_type": "markdown",
      "metadata": {
        "id": "ZHD9SnOE9OuK"
      },
      "source": [
        "## Model building and research"
      ]
    },
    {
      "cell_type": "markdown",
      "metadata": {
        "id": "NSoGTeMT9OuK"
      },
      "source": [
        "Choosing features and target variables"
      ]
    },
    {
      "cell_type": "code",
      "execution_count": null,
      "metadata": {
        "id": "sFYpse4h9OuL"
      },
      "outputs": [],
      "source": [
        "features_train = df_train.drop(['is_ultra'], axis=1)\n",
        "target_train = df_train['is_ultra']\n",
        "features_valid = df_valid.drop(['is_ultra'], axis=1)\n",
        "target_valid = df_valid['is_ultra']\n",
        "features_test = df_test.drop(['is_ultra'], axis=1)\n",
        "target_test = df_test['is_ultra']"
      ]
    },
    {
      "cell_type": "markdown",
      "metadata": {
        "id": "C9rx1z-G9OuM"
      },
      "source": [
        "Now let's train a few models and choose hyperparameters on validation subsets."
      ]
    },
    {
      "cell_type": "markdown",
      "metadata": {
        "id": "5RHF6aEq9OuM"
      },
      "source": [
        "### Decision Tree"
      ]
    },
    {
      "cell_type": "code",
      "execution_count": null,
      "metadata": {
        "id": "qZN-uuw49OuM",
        "outputId": "967c5ac5-8a96-42d6-baf3-17fa387fb006",
        "colab": {
          "base_uri": "https://localhost:8080/"
        }
      },
      "outputs": [
        {
          "output_type": "stream",
          "name": "stdout",
          "text": [
            "Best Decision Tree model with depth 3, accuracy = 0.7853810264385692\n"
          ]
        }
      ],
      "source": [
        "best_model_dt = None\n",
        "best_depth_dt = 0\n",
        "best_accuracy_dt = 0\n",
        "for depth in range(1,20):\n",
        "    model_dt = DecisionTreeClassifier(random_state=12345, max_depth=depth)\n",
        "    model_dt.fit(features_train, target_train)\n",
        "    predictions_valid = model_dt.predict(features_valid)\n",
        "    accuracy_dt = accuracy_score(target_valid, predictions_valid)\n",
        "    if accuracy_dt > best_accuracy_dt:\n",
        "        best_depth_dt = depth\n",
        "        best_accuracy_dt = accuracy_dt\n",
        "        best_model_dt= model_dt\n",
        "print(f'Best Decision Tree model with depth {best_depth_dt}, accuracy = {best_accuracy_dt}')    \n",
        "    "
      ]
    },
    {
      "cell_type": "markdown",
      "metadata": {
        "id": "hTSyI11c9OuN"
      },
      "source": [
        "### Random Forest"
      ]
    },
    {
      "cell_type": "code",
      "execution_count": null,
      "metadata": {
        "id": "ZB6nH4LS9OuO",
        "outputId": "9184dda9-da38-4776-9728-36deb7fea36f",
        "colab": {
          "base_uri": "https://localhost:8080/"
        }
      },
      "outputs": [
        {
          "output_type": "stream",
          "name": "stdout",
          "text": [
            "Best Random Forest model with 40 trees with maximum depth 8, accuracy = 0.8087091757387247\n"
          ]
        }
      ],
      "source": [
        "best_model_rf = None\n",
        "best_est_rf = 0\n",
        "best_depth_rf = 0\n",
        "best_accuracy_rf = 0\n",
        "for est in range(10, 51, 10):\n",
        "    for depth in range (1, 11):\n",
        "        model_rf = RandomForestClassifier(random_state=12345, n_estimators=est, max_depth=depth)\n",
        "        model_rf.fit(features_train, target_train)\n",
        "        predictions_valid = model_rf.predict(features_valid)\n",
        "        accuracy_rf = accuracy_score(target_valid, predictions_valid)\n",
        "        if accuracy_rf > best_accuracy_rf:\n",
        "            best_model_rf = model_rf\n",
        "            best_est_rf = est\n",
        "            best_depth_rf = depth\n",
        "            best_accuracy_rf = accuracy_rf\n",
        "print(f'Best Random Forest model with {best_est_rf} trees with maximum depth {best_depth_rf}, accuracy = {best_accuracy_rf}')"
      ]
    },
    {
      "cell_type": "markdown",
      "metadata": {
        "id": "9B8J8C_d9OuO"
      },
      "source": [
        "### Logistic Regression"
      ]
    },
    {
      "cell_type": "code",
      "execution_count": null,
      "metadata": {
        "id": "Prwdi13x9OuP",
        "outputId": "a7c68473-e280-4df6-819c-98a356d6ffb6",
        "colab": {
          "base_uri": "https://localhost:8080/"
        }
      },
      "outputs": [
        {
          "output_type": "stream",
          "name": "stdout",
          "text": [
            "Logistic Regression accuracy: 0.7107309486780715\n"
          ]
        }
      ],
      "source": [
        "model_lr = LogisticRegression(random_state=12345) \n",
        "model_lr.fit(features_train, target_train)\n",
        "predictions_valid = model_lr.predict(features_valid)\n",
        "accuracy_lr = accuracy_score(target_valid, predictions_valid)\n",
        "\n",
        "\n",
        "print(\"Logistic Regression accuracy:\", accuracy_lr)"
      ]
    },
    {
      "cell_type": "markdown",
      "metadata": {
        "id": "pXQ5SelF9OuQ"
      },
      "source": [
        "## Model Test"
      ]
    },
    {
      "cell_type": "markdown",
      "metadata": {
        "id": "UexFsWad9OuQ"
      },
      "source": [
        "Testing each of the modelling algorithms' best modet on test subset"
      ]
    },
    {
      "cell_type": "markdown",
      "metadata": {
        "id": "uAGmyFdf9OuQ"
      },
      "source": [
        "### Decision Tree"
      ]
    },
    {
      "cell_type": "code",
      "execution_count": null,
      "metadata": {
        "id": "8x86xlrv9OuQ",
        "outputId": "3f004cb7-4134-413b-f5a2-cff055de86d8",
        "colab": {
          "base_uri": "https://localhost:8080/"
        }
      },
      "outputs": [
        {
          "output_type": "stream",
          "name": "stdout",
          "text": [
            "Decision Tree Model test accuracy: 0.7791601866251944\n"
          ]
        }
      ],
      "source": [
        "predictions_test_dt = best_model_dt.predict(features_test)\n",
        "accuracy_dt_test = accuracy_score(target_test, predictions_test_dt)\n",
        "\n",
        "print(\"Decision Tree Model test accuracy:\", accuracy_dt_test)"
      ]
    },
    {
      "cell_type": "markdown",
      "metadata": {
        "id": "5WojqkUi9OuR"
      },
      "source": [
        "### Random forest"
      ]
    },
    {
      "cell_type": "code",
      "execution_count": null,
      "metadata": {
        "id": "A-mjBUT19OuS",
        "outputId": "341ff099-2906-447c-c64a-546fe110f05e",
        "colab": {
          "base_uri": "https://localhost:8080/"
        }
      },
      "outputs": [
        {
          "output_type": "stream",
          "name": "stdout",
          "text": [
            "Random Forest Model test accuracy:: 0.7962674961119751\n"
          ]
        }
      ],
      "source": [
        "predictions_test_rf = best_model_rf.predict(features_test)\n",
        "accuracy_rf_test = accuracy_score(target_test, predictions_test_rf)\n",
        "\n",
        "print(\"Random Forest Model test accuracy::\", accuracy_rf_test)"
      ]
    },
    {
      "cell_type": "markdown",
      "metadata": {
        "id": "VugAPPgH9OuS"
      },
      "source": [
        "### Логистическая регрессия"
      ]
    },
    {
      "cell_type": "code",
      "execution_count": null,
      "metadata": {
        "id": "DKtONCd09OuS",
        "outputId": "6329a382-3d38-49b4-8497-f38da08c36ac",
        "colab": {
          "base_uri": "https://localhost:8080/"
        }
      },
      "outputs": [
        {
          "output_type": "stream",
          "name": "stdout",
          "text": [
            "Logistic Regression Model test accuracy:: 0.6842923794712286\n"
          ]
        }
      ],
      "source": [
        "predictions_test_lr = model_lr.predict(features_test)\n",
        "accuracy_lr_test = accuracy_score(target_test, predictions_test_lr)\n",
        "\n",
        "\n",
        "print(\"Logistic Regression Model test accuracy::\", accuracy_lr_test)"
      ]
    },
    {
      "cell_type": "markdown",
      "metadata": {
        "id": "pjfp_A7n9OuT"
      },
      "source": [
        "### Conclusion\n",
        "\n",
        "Accuracy of all the three models predictions exceeds 75%, maximum accuracy (81%) is reached for Random Forest Model."
      ]
    },
    {
      "cell_type": "markdown",
      "metadata": {
        "id": "qtvPVRte9OuT"
      },
      "source": [
        "## Sanity test"
      ]
    },
    {
      "cell_type": "code",
      "execution_count": null,
      "metadata": {
        "scrolled": true,
        "id": "-pbOyTnp9OuU",
        "outputId": "6a4d9125-9b6d-4365-ded6-c0fa3e281846",
        "colab": {
          "base_uri": "https://localhost:8080/"
        }
      },
      "outputs": [
        {
          "output_type": "execute_result",
          "data": {
            "text/plain": [
              "0    0.693528\n",
              "1    0.306472\n",
              "Name: is_ultra, dtype: float64"
            ]
          },
          "metadata": {},
          "execution_count": 37
        }
      ],
      "source": [
        "df['is_ultra'].value_counts(normalize=True)"
      ]
    },
    {
      "cell_type": "markdown",
      "metadata": {
        "id": "uAgIggMv9OuT"
      },
      "source": [
        "Most customers are using tariff 'Smart', so the constant model will predict all target values as 0. Constant Dummy-model accyracy calculation:"
      ]
    },
    {
      "cell_type": "code",
      "execution_count": null,
      "metadata": {
        "id": "_mNHmTxA9OuV",
        "outputId": "c6633eae-aede-4d6f-fec6-672416efc7a7",
        "colab": {
          "base_uri": "https://localhost:8080/"
        }
      },
      "outputs": [
        {
          "output_type": "stream",
          "name": "stdout",
          "text": [
            "Dummy-model test subset accuracy: 0.6842923794712286\n"
          ]
        }
      ],
      "source": [
        "from sklearn.dummy import DummyClassifier\n",
        "dummy = DummyClassifier(strategy='most_frequent', random_state=12345).fit(features_train, target_train)\n",
        "dummy_pred = dummy.predict(features_test)\n",
        "print('Dummy-model test subset accuracy:', accuracy_score(target_test, dummy_pred))"
      ]
    },
    {
      "cell_type": "markdown",
      "metadata": {
        "id": "iFvNTCQw9OuW"
      },
      "source": [
        "Constant model accuracy on test subset (69%) is lower than the one for the chosen Random Forest model (81%), thus, the model developed passes sanity test."
      ]
    },
    {
      "cell_type": "markdown",
      "metadata": {
        "id": "Gg6E_cPm9OuW"
      },
      "source": [
        "## Conclusion\n",
        "\n",
        "- Data was downloaded, read and divided into three subsets\n",
        "- Three models have been trained, validated and tested\n",
        "- Highest accuracy (81%) reached for Random Forest Model\n",
        "- The chosen best model has passed sanity test"
      ]
    }
  ],
  "metadata": {
    "ExecuteTimeLog": [
      {
        "duration": 816,
        "start_time": "2022-03-10T12:47:06.443Z"
      },
      {
        "duration": 18,
        "start_time": "2022-03-10T12:47:56.174Z"
      },
      {
        "duration": 22,
        "start_time": "2022-03-10T12:48:12.509Z"
      },
      {
        "duration": 10,
        "start_time": "2022-03-10T12:48:31.937Z"
      },
      {
        "duration": 534,
        "start_time": "2022-03-10T12:54:50.954Z"
      },
      {
        "duration": 9,
        "start_time": "2022-03-10T13:37:41.198Z"
      },
      {
        "duration": 8,
        "start_time": "2022-03-10T13:38:04.745Z"
      },
      {
        "duration": 11,
        "start_time": "2022-03-10T13:39:17.452Z"
      },
      {
        "duration": 9,
        "start_time": "2022-03-10T13:39:29.636Z"
      },
      {
        "duration": 8,
        "start_time": "2022-03-10T13:39:57.220Z"
      },
      {
        "duration": 47,
        "start_time": "2022-03-10T13:42:52.019Z"
      },
      {
        "duration": 4,
        "start_time": "2022-03-10T13:44:32.803Z"
      },
      {
        "duration": 388,
        "start_time": "2022-03-10T13:53:31.274Z"
      },
      {
        "duration": 10,
        "start_time": "2022-03-10T13:54:47.837Z"
      },
      {
        "duration": 9,
        "start_time": "2022-03-10T13:54:48.524Z"
      },
      {
        "duration": 9,
        "start_time": "2022-03-10T13:54:52.252Z"
      },
      {
        "duration": 11,
        "start_time": "2022-03-10T13:54:55.452Z"
      },
      {
        "duration": 8,
        "start_time": "2022-03-10T13:56:58.676Z"
      },
      {
        "duration": 251,
        "start_time": "2022-03-10T14:38:01.550Z"
      },
      {
        "duration": 4,
        "start_time": "2022-03-10T14:38:12.547Z"
      },
      {
        "duration": 318,
        "start_time": "2022-03-10T14:38:18.128Z"
      },
      {
        "duration": 284,
        "start_time": "2022-03-10T14:40:11.504Z"
      },
      {
        "duration": 251,
        "start_time": "2022-03-10T14:40:19.540Z"
      },
      {
        "duration": 248,
        "start_time": "2022-03-10T14:40:35.532Z"
      },
      {
        "duration": 41,
        "start_time": "2022-03-10T14:40:41.618Z"
      },
      {
        "duration": 45,
        "start_time": "2022-03-10T14:40:50.513Z"
      },
      {
        "duration": 41,
        "start_time": "2022-03-10T14:40:56.439Z"
      },
      {
        "duration": 40,
        "start_time": "2022-03-10T14:41:12.738Z"
      },
      {
        "duration": 42,
        "start_time": "2022-03-10T14:41:21.377Z"
      },
      {
        "duration": 167,
        "start_time": "2022-03-10T14:41:41.823Z"
      },
      {
        "duration": 234,
        "start_time": "2022-03-10T14:41:45.871Z"
      },
      {
        "duration": 241,
        "start_time": "2022-03-10T14:42:27.990Z"
      },
      {
        "duration": 258,
        "start_time": "2022-03-10T14:42:54.570Z"
      },
      {
        "duration": 51,
        "start_time": "2022-03-10T14:43:03.841Z"
      },
      {
        "duration": 5715,
        "start_time": "2022-03-10T14:43:20.070Z"
      },
      {
        "duration": 10,
        "start_time": "2022-03-10T14:44:02.294Z"
      },
      {
        "duration": 5894,
        "start_time": "2022-03-10T14:44:06.336Z"
      },
      {
        "duration": 35,
        "start_time": "2022-03-10T14:44:18.130Z"
      },
      {
        "duration": 70,
        "start_time": "2022-03-10T14:44:26.180Z"
      },
      {
        "duration": 66,
        "start_time": "2022-03-10T14:47:06.507Z"
      },
      {
        "duration": 184,
        "start_time": "2022-03-10T14:47:15.312Z"
      },
      {
        "duration": 184,
        "start_time": "2022-03-10T14:47:18.432Z"
      },
      {
        "duration": 229,
        "start_time": "2022-03-10T14:48:07.505Z"
      },
      {
        "duration": 184,
        "start_time": "2022-03-10T14:54:10.791Z"
      },
      {
        "duration": 176,
        "start_time": "2022-03-10T14:56:27.469Z"
      },
      {
        "duration": 267,
        "start_time": "2022-03-10T14:58:38.453Z"
      },
      {
        "duration": 267,
        "start_time": "2022-03-10T14:59:10.042Z"
      },
      {
        "duration": 5072,
        "start_time": "2022-03-10T14:59:21.869Z"
      },
      {
        "duration": 7809,
        "start_time": "2022-03-10T15:02:44.258Z"
      },
      {
        "duration": 294,
        "start_time": "2022-03-10T15:08:18.761Z"
      },
      {
        "duration": 25,
        "start_time": "2022-03-10T15:08:33.448Z"
      },
      {
        "duration": 5132,
        "start_time": "2022-03-10T15:08:38.677Z"
      },
      {
        "duration": 55,
        "start_time": "2022-03-10T15:27:10.900Z"
      },
      {
        "duration": 25,
        "start_time": "2022-03-10T15:27:18.053Z"
      },
      {
        "duration": 29,
        "start_time": "2022-03-10T15:27:21.866Z"
      },
      {
        "duration": 7,
        "start_time": "2022-03-10T16:21:06.663Z"
      },
      {
        "duration": 25,
        "start_time": "2022-03-10T16:21:16.018Z"
      },
      {
        "duration": 26,
        "start_time": "2022-03-10T16:24:05.784Z"
      },
      {
        "duration": 8,
        "start_time": "2022-03-10T16:24:44.259Z"
      },
      {
        "duration": 14,
        "start_time": "2022-03-10T16:25:11.546Z"
      },
      {
        "duration": 10,
        "start_time": "2022-03-10T16:25:29.206Z"
      },
      {
        "duration": 233,
        "start_time": "2022-03-10T16:27:28.695Z"
      },
      {
        "duration": 26,
        "start_time": "2022-03-10T16:27:38.822Z"
      },
      {
        "duration": 232,
        "start_time": "2022-03-10T16:28:06.095Z"
      },
      {
        "duration": 148,
        "start_time": "2022-03-10T16:28:21.893Z"
      },
      {
        "duration": 8,
        "start_time": "2022-03-10T16:28:31.640Z"
      },
      {
        "duration": 37,
        "start_time": "2022-03-10T16:29:26.536Z"
      },
      {
        "duration": 238,
        "start_time": "2022-03-10T16:29:33.328Z"
      },
      {
        "duration": 29,
        "start_time": "2022-03-10T16:29:45.502Z"
      },
      {
        "duration": 29,
        "start_time": "2022-03-10T16:29:48.236Z"
      },
      {
        "duration": 29,
        "start_time": "2022-03-10T16:29:50.325Z"
      },
      {
        "duration": 38,
        "start_time": "2022-03-10T16:29:58.581Z"
      },
      {
        "duration": 181,
        "start_time": "2022-03-10T16:32:14.378Z"
      },
      {
        "duration": 18,
        "start_time": "2022-03-10T16:34:46.826Z"
      },
      {
        "duration": 16,
        "start_time": "2022-03-10T16:35:04.473Z"
      },
      {
        "duration": 8,
        "start_time": "2022-03-10T16:36:57.088Z"
      },
      {
        "duration": 7,
        "start_time": "2022-03-10T16:37:09.847Z"
      },
      {
        "duration": 12,
        "start_time": "2022-03-10T16:56:23.626Z"
      },
      {
        "duration": 8,
        "start_time": "2022-03-10T16:56:46.893Z"
      },
      {
        "duration": 227,
        "start_time": "2022-03-10T16:57:33.243Z"
      },
      {
        "duration": 9,
        "start_time": "2022-03-10T16:58:21.476Z"
      },
      {
        "duration": 9,
        "start_time": "2022-03-10T16:58:50.984Z"
      },
      {
        "duration": 9,
        "start_time": "2022-03-10T17:10:36.859Z"
      },
      {
        "duration": 9,
        "start_time": "2022-03-10T17:11:07.351Z"
      },
      {
        "duration": 16,
        "start_time": "2022-03-10T17:11:09.725Z"
      },
      {
        "duration": 7,
        "start_time": "2022-03-10T17:11:22.455Z"
      },
      {
        "duration": 8,
        "start_time": "2022-03-10T17:11:40.581Z"
      },
      {
        "duration": 8,
        "start_time": "2022-03-10T17:11:43.136Z"
      },
      {
        "duration": 333,
        "start_time": "2022-03-10T18:35:21.252Z"
      },
      {
        "duration": 10,
        "start_time": "2022-03-10T18:35:41.847Z"
      },
      {
        "duration": 10,
        "start_time": "2022-03-10T19:08:10.010Z"
      },
      {
        "duration": 1405,
        "start_time": "2022-03-10T19:13:44.825Z"
      },
      {
        "duration": 24,
        "start_time": "2022-03-10T19:13:46.232Z"
      },
      {
        "duration": 33,
        "start_time": "2022-03-10T19:13:46.259Z"
      },
      {
        "duration": 11,
        "start_time": "2022-03-10T19:13:46.295Z"
      },
      {
        "duration": 469,
        "start_time": "2022-03-10T19:13:46.309Z"
      },
      {
        "duration": 627,
        "start_time": "2022-03-10T19:13:46.155Z"
      },
      {
        "duration": 625,
        "start_time": "2022-03-10T19:13:46.159Z"
      },
      {
        "duration": 624,
        "start_time": "2022-03-10T19:13:46.163Z"
      },
      {
        "duration": 622,
        "start_time": "2022-03-10T19:13:46.167Z"
      },
      {
        "duration": 620,
        "start_time": "2022-03-10T19:13:46.171Z"
      },
      {
        "duration": 615,
        "start_time": "2022-03-10T19:13:46.178Z"
      },
      {
        "duration": 614,
        "start_time": "2022-03-10T19:13:46.182Z"
      },
      {
        "duration": 614,
        "start_time": "2022-03-10T19:13:46.184Z"
      },
      {
        "duration": 613,
        "start_time": "2022-03-10T19:13:46.187Z"
      },
      {
        "duration": 612,
        "start_time": "2022-03-10T19:13:46.190Z"
      },
      {
        "duration": 610,
        "start_time": "2022-03-10T19:13:46.195Z"
      },
      {
        "duration": 5,
        "start_time": "2022-03-10T19:19:38.076Z"
      },
      {
        "duration": 23,
        "start_time": "2022-03-10T19:19:38.084Z"
      },
      {
        "duration": 13,
        "start_time": "2022-03-10T19:19:38.110Z"
      },
      {
        "duration": 15,
        "start_time": "2022-03-10T19:19:38.126Z"
      },
      {
        "duration": 245,
        "start_time": "2022-03-10T19:19:38.144Z"
      },
      {
        "duration": 639,
        "start_time": "2022-03-10T19:19:37.753Z"
      },
      {
        "duration": 636,
        "start_time": "2022-03-10T19:19:37.758Z"
      },
      {
        "duration": 636,
        "start_time": "2022-03-10T19:19:37.761Z"
      },
      {
        "duration": 636,
        "start_time": "2022-03-10T19:19:37.763Z"
      },
      {
        "duration": 635,
        "start_time": "2022-03-10T19:19:37.766Z"
      },
      {
        "duration": 633,
        "start_time": "2022-03-10T19:19:37.770Z"
      },
      {
        "duration": 632,
        "start_time": "2022-03-10T19:19:37.774Z"
      },
      {
        "duration": 632,
        "start_time": "2022-03-10T19:19:37.776Z"
      },
      {
        "duration": 632,
        "start_time": "2022-03-10T19:19:37.778Z"
      },
      {
        "duration": 632,
        "start_time": "2022-03-10T19:19:37.780Z"
      },
      {
        "duration": 632,
        "start_time": "2022-03-10T19:19:37.782Z"
      },
      {
        "duration": 4,
        "start_time": "2022-03-10T19:20:04.308Z"
      },
      {
        "duration": 16,
        "start_time": "2022-03-10T19:20:05.335Z"
      },
      {
        "duration": 14,
        "start_time": "2022-03-10T19:20:06.483Z"
      },
      {
        "duration": 8,
        "start_time": "2022-03-10T19:20:07.247Z"
      },
      {
        "duration": 9,
        "start_time": "2022-03-10T19:20:28.482Z"
      },
      {
        "duration": 1306,
        "start_time": "2022-03-10T19:20:40.907Z"
      },
      {
        "duration": 18,
        "start_time": "2022-03-10T19:20:42.217Z"
      },
      {
        "duration": 25,
        "start_time": "2022-03-10T19:20:42.238Z"
      },
      {
        "duration": 27,
        "start_time": "2022-03-10T19:20:42.266Z"
      },
      {
        "duration": 11,
        "start_time": "2022-03-10T19:20:42.296Z"
      },
      {
        "duration": 9,
        "start_time": "2022-03-10T19:20:42.309Z"
      },
      {
        "duration": 13,
        "start_time": "2022-03-10T19:20:42.320Z"
      },
      {
        "duration": 9,
        "start_time": "2022-03-10T19:20:42.337Z"
      },
      {
        "duration": 43,
        "start_time": "2022-03-10T19:20:42.349Z"
      },
      {
        "duration": 200,
        "start_time": "2022-03-10T19:20:42.395Z"
      },
      {
        "duration": 5232,
        "start_time": "2022-03-10T19:20:42.597Z"
      },
      {
        "duration": 27,
        "start_time": "2022-03-10T19:20:47.832Z"
      },
      {
        "duration": 9,
        "start_time": "2022-03-10T19:20:47.886Z"
      },
      {
        "duration": 19,
        "start_time": "2022-03-10T19:20:47.897Z"
      },
      {
        "duration": 7,
        "start_time": "2022-03-10T19:20:47.918Z"
      },
      {
        "duration": 20,
        "start_time": "2022-03-10T19:20:47.927Z"
      },
      {
        "duration": 1451,
        "start_time": "2022-03-10T19:32:17.977Z"
      },
      {
        "duration": 17,
        "start_time": "2022-03-10T19:32:19.431Z"
      },
      {
        "duration": 36,
        "start_time": "2022-03-10T19:32:19.454Z"
      },
      {
        "duration": 10,
        "start_time": "2022-03-10T19:32:19.492Z"
      },
      {
        "duration": 15,
        "start_time": "2022-03-10T19:32:19.504Z"
      },
      {
        "duration": 8,
        "start_time": "2022-03-10T19:32:19.522Z"
      },
      {
        "duration": 8,
        "start_time": "2022-03-10T19:32:19.533Z"
      },
      {
        "duration": 48,
        "start_time": "2022-03-10T19:32:19.544Z"
      },
      {
        "duration": 11,
        "start_time": "2022-03-10T19:32:19.594Z"
      },
      {
        "duration": 201,
        "start_time": "2022-03-10T19:32:19.608Z"
      },
      {
        "duration": 5375,
        "start_time": "2022-03-10T19:32:19.812Z"
      },
      {
        "duration": 28,
        "start_time": "2022-03-10T19:32:25.189Z"
      },
      {
        "duration": 7,
        "start_time": "2022-03-10T19:32:25.219Z"
      },
      {
        "duration": 18,
        "start_time": "2022-03-10T19:32:25.229Z"
      },
      {
        "duration": 6,
        "start_time": "2022-03-10T19:32:25.287Z"
      },
      {
        "duration": 12,
        "start_time": "2022-03-10T19:32:25.296Z"
      },
      {
        "duration": 994,
        "start_time": "2022-03-10T20:37:36.925Z"
      },
      {
        "duration": 18,
        "start_time": "2022-03-10T20:37:37.921Z"
      },
      {
        "duration": 14,
        "start_time": "2022-03-10T20:37:37.941Z"
      },
      {
        "duration": 5,
        "start_time": "2022-03-10T20:37:37.957Z"
      },
      {
        "duration": 6,
        "start_time": "2022-03-10T20:37:37.964Z"
      },
      {
        "duration": 4,
        "start_time": "2022-03-10T20:37:37.972Z"
      },
      {
        "duration": 23,
        "start_time": "2022-03-10T20:37:37.979Z"
      },
      {
        "duration": 5,
        "start_time": "2022-03-10T20:37:38.004Z"
      },
      {
        "duration": 5,
        "start_time": "2022-03-10T20:37:38.011Z"
      },
      {
        "duration": 137,
        "start_time": "2022-03-10T20:37:38.018Z"
      },
      {
        "duration": 3093,
        "start_time": "2022-03-10T20:37:38.157Z"
      },
      {
        "duration": 12,
        "start_time": "2022-03-10T20:37:41.251Z"
      },
      {
        "duration": 4,
        "start_time": "2022-03-10T20:37:41.265Z"
      },
      {
        "duration": 36,
        "start_time": "2022-03-10T20:37:41.271Z"
      },
      {
        "duration": 4,
        "start_time": "2022-03-10T20:37:41.309Z"
      },
      {
        "duration": 9,
        "start_time": "2022-03-10T20:37:41.314Z"
      },
      {
        "duration": 4,
        "start_time": "2022-03-10T20:37:41.325Z"
      }
    ],
    "kernelspec": {
      "display_name": "Python 3 (ipykernel)",
      "language": "python",
      "name": "python3"
    },
    "language_info": {
      "codemirror_mode": {
        "name": "ipython",
        "version": 3
      },
      "file_extension": ".py",
      "mimetype": "text/x-python",
      "name": "python",
      "nbconvert_exporter": "python",
      "pygments_lexer": "ipython3",
      "version": "3.9.5"
    },
    "toc": {
      "base_numbering": 1,
      "nav_menu": {},
      "number_sections": true,
      "sideBar": true,
      "skip_h1_title": true,
      "title_cell": "Table of Contents",
      "title_sidebar": "Contents",
      "toc_cell": false,
      "toc_position": {},
      "toc_section_display": true,
      "toc_window_display": true
    },
    "colab": {
      "name": "ML1_Tariff_Recommendation_LS.ipynb",
      "provenance": [],
      "collapsed_sections": []
    }
  },
  "nbformat": 4,
  "nbformat_minor": 0
}
