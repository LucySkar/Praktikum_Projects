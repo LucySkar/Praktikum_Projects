{
 "cells": [
  {
   "cell_type": "markdown",
   "metadata": {},
   "source": [
    "# Creditworthiness Analysis\n",
    "\n",
    "**Goal**: preprocess data and analyze if different factors (family_status, children and purpose) can influence bank credit users' depts."
   ]
  },
  {
   "cell_type": "markdown",
   "metadata": {},
   "source": [
    "## Data and Libraries Import"
   ]
  },
  {
   "cell_type": "code",
   "execution_count": 60,
   "metadata": {},
   "outputs": [],
   "source": [
    "import pandas as pd\n",
    "import seaborn as sb\n",
    "import matplotlib.pyplot as plt"
   ]
  },
  {
   "cell_type": "code",
   "execution_count": 61,
   "metadata": {
    "scrolled": false
   },
   "outputs": [
    {
     "name": "stdout",
     "output_type": "stream",
     "text": [
      "<class 'pandas.core.frame.DataFrame'>\n",
      "RangeIndex: 21525 entries, 0 to 21524\n",
      "Data columns (total 12 columns):\n",
      " #   Column            Non-Null Count  Dtype  \n",
      "---  ------            --------------  -----  \n",
      " 0   children          21525 non-null  int64  \n",
      " 1   days_employed     19351 non-null  float64\n",
      " 2   dob_years         21525 non-null  int64  \n",
      " 3   education         21525 non-null  object \n",
      " 4   education_id      21525 non-null  int64  \n",
      " 5   family_status     21525 non-null  object \n",
      " 6   family_status_id  21525 non-null  int64  \n",
      " 7   gender            21525 non-null  object \n",
      " 8   income_type       21525 non-null  object \n",
      " 9   debt              21525 non-null  int64  \n",
      " 10  total_income      19351 non-null  float64\n",
      " 11  purpose           21525 non-null  object \n",
      "dtypes: float64(2), int64(5), object(5)\n",
      "memory usage: 2.0+ MB\n"
     ]
    },
    {
     "data": {
      "text/html": [
       "<div>\n",
       "<style scoped>\n",
       "    .dataframe tbody tr th:only-of-type {\n",
       "        vertical-align: middle;\n",
       "    }\n",
       "\n",
       "    .dataframe tbody tr th {\n",
       "        vertical-align: top;\n",
       "    }\n",
       "\n",
       "    .dataframe thead th {\n",
       "        text-align: right;\n",
       "    }\n",
       "</style>\n",
       "<table border=\"1\" class=\"dataframe\">\n",
       "  <thead>\n",
       "    <tr style=\"text-align: right;\">\n",
       "      <th></th>\n",
       "      <th>children</th>\n",
       "      <th>days_employed</th>\n",
       "      <th>dob_years</th>\n",
       "      <th>education</th>\n",
       "      <th>education_id</th>\n",
       "      <th>family_status</th>\n",
       "      <th>family_status_id</th>\n",
       "      <th>gender</th>\n",
       "      <th>income_type</th>\n",
       "      <th>debt</th>\n",
       "      <th>total_income</th>\n",
       "      <th>purpose</th>\n",
       "    </tr>\n",
       "  </thead>\n",
       "  <tbody>\n",
       "    <tr>\n",
       "      <th>0</th>\n",
       "      <td>1</td>\n",
       "      <td>-8437.673028</td>\n",
       "      <td>42</td>\n",
       "      <td>высшее</td>\n",
       "      <td>0</td>\n",
       "      <td>женат / замужем</td>\n",
       "      <td>0</td>\n",
       "      <td>F</td>\n",
       "      <td>сотрудник</td>\n",
       "      <td>0</td>\n",
       "      <td>253875.639453</td>\n",
       "      <td>покупка жилья</td>\n",
       "    </tr>\n",
       "    <tr>\n",
       "      <th>1</th>\n",
       "      <td>1</td>\n",
       "      <td>-4024.803754</td>\n",
       "      <td>36</td>\n",
       "      <td>среднее</td>\n",
       "      <td>1</td>\n",
       "      <td>женат / замужем</td>\n",
       "      <td>0</td>\n",
       "      <td>F</td>\n",
       "      <td>сотрудник</td>\n",
       "      <td>0</td>\n",
       "      <td>112080.014102</td>\n",
       "      <td>приобретение автомобиля</td>\n",
       "    </tr>\n",
       "    <tr>\n",
       "      <th>2</th>\n",
       "      <td>0</td>\n",
       "      <td>-5623.422610</td>\n",
       "      <td>33</td>\n",
       "      <td>Среднее</td>\n",
       "      <td>1</td>\n",
       "      <td>женат / замужем</td>\n",
       "      <td>0</td>\n",
       "      <td>M</td>\n",
       "      <td>сотрудник</td>\n",
       "      <td>0</td>\n",
       "      <td>145885.952297</td>\n",
       "      <td>покупка жилья</td>\n",
       "    </tr>\n",
       "    <tr>\n",
       "      <th>3</th>\n",
       "      <td>3</td>\n",
       "      <td>-4124.747207</td>\n",
       "      <td>32</td>\n",
       "      <td>среднее</td>\n",
       "      <td>1</td>\n",
       "      <td>женат / замужем</td>\n",
       "      <td>0</td>\n",
       "      <td>M</td>\n",
       "      <td>сотрудник</td>\n",
       "      <td>0</td>\n",
       "      <td>267628.550329</td>\n",
       "      <td>дополнительное образование</td>\n",
       "    </tr>\n",
       "    <tr>\n",
       "      <th>4</th>\n",
       "      <td>0</td>\n",
       "      <td>340266.072047</td>\n",
       "      <td>53</td>\n",
       "      <td>среднее</td>\n",
       "      <td>1</td>\n",
       "      <td>гражданский брак</td>\n",
       "      <td>1</td>\n",
       "      <td>F</td>\n",
       "      <td>пенсионер</td>\n",
       "      <td>0</td>\n",
       "      <td>158616.077870</td>\n",
       "      <td>сыграть свадьбу</td>\n",
       "    </tr>\n",
       "  </tbody>\n",
       "</table>\n",
       "</div>"
      ],
      "text/plain": [
       "   children  days_employed  dob_years education  education_id  \\\n",
       "0         1   -8437.673028         42    высшее             0   \n",
       "1         1   -4024.803754         36   среднее             1   \n",
       "2         0   -5623.422610         33   Среднее             1   \n",
       "3         3   -4124.747207         32   среднее             1   \n",
       "4         0  340266.072047         53   среднее             1   \n",
       "\n",
       "      family_status  family_status_id gender income_type  debt   total_income  \\\n",
       "0   женат / замужем                 0      F   сотрудник     0  253875.639453   \n",
       "1   женат / замужем                 0      F   сотрудник     0  112080.014102   \n",
       "2   женат / замужем                 0      M   сотрудник     0  145885.952297   \n",
       "3   женат / замужем                 0      M   сотрудник     0  267628.550329   \n",
       "4  гражданский брак                 1      F   пенсионер     0  158616.077870   \n",
       "\n",
       "                      purpose  \n",
       "0               покупка жилья  \n",
       "1     приобретение автомобиля  \n",
       "2               покупка жилья  \n",
       "3  дополнительное образование  \n",
       "4             сыграть свадьбу  "
      ]
     },
     "execution_count": 61,
     "metadata": {},
     "output_type": "execute_result"
    }
   ],
   "source": [
    "df = pd.read_csv('/datasets/data.csv')\n",
    "df.info()\n",
    "df.head()"
   ]
  },
  {
   "cell_type": "markdown",
   "metadata": {},
   "source": [
    "The table contains not only the factors listed in the task, but also other customers' features. *days_employed* column numbers look suspicious, especially the negative numbers."
   ]
  },
  {
   "cell_type": "markdown",
   "metadata": {},
   "source": [
    "## Preprocessing"
   ]
  },
  {
   "cell_type": "markdown",
   "metadata": {},
   "source": [
    "### Working with missing data"
   ]
  },
  {
   "cell_type": "markdown",
   "metadata": {},
   "source": [
    "Identify missing data"
   ]
  },
  {
   "cell_type": "code",
   "execution_count": 62,
   "metadata": {},
   "outputs": [
    {
     "data": {
      "text/plain": [
       "children               0\n",
       "days_employed       2174\n",
       "dob_years              0\n",
       "education              0\n",
       "education_id           0\n",
       "family_status          0\n",
       "family_status_id       0\n",
       "gender                 0\n",
       "income_type            0\n",
       "debt                   0\n",
       "total_income        2174\n",
       "purpose                0\n",
       "dtype: int64"
      ]
     },
     "metadata": {},
     "output_type": "display_data"
    }
   ],
   "source": [
    "display(df.isna().sum())"
   ]
  },
  {
   "cell_type": "markdown",
   "metadata": {},
   "source": [
    "Check if missing data for *days_emloyed* and *total_income* are in the same rows"
   ]
  },
  {
   "cell_type": "code",
   "execution_count": 63,
   "metadata": {},
   "outputs": [
    {
     "data": {
      "text/plain": [
       "2174"
      ]
     },
     "execution_count": 63,
     "metadata": {},
     "output_type": "execute_result"
    }
   ],
   "source": [
    "len(df.loc[df['days_employed'].isna() & df['total_income'].isna()])"
   ]
  },
  {
   "cell_type": "markdown",
   "metadata": {},
   "source": [
    "All missing *days_emloyed* and *total_income* information is absent for the same clients."
   ]
  },
  {
   "cell_type": "markdown",
   "metadata": {},
   "source": [
    "Employment tenure isn't key information for the current research, so *days_emloyed* column can be dropped.\n",
    "\n",
    "Total income, on the contary, can be valuble information for credit scoring, so I will analyse *income_type* and fill the gaps in data based on this data."
   ]
  },
  {
   "cell_type": "code",
   "execution_count": 64,
   "metadata": {},
   "outputs": [
    {
     "name": "stdout",
     "output_type": "stream",
     "text": [
      "<class 'pandas.core.frame.DataFrame'>\n",
      "RangeIndex: 21525 entries, 0 to 21524\n",
      "Data columns (total 11 columns):\n",
      " #   Column            Non-Null Count  Dtype  \n",
      "---  ------            --------------  -----  \n",
      " 0   children          21525 non-null  int64  \n",
      " 1   dob_years         21525 non-null  int64  \n",
      " 2   education         21525 non-null  object \n",
      " 3   education_id      21525 non-null  int64  \n",
      " 4   family_status     21525 non-null  object \n",
      " 5   family_status_id  21525 non-null  int64  \n",
      " 6   gender            21525 non-null  object \n",
      " 7   income_type       21525 non-null  object \n",
      " 8   debt              21525 non-null  int64  \n",
      " 9   total_income      19351 non-null  float64\n",
      " 10  purpose           21525 non-null  object \n",
      "dtypes: float64(1), int64(5), object(5)\n",
      "memory usage: 1.8+ MB\n"
     ]
    }
   ],
   "source": [
    "df = df.drop('days_employed', 1) \n",
    "df.info()"
   ]
  },
  {
   "cell_type": "code",
   "execution_count": 65,
   "metadata": {},
   "outputs": [
    {
     "data": {
      "text/html": [
       "<div>\n",
       "<style scoped>\n",
       "    .dataframe tbody tr th:only-of-type {\n",
       "        vertical-align: middle;\n",
       "    }\n",
       "\n",
       "    .dataframe tbody tr th {\n",
       "        vertical-align: top;\n",
       "    }\n",
       "\n",
       "    .dataframe thead th {\n",
       "        text-align: right;\n",
       "    }\n",
       "</style>\n",
       "<table border=\"1\" class=\"dataframe\">\n",
       "  <thead>\n",
       "    <tr style=\"text-align: right;\">\n",
       "      <th></th>\n",
       "      <th>total_income</th>\n",
       "      <th>income_type_total</th>\n",
       "    </tr>\n",
       "    <tr>\n",
       "      <th>income_type</th>\n",
       "      <th></th>\n",
       "      <th></th>\n",
       "    </tr>\n",
       "  </thead>\n",
       "  <tbody>\n",
       "    <tr>\n",
       "      <th>безработный</th>\n",
       "      <td>0</td>\n",
       "      <td>2</td>\n",
       "    </tr>\n",
       "    <tr>\n",
       "      <th>в декрете</th>\n",
       "      <td>0</td>\n",
       "      <td>1</td>\n",
       "    </tr>\n",
       "    <tr>\n",
       "      <th>госслужащий</th>\n",
       "      <td>147</td>\n",
       "      <td>1459</td>\n",
       "    </tr>\n",
       "    <tr>\n",
       "      <th>компаньон</th>\n",
       "      <td>508</td>\n",
       "      <td>5085</td>\n",
       "    </tr>\n",
       "    <tr>\n",
       "      <th>пенсионер</th>\n",
       "      <td>413</td>\n",
       "      <td>3856</td>\n",
       "    </tr>\n",
       "    <tr>\n",
       "      <th>предприниматель</th>\n",
       "      <td>1</td>\n",
       "      <td>2</td>\n",
       "    </tr>\n",
       "    <tr>\n",
       "      <th>сотрудник</th>\n",
       "      <td>1105</td>\n",
       "      <td>11119</td>\n",
       "    </tr>\n",
       "    <tr>\n",
       "      <th>студент</th>\n",
       "      <td>0</td>\n",
       "      <td>1</td>\n",
       "    </tr>\n",
       "  </tbody>\n",
       "</table>\n",
       "</div>"
      ],
      "text/plain": [
       "                 total_income  income_type_total\n",
       "income_type                                     \n",
       "безработный                 0                  2\n",
       "в декрете                   0                  1\n",
       "госслужащий               147               1459\n",
       "компаньон                 508               5085\n",
       "пенсионер                 413               3856\n",
       "предприниматель             1                  2\n",
       "сотрудник                1105              11119\n",
       "студент                     0                  1"
      ]
     },
     "execution_count": 65,
     "metadata": {},
     "output_type": "execute_result"
    }
   ],
   "source": [
    "df_gb_income_type = df.groupby('income_type')[['total_income']].apply(lambda x: x.isna().sum())\n",
    "\n",
    "df_gb_income_type['income_type_total'] = df['income_type'].value_counts() \n",
    "df_gb_income_type"
   ]
  },
  {
   "cell_type": "markdown",
   "metadata": {},
   "source": [
    "For public service (госслужащий), companions (компаньон) and employees (сотрудник) credit users part with no income information is around 10%, and the dataset is large enough, so missing information can be filled with median *total_income* for each *income_type*. For retired  customers (пенсионер) this percentage is a bit higher, but on the other hand, income scattering might be quite narrow for this group, so this kind of filling missing values can be relevant here, too. Check this assumption and fill the missing data."
   ]
  },
  {
   "cell_type": "code",
   "execution_count": 66,
   "metadata": {},
   "outputs": [
    {
     "name": "stderr",
     "output_type": "stream",
     "text": [
      "/opt/conda/lib/python3.9/site-packages/seaborn/distributions.py:2557: FutureWarning: `distplot` is a deprecated function and will be removed in a future version. Please adapt your code to use either `displot` (a figure-level function with similar flexibility) or `histplot` (an axes-level function for histograms).\n",
      "  warnings.warn(msg, FutureWarning)\n",
      "/opt/conda/lib/python3.9/site-packages/seaborn/distributions.py:2557: FutureWarning: `distplot` is a deprecated function and will be removed in a future version. Please adapt your code to use either `displot` (a figure-level function with similar flexibility) or `histplot` (an axes-level function for histograms).\n",
      "  warnings.warn(msg, FutureWarning)\n"
     ]
    },
    {
     "data": {
      "image/png": "[encoded data removed]",
      "text/plain": [
       "<Figure size 432x288 with 1 Axes>"
      ]
     },
     "metadata": {
      "needs_background": "light"
     },
     "output_type": "display_data"
    }
   ],
   "source": [
    "df_to_plot = df[df['income_type'] == 'пенсионер']\n",
    "df_to_plot = df_to_plot.dropna(subset=['total_income'])\n",
    "sb.distplot(df_to_plot['total_income'], label='Retired') \n",
    "\n",
    "df_to_plot = df[df['income_type'] == 'госслужащий']\n",
    "df_to_plot = df_to_plot.dropna(subset=['total_income'])\n",
    "sb.distplot(df_to_plot['total_income'], label='Public Service')\n",
    "plt.legend(prop={'size': 12});\n"
   ]
  },
  {
   "cell_type": "code",
   "execution_count": 67,
   "metadata": {
    "scrolled": true
   },
   "outputs": [],
   "source": [
    "governmental = df[df['income_type'] == 'госслужащий']['total_income'].median() # median income for public service \n",
    "retired = df[df['income_type'] == 'пенсионер']['total_income'].median() # median income for retired\n",
    "empoyed = df[df['income_type'] == 'сотрудник']['total_income'].median() # median income for employees\n",
    "companion = df[df['income_type'] == 'компаньон']['total_income'].median() # median income for companions\n",
    "\n",
    "median_replace = {'госслужащий':governmental, 'пенсионер':retired, 'сотрудник':empoyed, 'компаньон':companion}\n",
    "\n",
    "#Fill the gaps\n",
    "for inc_type, tot_income in median_replace.items():\n",
    "    \n",
    "    df.loc[(df['income_type'] == inc_type) & (df['total_income'].isnull()),'total_income'] = tot_income"
   ]
  },
  {
   "cell_type": "code",
   "execution_count": 68,
   "metadata": {},
   "outputs": [
    {
     "data": {
      "text/plain": [
       "children            0\n",
       "dob_years           0\n",
       "education           0\n",
       "education_id        0\n",
       "family_status       0\n",
       "family_status_id    0\n",
       "gender              0\n",
       "income_type         0\n",
       "debt                0\n",
       "total_income        1\n",
       "purpose             0\n",
       "dtype: int64"
      ]
     },
     "execution_count": 68,
     "metadata": {},
     "output_type": "execute_result"
    }
   ],
   "source": [
    "df.isna().sum()"
   ]
  },
  {
   "cell_type": "markdown",
   "metadata": {},
   "source": [
    "The only income type for which no replacement was done is enterpreneur (предпринематель). There are only two of a kind in the dataset, so no median fill scheme can be applied. Check if it's a duplicate:"
   ]
  },
  {
   "cell_type": "code",
   "execution_count": 69,
   "metadata": {
    "scrolled": true
   },
   "outputs": [
    {
     "data": {
      "text/html": [
       "<div>\n",
       "<style scoped>\n",
       "    .dataframe tbody tr th:only-of-type {\n",
       "        vertical-align: middle;\n",
       "    }\n",
       "\n",
       "    .dataframe tbody tr th {\n",
       "        vertical-align: top;\n",
       "    }\n",
       "\n",
       "    .dataframe thead th {\n",
       "        text-align: right;\n",
       "    }\n",
       "</style>\n",
       "<table border=\"1\" class=\"dataframe\">\n",
       "  <thead>\n",
       "    <tr style=\"text-align: right;\">\n",
       "      <th></th>\n",
       "      <th>children</th>\n",
       "      <th>dob_years</th>\n",
       "      <th>education</th>\n",
       "      <th>education_id</th>\n",
       "      <th>family_status</th>\n",
       "      <th>family_status_id</th>\n",
       "      <th>gender</th>\n",
       "      <th>income_type</th>\n",
       "      <th>debt</th>\n",
       "      <th>total_income</th>\n",
       "      <th>purpose</th>\n",
       "    </tr>\n",
       "  </thead>\n",
       "  <tbody>\n",
       "    <tr>\n",
       "      <th>5936</th>\n",
       "      <td>0</td>\n",
       "      <td>58</td>\n",
       "      <td>высшее</td>\n",
       "      <td>0</td>\n",
       "      <td>женат / замужем</td>\n",
       "      <td>0</td>\n",
       "      <td>M</td>\n",
       "      <td>предприниматель</td>\n",
       "      <td>0</td>\n",
       "      <td>NaN</td>\n",
       "      <td>покупка жилой недвижимости</td>\n",
       "    </tr>\n",
       "    <tr>\n",
       "      <th>18697</th>\n",
       "      <td>0</td>\n",
       "      <td>27</td>\n",
       "      <td>высшее</td>\n",
       "      <td>0</td>\n",
       "      <td>гражданский брак</td>\n",
       "      <td>1</td>\n",
       "      <td>F</td>\n",
       "      <td>предприниматель</td>\n",
       "      <td>0</td>\n",
       "      <td>499163.144947</td>\n",
       "      <td>на проведение свадьбы</td>\n",
       "    </tr>\n",
       "  </tbody>\n",
       "</table>\n",
       "</div>"
      ],
      "text/plain": [
       "       children  dob_years education  education_id     family_status  \\\n",
       "5936          0         58    высшее             0   женат / замужем   \n",
       "18697         0         27    высшее             0  гражданский брак   \n",
       "\n",
       "       family_status_id gender      income_type  debt   total_income  \\\n",
       "5936                  0      M  предприниматель     0            NaN   \n",
       "18697                 1      F  предприниматель     0  499163.144947   \n",
       "\n",
       "                          purpose  \n",
       "5936   покупка жилой недвижимости  \n",
       "18697       на проведение свадьбы  "
      ]
     },
     "execution_count": 69,
     "metadata": {},
     "output_type": "execute_result"
    }
   ],
   "source": [
    "df[df['income_type'] == 'предприниматель']"
   ]
  },
  {
   "cell_type": "markdown",
   "metadata": {},
   "source": [
    "These are clearly two different enterpreneurs. It's worth checking with the bank why there are only two of them among 21+ thousands and what's the big difference between this type and companions. For now we just drop the one with missing income data."
   ]
  },
  {
   "cell_type": "code",
   "execution_count": 70,
   "metadata": {},
   "outputs": [
    {
     "data": {
      "text/plain": [
       "children            0\n",
       "dob_years           0\n",
       "education           0\n",
       "education_id        0\n",
       "family_status       0\n",
       "family_status_id    0\n",
       "gender              0\n",
       "income_type         0\n",
       "debt                0\n",
       "total_income        0\n",
       "purpose             0\n",
       "dtype: int64"
      ]
     },
     "execution_count": 70,
     "metadata": {},
     "output_type": "execute_result"
    }
   ],
   "source": [
    "df.dropna(axis=0, inplace=True)\n",
    "df.reset_index(drop=True, inplace=True)\n",
    "df.isna().sum()"
   ]
  },
  {
   "cell_type": "code",
   "execution_count": 71,
   "metadata": {},
   "outputs": [
    {
     "name": "stdout",
     "output_type": "stream",
     "text": [
      "<class 'pandas.core.frame.DataFrame'>\n",
      "RangeIndex: 21524 entries, 0 to 21523\n",
      "Data columns (total 11 columns):\n",
      " #   Column            Non-Null Count  Dtype  \n",
      "---  ------            --------------  -----  \n",
      " 0   children          21524 non-null  int64  \n",
      " 1   dob_years         21524 non-null  int64  \n",
      " 2   education         21524 non-null  object \n",
      " 3   education_id      21524 non-null  int64  \n",
      " 4   family_status     21524 non-null  object \n",
      " 5   family_status_id  21524 non-null  int64  \n",
      " 6   gender            21524 non-null  object \n",
      " 7   income_type       21524 non-null  object \n",
      " 8   debt              21524 non-null  int64  \n",
      " 9   total_income      21524 non-null  float64\n",
      " 10  purpose           21524 non-null  object \n",
      "dtypes: float64(1), int64(5), object(5)\n",
      "memory usage: 1.8+ MB\n"
     ]
    }
   ],
   "source": [
    "df.info()"
   ]
  },
  {
   "cell_type": "markdown",
   "metadata": {},
   "source": [
    "### Duplicates processing"
   ]
  },
  {
   "cell_type": "markdown",
   "metadata": {},
   "source": [
    "Check table for explicit duplicates"
   ]
  },
  {
   "cell_type": "code",
   "execution_count": 72,
   "metadata": {},
   "outputs": [
    {
     "data": {
      "text/plain": [
       "'54 explicit duplicates determined in the table'"
      ]
     },
     "execution_count": 72,
     "metadata": {},
     "output_type": "execute_result"
    }
   ],
   "source": [
    "f'{df.duplicated().sum()} explicit duplicates determined in the table'"
   ]
  },
  {
   "cell_type": "markdown",
   "metadata": {},
   "source": [
    "Drop explicit duplicates"
   ]
  },
  {
   "cell_type": "code",
   "execution_count": 73,
   "metadata": {},
   "outputs": [
    {
     "name": "stdout",
     "output_type": "stream",
     "text": [
      "<class 'pandas.core.frame.DataFrame'>\n",
      "RangeIndex: 21470 entries, 0 to 21469\n",
      "Data columns (total 11 columns):\n",
      " #   Column            Non-Null Count  Dtype  \n",
      "---  ------            --------------  -----  \n",
      " 0   children          21470 non-null  int64  \n",
      " 1   dob_years         21470 non-null  int64  \n",
      " 2   education         21470 non-null  object \n",
      " 3   education_id      21470 non-null  int64  \n",
      " 4   family_status     21470 non-null  object \n",
      " 5   family_status_id  21470 non-null  int64  \n",
      " 6   gender            21470 non-null  object \n",
      " 7   income_type       21470 non-null  object \n",
      " 8   debt              21470 non-null  int64  \n",
      " 9   total_income      21470 non-null  float64\n",
      " 10  purpose           21470 non-null  object \n",
      "dtypes: float64(1), int64(5), object(5)\n",
      "memory usage: 1.8+ MB\n"
     ]
    },
    {
     "data": {
      "text/plain": [
       "'0 explicit duplicates determined in the table'"
      ]
     },
     "execution_count": 73,
     "metadata": {},
     "output_type": "execute_result"
    }
   ],
   "source": [
    "df = df.drop_duplicates()\n",
    "df.reset_index(drop=True, inplace=True)\n",
    "df.info()\n",
    "f'{df.duplicated().sum()} explicit duplicates determined in the table'"
   ]
  },
  {
   "cell_type": "markdown",
   "metadata": {},
   "source": [
    "To check for implicit duplicates it's necessary to have a look at unique values in categorial columns."
   ]
  },
  {
   "cell_type": "code",
   "execution_count": 74,
   "metadata": {},
   "outputs": [
    {
     "data": {
      "text/plain": [
       "'children'"
      ]
     },
     "metadata": {},
     "output_type": "display_data"
    },
    {
     "data": {
      "text/plain": [
       "array([ 1,  0,  3,  2, -1,  4, 20,  5])"
      ]
     },
     "metadata": {},
     "output_type": "display_data"
    },
    {
     "data": {
      "text/plain": [
       "'education'"
      ]
     },
     "metadata": {},
     "output_type": "display_data"
    },
    {
     "data": {
      "text/plain": [
       "array(['высшее', 'среднее', 'Среднее', 'СРЕДНЕЕ', 'ВЫСШЕЕ',\n",
       "       'неоконченное высшее', 'начальное', 'Высшее',\n",
       "       'НЕОКОНЧЕННОЕ ВЫСШЕЕ', 'Неоконченное высшее', 'НАЧАЛЬНОЕ',\n",
       "       'Начальное', 'Ученая степень', 'УЧЕНАЯ СТЕПЕНЬ', 'ученая степень'],\n",
       "      dtype=object)"
      ]
     },
     "metadata": {},
     "output_type": "display_data"
    },
    {
     "data": {
      "text/plain": [
       "'family_status'"
      ]
     },
     "metadata": {},
     "output_type": "display_data"
    },
    {
     "data": {
      "text/plain": [
       "array(['женат / замужем', 'гражданский брак', 'вдовец / вдова',\n",
       "       'в разводе', 'Не женат / не замужем'], dtype=object)"
      ]
     },
     "metadata": {},
     "output_type": "display_data"
    },
    {
     "data": {
      "text/plain": [
       "'gender'"
      ]
     },
     "metadata": {},
     "output_type": "display_data"
    },
    {
     "data": {
      "text/plain": [
       "array(['F', 'M', 'XNA'], dtype=object)"
      ]
     },
     "metadata": {},
     "output_type": "display_data"
    }
   ],
   "source": [
    "for col in ['children', 'education', 'family_status', 'gender']:\n",
    "    display(col, df[col].unique())"
   ]
  },
  {
   "cell_type": "markdown",
   "metadata": {},
   "source": [
    "Looks like not all clients have provided gender information, but everything else is OK with *gender* and *family_status* columns. Meanwhile in *education* column same education level can be written in different cases. Bring all education data to lowercase"
   ]
  },
  {
   "cell_type": "code",
   "execution_count": 75,
   "metadata": {},
   "outputs": [
    {
     "data": {
      "text/plain": [
       "'education'"
      ]
     },
     "metadata": {},
     "output_type": "display_data"
    },
    {
     "data": {
      "text/plain": [
       "array(['высшее', 'среднее', 'неоконченное высшее', 'начальное',\n",
       "       'ученая степень'], dtype=object)"
      ]
     },
     "metadata": {},
     "output_type": "display_data"
    }
   ],
   "source": [
    "df['education'] = df['education'].str.lower()\n",
    "display('education',df['education'].unique())"
   ]
  },
  {
   "cell_type": "markdown",
   "metadata": {},
   "source": [
    "*children* column shoul contain number of children, but several numbers look strange"
   ]
  },
  {
   "cell_type": "code",
   "execution_count": 76,
   "metadata": {},
   "outputs": [
    {
     "data": {
      "text/plain": [
       " 0     14106\n",
       " 1      4809\n",
       " 2      2052\n",
       " 3       330\n",
       " 20       76\n",
       "-1        47\n",
       " 4        41\n",
       " 5         9\n",
       "Name: children, dtype: int64"
      ]
     },
     "execution_count": 76,
     "metadata": {},
     "output_type": "execute_result"
    }
   ],
   "source": [
    "df['children'].value_counts()"
   ]
  },
  {
   "cell_type": "markdown",
   "metadata": {},
   "source": [
    "The dataset has 47 rows with negative number of children (-1), and 76 customers with 20 (!) kids. It's worth cheking with the bank if it is due to misprints (e.g. -1 means 1 child, and 20 means 2), or downloading mistakes, or these numbes are carrying categorial meanings (e.g. -1 - expecting a child, and 20 means 5+ children). While awaiting for responce, these rows would not be used in further analysis."
   ]
  },
  {
   "cell_type": "markdown",
   "metadata": {},
   "source": [
    "### Lemmatization"
   ]
  },
  {
   "cell_type": "markdown",
   "metadata": {},
   "source": [
    "To classify purposes of credits it is important to identify key words and categorize data based on them. See what purposes exist in the dataframe"
   ]
  },
  {
   "cell_type": "code",
   "execution_count": 77,
   "metadata": {},
   "outputs": [
    {
     "data": {
      "text/plain": [
       "array(['покупка жилья', 'приобретение автомобиля',\n",
       "       'дополнительное образование', 'сыграть свадьбу',\n",
       "       'операции с жильем', 'образование', 'на проведение свадьбы',\n",
       "       'покупка жилья для семьи', 'покупка недвижимости',\n",
       "       'покупка коммерческой недвижимости', 'покупка жилой недвижимости',\n",
       "       'строительство собственной недвижимости', 'недвижимость',\n",
       "       'строительство недвижимости', 'на покупку подержанного автомобиля',\n",
       "       'на покупку своего автомобиля',\n",
       "       'операции с коммерческой недвижимостью',\n",
       "       'строительство жилой недвижимости', 'жилье',\n",
       "       'операции со своей недвижимостью', 'автомобили',\n",
       "       'заняться образованием', 'сделка с подержанным автомобилем',\n",
       "       'получение образования', 'автомобиль', 'свадьба',\n",
       "       'получение дополнительного образования', 'покупка своего жилья',\n",
       "       'операции с недвижимостью', 'получение высшего образования',\n",
       "       'свой автомобиль', 'сделка с автомобилем',\n",
       "       'профильное образование', 'высшее образование',\n",
       "       'покупка жилья для сдачи', 'на покупку автомобиля', 'ремонт жилью',\n",
       "       'заняться высшим образованием'], dtype=object)"
      ]
     },
     "execution_count": 77,
     "metadata": {},
     "output_type": "execute_result"
    }
   ],
   "source": [
    "df['purpose'].unique()"
   ]
  },
  {
   "cell_type": "markdown",
   "metadata": {},
   "source": [
    "Lemmatize *purpose* column"
   ]
  },
  {
   "cell_type": "code",
   "execution_count": 78,
   "metadata": {
    "scrolled": false
   },
   "outputs": [
    {
     "data": {
      "text/plain": [
       "Counter({'покупка': 5899,\n",
       "         ' ': 33594,\n",
       "         'жилье': 4461,\n",
       "         '\\n': 21470,\n",
       "         'приобретение': 461,\n",
       "         'автомобиль': 4308,\n",
       "         'дополнительный': 907,\n",
       "         'образование': 4014,\n",
       "         'сыграть': 769,\n",
       "         'свадьба': 2335,\n",
       "         'операция': 2604,\n",
       "         'с': 2918,\n",
       "         'на': 2228,\n",
       "         'проведение': 773,\n",
       "         'для': 1290,\n",
       "         'семья': 638,\n",
       "         'недвижимость': 6352,\n",
       "         'коммерческий': 1312,\n",
       "         'жилой': 1230,\n",
       "         'строительство': 1879,\n",
       "         'собственный': 635,\n",
       "         'подержать': 478,\n",
       "         'свой': 2231,\n",
       "         'со': 627,\n",
       "         'заниматься': 904,\n",
       "         'сделка': 941,\n",
       "         'подержанный': 486,\n",
       "         'получение': 1315,\n",
       "         'высокий': 1374,\n",
       "         'профильный': 436,\n",
       "         'сдача': 652,\n",
       "         'ремонт': 607})"
      ]
     },
     "metadata": {},
     "output_type": "display_data"
    }
   ],
   "source": [
    "from pymystem3 import Mystem\n",
    "m = Mystem() \n",
    "df_lemm = []\n",
    "for line in range(0,df.shape[0]):\n",
    "    df_lemm.append(m.lemmatize(df.loc[line,'purpose']))\n",
    "df['purpose_lemm'] = df_lemm\n",
    "\n",
    "from collections import Counter\n",
    "df_lemm_join = []\n",
    "for i in range(len(df_lemm)):\n",
    "    df_lemm_join += df_lemm[i]\n",
    "display(Counter(df_lemm_join)) "
   ]
  },
  {
   "cell_type": "markdown",
   "metadata": {},
   "source": [
    "According to lemmatization results there are 4 main purposes: real estate (жилье/недвижимость), vehicle (автомобиль), wedding (свадьба) and education (образование)."
   ]
  },
  {
   "cell_type": "markdown",
   "metadata": {},
   "source": [
    "### Data Categorization"
   ]
  },
  {
   "cell_type": "markdown",
   "metadata": {},
   "source": [
    "#### Credit Purposes"
   ]
  },
  {
   "cell_type": "markdown",
   "metadata": {},
   "source": [
    "Теперь зададим категории для целей получения кредитов."
   ]
  },
  {
   "cell_type": "code",
   "execution_count": 79,
   "metadata": {
    "scrolled": false
   },
   "outputs": [
    {
     "data": {
      "text/html": [
       "<div>\n",
       "<style scoped>\n",
       "    .dataframe tbody tr th:only-of-type {\n",
       "        vertical-align: middle;\n",
       "    }\n",
       "\n",
       "    .dataframe tbody tr th {\n",
       "        vertical-align: top;\n",
       "    }\n",
       "\n",
       "    .dataframe thead th {\n",
       "        text-align: right;\n",
       "    }\n",
       "</style>\n",
       "<table border=\"1\" class=\"dataframe\">\n",
       "  <thead>\n",
       "    <tr style=\"text-align: right;\">\n",
       "      <th></th>\n",
       "      <th>purpose_lemm</th>\n",
       "      <th>purpose_id</th>\n",
       "    </tr>\n",
       "  </thead>\n",
       "  <tbody>\n",
       "    <tr>\n",
       "      <th>0</th>\n",
       "      <td>Real estate</td>\n",
       "      <td>0</td>\n",
       "    </tr>\n",
       "    <tr>\n",
       "      <th>1</th>\n",
       "      <td>Vehicle</td>\n",
       "      <td>1</td>\n",
       "    </tr>\n",
       "    <tr>\n",
       "      <th>2</th>\n",
       "      <td>Wedding</td>\n",
       "      <td>2</td>\n",
       "    </tr>\n",
       "    <tr>\n",
       "      <th>3</th>\n",
       "      <td>Education</td>\n",
       "      <td>3</td>\n",
       "    </tr>\n",
       "  </tbody>\n",
       "</table>\n",
       "</div>"
      ],
      "text/plain": [
       "  purpose_lemm  purpose_id\n",
       "0  Real estate           0\n",
       "1      Vehicle           1\n",
       "2      Wedding           2\n",
       "3    Education           3"
      ]
     },
     "metadata": {},
     "output_type": "display_data"
    },
    {
     "data": {
      "text/html": [
       "<div>\n",
       "<style scoped>\n",
       "    .dataframe tbody tr th:only-of-type {\n",
       "        vertical-align: middle;\n",
       "    }\n",
       "\n",
       "    .dataframe tbody tr th {\n",
       "        vertical-align: top;\n",
       "    }\n",
       "\n",
       "    .dataframe thead th {\n",
       "        text-align: right;\n",
       "    }\n",
       "</style>\n",
       "<table border=\"1\" class=\"dataframe\">\n",
       "  <thead>\n",
       "    <tr style=\"text-align: right;\">\n",
       "      <th></th>\n",
       "      <th>children</th>\n",
       "      <th>dob_years</th>\n",
       "      <th>education</th>\n",
       "      <th>education_id</th>\n",
       "      <th>family_status</th>\n",
       "      <th>family_status_id</th>\n",
       "      <th>gender</th>\n",
       "      <th>income_type</th>\n",
       "      <th>debt</th>\n",
       "      <th>total_income</th>\n",
       "      <th>purpose</th>\n",
       "      <th>purpose_lemm</th>\n",
       "      <th>purpose_id</th>\n",
       "      <th>purpose_short</th>\n",
       "    </tr>\n",
       "  </thead>\n",
       "  <tbody>\n",
       "    <tr>\n",
       "      <th>0</th>\n",
       "      <td>1</td>\n",
       "      <td>42</td>\n",
       "      <td>высшее</td>\n",
       "      <td>0</td>\n",
       "      <td>женат / замужем</td>\n",
       "      <td>0</td>\n",
       "      <td>F</td>\n",
       "      <td>сотрудник</td>\n",
       "      <td>0</td>\n",
       "      <td>253875.639453</td>\n",
       "      <td>покупка жилья</td>\n",
       "      <td>[покупка,  , жилье, \\n]</td>\n",
       "      <td>0</td>\n",
       "      <td>Real estate</td>\n",
       "    </tr>\n",
       "    <tr>\n",
       "      <th>1</th>\n",
       "      <td>1</td>\n",
       "      <td>36</td>\n",
       "      <td>среднее</td>\n",
       "      <td>1</td>\n",
       "      <td>женат / замужем</td>\n",
       "      <td>0</td>\n",
       "      <td>F</td>\n",
       "      <td>сотрудник</td>\n",
       "      <td>0</td>\n",
       "      <td>112080.014102</td>\n",
       "      <td>приобретение автомобиля</td>\n",
       "      <td>[приобретение,  , автомобиль, \\n]</td>\n",
       "      <td>1</td>\n",
       "      <td>Vehicle</td>\n",
       "    </tr>\n",
       "    <tr>\n",
       "      <th>2</th>\n",
       "      <td>0</td>\n",
       "      <td>33</td>\n",
       "      <td>среднее</td>\n",
       "      <td>1</td>\n",
       "      <td>женат / замужем</td>\n",
       "      <td>0</td>\n",
       "      <td>M</td>\n",
       "      <td>сотрудник</td>\n",
       "      <td>0</td>\n",
       "      <td>145885.952297</td>\n",
       "      <td>покупка жилья</td>\n",
       "      <td>[покупка,  , жилье, \\n]</td>\n",
       "      <td>0</td>\n",
       "      <td>Real estate</td>\n",
       "    </tr>\n",
       "    <tr>\n",
       "      <th>3</th>\n",
       "      <td>3</td>\n",
       "      <td>32</td>\n",
       "      <td>среднее</td>\n",
       "      <td>1</td>\n",
       "      <td>женат / замужем</td>\n",
       "      <td>0</td>\n",
       "      <td>M</td>\n",
       "      <td>сотрудник</td>\n",
       "      <td>0</td>\n",
       "      <td>267628.550329</td>\n",
       "      <td>дополнительное образование</td>\n",
       "      <td>[дополнительный,  , образование, \\n]</td>\n",
       "      <td>3</td>\n",
       "      <td>Education</td>\n",
       "    </tr>\n",
       "    <tr>\n",
       "      <th>4</th>\n",
       "      <td>0</td>\n",
       "      <td>53</td>\n",
       "      <td>среднее</td>\n",
       "      <td>1</td>\n",
       "      <td>гражданский брак</td>\n",
       "      <td>1</td>\n",
       "      <td>F</td>\n",
       "      <td>пенсионер</td>\n",
       "      <td>0</td>\n",
       "      <td>158616.077870</td>\n",
       "      <td>сыграть свадьбу</td>\n",
       "      <td>[сыграть,  , свадьба, \\n]</td>\n",
       "      <td>2</td>\n",
       "      <td>Wedding</td>\n",
       "    </tr>\n",
       "  </tbody>\n",
       "</table>\n",
       "</div>"
      ],
      "text/plain": [
       "   children  dob_years education  education_id     family_status  \\\n",
       "0         1         42    высшее             0   женат / замужем   \n",
       "1         1         36   среднее             1   женат / замужем   \n",
       "2         0         33   среднее             1   женат / замужем   \n",
       "3         3         32   среднее             1   женат / замужем   \n",
       "4         0         53   среднее             1  гражданский брак   \n",
       "\n",
       "   family_status_id gender income_type  debt   total_income  \\\n",
       "0                 0      F   сотрудник     0  253875.639453   \n",
       "1                 0      F   сотрудник     0  112080.014102   \n",
       "2                 0      M   сотрудник     0  145885.952297   \n",
       "3                 0      M   сотрудник     0  267628.550329   \n",
       "4                 1      F   пенсионер     0  158616.077870   \n",
       "\n",
       "                      purpose                          purpose_lemm  \\\n",
       "0               покупка жилья               [покупка,  , жилье, \\n]   \n",
       "1     приобретение автомобиля     [приобретение,  , автомобиль, \\n]   \n",
       "2               покупка жилья               [покупка,  , жилье, \\n]   \n",
       "3  дополнительное образование  [дополнительный,  , образование, \\n]   \n",
       "4             сыграть свадьбу             [сыграть,  , свадьба, \\n]   \n",
       "\n",
       "   purpose_id purpose_short  \n",
       "0           0   Real estate  \n",
       "1           1       Vehicle  \n",
       "2           0   Real estate  \n",
       "3           3     Education  \n",
       "4           2       Wedding  "
      ]
     },
     "execution_count": 79,
     "metadata": {},
     "output_type": "execute_result"
    }
   ],
   "source": [
    "#Categorization dictionary\n",
    "purpose_lemm_dict = {\n",
    "    'purpose_lemm':['Real estate', 'Vehicle', 'Wedding', 'Education'], \n",
    "                     'purpose_id':[0, 1, 2, 3]\n",
    "}\n",
    "df_purpose_lemm_dict = pd.DataFrame(purpose_lemm_dict)\n",
    "display(df_purpose_lemm_dict)\n",
    "\n",
    "\n",
    "def purpose_category(row):\n",
    "    \"\"\"\n",
    "    Returns purpose_id according to purpose_lemm_dict\n",
    "    \"\"\"\n",
    "    \n",
    "    purpose_lemma = row['purpose_lemm']\n",
    "    if 'жилье' in purpose_lemma or 'недвижимость' in purpose_lemma:\n",
    "        return 0\n",
    "    elif 'автомобиль' in purpose_lemma:\n",
    "        return 1\n",
    "    elif 'свадьба' in purpose_lemma:\n",
    "        return 2\n",
    "    elif 'образование' in purpose_lemma:\n",
    "        return 3\n",
    "\n",
    "def purpose_category_text(row):\n",
    "    \"\"\"\n",
    "    Returns purpose key words (purpose_lemm) according to purpose_lemm_dict\n",
    "    \"\"\"\n",
    "    \n",
    "    purpose_lemma = row['purpose_lemm']\n",
    "    if 'жилье' in purpose_lemma or 'недвижимость' in purpose_lemma:\n",
    "        return 'Real estate'\n",
    "    elif 'автомобиль' in purpose_lemma:\n",
    "        return 'Vehicle'\n",
    "    elif 'свадьба' in purpose_lemma:\n",
    "        return 'Wedding'\n",
    "    elif 'образование' in purpose_lemma:\n",
    "        return 'Education'\n",
    "    \n",
    "df['purpose_id']  = df.apply(purpose_category, axis=1)\n",
    "df['purpose_short'] = df.apply(purpose_category_text, axis=1)\n",
    "df.head()\n",
    "    "
   ]
  },
  {
   "cell_type": "code",
   "execution_count": null,
   "metadata": {},
   "outputs": [],
   "source": []
  },
  {
   "cell_type": "markdown",
   "metadata": {},
   "source": [
    "#### Number of Children\n",
    "Having children is one of the key factors that should be analysed for the task, so it's worth making two kinds of categories: one would be short (0 - no children, 1 - has children) и and the other more detailed (0 - no children, 1 - 1-2 kids, 2 - large family with 3+ children)."
   ]
  },
  {
   "cell_type": "code",
   "execution_count": 80,
   "metadata": {},
   "outputs": [
    {
     "data": {
      "text/html": [
       "<div>\n",
       "<style scoped>\n",
       "    .dataframe tbody tr th:only-of-type {\n",
       "        vertical-align: middle;\n",
       "    }\n",
       "\n",
       "    .dataframe tbody tr th {\n",
       "        vertical-align: top;\n",
       "    }\n",
       "\n",
       "    .dataframe thead th {\n",
       "        text-align: right;\n",
       "    }\n",
       "</style>\n",
       "<table border=\"1\" class=\"dataframe\">\n",
       "  <thead>\n",
       "    <tr style=\"text-align: right;\">\n",
       "      <th></th>\n",
       "      <th>have_children</th>\n",
       "      <th>have_children_id</th>\n",
       "    </tr>\n",
       "  </thead>\n",
       "  <tbody>\n",
       "    <tr>\n",
       "      <th>0</th>\n",
       "      <td>no children</td>\n",
       "      <td>0</td>\n",
       "    </tr>\n",
       "    <tr>\n",
       "      <th>1</th>\n",
       "      <td>has children</td>\n",
       "      <td>1</td>\n",
       "    </tr>\n",
       "  </tbody>\n",
       "</table>\n",
       "</div>"
      ],
      "text/plain": [
       "  have_children  have_children_id\n",
       "0   no children                 0\n",
       "1  has children                 1"
      ]
     },
     "metadata": {},
     "output_type": "display_data"
    }
   ],
   "source": [
    "children_dict_short = {\n",
    "    'have_children':['no children', 'has children'], \n",
    "                     'have_children_id':[0, 1]\n",
    "}\n",
    "df_children_dict_short = pd.DataFrame(children_dict_short)\n",
    "display(df_children_dict_short)"
   ]
  },
  {
   "cell_type": "code",
   "execution_count": 81,
   "metadata": {},
   "outputs": [
    {
     "data": {
      "text/html": [
       "<div>\n",
       "<style scoped>\n",
       "    .dataframe tbody tr th:only-of-type {\n",
       "        vertical-align: middle;\n",
       "    }\n",
       "\n",
       "    .dataframe tbody tr th {\n",
       "        vertical-align: top;\n",
       "    }\n",
       "\n",
       "    .dataframe thead th {\n",
       "        text-align: right;\n",
       "    }\n",
       "</style>\n",
       "<table border=\"1\" class=\"dataframe\">\n",
       "  <thead>\n",
       "    <tr style=\"text-align: right;\">\n",
       "      <th></th>\n",
       "      <th>family_size</th>\n",
       "      <th>family_size_id</th>\n",
       "    </tr>\n",
       "  </thead>\n",
       "  <tbody>\n",
       "    <tr>\n",
       "      <th>0</th>\n",
       "      <td>no children</td>\n",
       "      <td>0</td>\n",
       "    </tr>\n",
       "    <tr>\n",
       "      <th>1</th>\n",
       "      <td>1-2 children</td>\n",
       "      <td>1</td>\n",
       "    </tr>\n",
       "    <tr>\n",
       "      <th>2</th>\n",
       "      <td>3+ children</td>\n",
       "      <td>2</td>\n",
       "    </tr>\n",
       "  </tbody>\n",
       "</table>\n",
       "</div>"
      ],
      "text/plain": [
       "    family_size  family_size_id\n",
       "0   no children               0\n",
       "1  1-2 children               1\n",
       "2   3+ children               2"
      ]
     },
     "metadata": {},
     "output_type": "display_data"
    }
   ],
   "source": [
    "children_dict_long = {\n",
    "    'family_size':['no children', '1-2 children', '3+ children'], \n",
    "                     'family_size_id':[0, 1, 2]\n",
    "}\n",
    "df_children_dict_long = pd.DataFrame(children_dict_long)\n",
    "display(df_children_dict_long)"
   ]
  },
  {
   "cell_type": "markdown",
   "metadata": {},
   "source": [
    "Functions for categorisation"
   ]
  },
  {
   "cell_type": "code",
   "execution_count": 82,
   "metadata": {},
   "outputs": [
    {
     "data": {
      "text/html": [
       "<div>\n",
       "<style scoped>\n",
       "    .dataframe tbody tr th:only-of-type {\n",
       "        vertical-align: middle;\n",
       "    }\n",
       "\n",
       "    .dataframe tbody tr th {\n",
       "        vertical-align: top;\n",
       "    }\n",
       "\n",
       "    .dataframe thead th {\n",
       "        text-align: right;\n",
       "    }\n",
       "</style>\n",
       "<table border=\"1\" class=\"dataframe\">\n",
       "  <thead>\n",
       "    <tr style=\"text-align: right;\">\n",
       "      <th></th>\n",
       "      <th>children</th>\n",
       "      <th>dob_years</th>\n",
       "      <th>education</th>\n",
       "      <th>education_id</th>\n",
       "      <th>family_status</th>\n",
       "      <th>family_status_id</th>\n",
       "      <th>gender</th>\n",
       "      <th>income_type</th>\n",
       "      <th>debt</th>\n",
       "      <th>total_income</th>\n",
       "      <th>purpose</th>\n",
       "      <th>purpose_lemm</th>\n",
       "      <th>purpose_id</th>\n",
       "      <th>purpose_short</th>\n",
       "      <th>have_children_id</th>\n",
       "      <th>family_size_id</th>\n",
       "    </tr>\n",
       "  </thead>\n",
       "  <tbody>\n",
       "    <tr>\n",
       "      <th>0</th>\n",
       "      <td>1</td>\n",
       "      <td>42</td>\n",
       "      <td>высшее</td>\n",
       "      <td>0</td>\n",
       "      <td>женат / замужем</td>\n",
       "      <td>0</td>\n",
       "      <td>F</td>\n",
       "      <td>сотрудник</td>\n",
       "      <td>0</td>\n",
       "      <td>253875.639453</td>\n",
       "      <td>покупка жилья</td>\n",
       "      <td>[покупка,  , жилье, \\n]</td>\n",
       "      <td>0</td>\n",
       "      <td>Real estate</td>\n",
       "      <td>has children</td>\n",
       "      <td>1-2 children</td>\n",
       "    </tr>\n",
       "    <tr>\n",
       "      <th>1</th>\n",
       "      <td>1</td>\n",
       "      <td>36</td>\n",
       "      <td>среднее</td>\n",
       "      <td>1</td>\n",
       "      <td>женат / замужем</td>\n",
       "      <td>0</td>\n",
       "      <td>F</td>\n",
       "      <td>сотрудник</td>\n",
       "      <td>0</td>\n",
       "      <td>112080.014102</td>\n",
       "      <td>приобретение автомобиля</td>\n",
       "      <td>[приобретение,  , автомобиль, \\n]</td>\n",
       "      <td>1</td>\n",
       "      <td>Vehicle</td>\n",
       "      <td>has children</td>\n",
       "      <td>1-2 children</td>\n",
       "    </tr>\n",
       "    <tr>\n",
       "      <th>2</th>\n",
       "      <td>0</td>\n",
       "      <td>33</td>\n",
       "      <td>среднее</td>\n",
       "      <td>1</td>\n",
       "      <td>женат / замужем</td>\n",
       "      <td>0</td>\n",
       "      <td>M</td>\n",
       "      <td>сотрудник</td>\n",
       "      <td>0</td>\n",
       "      <td>145885.952297</td>\n",
       "      <td>покупка жилья</td>\n",
       "      <td>[покупка,  , жилье, \\n]</td>\n",
       "      <td>0</td>\n",
       "      <td>Real estate</td>\n",
       "      <td>no children</td>\n",
       "      <td>no children</td>\n",
       "    </tr>\n",
       "    <tr>\n",
       "      <th>3</th>\n",
       "      <td>3</td>\n",
       "      <td>32</td>\n",
       "      <td>среднее</td>\n",
       "      <td>1</td>\n",
       "      <td>женат / замужем</td>\n",
       "      <td>0</td>\n",
       "      <td>M</td>\n",
       "      <td>сотрудник</td>\n",
       "      <td>0</td>\n",
       "      <td>267628.550329</td>\n",
       "      <td>дополнительное образование</td>\n",
       "      <td>[дополнительный,  , образование, \\n]</td>\n",
       "      <td>3</td>\n",
       "      <td>Education</td>\n",
       "      <td>has children</td>\n",
       "      <td>3+ children</td>\n",
       "    </tr>\n",
       "    <tr>\n",
       "      <th>4</th>\n",
       "      <td>0</td>\n",
       "      <td>53</td>\n",
       "      <td>среднее</td>\n",
       "      <td>1</td>\n",
       "      <td>гражданский брак</td>\n",
       "      <td>1</td>\n",
       "      <td>F</td>\n",
       "      <td>пенсионер</td>\n",
       "      <td>0</td>\n",
       "      <td>158616.077870</td>\n",
       "      <td>сыграть свадьбу</td>\n",
       "      <td>[сыграть,  , свадьба, \\n]</td>\n",
       "      <td>2</td>\n",
       "      <td>Wedding</td>\n",
       "      <td>no children</td>\n",
       "      <td>no children</td>\n",
       "    </tr>\n",
       "  </tbody>\n",
       "</table>\n",
       "</div>"
      ],
      "text/plain": [
       "   children  dob_years education  education_id     family_status  \\\n",
       "0         1         42    высшее             0   женат / замужем   \n",
       "1         1         36   среднее             1   женат / замужем   \n",
       "2         0         33   среднее             1   женат / замужем   \n",
       "3         3         32   среднее             1   женат / замужем   \n",
       "4         0         53   среднее             1  гражданский брак   \n",
       "\n",
       "   family_status_id gender income_type  debt   total_income  \\\n",
       "0                 0      F   сотрудник     0  253875.639453   \n",
       "1                 0      F   сотрудник     0  112080.014102   \n",
       "2                 0      M   сотрудник     0  145885.952297   \n",
       "3                 0      M   сотрудник     0  267628.550329   \n",
       "4                 1      F   пенсионер     0  158616.077870   \n",
       "\n",
       "                      purpose                          purpose_lemm  \\\n",
       "0               покупка жилья               [покупка,  , жилье, \\n]   \n",
       "1     приобретение автомобиля     [приобретение,  , автомобиль, \\n]   \n",
       "2               покупка жилья               [покупка,  , жилье, \\n]   \n",
       "3  дополнительное образование  [дополнительный,  , образование, \\n]   \n",
       "4             сыграть свадьбу             [сыграть,  , свадьба, \\n]   \n",
       "\n",
       "   purpose_id purpose_short have_children_id family_size_id  \n",
       "0           0   Real estate     has children   1-2 children  \n",
       "1           1       Vehicle     has children   1-2 children  \n",
       "2           0   Real estate      no children    no children  \n",
       "3           3     Education     has children    3+ children  \n",
       "4           2       Wedding      no children    no children  "
      ]
     },
     "execution_count": 82,
     "metadata": {},
     "output_type": "execute_result"
    }
   ],
   "source": [
    "def have_children_id(row):\n",
    "    \"\"\"\n",
    "    Returns have_children according to df_children_dict_short\n",
    "    \"\"\"\n",
    "    if row['children'] == 0:\n",
    "        return 'no children'\n",
    "    elif 0 < row['children'] < 6:\n",
    "        return 'has children'\n",
    "\n",
    "def family_size_id(row):\n",
    "    \"\"\"\n",
    "    Returns family_size_id according to df_children_dict_short\n",
    "    \"\"\"\n",
    "    if row['children'] == 0:\n",
    "        return 'no children'\n",
    "    elif 0 < row['children'] < 3:\n",
    "        return '1-2 children'\n",
    "    elif 2 < row['children'] < 6:\n",
    "        return '3+ children'\n",
    "    \n",
    "\n",
    "df['have_children_id'] = df.apply(have_children_id, axis=1)\n",
    "df['family_size_id'] = df.apply(family_size_id, axis=1)\n",
    "\n",
    "df.head()"
   ]
  },
  {
   "cell_type": "markdown",
   "metadata": {},
   "source": [
    "#### Total Income\n",
    "\n",
    "Income classes to be used in the research:\n",
    "   \n",
    "    Beggary – income below 1 minimum level of subsistence (MLS)\n",
    "    Poverty - income between 1 to 3 MLS\n",
    "    Above Poverty - income between 3 to 7 MLS\n",
    "    Middle class – income between 7 to 11 MLS\n",
    "    Wealth – income above 11 MLS\n",
    "    Ultra-wealth - yearly income exceeding 5 mln rub before tax \n",
    "                   \n",
    "Information on customers' location was not included into the dataframe, so it is decided to take Moscow minimum level of subsistence being 18029 in 2021."
   ]
  },
  {
   "cell_type": "code",
   "execution_count": 83,
   "metadata": {},
   "outputs": [
    {
     "data": {
      "text/html": [
       "<div>\n",
       "<style scoped>\n",
       "    .dataframe tbody tr th:only-of-type {\n",
       "        vertical-align: middle;\n",
       "    }\n",
       "\n",
       "    .dataframe tbody tr th {\n",
       "        vertical-align: top;\n",
       "    }\n",
       "\n",
       "    .dataframe thead th {\n",
       "        text-align: right;\n",
       "    }\n",
       "</style>\n",
       "<table border=\"1\" class=\"dataframe\">\n",
       "  <thead>\n",
       "    <tr style=\"text-align: right;\">\n",
       "      <th></th>\n",
       "      <th>income_level</th>\n",
       "      <th>income_level_id</th>\n",
       "    </tr>\n",
       "  </thead>\n",
       "  <tbody>\n",
       "    <tr>\n",
       "      <th>0</th>\n",
       "      <td>Beggary</td>\n",
       "      <td>0</td>\n",
       "    </tr>\n",
       "    <tr>\n",
       "      <th>1</th>\n",
       "      <td>Poverty</td>\n",
       "      <td>1</td>\n",
       "    </tr>\n",
       "    <tr>\n",
       "      <th>2</th>\n",
       "      <td>Above Poverty</td>\n",
       "      <td>2</td>\n",
       "    </tr>\n",
       "    <tr>\n",
       "      <th>3</th>\n",
       "      <td>Middle class</td>\n",
       "      <td>3</td>\n",
       "    </tr>\n",
       "    <tr>\n",
       "      <th>4</th>\n",
       "      <td>Wealth</td>\n",
       "      <td>4</td>\n",
       "    </tr>\n",
       "    <tr>\n",
       "      <th>5</th>\n",
       "      <td>Ultra-wealth</td>\n",
       "      <td>5</td>\n",
       "    </tr>\n",
       "  </tbody>\n",
       "</table>\n",
       "</div>"
      ],
      "text/plain": [
       "    income_level  income_level_id\n",
       "0        Beggary                0\n",
       "1        Poverty                1\n",
       "2  Above Poverty                2\n",
       "3   Middle class                3\n",
       "4         Wealth                4\n",
       "5   Ultra-wealth                5"
      ]
     },
     "metadata": {},
     "output_type": "display_data"
    }
   ],
   "source": [
    "income_level_dict = {\n",
    "    'income_level':['Beggary', 'Poverty','Above Poverty', 'Middle class', 'Wealth', 'Ultra-wealth'], \n",
    "                     'income_level_id':[0, 1, 2, 3, 4, 5]\n",
    "}\n",
    "df_income_level_dict = pd.DataFrame(income_level_dict)\n",
    "display(df_income_level_dict)"
   ]
  },
  {
   "cell_type": "code",
   "execution_count": 84,
   "metadata": {},
   "outputs": [
    {
     "data": {
      "text/html": [
       "<div>\n",
       "<style scoped>\n",
       "    .dataframe tbody tr th:only-of-type {\n",
       "        vertical-align: middle;\n",
       "    }\n",
       "\n",
       "    .dataframe tbody tr th {\n",
       "        vertical-align: top;\n",
       "    }\n",
       "\n",
       "    .dataframe thead th {\n",
       "        text-align: right;\n",
       "    }\n",
       "</style>\n",
       "<table border=\"1\" class=\"dataframe\">\n",
       "  <thead>\n",
       "    <tr style=\"text-align: right;\">\n",
       "      <th></th>\n",
       "      <th>children</th>\n",
       "      <th>dob_years</th>\n",
       "      <th>education</th>\n",
       "      <th>education_id</th>\n",
       "      <th>family_status</th>\n",
       "      <th>family_status_id</th>\n",
       "      <th>gender</th>\n",
       "      <th>income_type</th>\n",
       "      <th>debt</th>\n",
       "      <th>total_income</th>\n",
       "      <th>purpose</th>\n",
       "      <th>purpose_lemm</th>\n",
       "      <th>purpose_id</th>\n",
       "      <th>purpose_short</th>\n",
       "      <th>have_children_id</th>\n",
       "      <th>family_size_id</th>\n",
       "      <th>income_level</th>\n",
       "    </tr>\n",
       "  </thead>\n",
       "  <tbody>\n",
       "    <tr>\n",
       "      <th>0</th>\n",
       "      <td>1</td>\n",
       "      <td>42</td>\n",
       "      <td>высшее</td>\n",
       "      <td>0</td>\n",
       "      <td>женат / замужем</td>\n",
       "      <td>0</td>\n",
       "      <td>F</td>\n",
       "      <td>сотрудник</td>\n",
       "      <td>0</td>\n",
       "      <td>253875.639453</td>\n",
       "      <td>покупка жилья</td>\n",
       "      <td>[покупка,  , жилье, \\n]</td>\n",
       "      <td>0</td>\n",
       "      <td>Real estate</td>\n",
       "      <td>has children</td>\n",
       "      <td>1-2 children</td>\n",
       "      <td>Wealth</td>\n",
       "    </tr>\n",
       "    <tr>\n",
       "      <th>1</th>\n",
       "      <td>1</td>\n",
       "      <td>36</td>\n",
       "      <td>среднее</td>\n",
       "      <td>1</td>\n",
       "      <td>женат / замужем</td>\n",
       "      <td>0</td>\n",
       "      <td>F</td>\n",
       "      <td>сотрудник</td>\n",
       "      <td>0</td>\n",
       "      <td>112080.014102</td>\n",
       "      <td>приобретение автомобиля</td>\n",
       "      <td>[приобретение,  , автомобиль, \\n]</td>\n",
       "      <td>1</td>\n",
       "      <td>Vehicle</td>\n",
       "      <td>has children</td>\n",
       "      <td>1-2 children</td>\n",
       "      <td>Above Poverty</td>\n",
       "    </tr>\n",
       "    <tr>\n",
       "      <th>2</th>\n",
       "      <td>0</td>\n",
       "      <td>33</td>\n",
       "      <td>среднее</td>\n",
       "      <td>1</td>\n",
       "      <td>женат / замужем</td>\n",
       "      <td>0</td>\n",
       "      <td>M</td>\n",
       "      <td>сотрудник</td>\n",
       "      <td>0</td>\n",
       "      <td>145885.952297</td>\n",
       "      <td>покупка жилья</td>\n",
       "      <td>[покупка,  , жилье, \\n]</td>\n",
       "      <td>0</td>\n",
       "      <td>Real estate</td>\n",
       "      <td>no children</td>\n",
       "      <td>no children</td>\n",
       "      <td>Middle class</td>\n",
       "    </tr>\n",
       "    <tr>\n",
       "      <th>3</th>\n",
       "      <td>3</td>\n",
       "      <td>32</td>\n",
       "      <td>среднее</td>\n",
       "      <td>1</td>\n",
       "      <td>женат / замужем</td>\n",
       "      <td>0</td>\n",
       "      <td>M</td>\n",
       "      <td>сотрудник</td>\n",
       "      <td>0</td>\n",
       "      <td>267628.550329</td>\n",
       "      <td>дополнительное образование</td>\n",
       "      <td>[дополнительный,  , образование, \\n]</td>\n",
       "      <td>3</td>\n",
       "      <td>Education</td>\n",
       "      <td>has children</td>\n",
       "      <td>3+ children</td>\n",
       "      <td>Wealth</td>\n",
       "    </tr>\n",
       "    <tr>\n",
       "      <th>4</th>\n",
       "      <td>0</td>\n",
       "      <td>53</td>\n",
       "      <td>среднее</td>\n",
       "      <td>1</td>\n",
       "      <td>гражданский брак</td>\n",
       "      <td>1</td>\n",
       "      <td>F</td>\n",
       "      <td>пенсионер</td>\n",
       "      <td>0</td>\n",
       "      <td>158616.077870</td>\n",
       "      <td>сыграть свадьбу</td>\n",
       "      <td>[сыграть,  , свадьба, \\n]</td>\n",
       "      <td>2</td>\n",
       "      <td>Wedding</td>\n",
       "      <td>no children</td>\n",
       "      <td>no children</td>\n",
       "      <td>Middle class</td>\n",
       "    </tr>\n",
       "  </tbody>\n",
       "</table>\n",
       "</div>"
      ],
      "text/plain": [
       "   children  dob_years education  education_id     family_status  \\\n",
       "0         1         42    высшее             0   женат / замужем   \n",
       "1         1         36   среднее             1   женат / замужем   \n",
       "2         0         33   среднее             1   женат / замужем   \n",
       "3         3         32   среднее             1   женат / замужем   \n",
       "4         0         53   среднее             1  гражданский брак   \n",
       "\n",
       "   family_status_id gender income_type  debt   total_income  \\\n",
       "0                 0      F   сотрудник     0  253875.639453   \n",
       "1                 0      F   сотрудник     0  112080.014102   \n",
       "2                 0      M   сотрудник     0  145885.952297   \n",
       "3                 0      M   сотрудник     0  267628.550329   \n",
       "4                 1      F   пенсионер     0  158616.077870   \n",
       "\n",
       "                      purpose                          purpose_lemm  \\\n",
       "0               покупка жилья               [покупка,  , жилье, \\n]   \n",
       "1     приобретение автомобиля     [приобретение,  , автомобиль, \\n]   \n",
       "2               покупка жилья               [покупка,  , жилье, \\n]   \n",
       "3  дополнительное образование  [дополнительный,  , образование, \\n]   \n",
       "4             сыграть свадьбу             [сыграть,  , свадьба, \\n]   \n",
       "\n",
       "   purpose_id purpose_short have_children_id family_size_id   income_level  \n",
       "0           0   Real estate     has children   1-2 children         Wealth  \n",
       "1           1       Vehicle     has children   1-2 children  Above Poverty  \n",
       "2           0   Real estate      no children    no children   Middle class  \n",
       "3           3     Education     has children    3+ children         Wealth  \n",
       "4           2       Wedding      no children    no children   Middle class  "
      ]
     },
     "execution_count": 84,
     "metadata": {},
     "output_type": "execute_result"
    }
   ],
   "source": [
    "def income_level_text(row):\n",
    "    \"\"\"\n",
    "    Returns income level in accordance with df_income_level_dict:\n",
    "    \"\"\"\n",
    "    living_wage = 18029\n",
    "    tot_income = row['total_income']\n",
    "    if tot_income < living_wage:\n",
    "        return 'Beggary'\n",
    "    elif tot_income < 3*living_wage:\n",
    "        return 'Poverty'\n",
    "    elif tot_income < 7*living_wage:\n",
    "        return 'Above Poverty'\n",
    "    elif tot_income < 11*living_wage:\n",
    "        return 'Middle class'\n",
    "    elif tot_income < 5000000*0.87/12: #Среднемесячный доход после вычета НДФЛ 13%\n",
    "        return 'Wealth'\n",
    "    else:\n",
    "        return 'Ultra-wealth'\n",
    "    \n",
    "df['income_level'] = df.apply(income_level_text, axis=1)\n",
    "df.head() "
   ]
  },
  {
   "cell_type": "code",
   "execution_count": 85,
   "metadata": {},
   "outputs": [
    {
     "data": {
      "text/plain": [
       "Middle class     8405\n",
       "Above Poverty    7359\n",
       "Wealth           4402\n",
       "Ultra-wealth      774\n",
       "Poverty           530\n",
       "Name: income_level, dtype: int64"
      ]
     },
     "execution_count": 85,
     "metadata": {},
     "output_type": "execute_result"
    }
   ],
   "source": [
    "df['income_level'].value_counts()"
   ]
  },
  {
   "cell_type": "markdown",
   "metadata": {},
   "source": [
    "Looks like this bank does not give credits to people with income below 1 MSL."
   ]
  },
  {
   "cell_type": "markdown",
   "metadata": {},
   "source": [
    "#### Drop unneeded coloumns\n"
   ]
  },
  {
   "cell_type": "code",
   "execution_count": 86,
   "metadata": {},
   "outputs": [
    {
     "data": {
      "text/html": [
       "<div>\n",
       "<style scoped>\n",
       "    .dataframe tbody tr th:only-of-type {\n",
       "        vertical-align: middle;\n",
       "    }\n",
       "\n",
       "    .dataframe tbody tr th {\n",
       "        vertical-align: top;\n",
       "    }\n",
       "\n",
       "    .dataframe thead th {\n",
       "        text-align: right;\n",
       "    }\n",
       "</style>\n",
       "<table border=\"1\" class=\"dataframe\">\n",
       "  <thead>\n",
       "    <tr style=\"text-align: right;\">\n",
       "      <th></th>\n",
       "      <th>children</th>\n",
       "      <th>dob_years</th>\n",
       "      <th>education</th>\n",
       "      <th>education_id</th>\n",
       "      <th>family_status</th>\n",
       "      <th>family_status_id</th>\n",
       "      <th>gender</th>\n",
       "      <th>income_type</th>\n",
       "      <th>debt</th>\n",
       "      <th>total_income</th>\n",
       "      <th>purpose_id</th>\n",
       "      <th>purpose_short</th>\n",
       "      <th>have_children_id</th>\n",
       "      <th>family_size_id</th>\n",
       "      <th>income_level</th>\n",
       "    </tr>\n",
       "  </thead>\n",
       "  <tbody>\n",
       "    <tr>\n",
       "      <th>0</th>\n",
       "      <td>1</td>\n",
       "      <td>42</td>\n",
       "      <td>высшее</td>\n",
       "      <td>0</td>\n",
       "      <td>женат / замужем</td>\n",
       "      <td>0</td>\n",
       "      <td>F</td>\n",
       "      <td>сотрудник</td>\n",
       "      <td>0</td>\n",
       "      <td>253875.639453</td>\n",
       "      <td>0</td>\n",
       "      <td>Real estate</td>\n",
       "      <td>has children</td>\n",
       "      <td>1-2 children</td>\n",
       "      <td>Wealth</td>\n",
       "    </tr>\n",
       "    <tr>\n",
       "      <th>1</th>\n",
       "      <td>1</td>\n",
       "      <td>36</td>\n",
       "      <td>среднее</td>\n",
       "      <td>1</td>\n",
       "      <td>женат / замужем</td>\n",
       "      <td>0</td>\n",
       "      <td>F</td>\n",
       "      <td>сотрудник</td>\n",
       "      <td>0</td>\n",
       "      <td>112080.014102</td>\n",
       "      <td>1</td>\n",
       "      <td>Vehicle</td>\n",
       "      <td>has children</td>\n",
       "      <td>1-2 children</td>\n",
       "      <td>Above Poverty</td>\n",
       "    </tr>\n",
       "    <tr>\n",
       "      <th>2</th>\n",
       "      <td>0</td>\n",
       "      <td>33</td>\n",
       "      <td>среднее</td>\n",
       "      <td>1</td>\n",
       "      <td>женат / замужем</td>\n",
       "      <td>0</td>\n",
       "      <td>M</td>\n",
       "      <td>сотрудник</td>\n",
       "      <td>0</td>\n",
       "      <td>145885.952297</td>\n",
       "      <td>0</td>\n",
       "      <td>Real estate</td>\n",
       "      <td>no children</td>\n",
       "      <td>no children</td>\n",
       "      <td>Middle class</td>\n",
       "    </tr>\n",
       "    <tr>\n",
       "      <th>3</th>\n",
       "      <td>3</td>\n",
       "      <td>32</td>\n",
       "      <td>среднее</td>\n",
       "      <td>1</td>\n",
       "      <td>женат / замужем</td>\n",
       "      <td>0</td>\n",
       "      <td>M</td>\n",
       "      <td>сотрудник</td>\n",
       "      <td>0</td>\n",
       "      <td>267628.550329</td>\n",
       "      <td>3</td>\n",
       "      <td>Education</td>\n",
       "      <td>has children</td>\n",
       "      <td>3+ children</td>\n",
       "      <td>Wealth</td>\n",
       "    </tr>\n",
       "    <tr>\n",
       "      <th>4</th>\n",
       "      <td>0</td>\n",
       "      <td>53</td>\n",
       "      <td>среднее</td>\n",
       "      <td>1</td>\n",
       "      <td>гражданский брак</td>\n",
       "      <td>1</td>\n",
       "      <td>F</td>\n",
       "      <td>пенсионер</td>\n",
       "      <td>0</td>\n",
       "      <td>158616.077870</td>\n",
       "      <td>2</td>\n",
       "      <td>Wedding</td>\n",
       "      <td>no children</td>\n",
       "      <td>no children</td>\n",
       "      <td>Middle class</td>\n",
       "    </tr>\n",
       "    <tr>\n",
       "      <th>5</th>\n",
       "      <td>0</td>\n",
       "      <td>27</td>\n",
       "      <td>высшее</td>\n",
       "      <td>0</td>\n",
       "      <td>гражданский брак</td>\n",
       "      <td>1</td>\n",
       "      <td>M</td>\n",
       "      <td>компаньон</td>\n",
       "      <td>0</td>\n",
       "      <td>255763.565419</td>\n",
       "      <td>0</td>\n",
       "      <td>Real estate</td>\n",
       "      <td>no children</td>\n",
       "      <td>no children</td>\n",
       "      <td>Wealth</td>\n",
       "    </tr>\n",
       "    <tr>\n",
       "      <th>6</th>\n",
       "      <td>0</td>\n",
       "      <td>43</td>\n",
       "      <td>высшее</td>\n",
       "      <td>0</td>\n",
       "      <td>женат / замужем</td>\n",
       "      <td>0</td>\n",
       "      <td>F</td>\n",
       "      <td>компаньон</td>\n",
       "      <td>0</td>\n",
       "      <td>240525.971920</td>\n",
       "      <td>0</td>\n",
       "      <td>Real estate</td>\n",
       "      <td>no children</td>\n",
       "      <td>no children</td>\n",
       "      <td>Wealth</td>\n",
       "    </tr>\n",
       "    <tr>\n",
       "      <th>7</th>\n",
       "      <td>0</td>\n",
       "      <td>50</td>\n",
       "      <td>среднее</td>\n",
       "      <td>1</td>\n",
       "      <td>женат / замужем</td>\n",
       "      <td>0</td>\n",
       "      <td>M</td>\n",
       "      <td>сотрудник</td>\n",
       "      <td>0</td>\n",
       "      <td>135823.934197</td>\n",
       "      <td>3</td>\n",
       "      <td>Education</td>\n",
       "      <td>no children</td>\n",
       "      <td>no children</td>\n",
       "      <td>Middle class</td>\n",
       "    </tr>\n",
       "    <tr>\n",
       "      <th>8</th>\n",
       "      <td>2</td>\n",
       "      <td>35</td>\n",
       "      <td>высшее</td>\n",
       "      <td>0</td>\n",
       "      <td>гражданский брак</td>\n",
       "      <td>1</td>\n",
       "      <td>F</td>\n",
       "      <td>сотрудник</td>\n",
       "      <td>0</td>\n",
       "      <td>95856.832424</td>\n",
       "      <td>2</td>\n",
       "      <td>Wedding</td>\n",
       "      <td>has children</td>\n",
       "      <td>1-2 children</td>\n",
       "      <td>Above Poverty</td>\n",
       "    </tr>\n",
       "    <tr>\n",
       "      <th>9</th>\n",
       "      <td>0</td>\n",
       "      <td>41</td>\n",
       "      <td>среднее</td>\n",
       "      <td>1</td>\n",
       "      <td>женат / замужем</td>\n",
       "      <td>0</td>\n",
       "      <td>M</td>\n",
       "      <td>сотрудник</td>\n",
       "      <td>0</td>\n",
       "      <td>144425.938277</td>\n",
       "      <td>0</td>\n",
       "      <td>Real estate</td>\n",
       "      <td>no children</td>\n",
       "      <td>no children</td>\n",
       "      <td>Middle class</td>\n",
       "    </tr>\n",
       "    <tr>\n",
       "      <th>10</th>\n",
       "      <td>2</td>\n",
       "      <td>36</td>\n",
       "      <td>высшее</td>\n",
       "      <td>0</td>\n",
       "      <td>женат / замужем</td>\n",
       "      <td>0</td>\n",
       "      <td>M</td>\n",
       "      <td>компаньон</td>\n",
       "      <td>0</td>\n",
       "      <td>113943.491460</td>\n",
       "      <td>0</td>\n",
       "      <td>Real estate</td>\n",
       "      <td>has children</td>\n",
       "      <td>1-2 children</td>\n",
       "      <td>Above Poverty</td>\n",
       "    </tr>\n",
       "    <tr>\n",
       "      <th>11</th>\n",
       "      <td>0</td>\n",
       "      <td>40</td>\n",
       "      <td>среднее</td>\n",
       "      <td>1</td>\n",
       "      <td>женат / замужем</td>\n",
       "      <td>0</td>\n",
       "      <td>F</td>\n",
       "      <td>сотрудник</td>\n",
       "      <td>0</td>\n",
       "      <td>77069.234271</td>\n",
       "      <td>0</td>\n",
       "      <td>Real estate</td>\n",
       "      <td>no children</td>\n",
       "      <td>no children</td>\n",
       "      <td>Above Poverty</td>\n",
       "    </tr>\n",
       "    <tr>\n",
       "      <th>12</th>\n",
       "      <td>0</td>\n",
       "      <td>65</td>\n",
       "      <td>среднее</td>\n",
       "      <td>1</td>\n",
       "      <td>гражданский брак</td>\n",
       "      <td>1</td>\n",
       "      <td>M</td>\n",
       "      <td>пенсионер</td>\n",
       "      <td>0</td>\n",
       "      <td>118514.486412</td>\n",
       "      <td>2</td>\n",
       "      <td>Wedding</td>\n",
       "      <td>no children</td>\n",
       "      <td>no children</td>\n",
       "      <td>Above Poverty</td>\n",
       "    </tr>\n",
       "    <tr>\n",
       "      <th>13</th>\n",
       "      <td>0</td>\n",
       "      <td>54</td>\n",
       "      <td>неоконченное высшее</td>\n",
       "      <td>2</td>\n",
       "      <td>женат / замужем</td>\n",
       "      <td>0</td>\n",
       "      <td>F</td>\n",
       "      <td>сотрудник</td>\n",
       "      <td>0</td>\n",
       "      <td>130458.228857</td>\n",
       "      <td>1</td>\n",
       "      <td>Vehicle</td>\n",
       "      <td>no children</td>\n",
       "      <td>no children</td>\n",
       "      <td>Middle class</td>\n",
       "    </tr>\n",
       "    <tr>\n",
       "      <th>14</th>\n",
       "      <td>0</td>\n",
       "      <td>56</td>\n",
       "      <td>высшее</td>\n",
       "      <td>0</td>\n",
       "      <td>гражданский брак</td>\n",
       "      <td>1</td>\n",
       "      <td>F</td>\n",
       "      <td>компаньон</td>\n",
       "      <td>1</td>\n",
       "      <td>165127.911772</td>\n",
       "      <td>0</td>\n",
       "      <td>Real estate</td>\n",
       "      <td>no children</td>\n",
       "      <td>no children</td>\n",
       "      <td>Middle class</td>\n",
       "    </tr>\n",
       "  </tbody>\n",
       "</table>\n",
       "</div>"
      ],
      "text/plain": [
       "    children  dob_years            education  education_id     family_status  \\\n",
       "0          1         42               высшее             0   женат / замужем   \n",
       "1          1         36              среднее             1   женат / замужем   \n",
       "2          0         33              среднее             1   женат / замужем   \n",
       "3          3         32              среднее             1   женат / замужем   \n",
       "4          0         53              среднее             1  гражданский брак   \n",
       "5          0         27               высшее             0  гражданский брак   \n",
       "6          0         43               высшее             0   женат / замужем   \n",
       "7          0         50              среднее             1   женат / замужем   \n",
       "8          2         35               высшее             0  гражданский брак   \n",
       "9          0         41              среднее             1   женат / замужем   \n",
       "10         2         36               высшее             0   женат / замужем   \n",
       "11         0         40              среднее             1   женат / замужем   \n",
       "12         0         65              среднее             1  гражданский брак   \n",
       "13         0         54  неоконченное высшее             2   женат / замужем   \n",
       "14         0         56               высшее             0  гражданский брак   \n",
       "\n",
       "    family_status_id gender income_type  debt   total_income  purpose_id  \\\n",
       "0                  0      F   сотрудник     0  253875.639453           0   \n",
       "1                  0      F   сотрудник     0  112080.014102           1   \n",
       "2                  0      M   сотрудник     0  145885.952297           0   \n",
       "3                  0      M   сотрудник     0  267628.550329           3   \n",
       "4                  1      F   пенсионер     0  158616.077870           2   \n",
       "5                  1      M   компаньон     0  255763.565419           0   \n",
       "6                  0      F   компаньон     0  240525.971920           0   \n",
       "7                  0      M   сотрудник     0  135823.934197           3   \n",
       "8                  1      F   сотрудник     0   95856.832424           2   \n",
       "9                  0      M   сотрудник     0  144425.938277           0   \n",
       "10                 0      M   компаньон     0  113943.491460           0   \n",
       "11                 0      F   сотрудник     0   77069.234271           0   \n",
       "12                 1      M   пенсионер     0  118514.486412           2   \n",
       "13                 0      F   сотрудник     0  130458.228857           1   \n",
       "14                 1      F   компаньон     1  165127.911772           0   \n",
       "\n",
       "   purpose_short have_children_id family_size_id   income_level  \n",
       "0    Real estate     has children   1-2 children         Wealth  \n",
       "1        Vehicle     has children   1-2 children  Above Poverty  \n",
       "2    Real estate      no children    no children   Middle class  \n",
       "3      Education     has children    3+ children         Wealth  \n",
       "4        Wedding      no children    no children   Middle class  \n",
       "5    Real estate      no children    no children         Wealth  \n",
       "6    Real estate      no children    no children         Wealth  \n",
       "7      Education      no children    no children   Middle class  \n",
       "8        Wedding     has children   1-2 children  Above Poverty  \n",
       "9    Real estate      no children    no children   Middle class  \n",
       "10   Real estate     has children   1-2 children  Above Poverty  \n",
       "11   Real estate      no children    no children  Above Poverty  \n",
       "12       Wedding      no children    no children  Above Poverty  \n",
       "13       Vehicle      no children    no children   Middle class  \n",
       "14   Real estate      no children    no children   Middle class  "
      ]
     },
     "execution_count": 86,
     "metadata": {},
     "output_type": "execute_result"
    }
   ],
   "source": [
    "df_short = df.drop(['purpose_lemm', 'purpose'], 1)\n",
    "df_short.head(15)"
   ]
  },
  {
   "cell_type": "markdown",
   "metadata": {},
   "source": [
    "## Analysis and results"
   ]
  },
  {
   "cell_type": "markdown",
   "metadata": {},
   "source": [
    "- **Does having credit dept depend on having children?**"
   ]
  },
  {
   "cell_type": "markdown",
   "metadata": {},
   "source": [
    "Calculate percent of deptors in two categories - with and without kids"
   ]
  },
  {
   "cell_type": "code",
   "execution_count": 87,
   "metadata": {},
   "outputs": [
    {
     "data": {
      "text/html": [
       "<div>\n",
       "<style scoped>\n",
       "    .dataframe tbody tr th:only-of-type {\n",
       "        vertical-align: middle;\n",
       "    }\n",
       "\n",
       "    .dataframe tbody tr th {\n",
       "        vertical-align: top;\n",
       "    }\n",
       "\n",
       "    .dataframe thead tr th {\n",
       "        text-align: left;\n",
       "    }\n",
       "\n",
       "    .dataframe thead tr:last-of-type th {\n",
       "        text-align: right;\n",
       "    }\n",
       "</style>\n",
       "<table border=\"1\" class=\"dataframe\">\n",
       "  <thead>\n",
       "    <tr>\n",
       "      <th></th>\n",
       "      <th>sum</th>\n",
       "      <th>count</th>\n",
       "      <th>debt_percent</th>\n",
       "    </tr>\n",
       "    <tr>\n",
       "      <th></th>\n",
       "      <th>debt</th>\n",
       "      <th>debt</th>\n",
       "      <th></th>\n",
       "    </tr>\n",
       "    <tr>\n",
       "      <th>have_children_id</th>\n",
       "      <th></th>\n",
       "      <th></th>\n",
       "      <th></th>\n",
       "    </tr>\n",
       "  </thead>\n",
       "  <tbody>\n",
       "    <tr>\n",
       "      <th>has children</th>\n",
       "      <td>669</td>\n",
       "      <td>7241</td>\n",
       "      <td>9.2%</td>\n",
       "    </tr>\n",
       "    <tr>\n",
       "      <th>no children</th>\n",
       "      <td>1063</td>\n",
       "      <td>14106</td>\n",
       "      <td>7.5%</td>\n",
       "    </tr>\n",
       "  </tbody>\n",
       "</table>\n",
       "</div>"
      ],
      "text/plain": [
       "                   sum  count debt_percent\n",
       "                  debt   debt             \n",
       "have_children_id                          \n",
       "has children       669   7241         9.2%\n",
       "no children       1063  14106         7.5%"
      ]
     },
     "execution_count": 87,
     "metadata": {},
     "output_type": "execute_result"
    }
   ],
   "source": [
    "df_have_children_pivot = df_short.pivot_table(index=['have_children_id'], values='debt', aggfunc=['sum', 'count'])\n",
    "df_have_children_pivot['debt_percent'] = df_have_children_pivot['sum'] / df_have_children_pivot['count']\n",
    "df_have_children_pivot['debt_percent'] = df_have_children_pivot['debt_percent'].map('{:,.1%}'.format)\n",
    "df_have_children_pivot"
   ]
  },
  {
   "cell_type": "markdown",
   "metadata": {},
   "source": [
    "The difference between percent of deptors in two categories is around 1.7%, people with children have credit debts more often.\n",
    "\n",
    "Analyze narrower categories"
   ]
  },
  {
   "cell_type": "code",
   "execution_count": 88,
   "metadata": {
    "scrolled": false
   },
   "outputs": [
    {
     "data": {
      "text/html": [
       "<div>\n",
       "<style scoped>\n",
       "    .dataframe tbody tr th:only-of-type {\n",
       "        vertical-align: middle;\n",
       "    }\n",
       "\n",
       "    .dataframe tbody tr th {\n",
       "        vertical-align: top;\n",
       "    }\n",
       "\n",
       "    .dataframe thead tr th {\n",
       "        text-align: left;\n",
       "    }\n",
       "\n",
       "    .dataframe thead tr:last-of-type th {\n",
       "        text-align: right;\n",
       "    }\n",
       "</style>\n",
       "<table border=\"1\" class=\"dataframe\">\n",
       "  <thead>\n",
       "    <tr>\n",
       "      <th></th>\n",
       "      <th>sum</th>\n",
       "      <th>count</th>\n",
       "      <th>debt_percent</th>\n",
       "    </tr>\n",
       "    <tr>\n",
       "      <th></th>\n",
       "      <th>debt</th>\n",
       "      <th>debt</th>\n",
       "      <th></th>\n",
       "    </tr>\n",
       "    <tr>\n",
       "      <th>family_size_id</th>\n",
       "      <th></th>\n",
       "      <th></th>\n",
       "      <th></th>\n",
       "    </tr>\n",
       "  </thead>\n",
       "  <tbody>\n",
       "    <tr>\n",
       "      <th>1-2 children</th>\n",
       "      <td>638</td>\n",
       "      <td>6861</td>\n",
       "      <td>9.3%</td>\n",
       "    </tr>\n",
       "    <tr>\n",
       "      <th>3+ children</th>\n",
       "      <td>31</td>\n",
       "      <td>380</td>\n",
       "      <td>8.2%</td>\n",
       "    </tr>\n",
       "    <tr>\n",
       "      <th>no children</th>\n",
       "      <td>1063</td>\n",
       "      <td>14106</td>\n",
       "      <td>7.5%</td>\n",
       "    </tr>\n",
       "  </tbody>\n",
       "</table>\n",
       "</div>"
      ],
      "text/plain": [
       "                 sum  count debt_percent\n",
       "                debt   debt             \n",
       "family_size_id                          \n",
       "1-2 children     638   6861         9.3%\n",
       "3+ children       31    380         8.2%\n",
       "no children     1063  14106         7.5%"
      ]
     },
     "execution_count": 88,
     "metadata": {},
     "output_type": "execute_result"
    }
   ],
   "source": [
    "df_family_size_pivot = df_short.pivot_table(index=['family_size_id'], values='debt', aggfunc=['sum', 'count'])\n",
    "df_family_size_pivot['debt_percent'] = df_family_size_pivot['sum'] / df_family_size_pivot['count']\n",
    "df_family_size_pivot['debt_percent'] = df_family_size_pivot['debt_percent'].map('{:,.1%}'.format)\n",
    "df_family_size_pivot"
   ]
  },
  {
   "cell_type": "markdown",
   "metadata": {},
   "source": [
    "**Result**"
   ]
  },
  {
   "cell_type": "markdown",
   "metadata": {},
   "source": [
    "In general percentage of debtors among people without children is 1.7% lower, than among clients with children. It is worth mentioning though, that people with 3+ children are more diligent in paying their credits than customers with 1-2 kids. "
   ]
  },
  {
   "cell_type": "markdown",
   "metadata": {},
   "source": [
    "- **Does having credit dept depend on family status?**"
   ]
  },
  {
   "cell_type": "markdown",
   "metadata": {},
   "source": [
    "Calculate percent of deptors in family status categories "
   ]
  },
  {
   "cell_type": "code",
   "execution_count": 89,
   "metadata": {
    "scrolled": true
   },
   "outputs": [
    {
     "data": {
      "text/html": [
       "<div>\n",
       "<style scoped>\n",
       "    .dataframe tbody tr th:only-of-type {\n",
       "        vertical-align: middle;\n",
       "    }\n",
       "\n",
       "    .dataframe tbody tr th {\n",
       "        vertical-align: top;\n",
       "    }\n",
       "\n",
       "    .dataframe thead tr th {\n",
       "        text-align: left;\n",
       "    }\n",
       "\n",
       "    .dataframe thead tr:last-of-type th {\n",
       "        text-align: right;\n",
       "    }\n",
       "</style>\n",
       "<table border=\"1\" class=\"dataframe\">\n",
       "  <thead>\n",
       "    <tr>\n",
       "      <th></th>\n",
       "      <th>sum</th>\n",
       "      <th>count</th>\n",
       "      <th>debt_percent</th>\n",
       "    </tr>\n",
       "    <tr>\n",
       "      <th></th>\n",
       "      <th>debt</th>\n",
       "      <th>debt</th>\n",
       "      <th></th>\n",
       "    </tr>\n",
       "    <tr>\n",
       "      <th>family_status</th>\n",
       "      <th></th>\n",
       "      <th></th>\n",
       "      <th></th>\n",
       "    </tr>\n",
       "  </thead>\n",
       "  <tbody>\n",
       "    <tr>\n",
       "      <th>Не женат / не замужем</th>\n",
       "      <td>274</td>\n",
       "      <td>2810</td>\n",
       "      <td>9.8%</td>\n",
       "    </tr>\n",
       "    <tr>\n",
       "      <th>в разводе</th>\n",
       "      <td>85</td>\n",
       "      <td>1195</td>\n",
       "      <td>7.1%</td>\n",
       "    </tr>\n",
       "    <tr>\n",
       "      <th>вдовец / вдова</th>\n",
       "      <td>63</td>\n",
       "      <td>959</td>\n",
       "      <td>6.6%</td>\n",
       "    </tr>\n",
       "    <tr>\n",
       "      <th>гражданский брак</th>\n",
       "      <td>388</td>\n",
       "      <td>4163</td>\n",
       "      <td>9.3%</td>\n",
       "    </tr>\n",
       "    <tr>\n",
       "      <th>женат / замужем</th>\n",
       "      <td>931</td>\n",
       "      <td>12343</td>\n",
       "      <td>7.5%</td>\n",
       "    </tr>\n",
       "  </tbody>\n",
       "</table>\n",
       "</div>"
      ],
      "text/plain": [
       "                       sum  count debt_percent\n",
       "                      debt   debt             \n",
       "family_status                                 \n",
       "Не женат / не замужем  274   2810         9.8%\n",
       "в разводе               85   1195         7.1%\n",
       "вдовец / вдова          63    959         6.6%\n",
       "гражданский брак       388   4163         9.3%\n",
       "женат / замужем        931  12343         7.5%"
      ]
     },
     "execution_count": 89,
     "metadata": {},
     "output_type": "execute_result"
    }
   ],
   "source": [
    "df_family_status_pivot = df_short.pivot_table(index=['family_status'], values='debt', aggfunc=['sum', 'count'])\n",
    "df_family_status_pivot['debt_percent'] = df_family_status_pivot['sum'] / df_family_status_pivot['count']\n",
    "df_family_status_pivot['debt_percent'] = df_family_status_pivot['debt_percent'].map('{:,.1%}'.format)\n",
    "df_family_status_pivot"
   ]
  },
  {
   "cell_type": "markdown",
   "metadata": {},
   "source": [
    "Highest percentage of debtors is within unmarried (Не женат / не замужем) customers and clients in civil partnership (гражданский брак) - above 9%. Married (женат / замужем) and divorced (в разводе) customers also have close percentage of detors - above 7%. Widowed people have lowes share of people with credit debts - 6.6%."
   ]
  },
  {
   "cell_type": "markdown",
   "metadata": {},
   "source": [
    "Analyzing famiy status together with gender"
   ]
  },
  {
   "cell_type": "code",
   "execution_count": 90,
   "metadata": {
    "scrolled": false
   },
   "outputs": [
    {
     "data": {
      "text/html": [
       "<div>\n",
       "<style scoped>\n",
       "    .dataframe tbody tr th:only-of-type {\n",
       "        vertical-align: middle;\n",
       "    }\n",
       "\n",
       "    .dataframe tbody tr th {\n",
       "        vertical-align: top;\n",
       "    }\n",
       "\n",
       "    .dataframe thead tr th {\n",
       "        text-align: left;\n",
       "    }\n",
       "\n",
       "    .dataframe thead tr:last-of-type th {\n",
       "        text-align: right;\n",
       "    }\n",
       "</style>\n",
       "<table border=\"1\" class=\"dataframe\">\n",
       "  <thead>\n",
       "    <tr>\n",
       "      <th></th>\n",
       "      <th></th>\n",
       "      <th>sum</th>\n",
       "      <th>count</th>\n",
       "      <th>debt_percent</th>\n",
       "    </tr>\n",
       "    <tr>\n",
       "      <th></th>\n",
       "      <th></th>\n",
       "      <th>debt</th>\n",
       "      <th>debt</th>\n",
       "      <th></th>\n",
       "    </tr>\n",
       "    <tr>\n",
       "      <th>family_status</th>\n",
       "      <th>gender</th>\n",
       "      <th></th>\n",
       "      <th></th>\n",
       "      <th></th>\n",
       "    </tr>\n",
       "  </thead>\n",
       "  <tbody>\n",
       "    <tr>\n",
       "      <th rowspan=\"2\" valign=\"top\">Не женат / не замужем</th>\n",
       "      <th>F</th>\n",
       "      <td>118</td>\n",
       "      <td>1729</td>\n",
       "      <td>6.8%</td>\n",
       "    </tr>\n",
       "    <tr>\n",
       "      <th>M</th>\n",
       "      <td>156</td>\n",
       "      <td>1081</td>\n",
       "      <td>14.4%</td>\n",
       "    </tr>\n",
       "    <tr>\n",
       "      <th rowspan=\"2\" valign=\"top\">в разводе</th>\n",
       "      <th>F</th>\n",
       "      <td>61</td>\n",
       "      <td>936</td>\n",
       "      <td>6.5%</td>\n",
       "    </tr>\n",
       "    <tr>\n",
       "      <th>M</th>\n",
       "      <td>24</td>\n",
       "      <td>259</td>\n",
       "      <td>9.3%</td>\n",
       "    </tr>\n",
       "    <tr>\n",
       "      <th rowspan=\"2\" valign=\"top\">вдовец / вдова</th>\n",
       "      <th>F</th>\n",
       "      <td>52</td>\n",
       "      <td>904</td>\n",
       "      <td>5.8%</td>\n",
       "    </tr>\n",
       "    <tr>\n",
       "      <th>M</th>\n",
       "      <td>11</td>\n",
       "      <td>55</td>\n",
       "      <td>20.0%</td>\n",
       "    </tr>\n",
       "    <tr>\n",
       "      <th rowspan=\"3\" valign=\"top\">гражданский брак</th>\n",
       "      <th>F</th>\n",
       "      <td>233</td>\n",
       "      <td>2856</td>\n",
       "      <td>8.2%</td>\n",
       "    </tr>\n",
       "    <tr>\n",
       "      <th>M</th>\n",
       "      <td>155</td>\n",
       "      <td>1306</td>\n",
       "      <td>11.9%</td>\n",
       "    </tr>\n",
       "    <tr>\n",
       "      <th>XNA</th>\n",
       "      <td>0</td>\n",
       "      <td>1</td>\n",
       "      <td>0.0%</td>\n",
       "    </tr>\n",
       "    <tr>\n",
       "      <th rowspan=\"2\" valign=\"top\">женат / замужем</th>\n",
       "      <th>F</th>\n",
       "      <td>530</td>\n",
       "      <td>7764</td>\n",
       "      <td>6.8%</td>\n",
       "    </tr>\n",
       "    <tr>\n",
       "      <th>M</th>\n",
       "      <td>401</td>\n",
       "      <td>4579</td>\n",
       "      <td>8.8%</td>\n",
       "    </tr>\n",
       "  </tbody>\n",
       "</table>\n",
       "</div>"
      ],
      "text/plain": [
       "                              sum count debt_percent\n",
       "                             debt  debt             \n",
       "family_status         gender                        \n",
       "Не женат / не замужем F       118  1729         6.8%\n",
       "                      M       156  1081        14.4%\n",
       "в разводе             F        61   936         6.5%\n",
       "                      M        24   259         9.3%\n",
       "вдовец / вдова        F        52   904         5.8%\n",
       "                      M        11    55        20.0%\n",
       "гражданский брак      F       233  2856         8.2%\n",
       "                      M       155  1306        11.9%\n",
       "                      XNA       0     1         0.0%\n",
       "женат / замужем       F       530  7764         6.8%\n",
       "                      M       401  4579         8.8%"
      ]
     },
     "execution_count": 90,
     "metadata": {},
     "output_type": "execute_result"
    }
   ],
   "source": [
    "df_family_status_pivot = df_short.pivot_table(index=['family_status', 'gender'], values='debt', aggfunc=['sum', 'count'])\n",
    "df_family_status_pivot['debt_percent'] = df_family_status_pivot['sum'] / df_family_status_pivot['count']\n",
    "df_family_status_pivot['debt_percent'] = df_family_status_pivot['debt_percent'].map('{:,.1%}'.format)\n",
    "df_family_status_pivot"
   ]
  },
  {
   "cell_type": "markdown",
   "metadata": {},
   "source": [
    "Widowed men subset is too small, although is shows extreme 20% debtors percentage, this information shoul not be taken for conclusions. "
   ]
  },
  {
   "cell_type": "markdown",
   "metadata": {},
   "source": [
    "**Result**"
   ]
  },
  {
   "cell_type": "markdown",
   "metadata": {},
   "source": [
    "Although there are more women in all categories, percentage of debtors among them is lower, than for men in all family statuses. Unmarried men seem to be least diligent in paying their credits in time (14.4%). Among women the highest share of debtors is for divorced clients (8.8%)."
   ]
  },
  {
   "cell_type": "markdown",
   "metadata": {},
   "source": [
    "- **Does having credit dept depend on income level?**"
   ]
  },
  {
   "cell_type": "markdown",
   "metadata": {},
   "source": [
    "Calculate percent of deptors in income level categories "
   ]
  },
  {
   "cell_type": "code",
   "execution_count": 91,
   "metadata": {},
   "outputs": [
    {
     "name": "stderr",
     "output_type": "stream",
     "text": [
      "/opt/conda/lib/python3.9/site-packages/pandas/core/reshape/merge.py:648: UserWarning: merging between different levels can give an unintended result (2 levels on the left,1 on the right)\n",
      "  warnings.warn(msg, UserWarning)\n"
     ]
    },
    {
     "data": {
      "text/html": [
       "<div>\n",
       "<style scoped>\n",
       "    .dataframe tbody tr th:only-of-type {\n",
       "        vertical-align: middle;\n",
       "    }\n",
       "\n",
       "    .dataframe tbody tr th {\n",
       "        vertical-align: top;\n",
       "    }\n",
       "\n",
       "    .dataframe thead th {\n",
       "        text-align: right;\n",
       "    }\n",
       "</style>\n",
       "<table border=\"1\" class=\"dataframe\">\n",
       "  <thead>\n",
       "    <tr style=\"text-align: right;\">\n",
       "      <th></th>\n",
       "      <th>income_level</th>\n",
       "      <th>total_debtors</th>\n",
       "      <th>total_loans</th>\n",
       "      <th>debt_percent</th>\n",
       "      <th>income_level_id</th>\n",
       "    </tr>\n",
       "  </thead>\n",
       "  <tbody>\n",
       "    <tr>\n",
       "      <th>2</th>\n",
       "      <td>Poverty</td>\n",
       "      <td>34</td>\n",
       "      <td>530</td>\n",
       "      <td>6.4%</td>\n",
       "      <td>1</td>\n",
       "    </tr>\n",
       "    <tr>\n",
       "      <th>0</th>\n",
       "      <td>Above Poverty</td>\n",
       "      <td>622</td>\n",
       "      <td>7359</td>\n",
       "      <td>8.5%</td>\n",
       "      <td>2</td>\n",
       "    </tr>\n",
       "    <tr>\n",
       "      <th>1</th>\n",
       "      <td>Middle class</td>\n",
       "      <td>720</td>\n",
       "      <td>8405</td>\n",
       "      <td>8.6%</td>\n",
       "      <td>3</td>\n",
       "    </tr>\n",
       "    <tr>\n",
       "      <th>4</th>\n",
       "      <td>Wealth</td>\n",
       "      <td>317</td>\n",
       "      <td>4402</td>\n",
       "      <td>7.2%</td>\n",
       "      <td>4</td>\n",
       "    </tr>\n",
       "    <tr>\n",
       "      <th>3</th>\n",
       "      <td>Ultra-wealth</td>\n",
       "      <td>48</td>\n",
       "      <td>774</td>\n",
       "      <td>6.2%</td>\n",
       "      <td>5</td>\n",
       "    </tr>\n",
       "  </tbody>\n",
       "</table>\n",
       "</div>"
      ],
      "text/plain": [
       "    income_level  total_debtors  total_loans debt_percent  income_level_id\n",
       "2        Poverty             34          530         6.4%                1\n",
       "0  Above Poverty            622         7359         8.5%                2\n",
       "1   Middle class            720         8405         8.6%                3\n",
       "4         Wealth            317         4402         7.2%                4\n",
       "3   Ultra-wealth             48          774         6.2%                5"
      ]
     },
     "execution_count": 91,
     "metadata": {},
     "output_type": "execute_result"
    }
   ],
   "source": [
    "df_income_level_id_pivot = df_short.pivot_table(index=['income_level'], values='debt', aggfunc=['sum', 'count'])\n",
    "df_income_level_id_pivot['debt_percent'] = df_income_level_id_pivot['sum'] / df_income_level_id_pivot['count']\n",
    "df_income_level_id_pivot['debt_percent'] = df_income_level_id_pivot['debt_percent'].map('{:,.1%}'.format)\n",
    "#Combining with dictionary\n",
    "df_income_level_id_pivot_fin = df_income_level_id_pivot.merge(df_income_level_dict, on='income_level', how='left')\n",
    "\n",
    "# Change column names to nice ones\n",
    "columns_nice = {'income_level':'income_level', ('sum', 'debt'):'total_debtors', \n",
    "                ('count', 'debt'):'total_loans', ('debt_percent', ''):'debt_percent', \n",
    "               'income_level_id':'income_level_id'}\n",
    "df_income_level_id_pivot_fin = df_income_level_id_pivot_fin.rename(columns=columns_nice)\n",
    "\n",
    "#Pivot table sorting\n",
    "df_income_level_id_pivot_fin.sort_values(by='income_level_id')\n",
    "\n"
   ]
  },
  {
   "cell_type": "markdown",
   "metadata": {},
   "source": [
    "**Result**"
   ]
  },
  {
   "cell_type": "markdown",
   "metadata": {},
   "source": [
    "Almost equally low percentage of debtors can be observed for poor and ultra-wealthy people (6.4% and 6.2% respectively). Medium income categories (above poverty and middle class) show lowest statistics - 8.5% and 8.6%."
   ]
  },
  {
   "cell_type": "markdown",
   "metadata": {},
   "source": [
    "- **Does having credit dept depend on the purpose of this credit?**"
   ]
  },
  {
   "cell_type": "code",
   "execution_count": 92,
   "metadata": {},
   "outputs": [
    {
     "data": {
      "text/html": [
       "<div>\n",
       "<style scoped>\n",
       "    .dataframe tbody tr th:only-of-type {\n",
       "        vertical-align: middle;\n",
       "    }\n",
       "\n",
       "    .dataframe tbody tr th {\n",
       "        vertical-align: top;\n",
       "    }\n",
       "\n",
       "    .dataframe thead tr th {\n",
       "        text-align: left;\n",
       "    }\n",
       "\n",
       "    .dataframe thead tr:last-of-type th {\n",
       "        text-align: right;\n",
       "    }\n",
       "</style>\n",
       "<table border=\"1\" class=\"dataframe\">\n",
       "  <thead>\n",
       "    <tr>\n",
       "      <th></th>\n",
       "      <th>sum</th>\n",
       "      <th>count</th>\n",
       "      <th>debt_percent</th>\n",
       "    </tr>\n",
       "    <tr>\n",
       "      <th></th>\n",
       "      <th>debt</th>\n",
       "      <th>debt</th>\n",
       "      <th></th>\n",
       "    </tr>\n",
       "    <tr>\n",
       "      <th>purpose_short</th>\n",
       "      <th></th>\n",
       "      <th></th>\n",
       "      <th></th>\n",
       "    </tr>\n",
       "  </thead>\n",
       "  <tbody>\n",
       "    <tr>\n",
       "      <th>Education</th>\n",
       "      <td>370</td>\n",
       "      <td>4014</td>\n",
       "      <td>9.2%</td>\n",
       "    </tr>\n",
       "    <tr>\n",
       "      <th>Real estate</th>\n",
       "      <td>782</td>\n",
       "      <td>10813</td>\n",
       "      <td>7.2%</td>\n",
       "    </tr>\n",
       "    <tr>\n",
       "      <th>Vehicle</th>\n",
       "      <td>403</td>\n",
       "      <td>4308</td>\n",
       "      <td>9.4%</td>\n",
       "    </tr>\n",
       "    <tr>\n",
       "      <th>Wedding</th>\n",
       "      <td>186</td>\n",
       "      <td>2335</td>\n",
       "      <td>8.0%</td>\n",
       "    </tr>\n",
       "  </tbody>\n",
       "</table>\n",
       "</div>"
      ],
      "text/plain": [
       "               sum  count debt_percent\n",
       "              debt   debt             \n",
       "purpose_short                         \n",
       "Education      370   4014         9.2%\n",
       "Real estate    782  10813         7.2%\n",
       "Vehicle        403   4308         9.4%\n",
       "Wedding        186   2335         8.0%"
      ]
     },
     "execution_count": 92,
     "metadata": {},
     "output_type": "execute_result"
    }
   ],
   "source": [
    "df_purpose_short_pivot = df_short.pivot_table(index=['purpose_short'], values='debt', aggfunc=['sum', 'count'])\n",
    "df_purpose_short_pivot['debt_percent'] = df_purpose_short_pivot['sum'] / df_purpose_short_pivot['count']\n",
    "df_purpose_short_pivot['debt_percent'] = df_purpose_short_pivot['debt_percent'].map('{:,.1%}'.format)\n",
    "df_purpose_short_pivot"
   ]
  },
  {
   "cell_type": "markdown",
   "metadata": {},
   "source": [
    "**Result**"
   ]
  },
  {
   "cell_type": "markdown",
   "metadata": {},
   "source": [
    "The highest percentage of debtors is among those who took a loan for a vehicle or education, 9.4% and 9.2%, respectively. More than 1% less share of debtors is within customers who took credit to pay for their wedding. The largest group is clients who need a loan for house purchase or renovation and other real estate transactions, being at the same time the most responsible - only 7.2% of debtors."
   ]
  },
  {
   "cell_type": "markdown",
   "metadata": {},
   "source": [
    "## Conclusion"
   ]
  },
  {
   "cell_type": "markdown",
   "metadata": {},
   "source": [
    "1. Not all data were suitable for analysis, and some rows and columns had to be excluded. It is necessary to clarify where the errors come from in order to correct them and expand the subsets.\n",
    "2. The influence of various factors on credit debts was analysed:\n",
    "- Credit debt is affected not only by the presence of children, but also by their number, and families with many children turned out to be somewhat more disciplined than people with 1-2 children. Least of all debts on loans from childless borrowers.\n",
    "- Marital status affects male borrowers more than women. Among women, the most diligent category of payers are widows, and the largest percentage of debtors is among those who live in a civil partnership. For single, married and divorced women, the percentage of debtors is almost the same. Among men, unmarried and, possibly, widowers are the least responsible for paying off loans, and married people are the most disciplined category of male borrowers. \n",
    "- The categories of borrowers with the highest and lowest incomes are the least likely to have loan debts, and most often the debtors are representatives of the category of low (\"above poverty\") and middle income.\n",
    "- According to the purpose of the loan, the smallest percentage of debtors is among those who took a loan for real estate transactions, and the largest - for a car and education.\n",
    "3. The conclusions made in this analysis can be used further for credit scoring calculation. Also, a possible way forward for the work may be to consider the influence of other combinations of factors, especially after the revision of the dataset."
   ]
  }
 ],
 "metadata": {
  "ExecuteTimeLog": [
   {
    "duration": 671,
    "start_time": "2021-12-23T11:38:01.201Z"
   },
   {
    "duration": 67,
    "start_time": "2021-12-23T11:43:19.043Z"
   },
   {
    "duration": 66,
    "start_time": "2021-12-23T11:51:45.626Z"
   },
   {
    "duration": 69,
    "start_time": "2021-12-23T11:52:06.032Z"
   },
   {
    "duration": 365,
    "start_time": "2021-12-23T11:56:29.415Z"
   },
   {
    "duration": 254,
    "start_time": "2021-12-23T11:57:14.976Z"
   },
   {
    "duration": 291,
    "start_time": "2021-12-23T11:59:05.139Z"
   },
   {
    "duration": 315,
    "start_time": "2021-12-23T11:59:23.430Z"
   },
   {
    "duration": 272,
    "start_time": "2021-12-23T11:59:30.415Z"
   },
   {
    "duration": 246,
    "start_time": "2021-12-23T11:59:38.719Z"
   },
   {
    "duration": 301,
    "start_time": "2021-12-23T11:59:45.714Z"
   },
   {
    "duration": 12,
    "start_time": "2021-12-23T11:59:59.101Z"
   },
   {
    "duration": 12,
    "start_time": "2021-12-23T12:00:51.369Z"
   },
   {
    "duration": 14,
    "start_time": "2021-12-23T12:22:25.970Z"
   },
   {
    "duration": 245,
    "start_time": "2021-12-23T12:25:16.665Z"
   },
   {
    "duration": 4,
    "start_time": "2021-12-23T12:25:44.939Z"
   },
   {
    "duration": 17,
    "start_time": "2021-12-23T12:26:11.424Z"
   },
   {
    "duration": 252,
    "start_time": "2021-12-23T12:26:35.030Z"
   },
   {
    "duration": 316,
    "start_time": "2021-12-23T12:26:43.467Z"
   },
   {
    "duration": 12,
    "start_time": "2021-12-23T12:27:04.651Z"
   },
   {
    "duration": 234,
    "start_time": "2021-12-23T12:28:14.024Z"
   },
   {
    "duration": 320,
    "start_time": "2021-12-23T12:30:21.318Z"
   },
   {
    "duration": 241,
    "start_time": "2021-12-23T12:30:27.997Z"
   },
   {
    "duration": 277,
    "start_time": "2021-12-23T12:34:06.642Z"
   },
   {
    "duration": 349,
    "start_time": "2021-12-23T12:35:01.566Z"
   },
   {
    "duration": 17,
    "start_time": "2021-12-23T12:38:43.267Z"
   },
   {
    "duration": 16,
    "start_time": "2021-12-23T12:41:09.901Z"
   },
   {
    "duration": 256,
    "start_time": "2021-12-23T12:42:54.611Z"
   },
   {
    "duration": 15,
    "start_time": "2021-12-23T12:43:09.018Z"
   },
   {
    "duration": 6349,
    "start_time": "2021-12-23T12:43:55.812Z"
   },
   {
    "duration": 16,
    "start_time": "2021-12-23T12:46:15.102Z"
   },
   {
    "duration": 13,
    "start_time": "2021-12-23T12:46:25.929Z"
   },
   {
    "duration": 15,
    "start_time": "2021-12-23T12:46:34.137Z"
   },
   {
    "duration": 263,
    "start_time": "2021-12-23T12:48:04.586Z"
   },
   {
    "duration": 8,
    "start_time": "2021-12-23T12:48:31.401Z"
   },
   {
    "duration": 16,
    "start_time": "2021-12-23T12:49:58.895Z"
   },
   {
    "duration": 21,
    "start_time": "2021-12-23T12:50:11.285Z"
   },
   {
    "duration": 20,
    "start_time": "2021-12-23T12:52:01.347Z"
   },
   {
    "duration": 20,
    "start_time": "2021-12-23T12:52:41.308Z"
   },
   {
    "duration": 236,
    "start_time": "2021-12-23T13:02:08.590Z"
   },
   {
    "duration": 7,
    "start_time": "2021-12-23T13:02:19.355Z"
   },
   {
    "duration": 8,
    "start_time": "2021-12-23T13:02:30.201Z"
   },
   {
    "duration": 12,
    "start_time": "2021-12-23T13:05:02.432Z"
   },
   {
    "duration": 13,
    "start_time": "2021-12-23T13:06:15.714Z"
   },
   {
    "duration": 14,
    "start_time": "2021-12-23T13:08:47.767Z"
   },
   {
    "duration": 13,
    "start_time": "2021-12-23T13:09:14.959Z"
   },
   {
    "duration": 784,
    "start_time": "2021-12-23T13:14:44.680Z"
   },
   {
    "duration": 391,
    "start_time": "2021-12-23T13:14:55.660Z"
   },
   {
    "duration": 326,
    "start_time": "2021-12-23T13:16:07.166Z"
   },
   {
    "duration": 252,
    "start_time": "2021-12-23T13:16:22.895Z"
   },
   {
    "duration": 378,
    "start_time": "2021-12-23T13:16:28.518Z"
   },
   {
    "duration": 406,
    "start_time": "2021-12-23T13:16:55.115Z"
   },
   {
    "duration": 422,
    "start_time": "2021-12-23T13:17:33.356Z"
   },
   {
    "duration": 1291,
    "start_time": "2021-12-23T13:18:03.654Z"
   },
   {
    "duration": 260,
    "start_time": "2021-12-23T13:18:44.810Z"
   },
   {
    "duration": 267,
    "start_time": "2021-12-23T13:21:54.154Z"
   },
   {
    "duration": 363,
    "start_time": "2021-12-23T13:21:59.980Z"
   },
   {
    "duration": 185,
    "start_time": "2021-12-23T13:22:50.450Z"
   },
   {
    "duration": 309,
    "start_time": "2021-12-23T13:23:04.958Z"
   },
   {
    "duration": 340,
    "start_time": "2021-12-23T13:24:13.955Z"
   },
   {
    "duration": 435,
    "start_time": "2021-12-23T13:25:26.719Z"
   },
   {
    "duration": 415,
    "start_time": "2021-12-23T13:27:19.260Z"
   },
   {
    "duration": 326,
    "start_time": "2021-12-23T13:29:54.048Z"
   },
   {
    "duration": 464,
    "start_time": "2021-12-23T13:31:49.341Z"
   },
   {
    "duration": 70,
    "start_time": "2021-12-23T13:40:39.306Z"
   },
   {
    "duration": 68,
    "start_time": "2021-12-23T13:40:52.174Z"
   },
   {
    "duration": 15,
    "start_time": "2021-12-23T14:01:11.308Z"
   },
   {
    "duration": 18,
    "start_time": "2021-12-23T14:02:07.855Z"
   },
   {
    "duration": 254,
    "start_time": "2021-12-23T14:02:49.160Z"
   },
   {
    "duration": 18,
    "start_time": "2021-12-23T14:02:56.193Z"
   },
   {
    "duration": 16,
    "start_time": "2021-12-23T14:03:06.514Z"
   },
   {
    "duration": 16,
    "start_time": "2021-12-23T14:04:12.695Z"
   },
   {
    "duration": 17,
    "start_time": "2021-12-23T14:04:21.632Z"
   },
   {
    "duration": 15,
    "start_time": "2021-12-23T14:05:16.668Z"
   },
   {
    "duration": 67,
    "start_time": "2021-12-23T14:15:53.767Z"
   },
   {
    "duration": 9,
    "start_time": "2021-12-23T14:15:53.836Z"
   },
   {
    "duration": 25,
    "start_time": "2021-12-23T14:15:53.847Z"
   },
   {
    "duration": 23,
    "start_time": "2021-12-23T14:16:28.869Z"
   },
   {
    "duration": 321,
    "start_time": "2021-12-24T07:51:15.401Z"
   },
   {
    "duration": 784,
    "start_time": "2021-12-24T07:51:28.163Z"
   },
   {
    "duration": 13,
    "start_time": "2021-12-24T07:51:28.950Z"
   },
   {
    "duration": 23,
    "start_time": "2021-12-24T07:51:28.966Z"
   },
   {
    "duration": 39,
    "start_time": "2021-12-24T07:51:28.991Z"
   },
   {
    "duration": 27,
    "start_time": "2021-12-24T07:51:29.033Z"
   },
   {
    "duration": 1476,
    "start_time": "2021-12-24T07:51:29.063Z"
   },
   {
    "duration": 6760,
    "start_time": "2021-12-24T07:51:36.350Z"
   },
   {
    "duration": 36,
    "start_time": "2021-12-24T07:53:23.109Z"
   },
   {
    "duration": 38,
    "start_time": "2021-12-24T07:53:47.036Z"
   },
   {
    "duration": 44,
    "start_time": "2021-12-24T07:54:39.276Z"
   },
   {
    "duration": 91,
    "start_time": "2021-12-24T07:55:08.785Z"
   },
   {
    "duration": 13,
    "start_time": "2021-12-24T07:55:15.717Z"
   },
   {
    "duration": 24,
    "start_time": "2021-12-24T07:55:25.584Z"
   },
   {
    "duration": 20,
    "start_time": "2021-12-24T07:55:31.029Z"
   },
   {
    "duration": 31,
    "start_time": "2021-12-24T07:55:38.244Z"
   },
   {
    "duration": 657,
    "start_time": "2021-12-24T07:55:45.813Z"
   },
   {
    "duration": 28,
    "start_time": "2021-12-24T07:57:00.675Z"
   },
   {
    "duration": 92,
    "start_time": "2021-12-24T07:57:27.515Z"
   },
   {
    "duration": 62,
    "start_time": "2021-12-24T07:57:35.978Z"
   },
   {
    "duration": 50,
    "start_time": "2021-12-24T07:59:49.893Z"
   },
   {
    "duration": 45,
    "start_time": "2021-12-24T08:00:37.878Z"
   },
   {
    "duration": 18,
    "start_time": "2021-12-24T08:00:41.353Z"
   },
   {
    "duration": 47,
    "start_time": "2021-12-24T08:00:50.022Z"
   },
   {
    "duration": 40,
    "start_time": "2021-12-24T08:00:57.909Z"
   },
   {
    "duration": 90,
    "start_time": "2021-12-24T08:01:05.633Z"
   },
   {
    "duration": 12,
    "start_time": "2021-12-24T08:01:05.725Z"
   },
   {
    "duration": 23,
    "start_time": "2021-12-24T08:01:05.740Z"
   },
   {
    "duration": 17,
    "start_time": "2021-12-24T08:01:05.766Z"
   },
   {
    "duration": 28,
    "start_time": "2021-12-24T08:01:05.818Z"
   },
   {
    "duration": 686,
    "start_time": "2021-12-24T08:01:05.850Z"
   },
   {
    "duration": 41,
    "start_time": "2021-12-24T08:01:06.538Z"
   },
   {
    "duration": 42,
    "start_time": "2021-12-24T08:01:06.582Z"
   },
   {
    "duration": 46,
    "start_time": "2021-12-24T08:01:56.058Z"
   },
   {
    "duration": 303,
    "start_time": "2021-12-24T08:04:06.142Z"
   },
   {
    "duration": 50,
    "start_time": "2021-12-24T08:04:45.428Z"
   },
   {
    "duration": 53,
    "start_time": "2021-12-24T08:05:29.755Z"
   },
   {
    "duration": 88,
    "start_time": "2021-12-24T08:06:22.550Z"
   },
   {
    "duration": 13,
    "start_time": "2021-12-24T08:06:22.641Z"
   },
   {
    "duration": 23,
    "start_time": "2021-12-24T08:06:22.657Z"
   },
   {
    "duration": 49,
    "start_time": "2021-12-24T08:06:22.682Z"
   },
   {
    "duration": 28,
    "start_time": "2021-12-24T08:06:22.733Z"
   },
   {
    "duration": 780,
    "start_time": "2021-12-24T08:06:22.763Z"
   },
   {
    "duration": 52,
    "start_time": "2021-12-24T08:06:29.019Z"
   },
   {
    "duration": 71,
    "start_time": "2021-12-24T08:07:30.771Z"
   },
   {
    "duration": 380,
    "start_time": "2021-12-24T08:08:05.619Z"
   },
   {
    "duration": 63,
    "start_time": "2021-12-24T08:08:18.529Z"
   },
   {
    "duration": 59,
    "start_time": "2021-12-24T08:14:34.825Z"
   },
   {
    "duration": 88,
    "start_time": "2021-12-24T08:15:11.615Z"
   },
   {
    "duration": 75,
    "start_time": "2021-12-24T08:16:13.515Z"
   },
   {
    "duration": 62,
    "start_time": "2021-12-24T08:19:01.831Z"
   },
   {
    "duration": 13,
    "start_time": "2021-12-24T08:22:13.888Z"
   },
   {
    "duration": 24,
    "start_time": "2021-12-24T08:30:54.270Z"
   },
   {
    "duration": 22,
    "start_time": "2021-12-24T08:31:00.772Z"
   },
   {
    "duration": 24,
    "start_time": "2021-12-24T08:31:24.801Z"
   },
   {
    "duration": 23,
    "start_time": "2021-12-24T08:32:38.657Z"
   },
   {
    "duration": 270,
    "start_time": "2021-12-24T08:33:32.683Z"
   },
   {
    "duration": 283,
    "start_time": "2021-12-24T08:34:17.508Z"
   },
   {
    "duration": 280,
    "start_time": "2021-12-24T08:34:25.028Z"
   },
   {
    "duration": 270,
    "start_time": "2021-12-24T08:34:32.436Z"
   },
   {
    "duration": 129,
    "start_time": "2021-12-24T08:34:40.778Z"
   },
   {
    "duration": 23,
    "start_time": "2021-12-24T08:34:40.910Z"
   },
   {
    "duration": 32,
    "start_time": "2021-12-24T08:34:40.937Z"
   },
   {
    "duration": 48,
    "start_time": "2021-12-24T08:34:40.972Z"
   },
   {
    "duration": 29,
    "start_time": "2021-12-24T08:34:41.022Z"
   },
   {
    "duration": 677,
    "start_time": "2021-12-24T08:34:41.053Z"
   },
   {
    "duration": 60,
    "start_time": "2021-12-24T08:34:41.733Z"
   },
   {
    "duration": 16,
    "start_time": "2021-12-24T08:34:41.819Z"
   },
   {
    "duration": 31,
    "start_time": "2021-12-24T08:34:41.838Z"
   },
   {
    "duration": 65,
    "start_time": "2021-12-24T08:34:41.873Z"
   },
   {
    "duration": 15,
    "start_time": "2021-12-24T08:40:57.935Z"
   },
   {
    "duration": 271,
    "start_time": "2021-12-24T08:43:23.153Z"
   },
   {
    "duration": 24,
    "start_time": "2021-12-24T08:43:36.234Z"
   },
   {
    "duration": 14,
    "start_time": "2021-12-24T08:43:39.270Z"
   },
   {
    "duration": 5,
    "start_time": "2021-12-24T08:51:09.161Z"
   },
   {
    "duration": 18,
    "start_time": "2021-12-24T08:51:19.944Z"
   },
   {
    "duration": 29,
    "start_time": "2021-12-24T08:51:42.159Z"
   },
   {
    "duration": 21,
    "start_time": "2021-12-24T08:57:54.506Z"
   },
   {
    "duration": 28,
    "start_time": "2021-12-24T08:58:09.694Z"
   },
   {
    "duration": 21,
    "start_time": "2021-12-24T08:58:25.118Z"
   },
   {
    "duration": 35,
    "start_time": "2021-12-24T08:59:20.893Z"
   },
   {
    "duration": 31,
    "start_time": "2021-12-24T08:59:42.335Z"
   },
   {
    "duration": 90,
    "start_time": "2021-12-24T08:59:58.407Z"
   },
   {
    "duration": 31,
    "start_time": "2021-12-24T08:59:58.516Z"
   },
   {
    "duration": 23,
    "start_time": "2021-12-24T08:59:58.550Z"
   },
   {
    "duration": 48,
    "start_time": "2021-12-24T08:59:58.576Z"
   },
   {
    "duration": 28,
    "start_time": "2021-12-24T08:59:58.626Z"
   },
   {
    "duration": 788,
    "start_time": "2021-12-24T08:59:58.656Z"
   },
   {
    "duration": 72,
    "start_time": "2021-12-24T08:59:59.447Z"
   },
   {
    "duration": 14,
    "start_time": "2021-12-24T08:59:59.522Z"
   },
   {
    "duration": 22,
    "start_time": "2021-12-24T08:59:59.539Z"
   },
   {
    "duration": 60,
    "start_time": "2021-12-24T08:59:59.564Z"
   },
   {
    "duration": 17,
    "start_time": "2021-12-24T08:59:59.627Z"
   },
   {
    "duration": 33,
    "start_time": "2021-12-24T08:59:59.647Z"
   },
   {
    "duration": 24,
    "start_time": "2021-12-24T08:59:59.718Z"
   },
   {
    "duration": 43,
    "start_time": "2021-12-24T09:03:15.077Z"
   },
   {
    "duration": 100,
    "start_time": "2021-12-24T09:03:26.217Z"
   },
   {
    "duration": 32,
    "start_time": "2021-12-24T09:03:26.320Z"
   },
   {
    "duration": 24,
    "start_time": "2021-12-24T09:03:26.356Z"
   },
   {
    "duration": 20,
    "start_time": "2021-12-24T09:03:26.418Z"
   },
   {
    "duration": 29,
    "start_time": "2021-12-24T09:03:26.441Z"
   },
   {
    "duration": 726,
    "start_time": "2021-12-24T09:03:26.473Z"
   },
   {
    "duration": 66,
    "start_time": "2021-12-24T09:03:27.201Z"
   },
   {
    "duration": 13,
    "start_time": "2021-12-24T09:03:27.270Z"
   },
   {
    "duration": 44,
    "start_time": "2021-12-24T09:03:27.286Z"
   },
   {
    "duration": 26,
    "start_time": "2021-12-24T09:03:27.333Z"
   },
   {
    "duration": 14,
    "start_time": "2021-12-24T09:03:27.362Z"
   },
   {
    "duration": 62,
    "start_time": "2021-12-24T09:03:27.378Z"
   },
   {
    "duration": 20,
    "start_time": "2021-12-24T09:03:27.443Z"
   },
   {
    "duration": 22,
    "start_time": "2021-12-24T09:05:08.282Z"
   },
   {
    "duration": 31,
    "start_time": "2021-12-24T09:06:40.387Z"
   },
   {
    "duration": 270,
    "start_time": "2021-12-24T09:12:15.183Z"
   },
   {
    "duration": 279,
    "start_time": "2021-12-24T09:12:31.180Z"
   },
   {
    "duration": 277,
    "start_time": "2021-12-24T09:12:42.004Z"
   },
   {
    "duration": 248,
    "start_time": "2021-12-24T09:12:49.604Z"
   },
   {
    "duration": 93,
    "start_time": "2021-12-24T09:12:58.631Z"
   },
   {
    "duration": 36,
    "start_time": "2021-12-24T09:12:58.728Z"
   },
   {
    "duration": 50,
    "start_time": "2021-12-24T09:12:58.767Z"
   },
   {
    "duration": 18,
    "start_time": "2021-12-24T09:12:58.820Z"
   },
   {
    "duration": 29,
    "start_time": "2021-12-24T09:12:58.841Z"
   },
   {
    "duration": 688,
    "start_time": "2021-12-24T09:12:58.872Z"
   },
   {
    "duration": 71,
    "start_time": "2021-12-24T09:12:59.563Z"
   },
   {
    "duration": 12,
    "start_time": "2021-12-24T09:12:59.637Z"
   },
   {
    "duration": 19,
    "start_time": "2021-12-24T09:12:59.652Z"
   },
   {
    "duration": 61,
    "start_time": "2021-12-24T09:12:59.674Z"
   },
   {
    "duration": 20,
    "start_time": "2021-12-24T09:12:59.737Z"
   },
   {
    "duration": 66,
    "start_time": "2021-12-24T09:12:59.759Z"
   },
   {
    "duration": 30,
    "start_time": "2021-12-24T09:12:59.828Z"
   },
   {
    "duration": 64,
    "start_time": "2021-12-24T09:12:59.861Z"
   },
   {
    "duration": 32,
    "start_time": "2021-12-24T09:13:25.899Z"
   },
   {
    "duration": 21,
    "start_time": "2021-12-24T09:13:33.157Z"
   },
   {
    "duration": 32,
    "start_time": "2021-12-24T09:13:53.538Z"
   },
   {
    "duration": 287,
    "start_time": "2021-12-24T09:14:21.898Z"
   },
   {
    "duration": 90,
    "start_time": "2021-12-24T09:14:29.051Z"
   },
   {
    "duration": 38,
    "start_time": "2021-12-24T09:14:29.144Z"
   },
   {
    "duration": 50,
    "start_time": "2021-12-24T09:14:29.186Z"
   },
   {
    "duration": 18,
    "start_time": "2021-12-24T09:14:29.239Z"
   },
   {
    "duration": 59,
    "start_time": "2021-12-24T09:14:29.259Z"
   },
   {
    "duration": 699,
    "start_time": "2021-12-24T09:14:29.321Z"
   },
   {
    "duration": 60,
    "start_time": "2021-12-24T09:14:30.022Z"
   },
   {
    "duration": 37,
    "start_time": "2021-12-24T09:14:30.086Z"
   },
   {
    "duration": 25,
    "start_time": "2021-12-24T09:14:30.127Z"
   },
   {
    "duration": 64,
    "start_time": "2021-12-24T09:14:30.155Z"
   },
   {
    "duration": 14,
    "start_time": "2021-12-24T09:14:30.222Z"
   },
   {
    "duration": 46,
    "start_time": "2021-12-24T09:14:30.240Z"
   },
   {
    "duration": 47,
    "start_time": "2021-12-24T09:14:30.288Z"
   },
   {
    "duration": 302,
    "start_time": "2021-12-24T09:14:30.338Z"
   },
   {
    "duration": 327,
    "start_time": "2021-12-24T09:14:50.353Z"
   },
   {
    "duration": 90,
    "start_time": "2021-12-24T09:14:54.555Z"
   },
   {
    "duration": 203,
    "start_time": "2021-12-24T09:14:54.649Z"
   },
   {
    "duration": 35,
    "start_time": "2021-12-24T09:14:54.856Z"
   },
   {
    "duration": 44,
    "start_time": "2021-12-24T09:14:54.895Z"
   },
   {
    "duration": 42,
    "start_time": "2021-12-24T09:14:54.942Z"
   },
   {
    "duration": 1172,
    "start_time": "2021-12-24T09:14:54.987Z"
   },
   {
    "duration": 102,
    "start_time": "2021-12-24T09:14:56.162Z"
   },
   {
    "duration": 19,
    "start_time": "2021-12-24T09:14:56.270Z"
   },
   {
    "duration": 27,
    "start_time": "2021-12-24T09:14:56.292Z"
   },
   {
    "duration": 38,
    "start_time": "2021-12-24T09:14:56.322Z"
   },
   {
    "duration": 23,
    "start_time": "2021-12-24T09:14:56.364Z"
   },
   {
    "duration": 57,
    "start_time": "2021-12-24T09:14:56.390Z"
   },
   {
    "duration": 31,
    "start_time": "2021-12-24T09:14:56.450Z"
   },
   {
    "duration": 58,
    "start_time": "2021-12-24T09:14:56.484Z"
   },
   {
    "duration": 289,
    "start_time": "2021-12-24T10:48:04.456Z"
   },
   {
    "duration": 6,
    "start_time": "2021-12-24T10:48:10.097Z"
   },
   {
    "duration": 91,
    "start_time": "2021-12-24T10:48:38.344Z"
   },
   {
    "duration": 33,
    "start_time": "2021-12-24T10:48:38.437Z"
   },
   {
    "duration": 44,
    "start_time": "2021-12-24T10:48:38.473Z"
   },
   {
    "duration": 17,
    "start_time": "2021-12-24T10:48:38.520Z"
   },
   {
    "duration": 29,
    "start_time": "2021-12-24T10:48:38.539Z"
   },
   {
    "duration": 795,
    "start_time": "2021-12-24T10:48:38.570Z"
   },
   {
    "duration": 71,
    "start_time": "2021-12-24T10:48:39.367Z"
   },
   {
    "duration": 11,
    "start_time": "2021-12-24T10:48:39.441Z"
   },
   {
    "duration": 17,
    "start_time": "2021-12-24T10:48:39.455Z"
   },
   {
    "duration": 58,
    "start_time": "2021-12-24T10:48:39.474Z"
   },
   {
    "duration": 14,
    "start_time": "2021-12-24T10:48:39.534Z"
   },
   {
    "duration": 28,
    "start_time": "2021-12-24T10:48:39.551Z"
   },
   {
    "duration": 49,
    "start_time": "2021-12-24T10:48:39.581Z"
   },
   {
    "duration": 32,
    "start_time": "2021-12-24T10:48:39.633Z"
   },
   {
    "duration": 5,
    "start_time": "2021-12-24T10:48:39.667Z"
   },
   {
    "duration": 12,
    "start_time": "2021-12-24T10:51:52.146Z"
   },
   {
    "duration": 18,
    "start_time": "2021-12-24T10:52:05.883Z"
   },
   {
    "duration": 21,
    "start_time": "2021-12-24T10:53:20.749Z"
   },
   {
    "duration": 17,
    "start_time": "2021-12-24T10:53:32.321Z"
   },
   {
    "duration": 91,
    "start_time": "2021-12-24T10:54:20.669Z"
   },
   {
    "duration": 18,
    "start_time": "2021-12-24T10:54:26.492Z"
   },
   {
    "duration": 13,
    "start_time": "2021-12-24T10:59:41.816Z"
   },
   {
    "duration": 21,
    "start_time": "2021-12-24T11:00:26.474Z"
   },
   {
    "duration": 26,
    "start_time": "2021-12-24T11:01:11.938Z"
   },
   {
    "duration": 11,
    "start_time": "2021-12-24T11:02:22.602Z"
   },
   {
    "duration": 51,
    "start_time": "2021-12-24T11:09:53.725Z"
   },
   {
    "duration": 49,
    "start_time": "2021-12-24T11:10:23.866Z"
   },
   {
    "duration": 18,
    "start_time": "2021-12-24T11:10:54.336Z"
   },
   {
    "duration": 8,
    "start_time": "2021-12-24T11:11:03.660Z"
   },
   {
    "duration": 8,
    "start_time": "2021-12-24T11:11:06.627Z"
   },
   {
    "duration": 17,
    "start_time": "2021-12-24T11:11:14.356Z"
   },
   {
    "duration": 282,
    "start_time": "2021-12-24T11:57:00.691Z"
   },
   {
    "duration": 441,
    "start_time": "2021-12-24T11:57:30.475Z"
   },
   {
    "duration": 6560,
    "start_time": "2021-12-24T11:58:17.036Z"
   },
   {
    "duration": 904,
    "start_time": "2021-12-24T11:58:42.207Z"
   },
   {
    "duration": 299,
    "start_time": "2021-12-24T11:58:54.653Z"
   },
   {
    "duration": 929,
    "start_time": "2021-12-24T12:01:05.942Z"
   },
   {
    "duration": 32,
    "start_time": "2021-12-24T12:01:28.710Z"
   },
   {
    "duration": 9,
    "start_time": "2021-12-24T12:01:38.989Z"
   },
   {
    "duration": 5429,
    "start_time": "2021-12-24T12:02:05.223Z"
   },
   {
    "duration": 5658,
    "start_time": "2021-12-24T12:02:54.650Z"
   },
   {
    "duration": 5499,
    "start_time": "2021-12-24T12:03:51.878Z"
   },
   {
    "duration": 5660,
    "start_time": "2021-12-24T12:04:24.448Z"
   },
   {
    "duration": 6078,
    "start_time": "2021-12-24T12:07:06.668Z"
   },
   {
    "duration": 6164,
    "start_time": "2021-12-24T12:09:34.597Z"
   },
   {
    "duration": 6056,
    "start_time": "2021-12-24T12:10:39.196Z"
   },
   {
    "duration": 302,
    "start_time": "2021-12-24T12:30:48.717Z"
   },
   {
    "duration": 31,
    "start_time": "2021-12-24T12:31:10.812Z"
   },
   {
    "duration": 24,
    "start_time": "2021-12-24T12:31:27.211Z"
   },
   {
    "duration": 22,
    "start_time": "2021-12-24T12:31:39.852Z"
   },
   {
    "duration": 301,
    "start_time": "2021-12-24T12:33:54.052Z"
   },
   {
    "duration": 291,
    "start_time": "2021-12-24T12:34:23.067Z"
   },
   {
    "duration": 21,
    "start_time": "2021-12-24T12:34:34.031Z"
   },
   {
    "duration": 283,
    "start_time": "2021-12-24T12:37:00.942Z"
   },
   {
    "duration": 288,
    "start_time": "2021-12-24T12:38:26.162Z"
   },
   {
    "duration": 22,
    "start_time": "2021-12-24T12:38:37.014Z"
   },
   {
    "duration": 21,
    "start_time": "2021-12-24T12:38:44.894Z"
   },
   {
    "duration": 330,
    "start_time": "2021-12-24T12:39:34.867Z"
   },
   {
    "duration": 347,
    "start_time": "2021-12-24T12:40:39.492Z"
   },
   {
    "duration": 366,
    "start_time": "2021-12-24T12:41:02.040Z"
   },
   {
    "duration": 23,
    "start_time": "2021-12-24T12:41:50.635Z"
   },
   {
    "duration": 22,
    "start_time": "2021-12-24T12:42:13.437Z"
   },
   {
    "duration": 23,
    "start_time": "2021-12-24T12:42:38.853Z"
   },
   {
    "duration": 24,
    "start_time": "2021-12-24T12:43:03.233Z"
   },
   {
    "duration": 36,
    "start_time": "2021-12-24T12:43:28.033Z"
   },
   {
    "duration": 23,
    "start_time": "2021-12-24T12:44:03.073Z"
   },
   {
    "duration": 321,
    "start_time": "2021-12-24T12:44:28.901Z"
   },
   {
    "duration": 277,
    "start_time": "2021-12-24T12:45:24.763Z"
   },
   {
    "duration": 304,
    "start_time": "2021-12-24T12:46:18.559Z"
   },
   {
    "duration": 296,
    "start_time": "2021-12-24T12:46:34.096Z"
   },
   {
    "duration": 28,
    "start_time": "2021-12-24T12:49:15.761Z"
   },
   {
    "duration": 26,
    "start_time": "2021-12-24T12:49:24.650Z"
   },
   {
    "duration": 18,
    "start_time": "2021-12-24T12:50:47.462Z"
   },
   {
    "duration": 15,
    "start_time": "2021-12-24T12:50:50.313Z"
   },
   {
    "duration": 15,
    "start_time": "2021-12-24T12:50:54.585Z"
   },
   {
    "duration": 9345,
    "start_time": "2021-12-24T13:20:37.549Z"
   },
   {
    "duration": 6920,
    "start_time": "2021-12-24T13:21:41.284Z"
   },
   {
    "duration": 3385,
    "start_time": "2021-12-24T13:23:08.249Z"
   },
   {
    "duration": 3431,
    "start_time": "2021-12-24T13:23:23.336Z"
   },
   {
    "duration": 3410,
    "start_time": "2021-12-24T13:24:04.832Z"
   },
   {
    "duration": 2253,
    "start_time": "2021-12-24T13:28:49.397Z"
   },
   {
    "duration": 2247,
    "start_time": "2021-12-24T13:28:57.951Z"
   },
   {
    "duration": 715,
    "start_time": "2021-12-24T13:30:05.525Z"
   },
   {
    "duration": 626,
    "start_time": "2021-12-24T13:31:00.887Z"
   },
   {
    "duration": 604,
    "start_time": "2021-12-24T13:32:51.391Z"
   },
   {
    "duration": 641,
    "start_time": "2021-12-24T13:35:04.524Z"
   },
   {
    "duration": 927,
    "start_time": "2021-12-24T13:39:04.838Z"
   },
   {
    "duration": 883,
    "start_time": "2021-12-24T13:39:28.278Z"
   },
   {
    "duration": 927,
    "start_time": "2021-12-24T13:39:51.652Z"
   },
   {
    "duration": 904,
    "start_time": "2021-12-24T13:40:11.617Z"
   },
   {
    "duration": 1391,
    "start_time": "2021-12-24T13:46:34.942Z"
   },
   {
    "duration": 850,
    "start_time": "2021-12-24T13:46:53.100Z"
   },
   {
    "duration": 796,
    "start_time": "2021-12-24T13:47:17.669Z"
   },
   {
    "duration": 105,
    "start_time": "2021-12-24T13:49:50.721Z"
   },
   {
    "duration": 91,
    "start_time": "2021-12-24T13:50:51.253Z"
   },
   {
    "duration": 114,
    "start_time": "2021-12-24T13:51:11.076Z"
   },
   {
    "duration": 643,
    "start_time": "2021-12-24T13:52:37.091Z"
   },
   {
    "duration": 1064,
    "start_time": "2021-12-24T13:52:54.505Z"
   },
   {
    "duration": 623,
    "start_time": "2021-12-24T13:54:09.377Z"
   },
   {
    "duration": 128,
    "start_time": "2021-12-24T13:54:37.477Z"
   },
   {
    "duration": 1381,
    "start_time": "2021-12-24T13:59:27.870Z"
   },
   {
    "duration": 29,
    "start_time": "2021-12-24T15:22:17.964Z"
   },
   {
    "duration": 91,
    "start_time": "2021-12-24T15:35:03.004Z"
   },
   {
    "duration": 6,
    "start_time": "2021-12-24T15:35:14.595Z"
   },
   {
    "duration": 10,
    "start_time": "2021-12-24T15:35:57.325Z"
   },
   {
    "duration": 12,
    "start_time": "2021-12-24T15:36:06.271Z"
   },
   {
    "duration": 12,
    "start_time": "2021-12-24T15:36:38.832Z"
   },
   {
    "duration": 55,
    "start_time": "2021-12-24T15:38:01.500Z"
   },
   {
    "duration": 51,
    "start_time": "2021-12-24T15:38:29.578Z"
   },
   {
    "duration": 211,
    "start_time": "2021-12-24T15:39:31.689Z"
   },
   {
    "duration": 543,
    "start_time": "2021-12-24T15:40:58.225Z"
   },
   {
    "duration": 506,
    "start_time": "2021-12-24T15:41:33.629Z"
   },
   {
    "duration": 656,
    "start_time": "2021-12-24T16:30:30.121Z"
   },
   {
    "duration": 662,
    "start_time": "2021-12-24T16:32:40.031Z"
   },
   {
    "duration": 574,
    "start_time": "2021-12-24T16:32:48.309Z"
   },
   {
    "duration": 28,
    "start_time": "2021-12-24T16:35:24.491Z"
   },
   {
    "duration": 23,
    "start_time": "2021-12-24T16:35:53.986Z"
   },
   {
    "duration": 18,
    "start_time": "2021-12-24T16:42:58.100Z"
   },
   {
    "duration": 31,
    "start_time": "2021-12-24T16:51:20.090Z"
   },
   {
    "duration": 45,
    "start_time": "2021-12-24T16:51:32.941Z"
   },
   {
    "duration": 17,
    "start_time": "2021-12-24T16:52:18.301Z"
   },
   {
    "duration": 18,
    "start_time": "2021-12-24T16:52:30.121Z"
   },
   {
    "duration": 32,
    "start_time": "2021-12-24T16:53:09.120Z"
   },
   {
    "duration": 7,
    "start_time": "2021-12-24T16:55:45.899Z"
   },
   {
    "duration": 8,
    "start_time": "2021-12-24T16:56:04.379Z"
   },
   {
    "duration": 91,
    "start_time": "2021-12-24T16:57:07.187Z"
   },
   {
    "duration": 92,
    "start_time": "2021-12-24T16:57:14.472Z"
   },
   {
    "duration": 93,
    "start_time": "2021-12-24T16:57:40.556Z"
   },
   {
    "duration": 278,
    "start_time": "2021-12-24T16:58:26.207Z"
   },
   {
    "duration": 65,
    "start_time": "2021-12-24T16:58:58.463Z"
   },
   {
    "duration": 22,
    "start_time": "2021-12-24T17:00:02.433Z"
   },
   {
    "duration": 30,
    "start_time": "2021-12-24T17:00:09.035Z"
   },
   {
    "duration": 98,
    "start_time": "2021-12-24T17:00:45.369Z"
   },
   {
    "duration": 7,
    "start_time": "2021-12-24T17:05:02.686Z"
   },
   {
    "duration": 20,
    "start_time": "2021-12-24T17:07:47.978Z"
   },
   {
    "duration": 8,
    "start_time": "2021-12-24T18:08:11.612Z"
   },
   {
    "duration": 273,
    "start_time": "2021-12-24T19:53:34.637Z"
   },
   {
    "duration": 344,
    "start_time": "2021-12-24T19:54:02.838Z"
   },
   {
    "duration": 257,
    "start_time": "2021-12-24T19:55:37.477Z"
   },
   {
    "duration": 259,
    "start_time": "2021-12-24T19:56:43.606Z"
   },
   {
    "duration": 141,
    "start_time": "2021-12-24T19:56:52.918Z"
   },
   {
    "duration": 57,
    "start_time": "2021-12-24T19:56:53.062Z"
   },
   {
    "duration": 23,
    "start_time": "2021-12-24T19:56:53.122Z"
   },
   {
    "duration": 18,
    "start_time": "2021-12-24T19:56:53.148Z"
   },
   {
    "duration": 67,
    "start_time": "2021-12-24T19:56:53.168Z"
   },
   {
    "duration": 695,
    "start_time": "2021-12-24T19:56:53.238Z"
   },
   {
    "duration": 62,
    "start_time": "2021-12-24T19:56:53.937Z"
   },
   {
    "duration": 14,
    "start_time": "2021-12-24T19:56:54.022Z"
   },
   {
    "duration": 19,
    "start_time": "2021-12-24T19:56:54.041Z"
   },
   {
    "duration": 67,
    "start_time": "2021-12-24T19:56:54.063Z"
   },
   {
    "duration": 17,
    "start_time": "2021-12-24T19:56:54.132Z"
   },
   {
    "duration": 31,
    "start_time": "2021-12-24T19:56:54.152Z"
   },
   {
    "duration": 36,
    "start_time": "2021-12-24T19:56:54.219Z"
   },
   {
    "duration": 66,
    "start_time": "2021-12-24T19:56:54.258Z"
   },
   {
    "duration": 52,
    "start_time": "2021-12-24T19:56:54.326Z"
   },
   {
    "duration": 47,
    "start_time": "2021-12-24T19:56:54.381Z"
   },
   {
    "duration": 24,
    "start_time": "2021-12-24T19:56:54.431Z"
   },
   {
    "duration": 11,
    "start_time": "2021-12-24T19:56:54.458Z"
   },
   {
    "duration": 354,
    "start_time": "2021-12-24T19:56:54.471Z"
   },
   {
    "duration": 2493,
    "start_time": "2021-12-24T19:56:52.335Z"
   },
   {
    "duration": 2481,
    "start_time": "2021-12-24T19:56:52.349Z"
   },
   {
    "duration": 2478,
    "start_time": "2021-12-24T19:56:52.353Z"
   },
   {
    "duration": 2477,
    "start_time": "2021-12-24T19:56:52.356Z"
   },
   {
    "duration": 2474,
    "start_time": "2021-12-24T19:56:52.360Z"
   },
   {
    "duration": 2472,
    "start_time": "2021-12-24T19:56:52.364Z"
   },
   {
    "duration": 2469,
    "start_time": "2021-12-24T19:56:52.368Z"
   },
   {
    "duration": 2467,
    "start_time": "2021-12-24T19:56:52.372Z"
   },
   {
    "duration": 2464,
    "start_time": "2021-12-24T19:56:52.376Z"
   },
   {
    "duration": 89,
    "start_time": "2021-12-24T20:01:51.061Z"
   },
   {
    "duration": 42,
    "start_time": "2021-12-24T20:02:51.799Z"
   },
   {
    "duration": 16,
    "start_time": "2021-12-24T20:03:14.536Z"
   },
   {
    "duration": 25,
    "start_time": "2021-12-24T20:03:39.800Z"
   },
   {
    "duration": 22,
    "start_time": "2021-12-24T20:04:22.664Z"
   },
   {
    "duration": 311,
    "start_time": "2021-12-24T20:07:29.927Z"
   },
   {
    "duration": 91,
    "start_time": "2021-12-24T20:08:18.347Z"
   },
   {
    "duration": 32,
    "start_time": "2021-12-24T20:08:18.441Z"
   },
   {
    "duration": 49,
    "start_time": "2021-12-24T20:08:18.476Z"
   },
   {
    "duration": 18,
    "start_time": "2021-12-24T20:08:18.528Z"
   },
   {
    "duration": 27,
    "start_time": "2021-12-24T20:08:18.549Z"
   },
   {
    "duration": 701,
    "start_time": "2021-12-24T20:08:18.579Z"
   },
   {
    "duration": 70,
    "start_time": "2021-12-24T20:08:19.283Z"
   },
   {
    "duration": 13,
    "start_time": "2021-12-24T20:08:19.356Z"
   },
   {
    "duration": 47,
    "start_time": "2021-12-24T20:08:19.372Z"
   },
   {
    "duration": 24,
    "start_time": "2021-12-24T20:08:19.421Z"
   },
   {
    "duration": 13,
    "start_time": "2021-12-24T20:08:19.448Z"
   },
   {
    "duration": 65,
    "start_time": "2021-12-24T20:08:19.464Z"
   },
   {
    "duration": 20,
    "start_time": "2021-12-24T20:08:19.532Z"
   },
   {
    "duration": 79,
    "start_time": "2021-12-24T20:08:19.555Z"
   },
   {
    "duration": 26,
    "start_time": "2021-12-24T20:08:19.638Z"
   },
   {
    "duration": 66,
    "start_time": "2021-12-24T20:08:19.667Z"
   },
   {
    "duration": 9,
    "start_time": "2021-12-24T20:08:19.735Z"
   },
   {
    "duration": 268,
    "start_time": "2021-12-24T20:08:23.688Z"
   },
   {
    "duration": 111,
    "start_time": "2021-12-24T20:09:46.008Z"
   },
   {
    "duration": 36,
    "start_time": "2021-12-24T20:09:46.122Z"
   },
   {
    "duration": 61,
    "start_time": "2021-12-24T20:09:46.162Z"
   },
   {
    "duration": 19,
    "start_time": "2021-12-24T20:09:46.227Z"
   },
   {
    "duration": 30,
    "start_time": "2021-12-24T20:09:46.250Z"
   },
   {
    "duration": 695,
    "start_time": "2021-12-24T20:09:46.283Z"
   },
   {
    "duration": 78,
    "start_time": "2021-12-24T20:09:46.980Z"
   },
   {
    "duration": 14,
    "start_time": "2021-12-24T20:09:47.062Z"
   },
   {
    "duration": 40,
    "start_time": "2021-12-24T20:09:47.079Z"
   },
   {
    "duration": 26,
    "start_time": "2021-12-24T20:09:47.122Z"
   },
   {
    "duration": 20,
    "start_time": "2021-12-24T20:09:47.151Z"
   },
   {
    "duration": 72,
    "start_time": "2021-12-24T20:09:47.174Z"
   },
   {
    "duration": 27,
    "start_time": "2021-12-24T20:09:47.249Z"
   },
   {
    "duration": 92,
    "start_time": "2021-12-24T20:09:47.279Z"
   },
   {
    "duration": 51,
    "start_time": "2021-12-24T20:09:47.374Z"
   },
   {
    "duration": 34,
    "start_time": "2021-12-24T20:09:47.428Z"
   },
   {
    "duration": 9,
    "start_time": "2021-12-24T20:09:47.465Z"
   },
   {
    "duration": 358,
    "start_time": "2021-12-24T20:09:47.477Z"
   },
   {
    "duration": 126,
    "start_time": "2021-12-24T20:10:21.441Z"
   },
   {
    "duration": 48,
    "start_time": "2021-12-24T20:10:21.570Z"
   },
   {
    "duration": 25,
    "start_time": "2021-12-24T20:10:21.621Z"
   },
   {
    "duration": 21,
    "start_time": "2021-12-24T20:10:21.649Z"
   },
   {
    "duration": 61,
    "start_time": "2021-12-24T20:10:21.673Z"
   },
   {
    "duration": 676,
    "start_time": "2021-12-24T20:10:21.736Z"
   },
   {
    "duration": 60,
    "start_time": "2021-12-24T20:10:22.415Z"
   },
   {
    "duration": 42,
    "start_time": "2021-12-24T20:10:22.478Z"
   },
   {
    "duration": 20,
    "start_time": "2021-12-24T20:10:22.522Z"
   },
   {
    "duration": 24,
    "start_time": "2021-12-24T20:10:22.544Z"
   },
   {
    "duration": 46,
    "start_time": "2021-12-24T20:10:22.571Z"
   },
   {
    "duration": 29,
    "start_time": "2021-12-24T20:10:22.620Z"
   },
   {
    "duration": 20,
    "start_time": "2021-12-24T20:10:22.651Z"
   },
   {
    "duration": 80,
    "start_time": "2021-12-24T20:10:22.674Z"
   },
   {
    "duration": 62,
    "start_time": "2021-12-24T20:10:22.756Z"
   },
   {
    "duration": 23,
    "start_time": "2021-12-24T20:10:22.820Z"
   },
   {
    "duration": 8,
    "start_time": "2021-12-24T20:10:22.846Z"
   },
   {
    "duration": 67,
    "start_time": "2021-12-24T20:10:22.857Z"
   },
   {
    "duration": 10,
    "start_time": "2021-12-24T20:15:28.082Z"
   },
   {
    "duration": 7756,
    "start_time": "2021-12-24T20:15:28.095Z"
   },
   {
    "duration": 2505,
    "start_time": "2021-12-24T20:15:33.349Z"
   },
   {
    "duration": 2504,
    "start_time": "2021-12-24T20:15:33.352Z"
   },
   {
    "duration": 2496,
    "start_time": "2021-12-24T20:15:33.362Z"
   },
   {
    "duration": 2489,
    "start_time": "2021-12-24T20:15:33.370Z"
   },
   {
    "duration": 2480,
    "start_time": "2021-12-24T20:15:33.380Z"
   },
   {
    "duration": 2478,
    "start_time": "2021-12-24T20:15:33.384Z"
   },
   {
    "duration": 2469,
    "start_time": "2021-12-24T20:15:33.394Z"
   },
   {
    "duration": 41,
    "start_time": "2021-12-24T20:16:50.783Z"
   },
   {
    "duration": 37,
    "start_time": "2021-12-24T20:17:18.016Z"
   },
   {
    "duration": 96,
    "start_time": "2021-12-24T20:17:56.964Z"
   },
   {
    "duration": 56,
    "start_time": "2021-12-24T20:17:57.062Z"
   },
   {
    "duration": 22,
    "start_time": "2021-12-24T20:17:57.121Z"
   },
   {
    "duration": 17,
    "start_time": "2021-12-24T20:17:57.146Z"
   },
   {
    "duration": 62,
    "start_time": "2021-12-24T20:17:57.166Z"
   },
   {
    "duration": 760,
    "start_time": "2021-12-24T20:17:57.230Z"
   },
   {
    "duration": 66,
    "start_time": "2021-12-24T20:17:57.993Z"
   },
   {
    "duration": 14,
    "start_time": "2021-12-24T20:17:58.063Z"
   },
   {
    "duration": 47,
    "start_time": "2021-12-24T20:17:58.080Z"
   },
   {
    "duration": 26,
    "start_time": "2021-12-24T20:17:58.130Z"
   },
   {
    "duration": 16,
    "start_time": "2021-12-24T20:17:58.159Z"
   },
   {
    "duration": 65,
    "start_time": "2021-12-24T20:17:58.178Z"
   },
   {
    "duration": 22,
    "start_time": "2021-12-24T20:17:58.246Z"
   },
   {
    "duration": 82,
    "start_time": "2021-12-24T20:17:58.270Z"
   },
   {
    "duration": 22,
    "start_time": "2021-12-24T20:17:58.355Z"
   },
   {
    "duration": 52,
    "start_time": "2021-12-24T20:17:58.379Z"
   },
   {
    "duration": 8,
    "start_time": "2021-12-24T20:17:58.434Z"
   },
   {
    "duration": 33,
    "start_time": "2021-12-24T20:17:58.444Z"
   },
   {
    "duration": 10,
    "start_time": "2021-12-24T20:17:58.518Z"
   },
   {
    "duration": 5937,
    "start_time": "2021-12-24T20:17:58.531Z"
   },
   {
    "duration": 22,
    "start_time": "2021-12-24T20:18:04.471Z"
   },
   {
    "duration": 35,
    "start_time": "2021-12-24T20:18:04.496Z"
   },
   {
    "duration": 15,
    "start_time": "2021-12-24T20:18:04.535Z"
   },
   {
    "duration": 700,
    "start_time": "2021-12-24T20:18:04.552Z"
   },
   {
    "duration": 543,
    "start_time": "2021-12-24T20:18:05.254Z"
   },
   {
    "duration": 31,
    "start_time": "2021-12-24T20:18:05.800Z"
   },
   {
    "duration": 31,
    "start_time": "2021-12-24T20:18:05.833Z"
   },
   {
    "duration": 11,
    "start_time": "2021-12-24T20:41:59.929Z"
   },
   {
    "duration": 299,
    "start_time": "2021-12-24T20:43:56.427Z"
   },
   {
    "duration": 11,
    "start_time": "2021-12-24T20:44:07.233Z"
   },
   {
    "duration": 85,
    "start_time": "2021-12-24T20:48:30.980Z"
   },
   {
    "duration": 844,
    "start_time": "2021-12-24T20:53:44.131Z"
   },
   {
    "duration": 19,
    "start_time": "2021-12-24T20:55:44.059Z"
   },
   {
    "duration": 85,
    "start_time": "2021-12-24T21:24:52.489Z"
   },
   {
    "duration": 452,
    "start_time": "2021-12-24T21:25:04.398Z"
   },
   {
    "duration": 10,
    "start_time": "2021-12-24T21:25:59.652Z"
   },
   {
    "duration": 10,
    "start_time": "2021-12-24T21:26:09.350Z"
   },
   {
    "duration": 11,
    "start_time": "2021-12-24T21:34:10.127Z"
   },
   {
    "duration": 411,
    "start_time": "2021-12-24T21:39:35.810Z"
   },
   {
    "duration": 20,
    "start_time": "2021-12-24T21:41:15.058Z"
   },
   {
    "duration": 29,
    "start_time": "2021-12-24T21:42:31.362Z"
   },
   {
    "duration": 41,
    "start_time": "2021-12-24T21:45:11.898Z"
   },
   {
    "duration": 35,
    "start_time": "2021-12-24T21:45:21.869Z"
   },
   {
    "duration": 38,
    "start_time": "2021-12-24T21:46:28.440Z"
   },
   {
    "duration": 39,
    "start_time": "2021-12-24T21:47:53.767Z"
   },
   {
    "duration": 35,
    "start_time": "2021-12-24T21:48:13.407Z"
   },
   {
    "duration": 35,
    "start_time": "2021-12-24T21:48:34.577Z"
   },
   {
    "duration": 639,
    "start_time": "2021-12-24T22:24:44.742Z"
   },
   {
    "duration": 311,
    "start_time": "2021-12-24T22:25:11.696Z"
   },
   {
    "duration": 33,
    "start_time": "2021-12-24T22:25:25.170Z"
   },
   {
    "duration": 34,
    "start_time": "2021-12-24T22:25:39.114Z"
   },
   {
    "duration": 30,
    "start_time": "2021-12-24T22:25:50.568Z"
   },
   {
    "duration": 34,
    "start_time": "2021-12-24T22:26:07.097Z"
   },
   {
    "duration": 35,
    "start_time": "2021-12-24T22:26:28.912Z"
   },
   {
    "duration": 42,
    "start_time": "2021-12-24T22:26:32.970Z"
   },
   {
    "duration": 314,
    "start_time": "2021-12-24T22:30:32.028Z"
   },
   {
    "duration": 299,
    "start_time": "2021-12-24T22:30:41.931Z"
   },
   {
    "duration": 400,
    "start_time": "2021-12-24T22:34:43.864Z"
   },
   {
    "duration": 301,
    "start_time": "2021-12-24T22:35:17.663Z"
   },
   {
    "duration": 35,
    "start_time": "2021-12-24T22:36:22.058Z"
   },
   {
    "duration": 37,
    "start_time": "2021-12-24T22:36:45.293Z"
   },
   {
    "duration": 35,
    "start_time": "2021-12-24T22:37:03.049Z"
   },
   {
    "duration": 30,
    "start_time": "2021-12-24T22:37:10.394Z"
   },
   {
    "duration": 34,
    "start_time": "2021-12-24T22:37:21.434Z"
   },
   {
    "duration": 32,
    "start_time": "2021-12-24T22:39:27.670Z"
   },
   {
    "duration": 34,
    "start_time": "2021-12-24T22:40:14.964Z"
   },
   {
    "duration": 281,
    "start_time": "2021-12-24T22:41:10.406Z"
   },
   {
    "duration": 293,
    "start_time": "2021-12-24T22:41:23.066Z"
   },
   {
    "duration": 32,
    "start_time": "2021-12-24T22:41:39.401Z"
   },
   {
    "duration": 32,
    "start_time": "2021-12-24T22:43:54.877Z"
   },
   {
    "duration": 2772,
    "start_time": "2021-12-24T22:44:34.007Z"
   },
   {
    "duration": 967,
    "start_time": "2021-12-27T11:12:12.526Z"
   },
   {
    "duration": 31,
    "start_time": "2021-12-27T11:12:13.495Z"
   },
   {
    "duration": 48,
    "start_time": "2021-12-27T11:12:13.529Z"
   },
   {
    "duration": 23,
    "start_time": "2021-12-27T11:12:13.579Z"
   },
   {
    "duration": 65,
    "start_time": "2021-12-27T11:12:13.604Z"
   },
   {
    "duration": 1568,
    "start_time": "2021-12-27T11:12:13.672Z"
   },
   {
    "duration": 71,
    "start_time": "2021-12-27T11:12:15.243Z"
   },
   {
    "duration": 19,
    "start_time": "2021-12-27T11:12:15.319Z"
   },
   {
    "duration": 18,
    "start_time": "2021-12-27T11:12:15.364Z"
   },
   {
    "duration": 27,
    "start_time": "2021-12-27T11:12:15.384Z"
   },
   {
    "duration": 50,
    "start_time": "2021-12-27T11:12:15.414Z"
   },
   {
    "duration": 29,
    "start_time": "2021-12-27T11:12:15.467Z"
   },
   {
    "duration": 20,
    "start_time": "2021-12-27T11:12:15.498Z"
   },
   {
    "duration": 107,
    "start_time": "2021-12-27T11:12:15.521Z"
   },
   {
    "duration": 45,
    "start_time": "2021-12-27T11:12:15.630Z"
   },
   {
    "duration": 25,
    "start_time": "2021-12-27T11:12:15.678Z"
   },
   {
    "duration": 9,
    "start_time": "2021-12-27T11:12:15.706Z"
   },
   {
    "duration": 51,
    "start_time": "2021-12-27T11:12:15.718Z"
   },
   {
    "duration": 6822,
    "start_time": "2021-12-27T11:12:15.772Z"
   },
   {
    "duration": 829,
    "start_time": "2021-12-27T11:12:22.597Z"
   },
   {
    "duration": 1134,
    "start_time": "2021-12-27T11:14:26.945Z"
   },
   {
    "duration": 1350,
    "start_time": "2021-12-27T11:16:29.486Z"
   },
   {
    "duration": 1248,
    "start_time": "2021-12-27T11:17:00.315Z"
   },
   {
    "duration": 11,
    "start_time": "2021-12-27T11:20:15.414Z"
   },
   {
    "duration": 914,
    "start_time": "2021-12-27T11:20:34.506Z"
   },
   {
    "duration": 763,
    "start_time": "2021-12-27T11:21:42.736Z"
   },
   {
    "duration": 1365,
    "start_time": "2021-12-27T11:22:29.112Z"
   },
   {
    "duration": 989,
    "start_time": "2021-12-27T11:22:38.992Z"
   },
   {
    "duration": 14,
    "start_time": "2021-12-27T11:22:53.111Z"
   },
   {
    "duration": 29,
    "start_time": "2021-12-27T11:23:09.387Z"
   },
   {
    "duration": 63,
    "start_time": "2021-12-27T11:23:21.898Z"
   },
   {
    "duration": 965,
    "start_time": "2021-12-27T11:23:27.857Z"
   },
   {
    "duration": 48,
    "start_time": "2021-12-27T11:23:41.619Z"
   },
   {
    "duration": 42,
    "start_time": "2021-12-27T11:23:57.532Z"
   },
   {
    "duration": 1424,
    "start_time": "2021-12-27T11:33:40.524Z"
   },
   {
    "duration": 109,
    "start_time": "2021-12-27T11:34:27.498Z"
   },
   {
    "duration": 59,
    "start_time": "2021-12-27T11:34:27.611Z"
   },
   {
    "duration": 31,
    "start_time": "2021-12-27T11:34:27.673Z"
   },
   {
    "duration": 25,
    "start_time": "2021-12-27T11:34:27.707Z"
   },
   {
    "duration": 38,
    "start_time": "2021-12-27T11:34:27.764Z"
   },
   {
    "duration": 1081,
    "start_time": "2021-12-27T11:34:27.805Z"
   },
   {
    "duration": 83,
    "start_time": "2021-12-27T11:34:28.888Z"
   },
   {
    "duration": 18,
    "start_time": "2021-12-27T11:34:28.977Z"
   },
   {
    "duration": 25,
    "start_time": "2021-12-27T11:34:28.998Z"
   },
   {
    "duration": 58,
    "start_time": "2021-12-27T11:34:29.026Z"
   },
   {
    "duration": 14,
    "start_time": "2021-12-27T11:34:29.087Z"
   },
   {
    "duration": 62,
    "start_time": "2021-12-27T11:34:29.103Z"
   },
   {
    "duration": 24,
    "start_time": "2021-12-27T11:34:29.170Z"
   },
   {
    "duration": 81,
    "start_time": "2021-12-27T11:34:29.197Z"
   },
   {
    "duration": 26,
    "start_time": "2021-12-27T11:34:29.280Z"
   },
   {
    "duration": 69,
    "start_time": "2021-12-27T11:34:29.309Z"
   },
   {
    "duration": 9,
    "start_time": "2021-12-27T11:34:29.381Z"
   },
   {
    "duration": 10,
    "start_time": "2021-12-27T11:34:29.393Z"
   },
   {
    "duration": 7515,
    "start_time": "2021-12-27T11:34:29.406Z"
   },
   {
    "duration": 1687,
    "start_time": "2021-12-27T11:34:36.924Z"
   },
   {
    "duration": 11,
    "start_time": "2021-12-27T11:34:38.614Z"
   },
   {
    "duration": 38,
    "start_time": "2021-12-27T11:34:38.628Z"
   },
   {
    "duration": 948,
    "start_time": "2021-12-27T11:34:38.671Z"
   },
   {
    "duration": 1019,
    "start_time": "2021-12-27T11:35:17.654Z"
   },
   {
    "duration": 449,
    "start_time": "2021-12-27T11:35:41.690Z"
   },
   {
    "duration": 518,
    "start_time": "2021-12-27T11:35:57.971Z"
   },
   {
    "duration": 441,
    "start_time": "2021-12-27T11:36:22.491Z"
   },
   {
    "duration": 31,
    "start_time": "2021-12-27T11:37:14.500Z"
   },
   {
    "duration": 47,
    "start_time": "2021-12-27T11:38:24.362Z"
   },
   {
    "duration": 66,
    "start_time": "2021-12-27T11:40:32.771Z"
   },
   {
    "duration": 64,
    "start_time": "2021-12-27T11:49:20.987Z"
   },
   {
    "duration": 2091,
    "start_time": "2021-12-27T11:50:44.833Z"
   },
   {
    "duration": 7633,
    "start_time": "2021-12-27T11:51:18.326Z"
   },
   {
    "duration": 55,
    "start_time": "2021-12-27T11:51:51.094Z"
   },
   {
    "duration": 66,
    "start_time": "2021-12-27T11:52:42.614Z"
   },
   {
    "duration": 100,
    "start_time": "2021-12-27T12:01:25.698Z"
   },
   {
    "duration": 165,
    "start_time": "2021-12-27T12:02:42.370Z"
   },
   {
    "duration": 63,
    "start_time": "2021-12-27T12:03:47.635Z"
   },
   {
    "duration": 61,
    "start_time": "2021-12-27T12:03:59.937Z"
   },
   {
    "duration": 54,
    "start_time": "2021-12-27T12:04:10.868Z"
   },
   {
    "duration": 45,
    "start_time": "2021-12-27T12:04:31.484Z"
   },
   {
    "duration": 44,
    "start_time": "2021-12-27T12:04:38.064Z"
   },
   {
    "duration": 59,
    "start_time": "2021-12-27T12:05:20.597Z"
   },
   {
    "duration": 53,
    "start_time": "2021-12-27T12:05:28.676Z"
   },
   {
    "duration": 42,
    "start_time": "2021-12-27T12:16:58.021Z"
   },
   {
    "duration": 11,
    "start_time": "2021-12-27T12:22:18.418Z"
   },
   {
    "duration": 11,
    "start_time": "2021-12-27T12:22:46.019Z"
   },
   {
    "duration": 416,
    "start_time": "2021-12-27T12:22:49.568Z"
   },
   {
    "duration": 364,
    "start_time": "2021-12-27T12:23:35.834Z"
   },
   {
    "duration": 365,
    "start_time": "2021-12-27T12:23:57.456Z"
   },
   {
    "duration": 445,
    "start_time": "2021-12-27T12:24:19.198Z"
   },
   {
    "duration": 92,
    "start_time": "2021-12-27T12:24:37.595Z"
   },
   {
    "duration": 31,
    "start_time": "2021-12-27T12:24:37.690Z"
   },
   {
    "duration": 56,
    "start_time": "2021-12-27T12:24:37.724Z"
   },
   {
    "duration": 17,
    "start_time": "2021-12-27T12:24:37.783Z"
   },
   {
    "duration": 28,
    "start_time": "2021-12-27T12:24:37.803Z"
   },
   {
    "duration": 713,
    "start_time": "2021-12-27T12:24:37.864Z"
   },
   {
    "duration": 62,
    "start_time": "2021-12-27T12:24:38.580Z"
   },
   {
    "duration": 13,
    "start_time": "2021-12-27T12:24:38.664Z"
   },
   {
    "duration": 17,
    "start_time": "2021-12-27T12:24:38.681Z"
   },
   {
    "duration": 63,
    "start_time": "2021-12-27T12:24:38.701Z"
   },
   {
    "duration": 20,
    "start_time": "2021-12-27T12:24:38.767Z"
   },
   {
    "duration": 33,
    "start_time": "2021-12-27T12:24:38.790Z"
   },
   {
    "duration": 56,
    "start_time": "2021-12-27T12:24:38.825Z"
   },
   {
    "duration": 56,
    "start_time": "2021-12-27T12:24:38.884Z"
   },
   {
    "duration": 27,
    "start_time": "2021-12-27T12:24:38.963Z"
   },
   {
    "duration": 24,
    "start_time": "2021-12-27T12:24:38.992Z"
   },
   {
    "duration": 46,
    "start_time": "2021-12-27T12:24:39.019Z"
   },
   {
    "duration": 9,
    "start_time": "2021-12-27T12:24:39.067Z"
   },
   {
    "duration": 5518,
    "start_time": "2021-12-27T12:24:39.079Z"
   },
   {
    "duration": 1124,
    "start_time": "2021-12-27T12:24:44.601Z"
   },
   {
    "duration": 12,
    "start_time": "2021-12-27T12:24:45.728Z"
   },
   {
    "duration": 30,
    "start_time": "2021-12-27T12:24:45.744Z"
   },
   {
    "duration": 925,
    "start_time": "2021-12-27T12:24:45.778Z"
   },
   {
    "duration": 10,
    "start_time": "2021-12-27T12:24:46.706Z"
   },
   {
    "duration": 460,
    "start_time": "2021-12-27T12:24:46.720Z"
   },
   {
    "duration": 34,
    "start_time": "2021-12-27T12:24:47.183Z"
   },
   {
    "duration": 77,
    "start_time": "2021-12-27T12:24:47.220Z"
   },
   {
    "duration": 74,
    "start_time": "2021-12-27T12:24:47.300Z"
   },
   {
    "duration": 46,
    "start_time": "2021-12-27T12:24:47.376Z"
   },
   {
    "duration": 85,
    "start_time": "2021-12-27T12:24:47.424Z"
   },
   {
    "duration": 322,
    "start_time": "2021-12-27T12:24:47.512Z"
   },
   {
    "duration": 2088,
    "start_time": "2021-12-27T12:24:45.749Z"
   },
   {
    "duration": 318,
    "start_time": "2021-12-27T12:25:11.395Z"
   },
   {
    "duration": 340,
    "start_time": "2021-12-27T12:25:37.234Z"
   },
   {
    "duration": 41,
    "start_time": "2021-12-27T12:25:48.125Z"
   },
   {
    "duration": 52,
    "start_time": "2021-12-27T12:26:01.592Z"
   },
   {
    "duration": 54,
    "start_time": "2021-12-27T12:26:43.914Z"
   },
   {
    "duration": 288,
    "start_time": "2021-12-27T12:27:50.323Z"
   },
   {
    "duration": 10,
    "start_time": "2021-12-27T12:28:03.236Z"
   },
   {
    "duration": 58,
    "start_time": "2021-12-27T12:29:33.021Z"
   },
   {
    "duration": 56,
    "start_time": "2021-12-27T14:04:00.725Z"
   },
   {
    "duration": 43,
    "start_time": "2021-12-27T14:06:24.291Z"
   },
   {
    "duration": 44,
    "start_time": "2021-12-27T14:07:11.886Z"
   },
   {
    "duration": 453,
    "start_time": "2021-12-27T14:38:50.732Z"
   },
   {
    "duration": 104,
    "start_time": "2021-12-27T14:39:50.509Z"
   },
   {
    "duration": 64,
    "start_time": "2021-12-27T14:39:50.615Z"
   },
   {
    "duration": 24,
    "start_time": "2021-12-27T14:39:50.682Z"
   },
   {
    "duration": 17,
    "start_time": "2021-12-27T14:39:50.709Z"
   },
   {
    "duration": 38,
    "start_time": "2021-12-27T14:39:50.765Z"
   },
   {
    "duration": 808,
    "start_time": "2021-12-27T14:39:50.805Z"
   },
   {
    "duration": 92,
    "start_time": "2021-12-27T14:39:51.616Z"
   },
   {
    "duration": 18,
    "start_time": "2021-12-27T14:39:51.713Z"
   },
   {
    "duration": 54,
    "start_time": "2021-12-27T14:39:51.735Z"
   },
   {
    "duration": 30,
    "start_time": "2021-12-27T14:39:51.792Z"
   },
   {
    "duration": 41,
    "start_time": "2021-12-27T14:39:51.825Z"
   },
   {
    "duration": 38,
    "start_time": "2021-12-27T14:39:51.869Z"
   },
   {
    "duration": 58,
    "start_time": "2021-12-27T14:39:51.909Z"
   },
   {
    "duration": 64,
    "start_time": "2021-12-27T14:39:51.970Z"
   },
   {
    "duration": 53,
    "start_time": "2021-12-27T14:39:52.037Z"
   },
   {
    "duration": 27,
    "start_time": "2021-12-27T14:39:52.093Z"
   },
   {
    "duration": 11,
    "start_time": "2021-12-27T14:39:52.166Z"
   },
   {
    "duration": 12,
    "start_time": "2021-12-27T14:39:52.180Z"
   },
   {
    "duration": 6528,
    "start_time": "2021-12-27T14:39:52.195Z"
   },
   {
    "duration": 1694,
    "start_time": "2021-12-27T14:39:58.726Z"
   },
   {
    "duration": 11,
    "start_time": "2021-12-27T14:40:00.422Z"
   },
   {
    "duration": 32,
    "start_time": "2021-12-27T14:40:00.435Z"
   },
   {
    "duration": 950,
    "start_time": "2021-12-27T14:40:00.475Z"
   },
   {
    "duration": 13,
    "start_time": "2021-12-27T14:40:01.429Z"
   },
   {
    "duration": 474,
    "start_time": "2021-12-27T14:40:01.464Z"
   },
   {
    "duration": 10,
    "start_time": "2021-12-27T14:40:01.940Z"
   },
   {
    "duration": 40,
    "start_time": "2021-12-27T14:40:01.964Z"
   },
   {
    "duration": 76,
    "start_time": "2021-12-27T14:40:02.007Z"
   },
   {
    "duration": 45,
    "start_time": "2021-12-27T14:40:02.086Z"
   },
   {
    "duration": 77,
    "start_time": "2021-12-27T14:40:02.134Z"
   },
   {
    "duration": 88,
    "start_time": "2021-12-27T14:40:02.214Z"
   },
   {
    "duration": 71,
    "start_time": "2021-12-27T14:40:02.305Z"
   },
   {
    "duration": 48,
    "start_time": "2021-12-27T14:40:02.379Z"
   },
   {
    "duration": 956,
    "start_time": "2021-12-27T14:43:19.828Z"
   },
   {
    "duration": 51,
    "start_time": "2021-12-27T14:43:47.566Z"
   },
   {
    "duration": 68,
    "start_time": "2021-12-27T14:43:58.998Z"
   },
   {
    "duration": 923,
    "start_time": "2021-12-28T12:49:23.808Z"
   },
   {
    "duration": 51,
    "start_time": "2021-12-28T12:49:24.734Z"
   },
   {
    "duration": 25,
    "start_time": "2021-12-28T12:49:24.788Z"
   },
   {
    "duration": 47,
    "start_time": "2021-12-28T12:49:24.818Z"
   },
   {
    "duration": 32,
    "start_time": "2021-12-28T12:49:24.868Z"
   },
   {
    "duration": 1509,
    "start_time": "2021-12-28T12:49:24.903Z"
   },
   {
    "duration": 75,
    "start_time": "2021-12-28T12:49:26.415Z"
   },
   {
    "duration": 14,
    "start_time": "2021-12-28T12:49:26.496Z"
   },
   {
    "duration": 51,
    "start_time": "2021-12-28T12:49:26.514Z"
   },
   {
    "duration": 26,
    "start_time": "2021-12-28T12:49:26.568Z"
   },
   {
    "duration": 16,
    "start_time": "2021-12-28T12:49:26.597Z"
   },
   {
    "duration": 69,
    "start_time": "2021-12-28T12:49:26.615Z"
   },
   {
    "duration": 22,
    "start_time": "2021-12-28T12:49:26.687Z"
   },
   {
    "duration": 80,
    "start_time": "2021-12-28T12:49:26.712Z"
   },
   {
    "duration": 22,
    "start_time": "2021-12-28T12:49:26.795Z"
   },
   {
    "duration": 56,
    "start_time": "2021-12-28T12:49:26.820Z"
   },
   {
    "duration": 8,
    "start_time": "2021-12-28T12:49:26.879Z"
   },
   {
    "duration": 12,
    "start_time": "2021-12-28T12:49:26.890Z"
   },
   {
    "duration": 6019,
    "start_time": "2021-12-28T12:49:26.904Z"
   },
   {
    "duration": 1413,
    "start_time": "2021-12-28T12:49:32.926Z"
   },
   {
    "duration": 27,
    "start_time": "2021-12-28T12:49:34.342Z"
   },
   {
    "duration": 12,
    "start_time": "2021-12-28T12:49:34.372Z"
   },
   {
    "duration": 1058,
    "start_time": "2021-12-28T12:49:34.390Z"
   },
   {
    "duration": 19,
    "start_time": "2021-12-28T12:49:35.451Z"
   },
   {
    "duration": 432,
    "start_time": "2021-12-28T12:49:35.472Z"
   },
   {
    "duration": -14437815,
    "start_time": "2021-12-28T16:50:13.721Z"
   },
   {
    "duration": -14437817,
    "start_time": "2021-12-28T16:50:13.725Z"
   },
   {
    "duration": -14437820,
    "start_time": "2021-12-28T16:50:13.730Z"
   },
   {
    "duration": -14437885,
    "start_time": "2021-12-28T16:50:13.796Z"
   },
   {
    "duration": -14437892,
    "start_time": "2021-12-28T16:50:13.805Z"
   },
   {
    "duration": -14437894,
    "start_time": "2021-12-28T16:50:13.809Z"
   },
   {
    "duration": -14437898,
    "start_time": "2021-12-28T16:50:13.815Z"
   },
   {
    "duration": -14437904,
    "start_time": "2021-12-28T16:50:13.823Z"
   },
   {
    "duration": 94,
    "start_time": "2021-12-28T12:52:12.993Z"
   },
   {
    "duration": 31,
    "start_time": "2021-12-28T12:52:15.271Z"
   },
   {
    "duration": 39,
    "start_time": "2021-12-28T12:52:49.119Z"
   },
   {
    "duration": 1217,
    "start_time": "2021-12-28T12:53:04.134Z"
   },
   {
    "duration": 40,
    "start_time": "2021-12-28T12:53:05.353Z"
   },
   {
    "duration": 78,
    "start_time": "2021-12-28T12:53:05.396Z"
   },
   {
    "duration": 20,
    "start_time": "2021-12-28T12:53:05.477Z"
   },
   {
    "duration": 81,
    "start_time": "2021-12-28T12:53:05.500Z"
   },
   {
    "duration": 1852,
    "start_time": "2021-12-28T12:53:05.584Z"
   },
   {
    "duration": 99,
    "start_time": "2021-12-28T12:53:07.439Z"
   },
   {
    "duration": 30,
    "start_time": "2021-12-28T12:53:07.541Z"
   },
   {
    "duration": 22,
    "start_time": "2021-12-28T12:53:07.577Z"
   },
   {
    "duration": 25,
    "start_time": "2021-12-28T12:53:07.603Z"
   },
   {
    "duration": 15,
    "start_time": "2021-12-28T12:53:07.663Z"
   },
   {
    "duration": 31,
    "start_time": "2021-12-28T12:53:07.680Z"
   },
   {
    "duration": 56,
    "start_time": "2021-12-28T12:53:07.714Z"
   },
   {
    "duration": 50,
    "start_time": "2021-12-28T12:53:07.772Z"
   },
   {
    "duration": 55,
    "start_time": "2021-12-28T12:53:07.825Z"
   },
   {
    "duration": 26,
    "start_time": "2021-12-28T12:53:07.883Z"
   },
   {
    "duration": 53,
    "start_time": "2021-12-28T12:53:07.912Z"
   },
   {
    "duration": 8,
    "start_time": "2021-12-28T12:53:07.968Z"
   },
   {
    "duration": 5917,
    "start_time": "2021-12-28T12:53:07.979Z"
   },
   {
    "duration": 1183,
    "start_time": "2021-12-28T12:53:13.899Z"
   },
   {
    "duration": 11,
    "start_time": "2021-12-28T12:53:15.084Z"
   },
   {
    "duration": 14,
    "start_time": "2021-12-28T12:53:15.097Z"
   },
   {
    "duration": 1077,
    "start_time": "2021-12-28T12:53:15.114Z"
   },
   {
    "duration": 13,
    "start_time": "2021-12-28T12:53:16.195Z"
   },
   {
    "duration": 654,
    "start_time": "2021-12-28T12:53:16.211Z"
   },
   {
    "duration": -14437832,
    "start_time": "2021-12-28T16:53:54.702Z"
   },
   {
    "duration": -14437834,
    "start_time": "2021-12-28T16:53:54.707Z"
   },
   {
    "duration": -14437834,
    "start_time": "2021-12-28T16:53:54.710Z"
   },
   {
    "duration": -14437835,
    "start_time": "2021-12-28T16:53:54.713Z"
   },
   {
    "duration": -14437837,
    "start_time": "2021-12-28T16:53:54.717Z"
   },
   {
    "duration": -14437846,
    "start_time": "2021-12-28T16:53:54.728Z"
   },
   {
    "duration": -14437876,
    "start_time": "2021-12-28T16:53:54.760Z"
   },
   {
    "duration": -14437881,
    "start_time": "2021-12-28T16:53:54.767Z"
   },
   {
    "duration": 671,
    "start_time": "2021-12-28T12:57:25.744Z"
   },
   {
    "duration": 20,
    "start_time": "2021-12-28T13:05:53.493Z"
   },
   {
    "duration": 418,
    "start_time": "2021-12-28T13:13:32.914Z"
   },
   {
    "duration": 833,
    "start_time": "2021-12-28T13:13:43.791Z"
   },
   {
    "duration": 52,
    "start_time": "2021-12-28T13:13:44.627Z"
   },
   {
    "duration": 23,
    "start_time": "2021-12-28T13:13:44.683Z"
   },
   {
    "duration": 19,
    "start_time": "2021-12-28T13:13:44.708Z"
   },
   {
    "duration": 56,
    "start_time": "2021-12-28T13:13:44.729Z"
   },
   {
    "duration": 1749,
    "start_time": "2021-12-28T13:13:44.787Z"
   },
   {
    "duration": 74,
    "start_time": "2021-12-28T13:13:46.538Z"
   },
   {
    "duration": 13,
    "start_time": "2021-12-28T13:13:46.616Z"
   },
   {
    "duration": 44,
    "start_time": "2021-12-28T13:13:46.632Z"
   },
   {
    "duration": 36,
    "start_time": "2021-12-28T13:13:46.679Z"
   },
   {
    "duration": 15,
    "start_time": "2021-12-28T13:13:46.717Z"
   },
   {
    "duration": 48,
    "start_time": "2021-12-28T13:13:46.735Z"
   },
   {
    "duration": 23,
    "start_time": "2021-12-28T13:13:46.786Z"
   },
   {
    "duration": 79,
    "start_time": "2021-12-28T13:13:46.812Z"
   },
   {
    "duration": 27,
    "start_time": "2021-12-28T13:13:46.894Z"
   },
   {
    "duration": 23,
    "start_time": "2021-12-28T13:13:46.963Z"
   },
   {
    "duration": 11,
    "start_time": "2021-12-28T13:13:46.989Z"
   },
   {
    "duration": 11,
    "start_time": "2021-12-28T13:13:47.003Z"
   },
   {
    "duration": 5439,
    "start_time": "2021-12-28T13:13:47.017Z"
   },
   {
    "duration": 1088,
    "start_time": "2021-12-28T13:13:52.464Z"
   },
   {
    "duration": 15,
    "start_time": "2021-12-28T13:13:53.555Z"
   },
   {
    "duration": 10,
    "start_time": "2021-12-28T13:13:53.573Z"
   },
   {
    "duration": 1268,
    "start_time": "2021-12-28T13:13:53.587Z"
   },
   {
    "duration": 16,
    "start_time": "2021-12-28T13:13:54.857Z"
   },
   {
    "duration": 442,
    "start_time": "2021-12-28T13:13:54.875Z"
   },
   {
    "duration": -14437815,
    "start_time": "2021-12-28T17:14:33.134Z"
   },
   {
    "duration": -14437817,
    "start_time": "2021-12-28T17:14:33.138Z"
   },
   {
    "duration": -14437822,
    "start_time": "2021-12-28T17:14:33.144Z"
   },
   {
    "duration": -14437827,
    "start_time": "2021-12-28T17:14:33.150Z"
   },
   {
    "duration": -14437845,
    "start_time": "2021-12-28T17:14:33.169Z"
   },
   {
    "duration": -14437847,
    "start_time": "2021-12-28T17:14:33.173Z"
   },
   {
    "duration": -14437854,
    "start_time": "2021-12-28T17:14:33.181Z"
   },
   {
    "duration": -14437865,
    "start_time": "2021-12-28T17:14:33.193Z"
   },
   {
    "duration": -14437868,
    "start_time": "2021-12-28T17:14:33.198Z"
   },
   {
    "duration": 339,
    "start_time": "2021-12-28T13:14:01.428Z"
   },
   {
    "duration": -14437817,
    "start_time": "2021-12-28T17:14:39.587Z"
   },
   {
    "duration": -14437820,
    "start_time": "2021-12-28T17:14:39.592Z"
   },
   {
    "duration": -14437863,
    "start_time": "2021-12-28T17:14:39.636Z"
   },
   {
    "duration": -14437866,
    "start_time": "2021-12-28T17:14:39.640Z"
   },
   {
    "duration": -14437869,
    "start_time": "2021-12-28T17:14:39.644Z"
   },
   {
    "duration": -14437872,
    "start_time": "2021-12-28T17:14:39.649Z"
   },
   {
    "duration": -14437875,
    "start_time": "2021-12-28T17:14:39.653Z"
   },
   {
    "duration": -14437877,
    "start_time": "2021-12-28T17:14:39.657Z"
   },
   {
    "duration": -14437880,
    "start_time": "2021-12-28T17:14:39.661Z"
   },
   {
    "duration": 411,
    "start_time": "2021-12-28T13:14:11.272Z"
   },
   {
    "duration": 10,
    "start_time": "2021-12-28T13:14:11.685Z"
   },
   {
    "duration": 35,
    "start_time": "2021-12-28T13:14:11.699Z"
   },
   {
    "duration": 54,
    "start_time": "2021-12-28T13:14:11.763Z"
   },
   {
    "duration": 65,
    "start_time": "2021-12-28T13:14:11.820Z"
   },
   {
    "duration": 44,
    "start_time": "2021-12-28T13:14:11.887Z"
   },
   {
    "duration": 75,
    "start_time": "2021-12-28T13:14:11.934Z"
   },
   {
    "duration": 73,
    "start_time": "2021-12-28T13:14:12.012Z"
   },
   {
    "duration": 44,
    "start_time": "2021-12-28T13:14:12.088Z"
   },
   {
    "duration": 94,
    "start_time": "2021-12-28T14:11:59.361Z"
   },
   {
    "duration": 1953,
    "start_time": "2021-12-28T14:21:36.055Z"
   },
   {
    "duration": 122,
    "start_time": "2021-12-28T14:21:44.502Z"
   },
   {
    "duration": 111,
    "start_time": "2021-12-28T14:21:52.933Z"
   },
   {
    "duration": 290,
    "start_time": "2021-12-28T14:22:03.039Z"
   },
   {
    "duration": 94,
    "start_time": "2021-12-28T14:22:10.776Z"
   },
   {
    "duration": 275,
    "start_time": "2021-12-28T14:22:17.705Z"
   },
   {
    "duration": 92,
    "start_time": "2021-12-28T14:22:27.661Z"
   },
   {
    "duration": 30,
    "start_time": "2021-12-28T14:22:27.756Z"
   },
   {
    "duration": 51,
    "start_time": "2021-12-28T14:22:27.789Z"
   },
   {
    "duration": 17,
    "start_time": "2021-12-28T14:22:27.843Z"
   },
   {
    "duration": 61,
    "start_time": "2021-12-28T14:22:27.863Z"
   },
   {
    "duration": 724,
    "start_time": "2021-12-28T14:22:27.927Z"
   },
   {
    "duration": 76,
    "start_time": "2021-12-28T14:22:28.654Z"
   },
   {
    "duration": 12,
    "start_time": "2021-12-28T14:22:28.733Z"
   },
   {
    "duration": 27,
    "start_time": "2021-12-28T14:22:28.750Z"
   },
   {
    "duration": 60,
    "start_time": "2021-12-28T14:22:28.779Z"
   },
   {
    "duration": 14,
    "start_time": "2021-12-28T14:22:28.842Z"
   },
   {
    "duration": 28,
    "start_time": "2021-12-28T14:22:28.859Z"
   },
   {
    "duration": 51,
    "start_time": "2021-12-28T14:22:28.890Z"
   },
   {
    "duration": 45,
    "start_time": "2021-12-28T14:22:28.943Z"
   },
   {
    "duration": 48,
    "start_time": "2021-12-28T14:22:28.991Z"
   },
   {
    "duration": 21,
    "start_time": "2021-12-28T14:22:29.041Z"
   },
   {
    "duration": 8,
    "start_time": "2021-12-28T14:22:29.065Z"
   },
   {
    "duration": 10,
    "start_time": "2021-12-28T14:22:29.123Z"
   },
   {
    "duration": 6558,
    "start_time": "2021-12-28T14:22:29.136Z"
   },
   {
    "duration": 1027,
    "start_time": "2021-12-28T14:22:35.697Z"
   },
   {
    "duration": 10,
    "start_time": "2021-12-28T14:22:36.727Z"
   },
   {
    "duration": 10,
    "start_time": "2021-12-28T14:22:36.740Z"
   },
   {
    "duration": 879,
    "start_time": "2021-12-28T14:22:36.754Z"
   },
   {
    "duration": 10,
    "start_time": "2021-12-28T14:22:37.636Z"
   },
   {
    "duration": 311,
    "start_time": "2021-12-28T14:22:37.648Z"
   },
   {
    "duration": -229,
    "start_time": "2021-12-28T14:22:38.191Z"
   },
   {
    "duration": -243,
    "start_time": "2021-12-28T14:22:38.207Z"
   },
   {
    "duration": -248,
    "start_time": "2021-12-28T14:22:38.213Z"
   },
   {
    "duration": -251,
    "start_time": "2021-12-28T14:22:38.218Z"
   },
   {
    "duration": -255,
    "start_time": "2021-12-28T14:22:38.224Z"
   },
   {
    "duration": -258,
    "start_time": "2021-12-28T14:22:38.228Z"
   },
   {
    "duration": -262,
    "start_time": "2021-12-28T14:22:38.234Z"
   },
   {
    "duration": -265,
    "start_time": "2021-12-28T14:22:38.238Z"
   },
   {
    "duration": -269,
    "start_time": "2021-12-28T14:22:38.244Z"
   },
   {
    "duration": 707,
    "start_time": "2021-12-28T14:43:48.084Z"
   },
   {
    "duration": 92,
    "start_time": "2021-12-28T14:44:13.406Z"
   },
   {
    "duration": 47,
    "start_time": "2021-12-28T14:44:13.500Z"
   },
   {
    "duration": 21,
    "start_time": "2021-12-28T14:44:13.550Z"
   },
   {
    "duration": 60,
    "start_time": "2021-12-28T14:44:13.574Z"
   },
   {
    "duration": 31,
    "start_time": "2021-12-28T14:44:13.637Z"
   },
   {
    "duration": 656,
    "start_time": "2021-12-28T14:44:13.671Z"
   },
   {
    "duration": 57,
    "start_time": "2021-12-28T14:44:14.330Z"
   },
   {
    "duration": 34,
    "start_time": "2021-12-28T14:44:14.390Z"
   },
   {
    "duration": 17,
    "start_time": "2021-12-28T14:44:14.427Z"
   },
   {
    "duration": 28,
    "start_time": "2021-12-28T14:44:14.446Z"
   },
   {
    "duration": 13,
    "start_time": "2021-12-28T14:44:14.476Z"
   },
   {
    "duration": 56,
    "start_time": "2021-12-28T14:44:14.492Z"
   },
   {
    "duration": 17,
    "start_time": "2021-12-28T14:44:14.551Z"
   },
   {
    "duration": 72,
    "start_time": "2021-12-28T14:44:14.571Z"
   },
   {
    "duration": 25,
    "start_time": "2021-12-28T14:44:14.646Z"
   },
   {
    "duration": 62,
    "start_time": "2021-12-28T14:44:14.674Z"
   },
   {
    "duration": 12,
    "start_time": "2021-12-28T14:44:14.739Z"
   },
   {
    "duration": 17,
    "start_time": "2021-12-28T14:44:14.753Z"
   },
   {
    "duration": 5521,
    "start_time": "2021-12-28T14:44:14.773Z"
   },
   {
    "duration": 1035,
    "start_time": "2021-12-28T14:44:20.297Z"
   },
   {
    "duration": 11,
    "start_time": "2021-12-28T14:44:21.335Z"
   },
   {
    "duration": 16,
    "start_time": "2021-12-28T14:44:21.349Z"
   },
   {
    "duration": 1288,
    "start_time": "2021-12-28T14:44:21.370Z"
   },
   {
    "duration": 11,
    "start_time": "2021-12-28T14:44:22.662Z"
   },
   {
    "duration": 300,
    "start_time": "2021-12-28T14:44:22.675Z"
   },
   {
    "duration": -188,
    "start_time": "2021-12-28T14:44:23.166Z"
   },
   {
    "duration": -193,
    "start_time": "2021-12-28T14:44:23.172Z"
   },
   {
    "duration": -198,
    "start_time": "2021-12-28T14:44:23.179Z"
   },
   {
    "duration": -200,
    "start_time": "2021-12-28T14:44:23.184Z"
   },
   {
    "duration": -204,
    "start_time": "2021-12-28T14:44:23.190Z"
   },
   {
    "duration": -207,
    "start_time": "2021-12-28T14:44:23.196Z"
   },
   {
    "duration": -211,
    "start_time": "2021-12-28T14:44:23.202Z"
   },
   {
    "duration": -221,
    "start_time": "2021-12-28T14:44:23.214Z"
   },
   {
    "duration": -223,
    "start_time": "2021-12-28T14:44:23.219Z"
   },
   {
    "duration": 113,
    "start_time": "2021-12-28T14:51:26.547Z"
   },
   {
    "duration": 29,
    "start_time": "2021-12-28T14:59:41.987Z"
   },
   {
    "duration": 398,
    "start_time": "2021-12-28T15:05:55.896Z"
   },
   {
    "duration": 362,
    "start_time": "2021-12-28T15:22:50.049Z"
   },
   {
    "duration": 94,
    "start_time": "2021-12-28T15:23:02.977Z"
   },
   {
    "duration": 59,
    "start_time": "2021-12-28T15:23:03.074Z"
   },
   {
    "duration": 26,
    "start_time": "2021-12-28T15:23:03.136Z"
   },
   {
    "duration": 19,
    "start_time": "2021-12-28T15:23:03.166Z"
   },
   {
    "duration": 34,
    "start_time": "2021-12-28T15:23:03.225Z"
   },
   {
    "duration": 650,
    "start_time": "2021-12-28T15:23:03.262Z"
   },
   {
    "duration": 63,
    "start_time": "2021-12-28T15:23:03.914Z"
   },
   {
    "duration": 12,
    "start_time": "2021-12-28T15:23:03.981Z"
   },
   {
    "duration": 43,
    "start_time": "2021-12-28T15:23:03.996Z"
   },
   {
    "duration": 23,
    "start_time": "2021-12-28T15:23:04.042Z"
   },
   {
    "duration": 14,
    "start_time": "2021-12-28T15:23:04.067Z"
   },
   {
    "duration": 52,
    "start_time": "2021-12-28T15:23:04.084Z"
   },
   {
    "duration": 20,
    "start_time": "2021-12-28T15:23:04.139Z"
   },
   {
    "duration": 72,
    "start_time": "2021-12-28T15:23:04.161Z"
   },
   {
    "duration": 27,
    "start_time": "2021-12-28T15:23:04.235Z"
   },
   {
    "duration": 60,
    "start_time": "2021-12-28T15:23:04.265Z"
   },
   {
    "duration": 8,
    "start_time": "2021-12-28T15:23:04.327Z"
   },
   {
    "duration": 8,
    "start_time": "2021-12-28T15:23:04.337Z"
   },
   {
    "duration": 6028,
    "start_time": "2021-12-28T15:23:04.348Z"
   },
   {
    "duration": 1052,
    "start_time": "2021-12-28T15:23:10.378Z"
   },
   {
    "duration": 10,
    "start_time": "2021-12-28T15:23:11.433Z"
   },
   {
    "duration": 17,
    "start_time": "2021-12-28T15:23:11.445Z"
   },
   {
    "duration": 923,
    "start_time": "2021-12-28T15:23:11.468Z"
   },
   {
    "duration": 10,
    "start_time": "2021-12-28T15:23:12.394Z"
   },
   {
    "duration": 418,
    "start_time": "2021-12-28T15:23:12.407Z"
   },
   {
    "duration": 495,
    "start_time": "2021-12-28T15:23:12.828Z"
   },
   {
    "duration": 10,
    "start_time": "2021-12-28T15:23:13.326Z"
   },
   {
    "duration": 32,
    "start_time": "2021-12-28T15:23:13.338Z"
   },
   {
    "duration": 90,
    "start_time": "2021-12-28T15:23:13.373Z"
   },
   {
    "duration": 43,
    "start_time": "2021-12-28T15:23:13.466Z"
   },
   {
    "duration": 43,
    "start_time": "2021-12-28T15:23:13.524Z"
   },
   {
    "duration": 70,
    "start_time": "2021-12-28T15:23:13.569Z"
   },
   {
    "duration": 53,
    "start_time": "2021-12-28T15:23:13.642Z"
   },
   {
    "duration": 66,
    "start_time": "2021-12-28T15:23:13.697Z"
   },
   {
    "duration": 51,
    "start_time": "2021-12-28T15:40:44.033Z"
   },
   {
    "duration": 69,
    "start_time": "2021-12-28T15:44:29.957Z"
   },
   {
    "duration": 65,
    "start_time": "2021-12-28T15:44:42.979Z"
   },
   {
    "duration": 50,
    "start_time": "2021-12-28T15:46:21.652Z"
   },
   {
    "duration": 49,
    "start_time": "2021-12-28T15:47:10.825Z"
   },
   {
    "duration": 814,
    "start_time": "2021-12-29T10:22:07.749Z"
   },
   {
    "duration": 23,
    "start_time": "2021-12-29T10:22:08.565Z"
   },
   {
    "duration": 17,
    "start_time": "2021-12-29T10:22:08.591Z"
   },
   {
    "duration": 14,
    "start_time": "2021-12-29T10:22:08.611Z"
   },
   {
    "duration": 51,
    "start_time": "2021-12-29T10:22:08.626Z"
   },
   {
    "duration": 1224,
    "start_time": "2021-12-29T10:22:08.679Z"
   },
   {
    "duration": 38,
    "start_time": "2021-12-29T10:22:09.905Z"
   },
   {
    "duration": 22,
    "start_time": "2021-12-29T10:22:09.946Z"
   },
   {
    "duration": 11,
    "start_time": "2021-12-29T10:22:09.971Z"
   },
   {
    "duration": 23,
    "start_time": "2021-12-29T10:22:09.984Z"
   },
   {
    "duration": 11,
    "start_time": "2021-12-29T10:22:10.009Z"
   },
   {
    "duration": 15,
    "start_time": "2021-12-29T10:22:10.021Z"
   },
   {
    "duration": 15,
    "start_time": "2021-12-29T10:22:10.061Z"
   },
   {
    "duration": 34,
    "start_time": "2021-12-29T10:22:10.078Z"
   },
   {
    "duration": 14,
    "start_time": "2021-12-29T10:22:10.113Z"
   },
   {
    "duration": 16,
    "start_time": "2021-12-29T10:22:10.161Z"
   },
   {
    "duration": 11,
    "start_time": "2021-12-29T10:22:10.179Z"
   },
   {
    "duration": 10,
    "start_time": "2021-12-29T10:22:10.192Z"
   },
   {
    "duration": 4142,
    "start_time": "2021-12-29T10:22:10.203Z"
   },
   {
    "duration": 650,
    "start_time": "2021-12-29T10:22:14.347Z"
   },
   {
    "duration": 9,
    "start_time": "2021-12-29T10:22:15.000Z"
   },
   {
    "duration": 45,
    "start_time": "2021-12-29T10:22:15.011Z"
   },
   {
    "duration": 618,
    "start_time": "2021-12-29T10:22:15.060Z"
   },
   {
    "duration": 10,
    "start_time": "2021-12-29T10:22:15.681Z"
   },
   {
    "duration": 292,
    "start_time": "2021-12-29T10:22:15.693Z"
   },
   {
    "duration": 255,
    "start_time": "2021-12-29T10:22:15.986Z"
   },
   {
    "duration": 8,
    "start_time": "2021-12-29T10:22:16.243Z"
   },
   {
    "duration": 17,
    "start_time": "2021-12-29T10:22:16.261Z"
   },
   {
    "duration": 40,
    "start_time": "2021-12-29T10:22:16.279Z"
   },
   {
    "duration": 46,
    "start_time": "2021-12-29T10:22:16.320Z"
   },
   {
    "duration": 30,
    "start_time": "2021-12-29T10:22:16.369Z"
   },
   {
    "duration": 36,
    "start_time": "2021-12-29T10:22:16.402Z"
   },
   {
    "duration": 55,
    "start_time": "2021-12-29T10:22:16.440Z"
   },
   {
    "duration": 29,
    "start_time": "2021-12-29T10:22:16.497Z"
   },
   {
    "duration": 7,
    "start_time": "2021-12-29T11:06:20.675Z"
   },
   {
    "duration": 11,
    "start_time": "2022-01-18T18:38:05.600Z"
   },
   {
    "duration": 10,
    "start_time": "2022-01-18T18:38:22.200Z"
   },
   {
    "duration": 12,
    "start_time": "2022-01-18T18:38:29.056Z"
   },
   {
    "duration": 6,
    "start_time": "2022-01-18T18:38:45.234Z"
   },
   {
    "duration": 10,
    "start_time": "2022-01-18T18:39:02.923Z"
   },
   {
    "duration": 9,
    "start_time": "2022-01-18T18:39:06.936Z"
   },
   {
    "duration": 9,
    "start_time": "2022-01-18T18:39:10.548Z"
   },
   {
    "duration": 9,
    "start_time": "2022-01-18T18:39:14.224Z"
   },
   {
    "duration": 9,
    "start_time": "2022-01-18T18:39:18.454Z"
   },
   {
    "duration": 12,
    "start_time": "2022-01-18T18:39:26.180Z"
   },
   {
    "duration": 310,
    "start_time": "2022-01-24T20:25:08.709Z"
   },
   {
    "duration": 674,
    "start_time": "2022-01-24T20:25:15.921Z"
   },
   {
    "duration": 22,
    "start_time": "2022-01-24T20:25:16.596Z"
   },
   {
    "duration": 16,
    "start_time": "2022-01-24T20:25:16.620Z"
   },
   {
    "duration": 13,
    "start_time": "2022-01-24T20:25:16.638Z"
   },
   {
    "duration": 17,
    "start_time": "2022-01-24T20:25:16.653Z"
   },
   {
    "duration": 984,
    "start_time": "2022-01-24T20:25:16.672Z"
   },
   {
    "duration": 44,
    "start_time": "2022-01-24T20:25:17.658Z"
   },
   {
    "duration": 9,
    "start_time": "2022-01-24T20:25:17.705Z"
   },
   {
    "duration": 12,
    "start_time": "2022-01-24T20:25:17.716Z"
   },
   {
    "duration": 21,
    "start_time": "2022-01-24T20:25:17.730Z"
   },
   {
    "duration": 11,
    "start_time": "2022-01-24T20:25:17.753Z"
   },
   {
    "duration": 43,
    "start_time": "2022-01-24T20:25:17.765Z"
   },
   {
    "duration": 15,
    "start_time": "2022-01-24T20:25:17.810Z"
   },
   {
    "duration": 33,
    "start_time": "2022-01-24T20:25:17.826Z"
   },
   {
    "duration": 45,
    "start_time": "2022-01-24T20:25:17.860Z"
   },
   {
    "duration": 18,
    "start_time": "2022-01-24T20:25:17.907Z"
   },
   {
    "duration": 9,
    "start_time": "2022-01-24T20:25:17.926Z"
   },
   {
    "duration": 6,
    "start_time": "2022-01-24T20:25:17.936Z"
   },
   {
    "duration": 3799,
    "start_time": "2022-01-24T20:25:17.943Z"
   },
   {
    "duration": 663,
    "start_time": "2022-01-24T20:25:21.744Z"
   },
   {
    "duration": 7,
    "start_time": "2022-01-24T20:25:22.409Z"
   },
   {
    "duration": 8,
    "start_time": "2022-01-24T20:25:22.418Z"
   },
   {
    "duration": 592,
    "start_time": "2022-01-24T20:25:22.429Z"
   },
   {
    "duration": 7,
    "start_time": "2022-01-24T20:25:23.023Z"
   },
   {
    "duration": 278,
    "start_time": "2022-01-24T20:25:23.032Z"
   },
   {
    "duration": 257,
    "start_time": "2022-01-24T20:25:23.312Z"
   },
   {
    "duration": 8,
    "start_time": "2022-01-24T20:25:23.570Z"
   },
   {
    "duration": 28,
    "start_time": "2022-01-24T20:25:23.580Z"
   },
   {
    "duration": 30,
    "start_time": "2022-01-24T20:25:23.610Z"
   },
   {
    "duration": 27,
    "start_time": "2022-01-24T20:25:23.642Z"
   },
   {
    "duration": 55,
    "start_time": "2022-01-24T20:25:23.671Z"
   },
   {
    "duration": 35,
    "start_time": "2022-01-24T20:25:23.728Z"
   },
   {
    "duration": 60,
    "start_time": "2022-01-24T20:25:23.765Z"
   },
   {
    "duration": 31,
    "start_time": "2022-01-24T20:25:23.827Z"
   },
   {
    "duration": 7,
    "start_time": "2022-01-24T20:25:23.860Z"
   },
   {
    "duration": 474,
    "start_time": "2022-04-06T09:14:54.158Z"
   },
   {
    "duration": 26,
    "start_time": "2022-04-06T09:21:17.469Z"
   },
   {
    "duration": 9,
    "start_time": "2022-04-06T09:21:50.908Z"
   },
   {
    "duration": 17,
    "start_time": "2022-04-06T09:30:20.370Z"
   },
   {
    "duration": 29,
    "start_time": "2022-04-06T09:30:36.138Z"
   },
   {
    "duration": 1112,
    "start_time": "2022-04-06T09:42:32.508Z"
   },
   {
    "duration": 3,
    "start_time": "2022-04-06T09:43:32.609Z"
   },
   {
    "duration": 37,
    "start_time": "2022-04-06T09:44:41.196Z"
   },
   {
    "duration": 26,
    "start_time": "2022-04-06T09:46:12.218Z"
   },
   {
    "duration": 18,
    "start_time": "2022-04-06T10:13:14.299Z"
   },
   {
    "duration": 16,
    "start_time": "2022-04-06T10:13:49.406Z"
   },
   {
    "duration": 41,
    "start_time": "2022-04-06T10:15:38.832Z"
   },
   {
    "duration": 16,
    "start_time": "2022-04-06T10:20:26.270Z"
   },
   {
    "duration": 16,
    "start_time": "2022-04-06T10:36:10.429Z"
   },
   {
    "duration": 19,
    "start_time": "2022-04-06T10:36:12.099Z"
   },
   {
    "duration": 5,
    "start_time": "2022-04-06T10:36:13.603Z"
   },
   {
    "duration": 6,
    "start_time": "2022-04-06T10:36:17.548Z"
   },
   {
    "duration": 3754,
    "start_time": "2022-04-06T10:36:20.190Z"
   },
   {
    "duration": 291,
    "start_time": "2022-04-06T10:36:27.900Z"
   },
   {
    "duration": 295,
    "start_time": "2022-04-06T10:37:12.106Z"
   },
   {
    "duration": 8,
    "start_time": "2022-04-06T10:43:03.073Z"
   },
   {
    "duration": 7,
    "start_time": "2022-04-06T10:43:34.529Z"
   },
   {
    "duration": 296,
    "start_time": "2022-04-06T10:46:45.746Z"
   },
   {
    "duration": 8,
    "start_time": "2022-04-06T11:32:09.158Z"
   },
   {
    "duration": 155,
    "start_time": "2022-04-06T11:33:31.685Z"
   },
   {
    "duration": 7,
    "start_time": "2022-04-06T11:34:33.707Z"
   },
   {
    "duration": 97,
    "start_time": "2022-04-06T12:03:58.620Z"
   },
   {
    "duration": 3,
    "start_time": "2022-04-06T12:04:07.251Z"
   },
   {
    "duration": 93,
    "start_time": "2022-04-06T12:04:07.257Z"
   },
   {
    "duration": 11,
    "start_time": "2022-04-06T12:04:07.352Z"
   },
   {
    "duration": 7,
    "start_time": "2022-04-06T12:04:07.365Z"
   },
   {
    "duration": 46,
    "start_time": "2022-04-06T12:04:07.374Z"
   },
   {
    "duration": 22,
    "start_time": "2022-04-06T12:04:07.422Z"
   },
   {
    "duration": 381,
    "start_time": "2022-04-06T12:04:07.446Z"
   },
   {
    "duration": 25,
    "start_time": "2022-04-06T12:04:07.829Z"
   },
   {
    "duration": 10,
    "start_time": "2022-04-06T12:04:07.856Z"
   },
   {
    "duration": 12,
    "start_time": "2022-04-06T12:04:07.868Z"
   },
   {
    "duration": 43,
    "start_time": "2022-04-06T12:04:07.883Z"
   },
   {
    "duration": 14,
    "start_time": "2022-04-06T12:04:07.928Z"
   },
   {
    "duration": 15,
    "start_time": "2022-04-06T12:04:07.944Z"
   },
   {
    "duration": 77,
    "start_time": "2022-04-06T12:04:07.961Z"
   },
   {
    "duration": 16,
    "start_time": "2022-04-06T12:04:08.040Z"
   },
   {
    "duration": 17,
    "start_time": "2022-04-06T12:04:08.058Z"
   },
   {
    "duration": 6,
    "start_time": "2022-04-06T12:04:08.109Z"
   },
   {
    "duration": 7,
    "start_time": "2022-04-06T12:04:08.117Z"
   },
   {
    "duration": 3995,
    "start_time": "2022-04-06T12:04:08.126Z"
   },
   {
    "duration": 300,
    "start_time": "2022-04-06T12:04:12.124Z"
   },
   {
    "duration": 8,
    "start_time": "2022-04-06T12:04:12.425Z"
   },
   {
    "duration": 9,
    "start_time": "2022-04-06T12:04:12.435Z"
   },
   {
    "duration": 334,
    "start_time": "2022-04-06T12:04:12.445Z"
   },
   {
    "duration": 8,
    "start_time": "2022-04-06T12:04:12.780Z"
   },
   {
    "duration": 158,
    "start_time": "2022-04-06T12:04:12.790Z"
   },
   {
    "duration": 8,
    "start_time": "2022-04-06T12:04:12.949Z"
   },
   {
    "duration": 22,
    "start_time": "2022-04-06T12:04:12.958Z"
   },
   {
    "duration": 55,
    "start_time": "2022-04-06T12:04:12.982Z"
   },
   {
    "duration": 27,
    "start_time": "2022-04-06T12:04:13.041Z"
   },
   {
    "duration": 33,
    "start_time": "2022-04-06T12:28:21.437Z"
   },
   {
    "duration": 26,
    "start_time": "2022-04-06T12:32:44.786Z"
   },
   {
    "duration": 31,
    "start_time": "2022-04-06T12:43:38.791Z"
   },
   {
    "duration": 3,
    "start_time": "2022-04-06T12:44:40.894Z"
   },
   {
    "duration": 81,
    "start_time": "2022-04-06T12:44:40.899Z"
   },
   {
    "duration": 9,
    "start_time": "2022-04-06T12:44:40.982Z"
   },
   {
    "duration": 6,
    "start_time": "2022-04-06T12:44:41.009Z"
   },
   {
    "duration": 21,
    "start_time": "2022-04-06T12:44:41.017Z"
   },
   {
    "duration": 19,
    "start_time": "2022-04-06T12:44:41.040Z"
   },
   {
    "duration": 354,
    "start_time": "2022-04-06T12:44:41.060Z"
   },
   {
    "duration": 24,
    "start_time": "2022-04-06T12:44:41.415Z"
   },
   {
    "duration": 9,
    "start_time": "2022-04-06T12:44:41.441Z"
   },
   {
    "duration": 11,
    "start_time": "2022-04-06T12:44:41.452Z"
   },
   {
    "duration": 44,
    "start_time": "2022-04-06T12:44:41.466Z"
   },
   {
    "duration": 13,
    "start_time": "2022-04-06T12:44:41.511Z"
   },
   {
    "duration": 15,
    "start_time": "2022-04-06T12:44:41.526Z"
   },
   {
    "duration": 37,
    "start_time": "2022-04-06T12:44:41.542Z"
   },
   {
    "duration": 43,
    "start_time": "2022-04-06T12:44:41.581Z"
   },
   {
    "duration": 17,
    "start_time": "2022-04-06T12:44:41.626Z"
   },
   {
    "duration": 6,
    "start_time": "2022-04-06T12:44:41.645Z"
   },
   {
    "duration": 7,
    "start_time": "2022-04-06T12:44:41.652Z"
   },
   {
    "duration": 3926,
    "start_time": "2022-04-06T12:44:41.661Z"
   },
   {
    "duration": 289,
    "start_time": "2022-04-06T12:44:45.589Z"
   },
   {
    "duration": 7,
    "start_time": "2022-04-06T12:44:45.880Z"
   },
   {
    "duration": 21,
    "start_time": "2022-04-06T12:44:45.888Z"
   },
   {
    "duration": 305,
    "start_time": "2022-04-06T12:44:45.910Z"
   },
   {
    "duration": 7,
    "start_time": "2022-04-06T12:44:46.217Z"
   },
   {
    "duration": 152,
    "start_time": "2022-04-06T12:44:46.225Z"
   },
   {
    "duration": 7,
    "start_time": "2022-04-06T12:44:46.379Z"
   },
   {
    "duration": 31,
    "start_time": "2022-04-06T12:44:46.387Z"
   },
   {
    "duration": 24,
    "start_time": "2022-04-06T12:44:46.420Z"
   },
   {
    "duration": 24,
    "start_time": "2022-04-06T12:44:46.447Z"
   },
   {
    "duration": 51,
    "start_time": "2022-04-06T12:44:46.472Z"
   },
   {
    "duration": 32,
    "start_time": "2022-04-06T12:44:46.525Z"
   },
   {
    "duration": 32,
    "start_time": "2022-04-06T12:44:46.558Z"
   },
   {
    "duration": 26,
    "start_time": "2022-04-06T12:44:46.610Z"
   }
  ],
  "kernelspec": {
   "display_name": "Python 3 (ipykernel)",
   "language": "python",
   "name": "python3"
  },
  "language_info": {
   "codemirror_mode": {
    "name": "ipython",
    "version": 3
   },
   "file_extension": ".py",
   "mimetype": "text/x-python",
   "name": "python",
   "nbconvert_exporter": "python",
   "pygments_lexer": "ipython3",
   "version": "3.9.5"
  },
  "toc": {
   "base_numbering": 1,
   "nav_menu": {},
   "number_sections": true,
   "sideBar": true,
   "skip_h1_title": true,
   "title_cell": "Table of Contents",
   "title_sidebar": "Contents",
   "toc_cell": false,
   "toc_position": {},
   "toc_section_display": true,
   "toc_window_display": true
  }
 },
 "nbformat": 4,
 "nbformat_minor": 2
}
